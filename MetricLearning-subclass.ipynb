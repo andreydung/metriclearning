{
 "cells": [
  {
   "cell_type": "code",
   "execution_count": 3,
   "metadata": {
    "collapsed": false
   },
   "outputs": [],
   "source": [
    "from metric_learn import Covariance\n",
    "from visiprog.data import read_VSP_group, read_material_label, read_raw_feature\n",
    "from visiprog.metric_learn import *\n",
    "from visiprog.evaluate import *\n",
    "%matplotlib inline\n",
    "import numpy as np\n",
    "from visiprog.metric_learn.fda_visiprog import LFDA_VISIPROG\n",
    "\n",
    "from IPython.display import Image, display\n",
    "\n",
    "np.set_printoptions(precision=2)\n",
    "\n",
    "from sklearn.cluster import KMeans\n",
    "from sklearn.metrics import pairwise_distances_argmin_min\n",
    "\n",
    "%matplotlib inline\n",
    "import matplotlib.pyplot as plt"
   ]
  },
  {
   "cell_type": "code",
   "execution_count": 4,
   "metadata": {
    "collapsed": false
   },
   "outputs": [
    {
     "name": "stdout",
     "output_type": "stream",
     "text": [
      "(5245, 82)\n"
     ]
    }
   ],
   "source": [
    "raw_feature = read_raw_feature()\n",
    "print(raw_feature.shape)\n",
    "material_label = read_material_label()"
   ]
  },
  {
   "cell_type": "markdown",
   "metadata": {},
   "source": [
    "# Baseline approach\n",
    "STSIM-M approach, no training"
   ]
  },
  {
   "cell_type": "code",
   "execution_count": null,
   "metadata": {
    "collapsed": false
   },
   "outputs": [],
   "source": [
    "# cov = Covariance()\n",
    "# cov.fit(raw_feature)\n",
    "# X_STSIMM = cov.transform(raw_feature)"
   ]
  },
  {
   "cell_type": "code",
   "execution_count": null,
   "metadata": {
    "collapsed": false
   },
   "outputs": [],
   "source": [
    "# np.savetxt('STSIM_M.csv', M, fmt='%.2f', delimiter=',')\n",
    "# res = leave_one_sample_out(X_STSIMM)\n",
    "# print(res['accuracy'])"
   ]
  },
  {
   "cell_type": "markdown",
   "metadata": {},
   "source": [
    "# Fisher linear discriminant approach\n",
    "\n",
    "Exact solution, however trained with semantic labels ..."
   ]
  },
  {
   "cell_type": "code",
   "execution_count": 5,
   "metadata": {
    "collapsed": false
   },
   "outputs": [],
   "source": [
    "model = LFDA()\n",
    "model.fit(raw_feature, material_label)\n",
    "X_fisher = model.transform(raw_feature)"
   ]
  },
  {
   "cell_type": "code",
   "execution_count": 6,
   "metadata": {
    "collapsed": false
   },
   "outputs": [
    {
     "name": "stdout",
     "output_type": "stream",
     "text": [
      "0.989513822688\n"
     ]
    }
   ],
   "source": [
    "# np.savetxt('FDA_semantic.csv', M, fmt='%.2f', delimiter=',')\n",
    "res_fda = leave_one_sample_out(X_fisher, material_label)\n",
    "print(res_fda['accuracy'])"
   ]
  },
  {
   "cell_type": "code",
   "execution_count": 8,
   "metadata": {
    "collapsed": true
   },
   "outputs": [],
   "source": [
    "n_list = range(10,350,10)"
   ]
  },
  {
   "cell_type": "code",
   "execution_count": 9,
   "metadata": {
    "collapsed": false
   },
   "outputs": [],
   "source": [
    "representative = []\n",
    "\n",
    "for n in n_list:\n",
    "    km = KMeans(n_clusters = n, init='k-means++')\n",
    "    km.fit(X_fisher)\n",
    "\n",
    "    closest, _ = pairwise_distances_argmin_min(km.cluster_centers_, X_fisher)\n",
    "\n",
    "    representative_label = [material_label[closest[i]] for i in km.labels_]\n",
    "    representative_label = np.array(representative_label)\n",
    "\n",
    "    representative.append(np.mean(representative_label == material_label))"
   ]
  },
  {
   "cell_type": "markdown",
   "metadata": {},
   "source": [
    "# Train using ViSiProg label"
   ]
  },
  {
   "cell_type": "code",
   "execution_count": null,
   "metadata": {
    "collapsed": false
   },
   "outputs": [],
   "source": [
    "groups, _ = read_VSP_label(pappas_only=False)"
   ]
  },
  {
   "cell_type": "code",
   "execution_count": null,
   "metadata": {
    "collapsed": false
   },
   "outputs": [],
   "source": [
    "N = raw_feature.shape[0]\n",
    "visiprog_label = get_VSP_label(groups, N)"
   ]
  },
  {
   "cell_type": "code",
   "execution_count": null,
   "metadata": {
    "collapsed": false
   },
   "outputs": [],
   "source": [
    "model = LFDA_VISIPROG()\n",
    "model.fit(raw_feature, visiprog_label)\n",
    "X_vsp = model.transform(raw_feature)"
   ]
  },
  {
   "cell_type": "code",
   "execution_count": null,
   "metadata": {
    "collapsed": false
   },
   "outputs": [],
   "source": [
    "res_vsp = leave_one_sample_out(X_vsp, material_label)\n",
    "print(res_vsp['accuracy'])"
   ]
  },
  {
   "cell_type": "code",
   "execution_count": null,
   "metadata": {
    "collapsed": false
   },
   "outputs": [],
   "source": [
    "representative_VSP = []\n",
    "\n",
    "for n in n_list:\n",
    "    km = KMeans(n_clusters = n, init='k-means++')\n",
    "    km.fit(X_fisher)\n",
    "\n",
    "    closest, _ = pairwise_distances_argmin_min(km.cluster_centers_, X_fisher)\n",
    "\n",
    "    representative_label = [material_label[closest[i]] for i in km.labels_]\n",
    "    representative_label = np.array(representative_label)\n",
    "\n",
    "    representative_VSP.append(np.mean(representative_label == material_label))"
   ]
  },
  {
   "cell_type": "code",
   "execution_count": null,
   "metadata": {
    "collapsed": false
   },
   "outputs": [],
   "source": [
    "fig = plt.gcf()\n",
    "fig.set_size_inches(18.5, 10.5)\n",
    "plt.plot(n_list,representative, label='semantic')\n",
    "plt.plot(n_list,representative_VSP, label='VSP')\n",
    "plt.legend()"
   ]
  },
  {
   "cell_type": "code",
   "execution_count": null,
   "metadata": {
    "collapsed": true
   },
   "outputs": [],
   "source": []
  }
 ],
 "metadata": {
  "kernelspec": {
   "display_name": "Python [conda env:py34]",
   "language": "python",
   "name": "conda-env-py34-py"
  },
  "language_info": {
   "codemirror_mode": {
    "name": "ipython",
    "version": 3
   },
   "file_extension": ".py",
   "mimetype": "text/x-python",
   "name": "python",
   "nbconvert_exporter": "python",
   "pygments_lexer": "ipython3",
   "version": "3.4.5"
  }
 },
 "nbformat": 4,
 "nbformat_minor": 2
}
