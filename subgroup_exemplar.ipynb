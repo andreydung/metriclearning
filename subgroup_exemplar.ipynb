{
 "cells": [
  {
   "cell_type": "code",
   "execution_count": 32,
   "metadata": {
    "collapsed": false
   },
   "outputs": [
    {
     "name": "stdout",
     "output_type": "stream",
     "text": [
      "The autoreload extension is already loaded. To reload it, use:\n",
      "  %reload_ext autoreload\n"
     ]
    }
   ],
   "source": [
    "%load_ext autoreload\n",
    "%autoreload 2\n",
    "from visiprog.data import *\n",
    "from visiprog.metriclearning import *\n",
    "from visiprog.evaluate import *\n",
    "%matplotlib inline\n",
    "import numpy as np\n",
    "from visiprog.metric_learn.fda_visiprog import LFDA_VISIPROG\n",
    "from metric_learn import Covariance\n",
    "\n",
    "from IPython.display import Image, display\n",
    "from sklearn.model_selection import train_test_split\n",
    "import pandas as pd\n",
    "\n",
    "import logging\n",
    "import sys\n",
    "logging.basicConfig(stream=sys.stdout, level=logging.INFO)\n",
    "from IPython.display import display, HTML\n"
   ]
  },
  {
   "cell_type": "code",
   "execution_count": 38,
   "metadata": {
    "collapsed": false
   },
   "outputs": [
    {
     "name": "stdout",
     "output_type": "stream",
     "text": [
      "(5245, 82)\n",
      "(5245,)\n"
     ]
    }
   ],
   "source": [
    "raw_feature = read_raw_feature()\n",
    "label_material = read_material_label()\n",
    "groups_VSP, group_material = read_VSP_group()\n",
    "\n",
    "N = raw_feature.shape[0]\n",
    "\n",
    "print(raw_feature.shape)\n",
    "print(label_material.shape)"
   ]
  },
  {
   "cell_type": "code",
   "execution_count": 3,
   "metadata": {
    "collapsed": true
   },
   "outputs": [],
   "source": [
    "def make_image_html(image_path):\n",
    "     return '<img src=\"{}\" width=\"100\" height=\"100\" style=\"display:inline;margin:1px\"/>'.format(image_path)"
   ]
  },
  {
   "cell_type": "code",
   "execution_count": 39,
   "metadata": {
    "collapsed": false
   },
   "outputs": [],
   "source": [
    "label_visiprog = get_VSP_label(groups_VSP, N)"
   ]
  },
  {
   "cell_type": "code",
   "execution_count": 40,
   "metadata": {
    "collapsed": false
   },
   "outputs": [],
   "source": [
    "model = Covariance()\n",
    "model.fit(raw_feature)\n",
    "X_STSIMM = model.transform(raw_feature)"
   ]
  },
  {
   "cell_type": "code",
   "execution_count": 41,
   "metadata": {
    "collapsed": false
   },
   "outputs": [
    {
     "name": "stdout",
     "output_type": "stream",
     "text": [
      "INFO:visiprog.evaluate:KMeans clustering\n",
      "INFO:visiprog.evaluate:[41 13 12 ...,  7 45 20]\n",
      "INFO:visiprog.evaluate:Running on test set\n",
      "INFO:visiprog.evaluate:KMeans clustering\n",
      "INFO:visiprog.evaluate:[41 13 12 ...,  7 45 20]\n",
      "INFO:visiprog.evaluate:Running on test set\n",
      "INFO:visiprog.evaluate:KMeans clustering\n",
      "INFO:visiprog.evaluate:[19 10 43 ..., 26 21  2]\n",
      "INFO:visiprog.evaluate:Running on test set\n",
      "INFO:visiprog.evaluate:KMeans clustering\n",
      "INFO:visiprog.evaluate:[19 10 43 ..., 26 21  2]\n",
      "INFO:visiprog.evaluate:Running on test set\n"
     ]
    }
   ],
   "source": [
    "# accuracy_STSIMM = []\n",
    "accuracy_mat = []\n",
    "accuracy_vsp = []\n",
    "\n",
    "list_img = read_img_list()\n",
    "\n",
    "n_cluster_list = [2,5,8]\n",
    "n_cluster = 3\n",
    "\n",
    "for i in range(2):\n",
    "    X_train, X_test, X_STSIMM_train, X_STSIMM_test, Y_mat_train, Y_mat_test, Y_VSP_train, Y_VSP_test = \\\n",
    "    train_test_split(raw_feature, X_STSIMM, label_material, label_visiprog, \\\n",
    "                     test_size=0.2, stratify=label_material)\n",
    "    model = LFDA()\n",
    "    try:\n",
    "        model.fit(X_train, Y_mat_train)\n",
    "        X_mat_train = model.transform(X_train)\n",
    "        X_mat_test = model.transform(X_test)\n",
    "        res = kmean_subclass(X_mat_train, Y_mat_train, X_mat_test, Y_mat_test, n_cluster)\n",
    "        accuracy_mat.append(res['accuracy'])\n",
    "    except Exception as e:\n",
    "        acuracy_mat.append(np.nan)\n",
    "\n",
    "    model_vsp = LFDA_VISIPROG()\n",
    "    try:\n",
    "        model_vsp.fit(X_train, Y_VSP_train)\n",
    "        X_vsp_train = model_vsp.transform(X_train)\n",
    "        X_vsp_test = model_vsp.transform(X_test)\n",
    "        res_vsp = kmean_subclass(X_vsp_train, Y_mat_train, X_vsp_test, Y_mat_test, n_cluster)\n",
    "        accuracy_vsp.append(res_vsp['accuracy'])\n",
    "    except Exception as e:\n",
    "        accuracy_vsp.append(np.nan)\n",
    "        "
   ]
  },
  {
   "cell_type": "code",
   "execution_count": 43,
   "metadata": {
    "collapsed": false,
    "scrolled": false
   },
   "outputs": [
    {
     "data": {
      "text/html": [
       "<img src=\"visiprog/data/curetaliasfree/images/01-063.png\" width=\"100\" height=\"100\" style=\"display:inline;margin:1px\"/><img src=\"visiprog/data/curetaliasfree/images/01-096.png\" width=\"100\" height=\"100\" style=\"display:inline;margin:1px\"/><img src=\"visiprog/data/curetaliasfree/images/02-026.png\" width=\"100\" height=\"100\" style=\"display:inline;margin:1px\"/><img src=\"visiprog/data/curetaliasfree/images/02-033.png\" width=\"100\" height=\"100\" style=\"display:inline;margin:1px\"/><img src=\"visiprog/data/curetaliasfree/images/02-036.png\" width=\"100\" height=\"100\" style=\"display:inline;margin:1px\"/><img src=\"visiprog/data/curetaliasfree/images/02-051.png\" width=\"100\" height=\"100\" style=\"display:inline;margin:1px\"/><img src=\"visiprog/data/curetaliasfree/images/02-078.png\" width=\"100\" height=\"100\" style=\"display:inline;margin:1px\"/><img src=\"visiprog/data/curetaliasfree/images/02-129.png\" width=\"100\" height=\"100\" style=\"display:inline;margin:1px\"/><img src=\"visiprog/data/curetaliasfree/images/03-016.png\" width=\"100\" height=\"100\" style=\"display:inline;margin:1px\"/><img src=\"visiprog/data/curetaliasfree/images/03-068.png\" width=\"100\" height=\"100\" style=\"display:inline;margin:1px\"/><img src=\"visiprog/data/curetaliasfree/images/03-090.png\" width=\"100\" height=\"100\" style=\"display:inline;margin:1px\"/><img src=\"visiprog/data/curetaliasfree/images/03-175.png\" width=\"100\" height=\"100\" style=\"display:inline;margin:1px\"/><img src=\"visiprog/data/curetaliasfree/images/03-179.png\" width=\"100\" height=\"100\" style=\"display:inline;margin:1px\"/><img src=\"visiprog/data/curetaliasfree/images/04-002.png\" width=\"100\" height=\"100\" style=\"display:inline;margin:1px\"/><img src=\"visiprog/data/curetaliasfree/images/04-030.png\" width=\"100\" height=\"100\" style=\"display:inline;margin:1px\"/><img src=\"visiprog/data/curetaliasfree/images/04-059.png\" width=\"100\" height=\"100\" style=\"display:inline;margin:1px\"/><img src=\"visiprog/data/curetaliasfree/images/04-134.png\" width=\"100\" height=\"100\" style=\"display:inline;margin:1px\"/><img src=\"visiprog/data/curetaliasfree/images/04-141.png\" width=\"100\" height=\"100\" style=\"display:inline;margin:1px\"/><img src=\"visiprog/data/curetaliasfree/images/05-061m.png\" width=\"100\" height=\"100\" style=\"display:inline;margin:1px\"/><img src=\"visiprog/data/curetaliasfree/images/05-104m.png\" width=\"100\" height=\"100\" style=\"display:inline;margin:1px\"/><img src=\"visiprog/data/curetaliasfree/images/05-116m.png\" width=\"100\" height=\"100\" style=\"display:inline;margin:1px\"/><img src=\"visiprog/data/curetaliasfree/images/05-143m.png\" width=\"100\" height=\"100\" style=\"display:inline;margin:1px\"/><img src=\"visiprog/data/curetaliasfree/images/06-079.png\" width=\"100\" height=\"100\" style=\"display:inline;margin:1px\"/><img src=\"visiprog/data/curetaliasfree/images/06-145.png\" width=\"100\" height=\"100\" style=\"display:inline;margin:1px\"/><img src=\"visiprog/data/curetaliasfree/images/06-150.png\" width=\"100\" height=\"100\" style=\"display:inline;margin:1px\"/><img src=\"visiprog/data/curetaliasfree/images/07-033.png\" width=\"100\" height=\"100\" style=\"display:inline;margin:1px\"/><img src=\"visiprog/data/curetaliasfree/images/07-061.png\" width=\"100\" height=\"100\" style=\"display:inline;margin:1px\"/><img src=\"visiprog/data/curetaliasfree/images/07-065.png\" width=\"100\" height=\"100\" style=\"display:inline;margin:1px\"/><img src=\"visiprog/data/curetaliasfree/images/07-078.png\" width=\"100\" height=\"100\" style=\"display:inline;margin:1px\"/><img src=\"visiprog/data/curetaliasfree/images/07-085.png\" width=\"100\" height=\"100\" style=\"display:inline;margin:1px\"/><img src=\"visiprog/data/curetaliasfree/images/07-101.png\" width=\"100\" height=\"100\" style=\"display:inline;margin:1px\"/><img src=\"visiprog/data/curetaliasfree/images/07-123.png\" width=\"100\" height=\"100\" style=\"display:inline;margin:1px\"/><img src=\"visiprog/data/curetaliasfree/images/07-141.png\" width=\"100\" height=\"100\" style=\"display:inline;margin:1px\"/><img src=\"visiprog/data/curetaliasfree/images/07-179.png\" width=\"100\" height=\"100\" style=\"display:inline;margin:1px\"/><img src=\"visiprog/data/curetaliasfree/images/08-043.png\" width=\"100\" height=\"100\" style=\"display:inline;margin:1px\"/><img src=\"visiprog/data/curetaliasfree/images/08-046.png\" width=\"100\" height=\"100\" style=\"display:inline;margin:1px\"/><img src=\"visiprog/data/curetaliasfree/images/08-079.png\" width=\"100\" height=\"100\" style=\"display:inline;margin:1px\"/><img src=\"visiprog/data/curetaliasfree/images/08-087.png\" width=\"100\" height=\"100\" style=\"display:inline;margin:1px\"/><img src=\"visiprog/data/curetaliasfree/images/08-104.png\" width=\"100\" height=\"100\" style=\"display:inline;margin:1px\"/><img src=\"visiprog/data/curetaliasfree/images/08-143.png\" width=\"100\" height=\"100\" style=\"display:inline;margin:1px\"/><img src=\"visiprog/data/curetaliasfree/images/09-032.png\" width=\"100\" height=\"100\" style=\"display:inline;margin:1px\"/><img src=\"visiprog/data/curetaliasfree/images/09-039.png\" width=\"100\" height=\"100\" style=\"display:inline;margin:1px\"/><img src=\"visiprog/data/curetaliasfree/images/09-054.png\" width=\"100\" height=\"100\" style=\"display:inline;margin:1px\"/><img src=\"visiprog/data/curetaliasfree/images/09-068.png\" width=\"100\" height=\"100\" style=\"display:inline;margin:1px\"/><img src=\"visiprog/data/curetaliasfree/images/09-161.png\" width=\"100\" height=\"100\" style=\"display:inline;margin:1px\"/><img src=\"visiprog/data/curetaliasfree/images/10-030.png\" width=\"100\" height=\"100\" style=\"display:inline;margin:1px\"/><img src=\"visiprog/data/curetaliasfree/images/10-033.png\" width=\"100\" height=\"100\" style=\"display:inline;margin:1px\"/><img src=\"visiprog/data/curetaliasfree/images/10-059.png\" width=\"100\" height=\"100\" style=\"display:inline;margin:1px\"/><img src=\"visiprog/data/curetaliasfree/images/10-101.png\" width=\"100\" height=\"100\" style=\"display:inline;margin:1px\"/><img src=\"visiprog/data/curetaliasfree/images/10-155.png\" width=\"100\" height=\"100\" style=\"display:inline;margin:1px\"/><img src=\"visiprog/data/curetaliasfree/images/10-175.png\" width=\"100\" height=\"100\" style=\"display:inline;margin:1px\"/><img src=\"visiprog/data/curetaliasfree/images/10-178.png\" width=\"100\" height=\"100\" style=\"display:inline;margin:1px\"/><img src=\"visiprog/data/curetaliasfree/images/11-011.png\" width=\"100\" height=\"100\" style=\"display:inline;margin:1px\"/><img src=\"visiprog/data/curetaliasfree/images/11-032.png\" width=\"100\" height=\"100\" style=\"display:inline;margin:1px\"/><img src=\"visiprog/data/curetaliasfree/images/11-037.png\" width=\"100\" height=\"100\" style=\"display:inline;margin:1px\"/><img src=\"visiprog/data/curetaliasfree/images/11-039.png\" width=\"100\" height=\"100\" style=\"display:inline;margin:1px\"/><img src=\"visiprog/data/curetaliasfree/images/11-073.png\" width=\"100\" height=\"100\" style=\"display:inline;margin:1px\"/><img src=\"visiprog/data/curetaliasfree/images/11-160.png\" width=\"100\" height=\"100\" style=\"display:inline;margin:1px\"/><img src=\"visiprog/data/curetaliasfree/images/12-019.png\" width=\"100\" height=\"100\" style=\"display:inline;margin:1px\"/><img src=\"visiprog/data/curetaliasfree/images/12-042.png\" width=\"100\" height=\"100\" style=\"display:inline;margin:1px\"/><img src=\"visiprog/data/curetaliasfree/images/12-047.png\" width=\"100\" height=\"100\" style=\"display:inline;margin:1px\"/><img src=\"visiprog/data/curetaliasfree/images/12-085.png\" width=\"100\" height=\"100\" style=\"display:inline;margin:1px\"/><img src=\"visiprog/data/curetaliasfree/images/12-143.png\" width=\"100\" height=\"100\" style=\"display:inline;margin:1px\"/><img src=\"visiprog/data/curetaliasfree/images/12-165.png\" width=\"100\" height=\"100\" style=\"display:inline;margin:1px\"/>"
      ],
      "text/plain": [
       "<IPython.core.display.HTML object>"
      ]
     },
     "metadata": {},
     "output_type": "display_data"
    },
    {
     "name": "stdout",
     "output_type": "stream",
     "text": [
      "image 01-063.png, GT: 0, prediction 27\n",
      "image 01-096.png, GT: 0, prediction 44\n",
      "image 02-026.png, GT: 1, prediction 48\n",
      "image 02-033.png, GT: 1, prediction 19\n",
      "image 02-036.png, GT: 1, prediction 2\n",
      "image 02-051.png, GT: 1, prediction 42\n",
      "image 02-078.png, GT: 1, prediction 57\n",
      "image 02-129.png, GT: 1, prediction 27\n",
      "image 03-016.png, GT: 2, prediction 49\n",
      "image 03-068.png, GT: 2, prediction 58\n",
      "image 03-090.png, GT: 2, prediction 19\n",
      "image 03-175.png, GT: 2, prediction 38\n",
      "image 03-179.png, GT: 2, prediction 0\n",
      "image 04-002.png, GT: 3, prediction 11\n",
      "image 04-030.png, GT: 3, prediction 51\n",
      "image 04-059.png, GT: 3, prediction 51\n",
      "image 04-134.png, GT: 3, prediction 21\n",
      "image 04-141.png, GT: 3, prediction 7\n",
      "image 05-061m.png, GT: 4, prediction 5\n",
      "image 05-104m.png, GT: 4, prediction 10\n",
      "image 05-116m.png, GT: 4, prediction 0\n",
      "image 05-143m.png, GT: 4, prediction 42\n",
      "image 06-079.png, GT: 5, prediction 0\n",
      "image 06-145.png, GT: 5, prediction 52\n",
      "image 06-150.png, GT: 5, prediction 2\n",
      "image 07-033.png, GT: 6, prediction 47\n",
      "image 07-061.png, GT: 6, prediction 0\n",
      "image 07-065.png, GT: 6, prediction 9\n",
      "image 07-078.png, GT: 6, prediction 60\n",
      "image 07-085.png, GT: 6, prediction 0\n",
      "image 07-101.png, GT: 6, prediction 29\n",
      "image 07-123.png, GT: 6, prediction 0\n",
      "image 07-141.png, GT: 6, prediction 35\n",
      "image 07-179.png, GT: 6, prediction 33\n",
      "image 08-043.png, GT: 7, prediction 27\n",
      "image 08-046.png, GT: 7, prediction 7\n",
      "image 08-079.png, GT: 7, prediction 51\n",
      "image 08-087.png, GT: 7, prediction 9\n",
      "image 08-104.png, GT: 7, prediction 51\n",
      "image 08-143.png, GT: 7, prediction 3\n",
      "image 09-032.png, GT: 8, prediction 5\n",
      "image 09-039.png, GT: 8, prediction 49\n",
      "image 09-054.png, GT: 8, prediction 0\n",
      "image 09-068.png, GT: 8, prediction 42\n",
      "image 09-161.png, GT: 8, prediction 60\n",
      "image 10-030.png, GT: 9, prediction 15\n",
      "image 10-033.png, GT: 9, prediction 57\n",
      "image 10-059.png, GT: 9, prediction 25\n",
      "image 10-101.png, GT: 9, prediction 60\n",
      "image 10-155.png, GT: 9, prediction 9\n",
      "image 10-175.png, GT: 9, prediction 25\n",
      "image 10-178.png, GT: 9, prediction 2\n",
      "image 11-011.png, GT: 10, prediction 49\n",
      "image 11-032.png, GT: 10, prediction 21\n",
      "image 11-037.png, GT: 10, prediction 21\n",
      "image 11-039.png, GT: 10, prediction 44\n",
      "image 11-073.png, GT: 10, prediction 3\n",
      "image 11-160.png, GT: 10, prediction 47\n",
      "image 12-019.png, GT: 11, prediction 51\n",
      "image 12-042.png, GT: 11, prediction 42\n",
      "image 12-047.png, GT: 11, prediction 15\n",
      "image 12-085.png, GT: 11, prediction 51\n",
      "image 12-143.png, GT: 11, prediction 45\n",
      "image 12-165.png, GT: 11, prediction 9\n"
     ]
    }
   ],
   "source": [
    "# find out where does semantic perform better than VSP\n",
    "outperform = ((res['prediction'] == Y_mat_test) & (res_vsp['prediction'] != Y_mat_test))\n",
    "idx_outperform = np.where(outperform == True)[0]\n",
    "\n",
    "display(HTML(''.join(make_image_html(list_img[i]) for i in idx_outperform)))\n",
    "\n",
    "for i in idx_outperform:\n",
    "    print(\"image {}, GT: {}, prediction {}\".format(os.path.basename(list_img[i]), label_material[i], \\\n",
    "                                                   int(res_vsp['prediction'][i])))"
   ]
  },
  {
   "cell_type": "code",
   "execution_count": 42,
   "metadata": {
    "collapsed": false
   },
   "outputs": [
    {
     "data": {
      "text/html": [
       "<div>\n",
       "<table border=\"1\" class=\"dataframe\">\n",
       "  <thead>\n",
       "    <tr style=\"text-align: right;\">\n",
       "      <th></th>\n",
       "      <th>visiprog</th>\n",
       "      <th>material</th>\n",
       "    </tr>\n",
       "  </thead>\n",
       "  <tbody>\n",
       "    <tr>\n",
       "      <th>0</th>\n",
       "      <td>0.906578</td>\n",
       "      <td>0.949476</td>\n",
       "    </tr>\n",
       "    <tr>\n",
       "      <th>1</th>\n",
       "      <td>0.907531</td>\n",
       "      <td>0.948522</td>\n",
       "    </tr>\n",
       "    <tr>\n",
       "      <th>average</th>\n",
       "      <td>0.907054</td>\n",
       "      <td>0.948999</td>\n",
       "    </tr>\n",
       "  </tbody>\n",
       "</table>\n",
       "</div>"
      ],
      "text/plain": [
       "         visiprog  material\n",
       "0        0.906578  0.949476\n",
       "1        0.907531  0.948522\n",
       "average  0.907054  0.948999"
      ]
     },
     "metadata": {},
     "output_type": "display_data"
    }
   ],
   "source": [
    "df = pd.DataFrame({'visiprog':accuracy_vsp, 'material':accuracy_mat}, columns=['visiprog','material'])\n",
    "df.loc['average'] = df.mean()\n",
    "display(df)"
   ]
  },
  {
   "cell_type": "code",
   "execution_count": 7,
   "metadata": {
    "collapsed": false
   },
   "outputs": [
    {
     "name": "stdout",
     "output_type": "stream",
     "text": [
      "[ 8 60 18 ..., 36 55  1]\n"
     ]
    }
   ],
   "source": [
    "print(Y_mat_test)"
   ]
  },
  {
   "cell_type": "code",
   "execution_count": null,
   "metadata": {
    "collapsed": true
   },
   "outputs": [],
   "source": []
  }
 ],
 "metadata": {
  "kernelspec": {
   "display_name": "Python [conda env:py27]",
   "language": "python",
   "name": "conda-env-py27-py"
  },
  "language_info": {
   "codemirror_mode": {
    "name": "ipython",
    "version": 2
   },
   "file_extension": ".py",
   "mimetype": "text/x-python",
   "name": "python",
   "nbconvert_exporter": "python",
   "pygments_lexer": "ipython2",
   "version": "2.7.13"
  }
 },
 "nbformat": 4,
 "nbformat_minor": 2
}
