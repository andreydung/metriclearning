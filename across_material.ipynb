{
 "cells": [
  {
   "cell_type": "code",
   "execution_count": 6,
   "metadata": {
    "collapsed": false
   },
   "outputs": [],
   "source": [
    "from visiprog.data import *\n",
    "from visiprog.metriclearning import *\n",
    "from visiprog.evaluate import *\n",
    "%matplotlib inline\n",
    "import numpy as np\n",
    "from visiprog.metric_learn.fda_visiprog import LFDA_VISIPROG\n",
    "from metric_learn import Covariance\n",
    "\n",
    "from IPython.display import Image, display\n",
    "from sklearn.model_selection import train_test_split\n",
    "import pandas as pd\n",
    "\n",
    "from sklearn.cluster import KMeans"
   ]
  },
  {
   "cell_type": "code",
   "execution_count": 7,
   "metadata": {
    "collapsed": false
   },
   "outputs": [
    {
     "name": "stdout",
     "output_type": "stream",
     "text": [
      "(5245, 82)\n",
      "(5245,)\n"
     ]
    }
   ],
   "source": [
    "raw_feature = np.genfromtxt('visiprog/data/curetaliasfree.csv',delimiter=\",\")\n",
    "label_material = read_material_label()\n",
    "groups_VSP, material = read_VSP_group(pappas_only=False)\n",
    "\n",
    "D = count_matrix(groups_VSP, raw_feature.shape[0])\n",
    "clusters_VSP = spectralClusteringDBSCAN(D, threshold=0,eps=0.001)\n",
    "\n",
    "print(raw_feature.shape)\n",
    "print(label_material.shape)"
   ]
  },
  {
   "cell_type": "code",
   "execution_count": 8,
   "metadata": {
    "collapsed": false
   },
   "outputs": [],
   "source": [
    "label_visiprog = get_VSP_label(groups_VSP, raw_feature.shape[0])\n",
    "label_VSP_clusters = get_VSP_label(clusters_VSP, raw_feature.shape[0])"
   ]
  },
  {
   "cell_type": "code",
   "execution_count": 48,
   "metadata": {
    "collapsed": true
   },
   "outputs": [],
   "source": [
    "label_visiprog = get_VSP_label(groups_VSP, raw_feature.shape[0])\n"
   ]
  },
  {
   "cell_type": "code",
   "execution_count": 9,
   "metadata": {
    "collapsed": false
   },
   "outputs": [],
   "source": [
    "model = Covariance()\n",
    "model.fit(raw_feature)\n",
    "X_STSIMM = model.transform(raw_feature)\n",
    "# print(X_STSIMM)"
   ]
  },
  {
   "cell_type": "code",
   "execution_count": 52,
   "metadata": {
    "collapsed": false,
    "scrolled": false
   },
   "outputs": [
    {
     "name": "stdout",
     "output_type": "stream",
     "text": [
      "Trial 0\n",
      "Training shape 1518 and test shape 3727\n",
      "Trial 1\n",
      "Training shape 1190 and test shape 4055\n",
      "Trial 2\n",
      "Training shape 1467 and test shape 3778\n",
      "Trial 3\n",
      "Training shape 1432 and test shape 3813\n",
      "Trial 4\n",
      "Training shape 1596 and test shape 3649\n",
      "Trial 5\n",
      "Training shape 1370 and test shape 3875\n",
      "Trial 6\n",
      "Training shape 1627 and test shape 3618\n",
      "Trial 7\n",
      "Training shape 1527 and test shape 3718\n",
      "Trial 8\n",
      "Training shape 1542 and test shape 3703\n",
      "Trial 9\n",
      "Training shape 1444 and test shape 3801\n"
     ]
    },
    {
     "data": {
      "text/html": [
       "<div>\n",
       "<table border=\"1\" class=\"dataframe\">\n",
       "  <thead>\n",
       "    <tr style=\"text-align: right;\">\n",
       "      <th></th>\n",
       "      <th>STSIMM</th>\n",
       "      <th>material</th>\n",
       "      <th>visiprog_original</th>\n",
       "      <th>visiprog</th>\n",
       "    </tr>\n",
       "  </thead>\n",
       "  <tbody>\n",
       "    <tr>\n",
       "      <th>0</th>\n",
       "      <td>0.963241</td>\n",
       "      <td>0.973974</td>\n",
       "      <td>0.944996</td>\n",
       "      <td>0.965924</td>\n",
       "    </tr>\n",
       "    <tr>\n",
       "      <th>1</th>\n",
       "      <td>0.959063</td>\n",
       "      <td>0.952404</td>\n",
       "      <td>0.893958</td>\n",
       "      <td>0.935142</td>\n",
       "    </tr>\n",
       "    <tr>\n",
       "      <th>2</th>\n",
       "      <td>0.956326</td>\n",
       "      <td>0.953150</td>\n",
       "      <td>0.946003</td>\n",
       "      <td>0.948385</td>\n",
       "    </tr>\n",
       "    <tr>\n",
       "      <th>3</th>\n",
       "      <td>0.958038</td>\n",
       "      <td>0.960661</td>\n",
       "      <td>0.897194</td>\n",
       "      <td>0.934435</td>\n",
       "    </tr>\n",
       "    <tr>\n",
       "      <th>4</th>\n",
       "      <td>0.954508</td>\n",
       "      <td>0.974788</td>\n",
       "      <td>0.932036</td>\n",
       "      <td>0.961085</td>\n",
       "    </tr>\n",
       "    <tr>\n",
       "      <th>5</th>\n",
       "      <td>0.963871</td>\n",
       "      <td>0.958452</td>\n",
       "      <td>0.918710</td>\n",
       "      <td>0.925935</td>\n",
       "    </tr>\n",
       "    <tr>\n",
       "      <th>6</th>\n",
       "      <td>0.948590</td>\n",
       "      <td>0.948038</td>\n",
       "      <td>0.925650</td>\n",
       "      <td>0.957435</td>\n",
       "    </tr>\n",
       "    <tr>\n",
       "      <th>7</th>\n",
       "      <td>0.959656</td>\n",
       "      <td>0.954276</td>\n",
       "      <td>0.912856</td>\n",
       "      <td>0.941366</td>\n",
       "    </tr>\n",
       "    <tr>\n",
       "      <th>8</th>\n",
       "      <td>0.963003</td>\n",
       "      <td>0.960032</td>\n",
       "      <td>0.945990</td>\n",
       "      <td>0.937888</td>\n",
       "    </tr>\n",
       "    <tr>\n",
       "      <th>9</th>\n",
       "      <td>0.962115</td>\n",
       "      <td>0.945541</td>\n",
       "      <td>0.898974</td>\n",
       "      <td>0.935806</td>\n",
       "    </tr>\n",
       "    <tr>\n",
       "      <th>average</th>\n",
       "      <td>0.958841</td>\n",
       "      <td>0.958132</td>\n",
       "      <td>0.921637</td>\n",
       "      <td>0.944340</td>\n",
       "    </tr>\n",
       "  </tbody>\n",
       "</table>\n",
       "</div>"
      ],
      "text/plain": [
       "           STSIMM  material  visiprog_original  visiprog\n",
       "0        0.963241  0.973974           0.944996  0.965924\n",
       "1        0.959063  0.952404           0.893958  0.935142\n",
       "2        0.956326  0.953150           0.946003  0.948385\n",
       "3        0.958038  0.960661           0.897194  0.934435\n",
       "4        0.954508  0.974788           0.932036  0.961085\n",
       "5        0.963871  0.958452           0.918710  0.925935\n",
       "6        0.948590  0.948038           0.925650  0.957435\n",
       "7        0.959656  0.954276           0.912856  0.941366\n",
       "8        0.963003  0.960032           0.945990  0.937888\n",
       "9        0.962115  0.945541           0.898974  0.935806\n",
       "average  0.958841  0.958132           0.921637  0.944340"
      ]
     },
     "metadata": {},
     "output_type": "display_data"
    }
   ],
   "source": [
    "accuracy_STSIMM = []\n",
    "accuracy_mat = []\n",
    "accuracy_vsp_original = []\n",
    "accuracy_vsp = []\n",
    "\n",
    "n_cluster = 5\n",
    "\n",
    "N_material = 61\n",
    "N_material_train = 20\n",
    "\n",
    "for fold in range(10):\n",
    "    print(\"Trial {}\".format(fold))\n",
    "\n",
    "    # randomly select N_material_train material for training the metric\n",
    "    # and test on the rest\n",
    "    train_select = np.zeros_like(label_material).astype(bool)\n",
    "\n",
    "    idx_train = np.array([])\n",
    "    for i in range(N_material_train):\n",
    "        train_class = np.random.randint(0, N_material)\n",
    "        train_select |= (label_material == train_class)\n",
    "\n",
    "    idx_train = np.where(train_select == True)[0]\n",
    "    idx_test = np.where(train_select == False)[0]\n",
    "\n",
    "    idx_train = idx_train.astype(int)\n",
    "    idx_test = idx_test.astype(int)\n",
    "\n",
    "    print(\"Training shape {} and test shape {}\".format(len(idx_train), len(idx_test)))\n",
    "\n",
    "    X_train = raw_feature[idx_train,:]\n",
    "    X_STSIMM_train = X_STSIMM[idx_train,:]\n",
    "    Y_VSP_train = label_visiprog[idx_train]\n",
    "    Y_mat_train = label_material[idx_train]\n",
    "\n",
    "    X_test = raw_feature[idx_test,:]\n",
    "    X_STSIMM_test = X_STSIMM[idx_test,:]\n",
    "    Y_VSP_test = label_visiprog[idx_test]\n",
    "    Y_mat_test = label_material[idx_test]\n",
    "\n",
    "    res_STSIMM = kmean_subclass(X_STSIMM_test, Y_mat_test, X_STSIMM_test, Y_mat_test, n_cluster)\n",
    "    accuracy_STSIMM.append(res_STSIMM['accuracy'])\n",
    "\n",
    "    model = LFDA()\n",
    "    try:\n",
    "        model.fit(X_train, Y_mat_train)\n",
    "        X_mat_test = model.transform(X_test)\n",
    "        res = kmean_subclass(X_mat_test, Y_mat_test, X_mat_test, Y_mat_test, n_cluster)\n",
    "        accuracy_mat.append(res['accuracy'])\n",
    "    except Exception as e:\n",
    "        print(e)\n",
    "        acuracy_mat.append(np.nan)\n",
    "\n",
    "    model_vsp_original = LFDA()\n",
    "    try:\n",
    "        # remove the unlabeled data\n",
    "        idx_outlier = np.where(Y_VSP_train == 0)[0]\n",
    "        X_train_without_outlier = X_train[~idx_outlier,:]\n",
    "        Y_VSP_train_without_outlier = Y_VSP_train[~idx_outlier]\n",
    "        \n",
    "        model_vsp_original.fit(X_train_without_outlier, Y_VSP_train_without_outlier)\n",
    "        X_vsp_original_train = model_vsp_original.transform(X_train)\n",
    "        X_vsp_original_test = model_vsp_original.transform(X_test)\n",
    "        res_vsp_original = kmean_subclass(X_vsp_original_test, Y_mat_test, \\\n",
    "                                          X_vsp_original_test, Y_mat_test, n_cluster)\n",
    "        accuracy_vsp_original.append(res_vsp_original['accuracy'])\n",
    "    except Exception as e:\n",
    "        print(e)\n",
    "        accuracy_vsp_original.append(np.nan)\n",
    "\n",
    "    model_vsp = LFDA_VISIPROG()\n",
    "    try:\n",
    "        model_vsp.fit(X_train, Y_VSP_train)\n",
    "        X_vsp_test = model_vsp.transform(X_test)\n",
    "        res_vsp = kmean_subclass(X_vsp_test, Y_mat_test, X_vsp_test, Y_mat_test, n_cluster)\n",
    "        accuracy_vsp.append(res_vsp['accuracy'])\n",
    "    except Exception as e:\n",
    "        print(e)\n",
    "        accuracy_vsp.append(np.nan)\n",
    "\n",
    "\n",
    "df = pd.DataFrame({'visiprog':accuracy_vsp, 'material':accuracy_mat, 'STSIMM':accuracy_STSIMM, \\\n",
    "       'visiprog_original':accuracy_vsp_original}, columns=['STSIMM','material','visiprog_original','visiprog'])\n",
    "\n",
    "df.loc['average'] = df.mean()\n",
    "\n",
    "display(df)\n",
    "# display(df.mean())\n",
    "\n",
    "df.to_csv('thrasos/across_trainedongroups_20material_k{}.csv'.format(n_cluster))"
   ]
  },
  {
   "cell_type": "code",
   "execution_count": null,
   "metadata": {
    "collapsed": false
   },
   "outputs": [],
   "source": []
  },
  {
   "cell_type": "code",
   "execution_count": null,
   "metadata": {
    "collapsed": true
   },
   "outputs": [],
   "source": []
  }
 ],
 "metadata": {
  "anaconda-cloud": {},
  "kernelspec": {
   "display_name": "Python [conda env:py34]",
   "language": "python",
   "name": "conda-env-py34-py"
  },
  "language_info": {
   "codemirror_mode": {
    "name": "ipython",
    "version": 3
   },
   "file_extension": ".py",
   "mimetype": "text/x-python",
   "name": "python",
   "nbconvert_exporter": "python",
   "pygments_lexer": "ipython3",
   "version": "3.4.5"
  }
 },
 "nbformat": 4,
 "nbformat_minor": 2
}
