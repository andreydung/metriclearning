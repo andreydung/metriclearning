{
 "cells": [
  {
   "cell_type": "code",
   "execution_count": 1,
   "metadata": {
    "collapsed": false
   },
   "outputs": [],
   "source": [
    "from visiprog.data import *\n",
    "from visiprog.metriclearning import *\n",
    "from visiprog.evaluate import *\n",
    "%matplotlib inline\n",
    "import numpy as np\n",
    "from visiprog.metric_learn.fda_visiprog import LFDA_VISIPROG\n",
    "from metric_learn import Covariance\n",
    "\n",
    "from IPython.display import Image, display\n",
    "from sklearn.model_selection import train_test_split\n",
    "import pandas as pd\n",
    "\n",
    "import random\n",
    "\n",
    "from sklearn.cluster import KMeans"
   ]
  },
  {
   "cell_type": "code",
   "execution_count": 2,
   "metadata": {
    "collapsed": false
   },
   "outputs": [
    {
     "name": "stdout",
     "output_type": "stream",
     "text": [
      "(5245, 82)\n",
      "(5245,)\n"
     ]
    }
   ],
   "source": [
    "raw_feature = np.genfromtxt('visiprog/data/curetaliasfree.csv',delimiter=\",\")\n",
    "label_material = read_material_label()\n",
    "groups_VSP, material = read_VSP_group(pappas_only=False)\n",
    "\n",
    "D = count_matrix(groups_VSP, raw_feature.shape[0])\n",
    "clusters_VSP = spectralClusteringDBSCAN(D, threshold=0,eps=0.001)\n",
    "\n",
    "print(raw_feature.shape)\n",
    "print(label_material.shape)"
   ]
  },
  {
   "cell_type": "code",
   "execution_count": 3,
   "metadata": {
    "collapsed": false
   },
   "outputs": [],
   "source": [
    "label_visiprog = get_VSP_label(groups_VSP, raw_feature.shape[0])\n",
    "label_VSP_clusters = get_VSP_label(clusters_VSP, raw_feature.shape[0])"
   ]
  },
  {
   "cell_type": "code",
   "execution_count": 6,
   "metadata": {
    "collapsed": false
   },
   "outputs": [],
   "source": [
    "model = Covariance()\n",
    "model.fit(raw_feature)\n",
    "X_STSIMM = model.transform(raw_feature)"
   ]
  },
  {
   "cell_type": "code",
   "execution_count": 34,
   "metadata": {
    "collapsed": false,
    "scrolled": false
   },
   "outputs": [
    {
     "name": "stdout",
     "output_type": "stream",
     "text": [
      "Trial 0\n",
      "4237\n",
      "Training shape 4237 and test shape 1008\n",
      "Trial 1\n",
      "4233\n",
      "Training shape 4233 and test shape 1012\n",
      "Trial 2\n",
      "4345\n",
      "Training shape 4345 and test shape 900\n",
      "Trial 3\n",
      "4270\n",
      "Training shape 4270 and test shape 975\n",
      "Trial 4\n",
      "4237\n",
      "Training shape 4237 and test shape 1008\n",
      "Trial 5\n",
      "4233\n",
      "Training shape 4233 and test shape 1012\n",
      "Trial 6\n",
      "4269\n",
      "Training shape 4269 and test shape 976\n",
      "Trial 7\n",
      "4233\n",
      "Training shape 4233 and test shape 1012\n",
      "Trial 8\n",
      "4237\n",
      "Training shape 4237 and test shape 1008\n",
      "Trial 9\n",
      "4243\n",
      "Training shape 4243 and test shape 1002\n"
     ]
    }
   ],
   "source": [
    "accuracy_STSIMM = []\n",
    "accuracy_mat = []\n",
    "accuracy_vsp_original = []\n",
    "accuracy_vsp = []\n",
    "\n",
    "n_cluster = 10\n",
    "\n",
    "N_material = 61\n",
    "N_material_train = 50\n",
    "\n",
    "material_list = list(range(61))\n",
    "\n",
    "for fold in range(10):\n",
    "    print(\"Trial {}\".format(fold))\n",
    "\n",
    "    # randomly select N_material_train material for training the metric\n",
    "    # and test on the rest\n",
    "    train_select = np.zeros_like(label_material).astype(bool)\n",
    "\n",
    "    random.shuffle(material_list)\n",
    "\n",
    "    idx_train = np.array([])\n",
    "    for train_class in material_list[:N_material_train]:\n",
    "        train_select |= (label_material == train_class)\n",
    "            \n",
    "    idx_train = np.where(train_select == True)[0]\n",
    "    idx_test = np.where(train_select == False)[0]\n",
    "\n",
    "    idx_train = idx_train.astype(int)\n",
    "    idx_test = idx_test.astype(int)\n",
    "\n",
    "    print(\"Training shape {} and test shape {}\".format(len(idx_train), len(idx_test)))\n",
    "\n",
    "#     X_train_metric = raw_feature[idx_train,:]\n",
    "#     X_STSIMM_train_metric = X_STSIMM[idx_train,:]\n",
    "#     Y_VSP_train_metric = label_visiprog[idx_train]\n",
    "#     Y_mat_train_metric = label_material[idx_train]\n",
    "    \n",
    "# #     print(raw_feature[idx_test,:].shape[0])\n",
    "# #     print(X_STSIMM[idx_test,:].shape[0])\n",
    "# #     print(len(label_material[idx_test]))\n",
    "# #     print(len(label_visiprog[idx_test]))\n",
    "\n",
    "#     # now split the remaining data into train and test\n",
    "#     X_train, X_test, X_STSIMM_train, X_STSIMM_test, Y_mat_train, Y_mat_test, Y_VSP_train, Y_VSP_test = \\\n",
    "#         train_test_split(raw_feature[idx_test,:], X_STSIMM[idx_test,:], \\\n",
    "#                          label_material[idx_test], label_visiprog[idx_test], \\\n",
    "#                          test_size=0.2, stratify=label_material[idx_test])\n",
    "    \n",
    "#     res_STSIMM = kmean_subclass(X_STSIMM_train, Y_mat_train, X_STSIMM_test, Y_mat_test, n_cluster)\n",
    "#     accuracy_STSIMM.append(res_STSIMM['accuracy'])\n",
    "\n",
    "#     model = LFDA()\n",
    "#     try:\n",
    "#         model.fit(X_train_metric, Y_mat_train_metric)\n",
    "#         X_mat_train = model.transform(X_train)\n",
    "#         X_mat_test = model.transform(X_test)\n",
    "#         res = kmean_subclass(X_mat_train, Y_mat_train, X_mat_test, Y_mat_test, n_cluster)\n",
    "#         accuracy_mat.append(res['accuracy'])\n",
    "#     except Exception as e:\n",
    "#         print(e)\n",
    "#         acuracy_mat.append(np.nan)\n",
    "\n",
    "#     model_vsp_original = LFDA()\n",
    "#     try:\n",
    "#         # remove the unlabeled data\n",
    "#         idx_outlier = np.where(Y_VSP_train == 0)[0]\n",
    "#         X_train_without_outlier = X_train_metric[~idx_outlier,:]\n",
    "#         Y_VSP_train_without_outlier = Y_VSP_train_metric[~idx_outlier]\n",
    "        \n",
    "#         model_vsp_original.fit(X_train_without_outlier, Y_VSP_train_without_outlier)\n",
    "#         X_vsp_original_train = model_vsp_original.transform(X_train)\n",
    "#         X_vsp_original_test = model_vsp_original.transform(X_test)\n",
    "#         res_vsp_original = kmean_subclass(X_vsp_original_train, Y_mat_train, \\\n",
    "#                                           X_vsp_original_test, Y_mat_test, n_cluster)\n",
    "#         accuracy_vsp_original.append(res_vsp_original['accuracy'])\n",
    "#     except Exception as e:\n",
    "#         print(e)\n",
    "#         accuracy_vsp_original.append(np.nan)\n",
    "\n",
    "#     model_vsp = LFDA_VISIPROG()\n",
    "#     try:\n",
    "#         model_vsp.fit(X_train_metric, Y_VSP_train_metric)\n",
    "#         X_vsp_train = model_vsp.transform(X_train)\n",
    "#         X_vsp_test = model_vsp.transform(X_test)\n",
    "#         res_vsp = kmean_subclass(X_vsp_train, Y_mat_train, X_vsp_test, Y_mat_test, n_cluster)\n",
    "#         accuracy_vsp.append(res_vsp['accuracy'])\n",
    "#     except Exception as e:\n",
    "#         print(e)\n",
    "#         accuracy_vsp.append(np.nan)\n",
    "\n",
    "\n",
    "# df = pd.DataFrame({'visiprog':accuracy_vsp, 'material':accuracy_mat, 'STSIMM':accuracy_STSIMM, \\\n",
    "#        'visiprog_original':accuracy_vsp_original}, columns=['STSIMM','visiprog_original','visiprog','material'])\n",
    "\n",
    "# df.loc['average'] = df.mean()\n",
    "\n",
    "# display(df)\n",
    "# # display(df.mean())\n",
    "\n",
    "# df.to_csv('thrasos/results/across_k{}.csv'.format(n_cluster))"
   ]
  },
  {
   "cell_type": "code",
   "execution_count": null,
   "metadata": {
    "collapsed": false
   },
   "outputs": [],
   "source": []
  },
  {
   "cell_type": "code",
   "execution_count": null,
   "metadata": {
    "collapsed": true
   },
   "outputs": [],
   "source": []
  }
 ],
 "metadata": {
  "anaconda-cloud": {},
  "kernelspec": {
   "display_name": "Python 3",
   "language": "python",
   "name": "python3"
  },
  "language_info": {
   "codemirror_mode": {
    "name": "ipython",
    "version": 3
   },
   "file_extension": ".py",
   "mimetype": "text/x-python",
   "name": "python",
   "nbconvert_exporter": "python",
   "pygments_lexer": "ipython3",
   "version": "3.4.5"
  }
 },
 "nbformat": 4,
 "nbformat_minor": 2
}
