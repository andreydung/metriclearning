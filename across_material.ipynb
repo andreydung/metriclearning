{
 "cells": [
  {
   "cell_type": "code",
   "execution_count": 2,
   "metadata": {
    "collapsed": false
   },
   "outputs": [],
   "source": [
    "from visiprog.data import *\n",
    "from visiprog.metriclearning import *\n",
    "from visiprog.evaluate import *\n",
    "%matplotlib inline\n",
    "import numpy as np\n",
    "from visiprog.metric_learn.lfda_visiprog import LFDA_VISIPROG\n",
    "from metric_learn import Covariance\n",
    "\n",
    "from IPython.display import Image, display\n",
    "from sklearn.model_selection import train_test_split\n",
    "import pandas as pd\n",
    "\n",
    "import random\n",
    "\n",
    "from sklearn.cluster import KMeans"
   ]
  },
  {
   "cell_type": "code",
   "execution_count": 3,
   "metadata": {
    "collapsed": false
   },
   "outputs": [
    {
     "name": "stdout",
     "output_type": "stream",
     "text": [
      "(5245, 82)\n",
      "(5245,)\n"
     ]
    }
   ],
   "source": [
    "raw_feature = np.genfromtxt('visiprog/data/curetaliasfree.csv',delimiter=\",\")\n",
    "label_material = read_material_label()\n",
    "groups_VSP, material = read_VSP_group(pappas_only=False)\n",
    "\n",
    "D = count_matrix(groups_VSP, raw_feature.shape[0])\n",
    "clusters_VSP = spectralClusteringDBSCAN(D, threshold=0,eps=0.001)\n",
    "\n",
    "print(raw_feature.shape)\n",
    "print(label_material.shape)"
   ]
  },
  {
   "cell_type": "code",
   "execution_count": 4,
   "metadata": {
    "collapsed": false
   },
   "outputs": [],
   "source": [
    "label_visiprog = get_VSP_label(groups_VSP, raw_feature.shape[0])\n",
    "label_VSP_clusters = get_VSP_label(clusters_VSP, raw_feature.shape[0])"
   ]
  },
  {
   "cell_type": "code",
   "execution_count": 5,
   "metadata": {
    "collapsed": false
   },
   "outputs": [],
   "source": [
    "model = Covariance()\n",
    "model.fit(raw_feature)\n",
    "X_STSIMM = model.transform(raw_feature)"
   ]
  },
  {
   "cell_type": "code",
   "execution_count": 6,
   "metadata": {
    "collapsed": false,
    "scrolled": false
   },
   "outputs": [
    {
     "name": "stdout",
     "output_type": "stream",
     "text": [
      "Trial 0\n",
      "Training shape 4146 and test shape 1099\n",
      "Trial 1\n",
      "Training shape 4253 and test shape 992\n",
      "Trial 2\n",
      "Training shape 4150 and test shape 1095\n",
      "Trial 3\n",
      "Training shape 4422 and test shape 823\n"
     ]
    },
    {
     "name": "stderr",
     "output_type": "stream",
     "text": [
      "/home/andrey/anaconda2/envs/py34/lib/python3.4/site-packages/metric_learn/lfda.py:112: RuntimeWarning: invalid value encountered in sqrt\n",
      "  vecs *= np.sqrt(vals)\n"
     ]
    },
    {
     "name": "stdout",
     "output_type": "stream",
     "text": [
      "Input contains NaN, infinity or a value too large for dtype('float64').\n",
      "Trial 4\n",
      "Training shape 4257 and test shape 988\n",
      "Trial 5\n",
      "Training shape 4142 and test shape 1103\n",
      "Trial 6\n",
      "Training shape 4329 and test shape 916\n",
      "Input contains NaN, infinity or a value too large for dtype('float64').\n",
      "Trial 7\n",
      "Training shape 4534 and test shape 711\n",
      "the leading minor of order 68 of 'b' is not positive definite. The factorization of 'b' could not be completed and no eigenvalues or eigenvectors were computed.\n",
      "Trial 8\n",
      "Training shape 4325 and test shape 920\n",
      "Trial 9\n",
      "Training shape 4141 and test shape 1104\n"
     ]
    },
    {
     "data": {
      "text/html": [
       "<div>\n",
       "<table border=\"1\" class=\"dataframe\">\n",
       "  <thead>\n",
       "    <tr style=\"text-align: right;\">\n",
       "      <th></th>\n",
       "      <th>STSIMM</th>\n",
       "      <th>visiprog_original</th>\n",
       "      <th>visiprog</th>\n",
       "      <th>material</th>\n",
       "    </tr>\n",
       "  </thead>\n",
       "  <tbody>\n",
       "    <tr>\n",
       "      <th>0</th>\n",
       "      <td>0.904545</td>\n",
       "      <td>0.681818</td>\n",
       "      <td>0.786364</td>\n",
       "      <td>0.790909</td>\n",
       "    </tr>\n",
       "    <tr>\n",
       "      <th>1</th>\n",
       "      <td>0.939698</td>\n",
       "      <td>0.773869</td>\n",
       "      <td>0.874372</td>\n",
       "      <td>0.909548</td>\n",
       "    </tr>\n",
       "    <tr>\n",
       "      <th>2</th>\n",
       "      <td>0.913242</td>\n",
       "      <td>0.744292</td>\n",
       "      <td>0.785388</td>\n",
       "      <td>0.812785</td>\n",
       "    </tr>\n",
       "    <tr>\n",
       "      <th>3</th>\n",
       "      <td>0.969697</td>\n",
       "      <td>NaN</td>\n",
       "      <td>0.842424</td>\n",
       "      <td>0.945455</td>\n",
       "    </tr>\n",
       "    <tr>\n",
       "      <th>4</th>\n",
       "      <td>0.914141</td>\n",
       "      <td>0.585859</td>\n",
       "      <td>0.843434</td>\n",
       "      <td>0.883838</td>\n",
       "    </tr>\n",
       "    <tr>\n",
       "      <th>5</th>\n",
       "      <td>0.891403</td>\n",
       "      <td>0.742081</td>\n",
       "      <td>0.914027</td>\n",
       "      <td>0.895928</td>\n",
       "    </tr>\n",
       "    <tr>\n",
       "      <th>6</th>\n",
       "      <td>0.918478</td>\n",
       "      <td>NaN</td>\n",
       "      <td>0.875000</td>\n",
       "      <td>0.902174</td>\n",
       "    </tr>\n",
       "    <tr>\n",
       "      <th>7</th>\n",
       "      <td>0.937063</td>\n",
       "      <td>NaN</td>\n",
       "      <td>0.902098</td>\n",
       "      <td>0.867133</td>\n",
       "    </tr>\n",
       "    <tr>\n",
       "      <th>8</th>\n",
       "      <td>0.907609</td>\n",
       "      <td>0.630435</td>\n",
       "      <td>0.885870</td>\n",
       "      <td>0.831522</td>\n",
       "    </tr>\n",
       "    <tr>\n",
       "      <th>9</th>\n",
       "      <td>0.918552</td>\n",
       "      <td>0.823529</td>\n",
       "      <td>0.936652</td>\n",
       "      <td>0.895928</td>\n",
       "    </tr>\n",
       "    <tr>\n",
       "      <th>average</th>\n",
       "      <td>0.921443</td>\n",
       "      <td>0.711698</td>\n",
       "      <td>0.864563</td>\n",
       "      <td>0.873522</td>\n",
       "    </tr>\n",
       "  </tbody>\n",
       "</table>\n",
       "</div>"
      ],
      "text/plain": [
       "           STSIMM  visiprog_original  visiprog  material\n",
       "0        0.904545           0.681818  0.786364  0.790909\n",
       "1        0.939698           0.773869  0.874372  0.909548\n",
       "2        0.913242           0.744292  0.785388  0.812785\n",
       "3        0.969697                NaN  0.842424  0.945455\n",
       "4        0.914141           0.585859  0.843434  0.883838\n",
       "5        0.891403           0.742081  0.914027  0.895928\n",
       "6        0.918478                NaN  0.875000  0.902174\n",
       "7        0.937063                NaN  0.902098  0.867133\n",
       "8        0.907609           0.630435  0.885870  0.831522\n",
       "9        0.918552           0.823529  0.936652  0.895928\n",
       "average  0.921443           0.711698  0.864563  0.873522"
      ]
     },
     "metadata": {},
     "output_type": "display_data"
    }
   ],
   "source": [
    "accuracy_STSIMM = []\n",
    "accuracy_mat = []\n",
    "accuracy_vsp_original = []\n",
    "accuracy_vsp = []\n",
    "\n",
    "n_cluster = 1\n",
    "\n",
    "N_material = 61\n",
    "N_material_train = 50\n",
    "\n",
    "material_list = list(range(61))\n",
    "\n",
    "for fold in range(10):\n",
    "    print(\"Trial {}\".format(fold))\n",
    "\n",
    "    # randomly select N_material_train material for training the metric\n",
    "    # and test on the rest\n",
    "    train_select = np.zeros_like(label_material).astype(bool)\n",
    "\n",
    "    random.shuffle(material_list)\n",
    "\n",
    "    idx_train = np.array([])\n",
    "    for train_class in material_list[:N_material_train]:\n",
    "        train_select |= (label_material == train_class)\n",
    "            \n",
    "    idx_train = np.where(train_select == True)[0]\n",
    "    idx_test = np.where(train_select == False)[0]\n",
    "\n",
    "    idx_train = idx_train.astype(int)\n",
    "    idx_test = idx_test.astype(int)\n",
    "\n",
    "    print(\"Training shape {} and test shape {}\".format(len(idx_train), len(idx_test)))\n",
    "\n",
    "    X_train_metric = raw_feature[idx_train,:]\n",
    "    X_STSIMM_train_metric = X_STSIMM[idx_train,:]\n",
    "    Y_VSP_train_metric = label_visiprog[idx_train]\n",
    "    Y_mat_train_metric = label_material[idx_train]\n",
    "\n",
    "    # now split the remaining data into train and test\n",
    "    X_train, X_test, X_STSIMM_train, X_STSIMM_test, Y_mat_train, Y_mat_test, Y_VSP_train, Y_VSP_test = \\\n",
    "        train_test_split(raw_feature[idx_test,:], X_STSIMM[idx_test,:], \\\n",
    "                         label_material[idx_test], label_visiprog[idx_test], \\\n",
    "                         test_size=0.2, stratify=label_material[idx_test])\n",
    "    \n",
    "    res_STSIMM = kmean_subclass(X_STSIMM_train, Y_mat_train, X_STSIMM_test, Y_mat_test, n_cluster)\n",
    "    accuracy_STSIMM.append(res_STSIMM['accuracy'])\n",
    "\n",
    "    model = LFDA()\n",
    "    try:\n",
    "        model.fit(X_train_metric, Y_mat_train_metric)\n",
    "        X_mat_train = model.transform(X_train)\n",
    "        X_mat_test = model.transform(X_test)\n",
    "        res = kmean_subclass(X_mat_train, Y_mat_train, X_mat_test, Y_mat_test, n_cluster)\n",
    "        accuracy_mat.append(res['accuracy'])\n",
    "    except Exception as e:\n",
    "        print(e)\n",
    "        acuracy_mat.append(np.nan)\n",
    "\n",
    "    model_vsp_original = LFDA()\n",
    "    try:\n",
    "        # remove the unlabeled data\n",
    "        idx_outlier = np.where(Y_VSP_train == 0)[0]\n",
    "        X_train_without_outlier = X_train_metric[~idx_outlier,:]\n",
    "        Y_VSP_train_without_outlier = Y_VSP_train_metric[~idx_outlier]\n",
    "        \n",
    "        model_vsp_original.fit(X_train_without_outlier, Y_VSP_train_without_outlier)\n",
    "        X_vsp_original_train = model_vsp_original.transform(X_train)\n",
    "        X_vsp_original_test = model_vsp_original.transform(X_test)\n",
    "        res_vsp_original = kmean_subclass(X_vsp_original_train, Y_mat_train, \\\n",
    "                                          X_vsp_original_test, Y_mat_test, n_cluster)\n",
    "        accuracy_vsp_original.append(res_vsp_original['accuracy'])\n",
    "    except Exception as e:\n",
    "        print(e)\n",
    "        accuracy_vsp_original.append(np.nan)\n",
    "\n",
    "    model_vsp = LFDA_VISIPROG()\n",
    "    try:\n",
    "        model_vsp.fit(X_train_metric, Y_VSP_train_metric)\n",
    "        X_vsp_train = model_vsp.transform(X_train)\n",
    "        X_vsp_test = model_vsp.transform(X_test)\n",
    "        res_vsp = kmean_subclass(X_vsp_train, Y_mat_train, X_vsp_test, Y_mat_test, n_cluster)\n",
    "        accuracy_vsp.append(res_vsp['accuracy'])\n",
    "    except Exception as e:\n",
    "        print(e)\n",
    "        accuracy_vsp.append(np.nan)\n",
    "\n",
    "\n",
    "df = pd.DataFrame({'visiprog':accuracy_vsp, 'material':accuracy_mat, 'STSIMM':accuracy_STSIMM, \\\n",
    "       'visiprog_original':accuracy_vsp_original}, columns=['STSIMM','visiprog_original','visiprog','material'])\n",
    "\n",
    "df.loc['average'] = df.mean()\n",
    "\n",
    "display(df)\n",
    "df.to_csv('thrasos/results/across_k{}.csv'.format(n_cluster))"
   ]
  },
  {
   "cell_type": "code",
   "execution_count": null,
   "metadata": {
    "collapsed": false
   },
   "outputs": [],
   "source": []
  },
  {
   "cell_type": "code",
   "execution_count": null,
   "metadata": {
    "collapsed": true
   },
   "outputs": [],
   "source": []
  }
 ],
 "metadata": {
  "anaconda-cloud": {},
  "kernelspec": {
   "display_name": "Python 3",
   "language": "python",
   "name": "python3"
  },
  "language_info": {
   "codemirror_mode": {
    "name": "ipython",
    "version": 3
   },
   "file_extension": ".py",
   "mimetype": "text/x-python",
   "name": "python",
   "nbconvert_exporter": "python",
   "pygments_lexer": "ipython3",
   "version": "3.4.5"
  }
 },
 "nbformat": 4,
 "nbformat_minor": 2
}
