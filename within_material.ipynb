{
 "cells": [
  {
   "cell_type": "code",
   "execution_count": 1,
   "metadata": {
    "collapsed": false
   },
   "outputs": [],
   "source": [
    "%load_ext autoreload\n",
    "%autoreload 2\n",
    "from visiprog.data import *\n",
    "from visiprog.metriclearning import *\n",
    "from visiprog.evaluate import *\n",
    "%matplotlib inline\n",
    "import numpy as np\n",
    "from visiprog.metric_learn.fda_visiprog import LFDA_VISIPROG\n",
    "from metric_learn import Covariance\n",
    "\n",
    "from IPython.display import Image, display\n",
    "from sklearn.model_selection import train_test_split\n",
    "import pandas as pd\n",
    "\n",
    "import logging\n",
    "import sys\n",
    "logging.basicConfig(stream=sys.stdout, level=logging.INFO)\n"
   ]
  },
  {
   "cell_type": "code",
   "execution_count": 2,
   "metadata": {
    "collapsed": false
   },
   "outputs": [
    {
     "name": "stdout",
     "output_type": "stream",
     "text": [
      "INFO:visiprog.data:After removing non zero entries, N is 3708\n",
      "INFO:visiprog.data:Number of disconnected elements is 161\n",
      "\n",
      "(5245, 82)\n",
      "(5245,)\n"
     ]
    }
   ],
   "source": [
    "raw_feature = np.genfromtxt('visiprog/data/curetaliasfree.csv',delimiter=\",\")\n",
    "label_material = read_material_label()\n",
    "groups_VSP, material = read_VSP_group(pappas_only=False)\n",
    "\n",
    "D = count_matrix(groups_VSP, raw_feature.shape[0])\n",
    "clusters_VSP = spectralClusteringDBSCAN(D, threshold=0,eps=0.001)\n",
    "\n",
    "print(raw_feature.shape)\n",
    "print(label_material.shape)"
   ]
  },
  {
   "cell_type": "code",
   "execution_count": 4,
   "metadata": {
    "collapsed": false
   },
   "outputs": [],
   "source": [
    "# print(clusters_VSP)"
   ]
  },
  {
   "cell_type": "code",
   "execution_count": 5,
   "metadata": {
    "collapsed": false
   },
   "outputs": [],
   "source": [
    "label_visiprog = get_VSP_label(groups_VSP, raw_feature.shape[0])\n",
    "label_VSP_clusters = get_VSP_label(clusters_VSP, raw_feature.shape[0])"
   ]
  },
  {
   "cell_type": "code",
   "execution_count": 7,
   "metadata": {
    "collapsed": false
   },
   "outputs": [],
   "source": [
    "model = Covariance()\n",
    "model.fit(raw_feature)\n",
    "X_STSIMM = model.transform(raw_feature)"
   ]
  },
  {
   "cell_type": "code",
   "execution_count": null,
   "metadata": {
    "collapsed": false,
    "scrolled": false
   },
   "outputs": [
    {
     "name": "stdout",
     "output_type": "stream",
     "text": [
      "INFO:visiprog.evaluate:KMeans clustering\n",
      "INFO:visiprog.evaluate:[15 52 57 ..., 31 58 59]\n",
      "INFO:visiprog.evaluate:Running on test set\n",
      "INFO:visiprog.evaluate:KMeans clustering\n",
      "INFO:visiprog.evaluate:[15 52 57 ..., 31 58 59]\n",
      "INFO:visiprog.evaluate:Running on test set\n",
      "INFO:visiprog.evaluate:Nearest neighbor on same data\n",
      "INFO:visiprog.evaluate:KMeans clustering\n",
      "INFO:visiprog.evaluate:[15 52 57 ..., 31 58 59]\n",
      "INFO:visiprog.evaluate:Running on test set\n",
      "INFO:visiprog.evaluate:KMeans clustering\n",
      "INFO:visiprog.evaluate:[57  8 44 ..., 55 45 53]\n",
      "INFO:visiprog.evaluate:Running on test set\n",
      "INFO:visiprog.evaluate:KMeans clustering\n",
      "INFO:visiprog.evaluate:[57  8 44 ..., 55 45 53]\n",
      "INFO:visiprog.evaluate:Running on test set\n",
      "INFO:visiprog.evaluate:Nearest neighbor on same data\n",
      "INFO:visiprog.evaluate:KMeans clustering\n",
      "INFO:visiprog.evaluate:[57  8 44 ..., 55 45 53]\n",
      "INFO:visiprog.evaluate:Running on test set\n",
      "INFO:visiprog.evaluate:KMeans clustering\n",
      "INFO:visiprog.evaluate:[ 9 13 25 ..., 53 14 38]\n",
      "INFO:visiprog.evaluate:Running on test set\n",
      "INFO:visiprog.evaluate:KMeans clustering\n",
      "INFO:visiprog.evaluate:[ 9 13 25 ..., 53 14 38]\n",
      "INFO:visiprog.evaluate:Running on test set\n",
      "INFO:visiprog.evaluate:Nearest neighbor on same data\n",
      "INFO:visiprog.evaluate:KMeans clustering\n",
      "INFO:visiprog.evaluate:[ 9 13 25 ..., 53 14 38]\n",
      "INFO:visiprog.evaluate:Running on test set\n",
      "INFO:visiprog.evaluate:KMeans clustering\n",
      "INFO:visiprog.evaluate:[13 16 46 ..., 39 29 53]\n",
      "INFO:visiprog.evaluate:Running on test set\n",
      "INFO:visiprog.evaluate:KMeans clustering\n",
      "INFO:visiprog.evaluate:[13 16 46 ..., 39 29 53]\n",
      "INFO:visiprog.evaluate:Running on test set\n",
      "INFO:visiprog.evaluate:Nearest neighbor on same data\n",
      "INFO:visiprog.evaluate:KMeans clustering\n",
      "INFO:visiprog.evaluate:[13 16 46 ..., 39 29 53]\n",
      "INFO:visiprog.evaluate:Running on test set\n",
      "INFO:visiprog.evaluate:KMeans clustering\n",
      "INFO:visiprog.evaluate:[59 20  5 ...,  9 50  8]\n"
     ]
    }
   ],
   "source": [
    "accuracy_STSIMM = []\n",
    "accuracy_mat = []\n",
    "accuracy_vsp_original = []\n",
    "accuracy_vsp = []\n",
    "\n",
    "list_img = read_img_list()\n",
    "\n",
    "n_cluster = 4\n",
    "\n",
    "for i in range(10):\n",
    "    X_train, X_test, X_STSIMM_train, X_STSIMM_test, Y_mat_train, Y_mat_test, Y_VSP_train, Y_VSP_test = \\\n",
    "    train_test_split(raw_feature, X_STSIMM, label_material, label_VSP_clusters, \\\n",
    "                     test_size=0.2, stratify=label_material)\n",
    "    \n",
    "    res = kmean_subclass(X_STSIMM_train, Y_mat_train, X_STSIMM_test, Y_mat_test, n_cluster)\n",
    "    accuracy_STSIMM.append(res['accuracy'])\n",
    "    \n",
    "    model = LFDA()\n",
    "    try:\n",
    "        model.fit(X_train, Y_mat_train)\n",
    "        X_mat_train = model.transform(X_train)\n",
    "        X_mat_test = model.transform(X_test)\n",
    "        res = kmean_subclass(X_mat_train, Y_mat_train, X_mat_test, Y_mat_test, n_cluster)\n",
    "        accuracy_mat.append(res['accuracy'])\n",
    "    except Exception as e:\n",
    "        acuracy_mat.append(np.nan)\n",
    "    \n",
    "    model_vsp_original = LFDA()\n",
    "    try:\n",
    "\n",
    "        idx_outlier = np.where(Y_VSP_train == 0)[0]\n",
    "        X_train_without_outlier = X_train[~idx_outlier,:]\n",
    "        Y_VSP_train_without_outlier = Y_VSP_train[~idx_outlier]\n",
    "        model_vsp_original.fit(X_train_without_outlier, Y_VSP_train_without_outlier)\n",
    "        \n",
    "        X_vsp_original_test = model_vsp_original.transform(X_test)\n",
    "        res_vsp_original = leave_one_sample_out(X_vsp_original_test, Y_mat_test)\n",
    "        accuracy_vsp_original.append(res_vsp_original['accuracy'])\n",
    "    except Exception as e:\n",
    "        accuracy_vsp_original.append(np.nan)\n",
    "\n",
    "\n",
    "    model_vsp = LFDA_VISIPROG()\n",
    "    try:\n",
    "        model_vsp.fit(X_train, Y_VSP_train)\n",
    "        X_vsp_train = model_vsp.transform(X_train)\n",
    "        X_vsp_test = model_vsp.transform(X_test)\n",
    "        res_vsp = kmean_subclass(X_vsp_train, Y_mat_train, X_vsp_test, Y_mat_test, n_cluster)\n",
    "        accuracy_vsp.append(res_vsp['accuracy'])\n",
    "    except Exception as e:\n",
    "        accuracy_vsp.append(np.nan)\n",
    "        "
   ]
  },
  {
   "cell_type": "code",
   "execution_count": 12,
   "metadata": {
    "collapsed": false
   },
   "outputs": [
    {
     "data": {
      "text/html": [
       "<div>\n",
       "<table border=\"1\" class=\"dataframe\">\n",
       "  <thead>\n",
       "    <tr style=\"text-align: right;\">\n",
       "      <th></th>\n",
       "      <th>STSIM-M</th>\n",
       "      <th>visiprog_original</th>\n",
       "      <th>visiprog</th>\n",
       "      <th>material</th>\n",
       "    </tr>\n",
       "  </thead>\n",
       "  <tbody>\n",
       "    <tr>\n",
       "      <th>0</th>\n",
       "      <td>0.873213</td>\n",
       "      <td>0.875119</td>\n",
       "      <td>0.964728</td>\n",
       "      <td>0.961868</td>\n",
       "    </tr>\n",
       "    <tr>\n",
       "      <th>1</th>\n",
       "      <td>0.869399</td>\n",
       "      <td>0.863680</td>\n",
       "      <td>0.954242</td>\n",
       "      <td>0.953289</td>\n",
       "    </tr>\n",
       "    <tr>\n",
       "      <th>2</th>\n",
       "      <td>0.875119</td>\n",
       "      <td>0.829361</td>\n",
       "      <td>0.953289</td>\n",
       "      <td>0.949476</td>\n",
       "    </tr>\n",
       "    <tr>\n",
       "      <th>3</th>\n",
       "      <td>0.864633</td>\n",
       "      <td>0.885605</td>\n",
       "      <td>0.951382</td>\n",
       "      <td>0.968541</td>\n",
       "    </tr>\n",
       "    <tr>\n",
       "      <th>4</th>\n",
       "      <td>0.878932</td>\n",
       "      <td>0.813155</td>\n",
       "      <td>0.953289</td>\n",
       "      <td>0.971401</td>\n",
       "    </tr>\n",
       "    <tr>\n",
       "      <th>5</th>\n",
       "      <td>0.881792</td>\n",
       "      <td>0.860820</td>\n",
       "      <td>0.971401</td>\n",
       "      <td>0.967588</td>\n",
       "    </tr>\n",
       "    <tr>\n",
       "      <th>6</th>\n",
       "      <td>0.857960</td>\n",
       "      <td>0.858913</td>\n",
       "      <td>0.953289</td>\n",
       "      <td>0.963775</td>\n",
       "    </tr>\n",
       "    <tr>\n",
       "      <th>7</th>\n",
       "      <td>0.885605</td>\n",
       "      <td>0.884652</td>\n",
       "      <td>0.955195</td>\n",
       "      <td>0.961868</td>\n",
       "    </tr>\n",
       "    <tr>\n",
       "      <th>8</th>\n",
       "      <td>0.876072</td>\n",
       "      <td>0.882745</td>\n",
       "      <td>0.950429</td>\n",
       "      <td>0.966635</td>\n",
       "    </tr>\n",
       "    <tr>\n",
       "      <th>9</th>\n",
       "      <td>0.880839</td>\n",
       "      <td>0.817922</td>\n",
       "      <td>0.957102</td>\n",
       "      <td>0.960915</td>\n",
       "    </tr>\n",
       "    <tr>\n",
       "      <th>average</th>\n",
       "      <td>0.874357</td>\n",
       "      <td>0.857197</td>\n",
       "      <td>0.956435</td>\n",
       "      <td>0.962536</td>\n",
       "    </tr>\n",
       "  </tbody>\n",
       "</table>\n",
       "</div>"
      ],
      "text/plain": [
       "          STSIM-M  visiprog_original  visiprog  material\n",
       "0        0.873213           0.875119  0.964728  0.961868\n",
       "1        0.869399           0.863680  0.954242  0.953289\n",
       "2        0.875119           0.829361  0.953289  0.949476\n",
       "3        0.864633           0.885605  0.951382  0.968541\n",
       "4        0.878932           0.813155  0.953289  0.971401\n",
       "5        0.881792           0.860820  0.971401  0.967588\n",
       "6        0.857960           0.858913  0.953289  0.963775\n",
       "7        0.885605           0.884652  0.955195  0.961868\n",
       "8        0.876072           0.882745  0.950429  0.966635\n",
       "9        0.880839           0.817922  0.957102  0.960915\n",
       "average  0.874357           0.857197  0.956435  0.962536"
      ]
     },
     "metadata": {},
     "output_type": "display_data"
    }
   ],
   "source": [
    "df = pd.DataFrame({'STSIM-M':accuracy_STSIMM,'visiprog':accuracy_vsp, \\\n",
    "                   'visiprog_original': accuracy_vsp_original, 'material':accuracy_mat}, \\\n",
    "                  columns=['STSIM-M','visiprog_original','visiprog','material'])\n",
    "df.loc['average'] = df.mean()\n",
    "display(df)\n",
    "\n",
    "\n",
    "df.to_csv('thrasos/within_trainedonclusters_k{}.csv'.format(n_cluster))"
   ]
  },
  {
   "cell_type": "code",
   "execution_count": null,
   "metadata": {
    "collapsed": false
   },
   "outputs": [],
   "source": []
  },
  {
   "cell_type": "code",
   "execution_count": null,
   "metadata": {
    "collapsed": true
   },
   "outputs": [],
   "source": []
  }
 ],
 "metadata": {
  "kernelspec": {
   "display_name": "Python [conda env:py34]",
   "language": "python",
   "name": "conda-env-py34-py"
  },
  "language_info": {
   "codemirror_mode": {
    "name": "ipython",
    "version": 3
   },
   "file_extension": ".py",
   "mimetype": "text/x-python",
   "name": "python",
   "nbconvert_exporter": "python",
   "pygments_lexer": "ipython3",
   "version": "3.4.5"
  }
 },
 "nbformat": 4,
 "nbformat_minor": 2
}
