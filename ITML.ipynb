{
 "cells": [
  {
   "cell_type": "code",
   "execution_count": 1,
   "metadata": {},
   "outputs": [],
   "source": [
    "%load_ext autoreload\n",
    "%autoreload 2\n",
    "from metric_learn import Covariance\n",
    "from visiprog.data import *\n",
    "from visiprog.metric_learn import *\n",
    "from visiprog.evaluate import *\n",
    "%matplotlib inline\n",
    "import numpy as np\n",
    "\n",
    "from metric_learn import ITML, ITML_Supervised\n",
    "from metric_learn.constraints import Constraints, wrap_pairs\n",
    "\n",
    "# from visiprog.metric_learn.lfda_visiprog import LFDA_VISIPROG\n",
    "\n",
    "from IPython.display import Image, display\n",
    "\n",
    "np.set_printoptions(precision=2)\n",
    "\n",
    "from sklearn.cluster import KMeans\n",
    "from sklearn.metrics import pairwise_distances_argmin_min\n",
    "\n",
    "%matplotlib inline\n",
    "import matplotlib\n",
    "import matplotlib.pyplot as plt"
   ]
  },
  {
   "cell_type": "code",
   "execution_count": 2,
   "metadata": {},
   "outputs": [
    {
     "name": "stdout",
     "output_type": "stream",
     "text": [
      "(5245, 82)\n"
     ]
    }
   ],
   "source": [
    "raw_feature = read_raw_feature()\n",
    "print(raw_feature.shape)\n",
    "material_label = read_material_label()\n",
    "groups, material = read_VSP_group(pappas_only=False)\n",
    "visiprog_label = get_VSP_label(groups, raw_feature.shape[0])"
   ]
  },
  {
   "cell_type": "code",
   "execution_count": 3,
   "metadata": {},
   "outputs": [
    {
     "name": "stdout",
     "output_type": "stream",
     "text": [
      "[ 0  0  0 ... 56 56 56]\n"
     ]
    }
   ],
   "source": [
    "print(material_label)"
   ]
  },
  {
   "cell_type": "code",
   "execution_count": 4,
   "metadata": {},
   "outputs": [
    {
     "name": "stdout",
     "output_type": "stream",
     "text": [
      "[ 18.  20.  20. ... 199. 200.   0.]\n"
     ]
    }
   ],
   "source": [
    "print(visiprog_label)"
   ]
  },
  {
   "cell_type": "markdown",
   "metadata": {},
   "source": [
    "# Train using semantic data only"
   ]
  },
  {
   "cell_type": "code",
   "execution_count": 5,
   "metadata": {},
   "outputs": [],
   "source": [
    "itml = ITML(verbose=True)"
   ]
  },
  {
   "cell_type": "code",
   "execution_count": 6,
   "metadata": {},
   "outputs": [],
   "source": [
    "num_constraints = 10000\n",
    "c_semantic = Constraints(partial_labels=material_label)\n",
    "pos_neg_semantic = c_semantic.positive_negative_pairs(num_constraints)\n",
    "pairs_semantic, y_semantic = wrap_pairs(raw_feature, pos_neg_semantic)"
   ]
  },
  {
   "cell_type": "code",
   "execution_count": null,
   "metadata": {
    "scrolled": true
   },
   "outputs": [
    {
     "name": "stderr",
     "output_type": "stream",
     "text": [
      "/anaconda3/envs/py36/lib/python3.6/site-packages/metric_learn-0.4.0-py3.6.egg/metric_learn/itml.py:69: FutureWarning: arrays to stack must be passed as a \"sequence\" type such as list or tuple. Support for non-sequence iterables such as generators is deprecated as of NumPy 1.16 and will raise an error in the future.\n"
     ]
    },
    {
     "name": "stdout",
     "output_type": "stream",
     "text": [
      "itml iter: 0, conv = 4.188318\n",
      "itml iter: 1, conv = 2.311550\n",
      "itml iter: 2, conv = 1.610341\n",
      "itml iter: 3, conv = 1.289135\n",
      "itml iter: 4, conv = 1.065045\n",
      "itml iter: 5, conv = 0.918187\n",
      "itml iter: 6, conv = 0.786884\n",
      "itml iter: 7, conv = 0.699774\n",
      "itml iter: 8, conv = 0.718604\n",
      "itml iter: 9, conv = 0.719162\n",
      "itml iter: 10, conv = 0.714950\n",
      "itml iter: 11, conv = 0.882196\n",
      "itml iter: 12, conv = 0.856102\n",
      "itml iter: 13, conv = 0.832785\n",
      "itml iter: 14, conv = 0.905250\n",
      "itml iter: 15, conv = 1.104803\n",
      "itml iter: 16, conv = 0.925165\n",
      "itml iter: 17, conv = 0.720644\n",
      "itml iter: 18, conv = 0.543408\n",
      "itml iter: 19, conv = 0.468835\n",
      "itml iter: 20, conv = 0.434711\n",
      "itml iter: 21, conv = 0.387541\n",
      "itml iter: 22, conv = 0.431585\n",
      "itml iter: 23, conv = 0.459869\n",
      "itml iter: 24, conv = 0.448178\n",
      "itml iter: 25, conv = 0.432249\n",
      "itml iter: 26, conv = 0.422497\n",
      "itml iter: 27, conv = 0.371527\n",
      "itml iter: 28, conv = 0.341940\n",
      "itml iter: 29, conv = 0.318907\n",
      "itml iter: 30, conv = 0.316476\n",
      "itml iter: 31, conv = 0.309330\n",
      "itml iter: 32, conv = 0.312851\n",
      "itml iter: 33, conv = 0.319582\n",
      "itml iter: 34, conv = 0.318686\n",
      "itml iter: 35, conv = 0.309284\n",
      "itml iter: 36, conv = 0.296154\n",
      "itml iter: 37, conv = 0.296046\n",
      "itml iter: 38, conv = 0.304388\n",
      "itml iter: 39, conv = 0.309536\n",
      "itml iter: 40, conv = 0.319093\n",
      "itml iter: 41, conv = 0.324998\n",
      "itml iter: 42, conv = 0.322558\n",
      "itml iter: 43, conv = 0.346514\n",
      "itml iter: 44, conv = 0.385432\n"
     ]
    }
   ],
   "source": [
    "itml._fit(pairs_semantic, y_semantic)"
   ]
  },
  {
   "cell_type": "code",
   "execution_count": null,
   "metadata": {},
   "outputs": [],
   "source": [
    "X_itml = itml.transform(raw_feature)\n",
    "res_itml = leave_one_sample_out(X_itml, material_label)\n",
    "print(res_itml['accuracy'])"
   ]
  },
  {
   "cell_type": "markdown",
   "metadata": {},
   "source": [
    "# Train using semantic and VSP data"
   ]
  },
  {
   "cell_type": "code",
   "execution_count": null,
   "metadata": {},
   "outputs": [],
   "source": [
    "itml_vsp = ITML(verbose=True)"
   ]
  },
  {
   "cell_type": "code",
   "execution_count": null,
   "metadata": {},
   "outputs": [],
   "source": [
    "num_constraints_vsp = 1000\n",
    "c_vsp = Constraints(partial_labels=visiprog_label)\n",
    "pos_neg_vsp = c_vsp.positive_negative_pairs(num_constraints_vsp)\n",
    "pairs_vsp, y_vsp = wrap_pairs(raw_feature, pos_neg_vsp)"
   ]
  },
  {
   "cell_type": "code",
   "execution_count": null,
   "metadata": {},
   "outputs": [],
   "source": [
    "pairs = np.concatenate((pairs_vsp, pairs_semantic), axis=0)\n",
    "y = np.concatenate((y_vsp, y_semantic))"
   ]
  },
  {
   "cell_type": "code",
   "execution_count": null,
   "metadata": {},
   "outputs": [],
   "source": [
    "print(pairs_vsp.shape)\n",
    "print(pairs_semantic.shape)\n",
    "print(pairs.shape)"
   ]
  },
  {
   "cell_type": "code",
   "execution_count": null,
   "metadata": {},
   "outputs": [],
   "source": [
    "print(y_vsp.shape)\n",
    "print(y_semantic.shape)\n",
    "print(y.shape)"
   ]
  },
  {
   "cell_type": "code",
   "execution_count": null,
   "metadata": {
    "scrolled": true
   },
   "outputs": [],
   "source": [
    "itml_vsp._fit(pairs, y)"
   ]
  },
  {
   "cell_type": "code",
   "execution_count": null,
   "metadata": {},
   "outputs": [],
   "source": [
    "X_vsp = itml_vsp.transform(raw_feature)\n",
    "res_vsp = leave_one_sample_out(X_vsp, material_label)\n",
    "print(res_vsp['accuracy'])"
   ]
  },
  {
   "cell_type": "code",
   "execution_count": null,
   "metadata": {},
   "outputs": [],
   "source": []
  }
 ],
 "metadata": {
  "kernelspec": {
   "display_name": "Python 3",
   "language": "python",
   "name": "python3"
  },
  "language_info": {
   "codemirror_mode": {
    "name": "ipython",
    "version": 3
   },
   "file_extension": ".py",
   "mimetype": "text/x-python",
   "name": "python",
   "nbconvert_exporter": "python",
   "pygments_lexer": "ipython3",
   "version": "3.6.8"
  }
 },
 "nbformat": 4,
 "nbformat_minor": 2
}
