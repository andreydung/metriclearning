{
 "cells": [
  {
   "cell_type": "code",
   "execution_count": 1,
   "metadata": {
    "collapsed": true
   },
   "outputs": [],
   "source": [
    "from visiprog.data import *\n",
    "from visiprog.drawing import *\n",
    "%matplotlib inline\n",
    "\n",
    "import numpy as np\n",
    "import matplotlib\n",
    "import matplotlib.pyplot as plt\n",
    "from sklearn.metrics import euclidean_distances"
   ]
  },
  {
   "cell_type": "markdown",
   "metadata": {},
   "source": [
    "Test data where we have 10 samples, and two groups overlaps at 4 and 5."
   ]
  },
  {
   "cell_type": "code",
   "execution_count": 2,
   "metadata": {
    "collapsed": false
   },
   "outputs": [
    {
     "name": "stdout",
     "output_type": "stream",
     "text": [
      "[[ 1.  1.  1.  1.  1.  1.  0.  0.  0.  0.]\n",
      " [ 1.  1.  1.  1.  1.  1.  0.  0.  0.  0.]\n",
      " [ 1.  1.  1.  1.  1.  1.  0.  0.  0.  0.]\n",
      " [ 1.  1.  1.  1.  1.  1.  0.  0.  0.  0.]\n",
      " [ 1.  1.  1.  1.  2.  2.  1.  1.  1.  1.]\n",
      " [ 1.  1.  1.  1.  2.  2.  1.  1.  1.  1.]\n",
      " [ 0.  0.  0.  0.  1.  1.  1.  1.  1.  1.]\n",
      " [ 0.  0.  0.  0.  1.  1.  1.  1.  1.  1.]\n",
      " [ 0.  0.  0.  0.  1.  1.  1.  1.  1.  1.]\n",
      " [ 0.  0.  0.  0.  1.  1.  1.  1.  1.  1.]]\n"
     ]
    }
   ],
   "source": [
    "S = count_matrix([[0,1,2,3,4,5],[4,5,6,7,8,9]], 10)\n",
    "print(S)"
   ]
  },
  {
   "cell_type": "markdown",
   "metadata": {},
   "source": [
    "Convert the similarity to distance matrix. Note that missing entries are filled in with zero"
   ]
  },
  {
   "cell_type": "code",
   "execution_count": 3,
   "metadata": {
    "collapsed": false
   },
   "outputs": [
    {
     "name": "stdout",
     "output_type": "stream",
     "text": [
      "[[ 0.   1.   1.   1.   1.   1.   0.   0.   0.   0. ]\n",
      " [ 1.   0.   1.   1.   1.   1.   0.   0.   0.   0. ]\n",
      " [ 1.   1.   0.   1.   1.   1.   0.   0.   0.   0. ]\n",
      " [ 1.   1.   1.   0.   1.   1.   0.   0.   0.   0. ]\n",
      " [ 1.   1.   1.   1.   0.   0.5  1.   1.   1.   1. ]\n",
      " [ 1.   1.   1.   1.   0.5  0.   1.   1.   1.   1. ]\n",
      " [ 0.   0.   0.   0.   1.   1.   0.   1.   1.   1. ]\n",
      " [ 0.   0.   0.   0.   1.   1.   1.   0.   1.   1. ]\n",
      " [ 0.   0.   0.   0.   1.   1.   1.   1.   0.   1. ]\n",
      " [ 0.   0.   0.   0.   1.   1.   1.   1.   1.   0. ]]\n"
     ]
    }
   ],
   "source": [
    "D, nonZeroIndex = similarity_to_distance(S, missing_value=0)\n",
    "\n",
    "D = D/D.max()\n",
    "print(D)"
   ]
  },
  {
   "cell_type": "code",
   "execution_count": 4,
   "metadata": {
    "collapsed": false
   },
   "outputs": [
    {
     "name": "stdout",
     "output_type": "stream",
     "text": [
      "it: 0, stress 1.77295120332\n",
      "it: 0, stress 4.57313160464\n",
      "it: 0, stress 1.62617198398\n",
      "it: 0, stress 1.03689332989\n",
      "it: 0, stress 1.71995273712\n",
      "it: 0, stress 1.74549849163\n",
      "it: 0, stress 2.16135893174\n",
      "it: 1, stress 1.61424630048\n",
      "it: 1, stress 1.08314368614\n",
      "it: 1, stress 1.20736932519\n",
      "it: 1, stress 1.2173577738\n",
      "it: 2, stress 1.14887714599\n",
      "it: 1, stress 1.48951519337\n",
      "it: 2, stress 1.41962972957\n",
      "it: 2, stress 1.34169627601\n",
      "it: 2, stress 0.97816979096\n",
      "it: 0, stress 1.72887163181\n",
      "it: 1, stress 0.769609836298\n",
      "it: 3, stress 1.15447806918\n",
      "it: 1, stress 1.24037197046\n",
      "it: 2, stress 1.19430959558\n",
      "it: 3, stress 1.19568206828\n",
      "it: 3, stress 1.37912709403\n",
      "breaking at iteration 3 with stress 1.15447806918\n",
      "it: 3, stress 0.881025260036\n",
      "it: 2, stress 0.771862000272\n",
      "it: 1, stress 1.10933218991\n",
      "it: 2, stress 1.04812608441\n",
      "it: 4, stress 1.1073262349\n",
      "it: 3, stress 1.21348187897\n",
      "breaking at iteration 2 with stress 0.771862000272\n",
      "it: 4, stress 1.35513490347\n",
      "it: 4, stress 0.797003950672\n",
      "it: 3, stress 0.908680608185\n",
      "it: 2, stress 0.927311438461\n",
      "breaking at iteration 3 with stress 1.21348187897\n",
      "it: 5, stress 1.04746404675\n",
      "it: 5, stress 0.732126079472\n",
      "it: 5, stress 1.33759822036\n",
      "it: 4, stress 0.812670830889\n",
      "it: 3, stress 0.850410063889\n",
      "it: 6, stress 1.0034188002\n",
      "it: 6, stress 0.687748649662\n",
      "it: 5, stress 0.745383625904\n",
      "it: 6, stress 1.32159769659\n",
      "it: 4, stress 0.820328484607\n",
      "it: 7, stress 0.969414967419\n",
      "it: 5, stress 0.813363296989\n",
      "it: 6, stress 0.69818924707\n",
      "it: 8, stress 0.942496092768\n",
      "it: 7, stress 0.665604436435\n",
      "it: 7, stress 0.653709426198\n",
      "it: 9, stress 0.920890547064\n",
      "it: 7, stress 1.30489229113\n",
      "it: 6, stress 0.815281696317\n",
      "it: 8, stress 0.643228749261\n",
      "it: 8, stress 1.28651343281\n",
      "it: 10, stress 0.903386475188\n",
      "breaking at iteration 6 with stress 0.815281696317\n",
      "it: 8, stress 0.62625928706\n",
      "it: 11, stress 0.889091854855\n",
      "it: 9, stress 0.604584895818\n",
      "it: 9, stress 0.627669257132\n",
      "it: 9, stress 1.26617968341\n",
      "it: 10, stress 0.58857977055\n",
      "it: 12, stress 0.877331094994\n",
      "it: 10, stress 0.61649799135\n",
      "it: 10, stress 1.24405262876\n",
      "it: 13, stress 0.867587875327\n",
      "it: 11, stress 0.577787772898\n",
      "it: 11, stress 0.608087374416\n",
      "it: 11, stress 1.22062952322\n",
      "it: 14, stress 0.859465188594\n",
      "it: 12, stress 1.19667720823\n",
      "it: 12, stress 0.571188781923\n",
      "it: 12, stress 0.601406242259\n",
      "it: 15, stress 0.852654613464\n",
      "it: 13, stress 1.1731391577\n",
      "it: 13, stress 0.567436317346\n",
      "it: 13, stress 0.59583506454\n",
      "it: 16, stress 0.846912775976\n",
      "it: 14, stress 1.15098079441\n",
      "it: 14, stress 0.565223261835\n",
      "it: 14, stress 0.591021945424\n",
      "it: 15, stress 1.13099638098\n",
      "it: 17, stress 0.842043997659\n",
      "breaking at iteration 14 with stress 0.565223261835\n",
      "it: 15, stress 0.586779780502\n",
      "it: 16, stress 1.11364861036\n",
      "it: 18, stress 0.837888032596\n",
      "it: 16, stress 0.583016995558\n",
      "it: 17, stress 1.0990086869\n",
      "it: 19, stress 0.834311691861\n",
      "it: 18, stress 1.08681199478\n",
      "it: 17, stress 0.57969306528\n",
      "it: 20, stress 0.831203235436\n",
      "it: 19, stress 1.07658731896\n",
      "it: 18, stress 0.576791281901\n",
      "it: 21, stress 0.828468614136\n",
      "it: 20, stress 1.06779719144\n",
      "it: 19, stress 0.574303047056\n",
      "it: 21, stress 1.05994473459\n",
      "it: 22, stress 0.826028878188\n",
      "it: 20, stress 0.572219580134\n",
      "it: 23, stress 0.823818279664\n",
      "it: 22, stress 1.05263268538\n",
      "it: 24, stress 0.821782761857\n",
      "it: 21, stress 0.57052820313\n",
      "it: 23, stress 1.04558173588\n",
      "it: 25, stress 0.819878648746\n",
      "it: 22, stress 0.569211295375\n",
      "it: 24, stress 1.03862299092\n",
      "it: 26, stress 0.818071429891\n",
      "it: 23, stress 0.568246677881\n",
      "it: 25, stress 1.03167805777\n",
      "it: 27, stress 0.816334590109\n",
      "it: 26, stress 1.02473588334\n",
      "it: 24, stress 0.567608651299\n",
      "it: 28, stress 0.814648467581\n",
      "it: 29, stress 0.812999144767\n",
      "it: 27, stress 1.01783129229\n",
      "it: 25, stress 0.567269227059\n",
      "it: 28, stress 1.01102732768\n",
      "it: 30, stress 0.81137738792\n",
      "it: 26, stress 0.567199299316\n",
      "it: 29, stress 1.00440188404\n",
      "it: 31, stress 0.809777655664\n",
      "it: 32, stress 0.808197196985\n",
      "breaking at iteration 26 with stress 0.567199299316\n",
      "it: 30, stress 0.998038349502\n",
      "it: 33, stress 0.806635255439\n",
      "it: 31, stress 0.992019669958\n",
      "it: 34, stress 0.805092390699\n",
      "it: 32, stress 0.986425166838\n",
      "it: 35, stress 0.803569921909\n",
      "it: 33, stress 0.981329439413\n",
      "it: 36, stress 0.802069490681\n",
      "it: 34, stress 0.976802688106\n",
      "it: 37, stress 0.800592735834\n",
      "it: 35, stress 0.972911775363\n",
      "it: 38, stress 0.799141067597\n",
      "it: 36, stress 0.969721294557\n",
      "it: 37, stress 0.967293879697\n",
      "it: 39, stress 0.79771552627\n",
      "it: 40, stress 0.796316709201\n",
      "it: 38, stress 0.96568903014\n"
     ]
    },
    {
     "name": "stderr",
     "output_type": "stream",
     "text": [
      "[Parallel(n_jobs=8)]: Done   2 out of   8 | elapsed:    0.1s remaining:    0.3s\n"
     ]
    },
    {
     "name": "stdout",
     "output_type": "stream",
     "text": [
      "it: 39, stress 0.964959937082\n",
      "it: 41, stress 0.794944750198\n",
      "it: 42, stress 0.79359933677\n",
      "it: 40, stress 0.965148248872\n",
      "it: 43, stress 0.792279752556\n",
      "it: 41, stress 0.966277371222\n",
      "it: 44, stress 0.790984934565\n",
      "it: 42, stress 0.968345590018\n",
      "it: 43, stress 0.971320737041\n",
      "it: 45, stress 0.789713537178\n",
      "it: 46, stress 0.788463996978\n",
      "breaking at iteration 43 with stress 0.971320737041\n",
      "it: 47, stress 0.787234594368\n",
      "it: 48, stress 0.78602350943\n",
      "it: 49, stress 0.784828870683\n",
      "it: 50, stress 0.783648796227\n",
      "it: 51, stress 0.782481427395\n",
      "it: 52, stress 0.781324955394\n",
      "it: 53, stress 0.780177641632\n",
      "it: 54, stress 0.779037832545\n",
      "it: 55, stress 0.77790396974\n",
      "it: 56, stress 0.776774596242\n",
      "it: 57, stress 0.775648359562\n",
      "it: 58, stress 0.774524012247\n",
      "it: 59, stress 0.773400410441\n",
      "it: 60, stress 0.772276510961\n",
      "it: 61, stress 0.771151367256\n",
      "it: 62, stress 0.770024124607\n",
      "it: 63, stress 0.76889401481\n",
      "it: 64, stress 0.767760350563\n",
      "it: 65, stress 0.76662251974\n",
      "it: 66, stress 0.765479979655\n",
      "it: 67, stress 0.764332251448\n",
      "it: 68, stress 0.763178914646\n",
      "it: 69, stress 0.76201960196\n",
      "it: 70, stress 0.760853994357\n",
      "it: 71, stress 0.759681816428\n",
      "it: 72, stress 0.758502832073\n",
      "it: 73, stress 0.757316840492\n",
      "it: 74, stress 0.756123672507\n",
      "it: 75, stress 0.754923187185\n",
      "it: 76, stress 0.753715268773\n",
      "it: 77, stress 0.752499823926\n",
      "it: 78, stress 0.751276779223\n",
      "it: 79, stress 0.750046078955\n",
      "it: 80, stress 0.748807683187\n",
      "it: 81, stress 0.747561566063\n",
      "it: 82, stress 0.746307714376\n",
      "it: 83, stress 0.745046126364\n",
      "it: 84, stress 0.743776810753\n",
      "it: 85, stress 0.742499786029\n",
      "it: 86, stress 0.741215079944\n",
      "it: 87, stress 0.739922729253\n",
      "it: 88, stress 0.738622779686\n",
      "it: 89, stress 0.73731528616\n",
      "it: 90, stress 0.736000313235\n",
      "it: 91, stress 0.73467793583\n",
      "it: 92, stress 0.733348240194\n",
      "it: 93, stress 0.732011325164\n",
      "it: 94, stress 0.730667303712\n",
      "it: 95, stress 0.729316304802\n",
      "it: 96, stress 0.727958475572\n",
      "it: 97, stress 0.726593983868\n",
      "it: 98, stress 0.725223021154\n",
      "it: 99, stress 0.723845805813\n"
     ]
    },
    {
     "name": "stderr",
     "output_type": "stream",
     "text": [
      "[Parallel(n_jobs=8)]: Done   8 out of   8 | elapsed:    0.5s finished\n"
     ]
    }
   ],
   "source": [
    "X = SMACOF(D, num_iter=100, eps=1e-4)"
   ]
  },
  {
   "cell_type": "code",
   "execution_count": 5,
   "metadata": {
    "collapsed": false
   },
   "outputs": [
    {
     "data": {
      "image/png": "[encoded data removed]",
      "text/plain": [
       "<matplotlib.figure.Figure at 0x1108a4c88>"
      ]
     },
     "metadata": {},
     "output_type": "display_data"
    }
   ],
   "source": [
    "scatter_plot(X, \"testing\")\n",
    "\n",
    "for i in range(X.shape[0]):\n",
    "    plt.annotate(str(i), (X[i][0]+0.01,X[i][1]))"
   ]
  },
  {
   "cell_type": "markdown",
   "metadata": {
    "collapsed": true
   },
   "source": [
    "Note that how 4 and 5 are close to each other."
   ]
  }
 ],
 "metadata": {
  "kernelspec": {
   "display_name": "Python 3",
   "language": "python",
   "name": "python3"
  },
  "language_info": {
   "codemirror_mode": {
    "name": "ipython",
    "version": 3
   },
   "file_extension": ".py",
   "mimetype": "text/x-python",
   "name": "python",
   "nbconvert_exporter": "python",
   "pygments_lexer": "ipython3",
   "version": "3.4.5"
  }
 },
 "nbformat": 4,
 "nbformat_minor": 2
}
