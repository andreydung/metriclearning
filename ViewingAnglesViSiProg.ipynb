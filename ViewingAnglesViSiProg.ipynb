{
 "cells": [
  {
   "cell_type": "markdown",
   "metadata": {},
   "source": [
    "# Viewing angles\n",
    "\n",
    "Visualizing the illumination and viewing angles. Explaining how ViSiProg groups are related?"
   ]
  },
  {
   "cell_type": "code",
   "execution_count": 62,
   "metadata": {
    "collapsed": false
   },
   "outputs": [
    {
     "name": "stdout",
     "output_type": "stream",
     "text": [
      "The autoreload extension is already loaded. To reload it, use:\n",
      "  %reload_ext autoreload\n"
     ]
    },
    {
     "data": {
      "text/html": [
       "<script>requirejs.config({paths: { 'plotly': ['https://cdn.plot.ly/plotly-latest.min']},});if(!window.Plotly) {{require(['plotly'],function(plotly) {window.Plotly=plotly;});}}</script>"
      ],
      "text/vnd.plotly.v1+html": [
       "<script>requirejs.config({paths: { 'plotly': ['https://cdn.plot.ly/plotly-latest.min']},});if(!window.Plotly) {{require(['plotly'],function(plotly) {window.Plotly=plotly;});}}</script>"
      ]
     },
     "metadata": {},
     "output_type": "display_data"
    }
   ],
   "source": [
    "%load_ext autoreload\n",
    "%autoreload 2\n",
    "import networkx as nx\n",
    "import numpy as np\n",
    "import os\n",
    "\n",
    "from plotly.offline import download_plotlyjs, init_notebook_mode, plot, iplot\n",
    "init_notebook_mode(connected=True)\n",
    "\n",
    "import plotly.graph_objs as go\n",
    "from visiprog.data import read_VSP_label, read_img_list, read_viewing_conditions, viewing_condition_index\n",
    "from visiprog.data import read_viewing_conditions, polar_to_euclidean, angle_between\n",
    "from IPython.display import display, HTML\n",
    "\n",
    "from scipy.spatial import Voronoi, SphericalVoronoi"
   ]
  },
  {
   "cell_type": "code",
   "execution_count": 63,
   "metadata": {
    "collapsed": false
   },
   "outputs": [
    {
     "name": "stdout",
     "output_type": "stream",
     "text": [
      "['view_theta' 'view_phi' 'illum_theta' 'illum_phi' 'illum_x' 'illum_y'\n",
      " 'illum_z' 'view_x' 'view_y' 'view_z']\n",
      "(205, 10)\n"
     ]
    }
   ],
   "source": [
    "df_viewing = read_viewing_conditions()\n",
    "\n",
    "np.savetxt('df_viewing.csv', df_viewing, fmt='%.4f', delimiter=',')\n",
    "\n",
    "print(df_viewing.columns.values)\n",
    "print(df_viewing.shape)"
   ]
  },
  {
   "cell_type": "code",
   "execution_count": 25,
   "metadata": {
    "collapsed": false
   },
   "outputs": [],
   "source": [
    "def make_image_html(image_path):\n",
    "     return '<img src=\"{}\" width=\"100\" height=\"100\" style=\"display:inline;margin:1px\"/>'.format(image_path)"
   ]
  },
  {
   "cell_type": "code",
   "execution_count": 36,
   "metadata": {
    "collapsed": false
   },
   "outputs": [
    {
     "data": {
      "application/vnd.plotly.v1+json": {
       "data": [
        {
         "name": "43-154.png",
         "type": "scatter3d",
         "x": [
          0.8944271799338995,
          0.8944271799338995,
          0,
          -0.44721298276616256
         ],
         "y": [
          -0.23257425737546655,
          -0.18257425737546654,
          0,
          -0.36514820722282626
         ],
         "z": [
          0.408248282714439,
          0.408248282714439,
          0,
          0.8164969900785599
         ]
        },
        {
         "name": "43-155.png",
         "type": "scatter3d",
         "x": [
          0.8320511996485439,
          0.8320511996485439,
          0,
          -0.5546990730736021
         ],
         "y": [
          -0.4047867670614732,
          -0.3547867670614732,
          0,
          -0.5321816508913696
         ],
         "z": [
          0.4264002240635982,
          0.4264002240635982,
          0,
          0.6396027116779784
         ]
        },
        {
         "name": "43-121.png",
         "type": "scatter3d",
         "x": [
          0.8068984206425867,
          0.8068984206425867,
          0,
          -0.23694041989807352
         ],
         "y": [
          -0.17482774317747946,
          -0.12482774317747945,
          0,
          -0.2053076876055188
         ],
         "z": [
          0.5773499573895512,
          0.5773499573895512,
          0,
          0.9495830615741834
         ]
        },
        {
         "name": "43-156.png",
         "type": "scatter3d",
         "x": [
          0.8314697766141773,
          0.8314697766141773,
          0,
          -0.5555697153896453
         ],
         "y": [
          -0.05,
          0,
          0,
          -1.924550198996162e-07
         ],
         "z": [
          0.5555699871097881,
          0.5555699871097881,
          0,
          0.8314699581715694
         ]
        },
        {
         "name": "43-026.png",
         "type": "scatter3d",
         "x": [
          0.8068984206425867,
          0.8068984206425867,
          0,
          0.5194294141188199
         ],
         "y": [
          -0.17482774317747946,
          -0.12482774317747945,
          0,
          -0.1805803658467075
         ],
         "z": [
          0.5773499573895512,
          0.5773499573895512,
          0,
          0.8352148317761416
         ]
        },
        {
         "name": "43-017.png",
         "type": "scatter3d",
         "x": [
          0.8944271799338995,
          0.8944271799338995,
          0,
          0.6552021944685535
         ],
         "y": [
          -0.23257425737546655,
          -0.18257425737546654,
          0,
          -0.30841241276391385
         ],
         "z": [
          0.408248282714439,
          0.408248282714439,
          0,
          0.6896316901192497
         ]
        },
        {
         "name": "43-158.png",
         "type": "scatter3d",
         "x": [
          0.8068984206425867,
          0.8068984206425867,
          0,
          -0.5906901877678383
         ],
         "y": [
          -0.17482774317747946,
          -0.12482774317747945,
          0,
          -0.17051805072908632
         ],
         "z": [
          0.5773499573895512,
          0.5773499573895512,
          0,
          0.7886752794720706
         ]
        },
        {
         "name": "43-123.png",
         "type": "scatter3d",
         "x": [
          0.7071066745408645,
          0.7071066745408645,
          0,
          -0.38268351429937203
         ],
         "y": [
          -0.35151040120356813,
          -0.30151040120356815,
          0,
          -0.3939426566773774
         ],
         "z": [
          0.6396027116779784,
          0.6396027116779784,
          0,
          0.8356808667987153
         ]
        },
        {
         "name": "43-071.png",
         "type": "scatter3d",
         "x": [
          0.8320511996485439,
          0.8320511996485439,
          0,
          0.1961171682442345
         ],
         "y": [
          -0.4047867670614732,
          -0.3547867670614732,
          0,
          -0.6271817768369309
         ],
         "z": [
          0.4264002240635982,
          0.4264002240635982,
          0,
          0.753777868555142
         ]
        }
       ],
       "layout": {
        "autosize": true,
        "height": 800,
        "margin": {
         "b": 65,
         "l": 65,
         "r": 50,
         "t": 90
        },
        "title": "Angles of VSP group",
        "width": 900
       }
      },
      "text/html": [
       "<div id=\"c86fbb07-51f6-4b86-ae65-6110c9c74331\" style=\"height: 800px; width: 900px;\" class=\"plotly-graph-div\"></div><script type=\"text/javascript\">require([\"plotly\"], function(Plotly) { window.PLOTLYENV=window.PLOTLYENV || {};window.PLOTLYENV.BASE_URL=\"https://plot.ly\";Plotly.newPlot(\"c86fbb07-51f6-4b86-ae65-6110c9c74331\", [{\"z\": [0.408248282714439, 0.408248282714439, 0, 0.8164969900785599], \"x\": [0.8944271799338995, 0.8944271799338995, 0, -0.44721298276616256], \"type\": \"scatter3d\", \"y\": [-0.23257425737546655, -0.18257425737546654, 0, -0.36514820722282626], \"name\": \"43-154.png\"}, {\"z\": [0.4264002240635982, 0.4264002240635982, 0, 0.6396027116779784], \"x\": [0.8320511996485439, 0.8320511996485439, 0, -0.5546990730736021], \"type\": \"scatter3d\", \"y\": [-0.4047867670614732, -0.3547867670614732, 0, -0.5321816508913696], \"name\": \"43-155.png\"}, {\"z\": [0.5773499573895512, 0.5773499573895512, 0, 0.9495830615741834], \"x\": [0.8068984206425867, 0.8068984206425867, 0, -0.23694041989807352], \"type\": \"scatter3d\", \"y\": [-0.17482774317747946, -0.12482774317747945, 0, -0.2053076876055188], \"name\": \"43-121.png\"}, {\"z\": [0.5555699871097881, 0.5555699871097881, 0, 0.8314699581715694], \"x\": [0.8314697766141773, 0.8314697766141773, 0, -0.5555697153896453], \"type\": \"scatter3d\", \"y\": [-0.05, 0.0, 0, -1.924550198996162e-07], \"name\": \"43-156.png\"}, {\"z\": [0.5773499573895512, 0.5773499573895512, 0, 0.8352148317761416], \"x\": [0.8068984206425867, 0.8068984206425867, 0, 0.5194294141188199], \"type\": \"scatter3d\", \"y\": [-0.17482774317747946, -0.12482774317747945, 0, -0.1805803658467075], \"name\": \"43-026.png\"}, {\"z\": [0.408248282714439, 0.408248282714439, 0, 0.6896316901192497], \"x\": [0.8944271799338995, 0.8944271799338995, 0, 0.6552021944685535], \"type\": \"scatter3d\", \"y\": [-0.23257425737546655, -0.18257425737546654, 0, -0.30841241276391385], \"name\": \"43-017.png\"}, {\"z\": [0.5773499573895512, 0.5773499573895512, 0, 0.7886752794720706], \"x\": [0.8068984206425867, 0.8068984206425867, 0, -0.5906901877678383], \"type\": \"scatter3d\", \"y\": [-0.17482774317747946, -0.12482774317747945, 0, -0.17051805072908632], \"name\": \"43-158.png\"}, {\"z\": [0.6396027116779784, 0.6396027116779784, 0, 0.8356808667987153], \"x\": [0.7071066745408645, 0.7071066745408645, 0, -0.38268351429937203], \"type\": \"scatter3d\", \"y\": [-0.35151040120356813, -0.30151040120356815, 0, -0.3939426566773774], \"name\": \"43-123.png\"}, {\"z\": [0.4264002240635982, 0.4264002240635982, 0, 0.753777868555142], \"x\": [0.8320511996485439, 0.8320511996485439, 0, 0.1961171682442345], \"type\": \"scatter3d\", \"y\": [-0.4047867670614732, -0.3547867670614732, 0, -0.6271817768369309], \"name\": \"43-071.png\"}], {\"height\": 800, \"width\": 900, \"autosize\": true, \"title\": \"Angles of VSP group\", \"margin\": {\"b\": 65, \"t\": 90, \"r\": 50, \"l\": 65}}, {\"linkText\": \"Export to plot.ly\", \"showLink\": true})});</script>"
      ],
      "text/vnd.plotly.v1+html": [
       "<div id=\"c86fbb07-51f6-4b86-ae65-6110c9c74331\" style=\"height: 800px; width: 900px;\" class=\"plotly-graph-div\"></div><script type=\"text/javascript\">require([\"plotly\"], function(Plotly) { window.PLOTLYENV=window.PLOTLYENV || {};window.PLOTLYENV.BASE_URL=\"https://plot.ly\";Plotly.newPlot(\"c86fbb07-51f6-4b86-ae65-6110c9c74331\", [{\"z\": [0.408248282714439, 0.408248282714439, 0, 0.8164969900785599], \"x\": [0.8944271799338995, 0.8944271799338995, 0, -0.44721298276616256], \"type\": \"scatter3d\", \"y\": [-0.23257425737546655, -0.18257425737546654, 0, -0.36514820722282626], \"name\": \"43-154.png\"}, {\"z\": [0.4264002240635982, 0.4264002240635982, 0, 0.6396027116779784], \"x\": [0.8320511996485439, 0.8320511996485439, 0, -0.5546990730736021], \"type\": \"scatter3d\", \"y\": [-0.4047867670614732, -0.3547867670614732, 0, -0.5321816508913696], \"name\": \"43-155.png\"}, {\"z\": [0.5773499573895512, 0.5773499573895512, 0, 0.9495830615741834], \"x\": [0.8068984206425867, 0.8068984206425867, 0, -0.23694041989807352], \"type\": \"scatter3d\", \"y\": [-0.17482774317747946, -0.12482774317747945, 0, -0.2053076876055188], \"name\": \"43-121.png\"}, {\"z\": [0.5555699871097881, 0.5555699871097881, 0, 0.8314699581715694], \"x\": [0.8314697766141773, 0.8314697766141773, 0, -0.5555697153896453], \"type\": \"scatter3d\", \"y\": [-0.05, 0.0, 0, -1.924550198996162e-07], \"name\": \"43-156.png\"}, {\"z\": [0.5773499573895512, 0.5773499573895512, 0, 0.8352148317761416], \"x\": [0.8068984206425867, 0.8068984206425867, 0, 0.5194294141188199], \"type\": \"scatter3d\", \"y\": [-0.17482774317747946, -0.12482774317747945, 0, -0.1805803658467075], \"name\": \"43-026.png\"}, {\"z\": [0.408248282714439, 0.408248282714439, 0, 0.6896316901192497], \"x\": [0.8944271799338995, 0.8944271799338995, 0, 0.6552021944685535], \"type\": \"scatter3d\", \"y\": [-0.23257425737546655, -0.18257425737546654, 0, -0.30841241276391385], \"name\": \"43-017.png\"}, {\"z\": [0.5773499573895512, 0.5773499573895512, 0, 0.7886752794720706], \"x\": [0.8068984206425867, 0.8068984206425867, 0, -0.5906901877678383], \"type\": \"scatter3d\", \"y\": [-0.17482774317747946, -0.12482774317747945, 0, -0.17051805072908632], \"name\": \"43-158.png\"}, {\"z\": [0.6396027116779784, 0.6396027116779784, 0, 0.8356808667987153], \"x\": [0.7071066745408645, 0.7071066745408645, 0, -0.38268351429937203], \"type\": \"scatter3d\", \"y\": [-0.35151040120356813, -0.30151040120356815, 0, -0.3939426566773774], \"name\": \"43-123.png\"}, {\"z\": [0.4264002240635982, 0.4264002240635982, 0, 0.753777868555142], \"x\": [0.8320511996485439, 0.8320511996485439, 0, 0.1961171682442345], \"type\": \"scatter3d\", \"y\": [-0.4047867670614732, -0.3547867670614732, 0, -0.6271817768369309], \"name\": \"43-071.png\"}], {\"height\": 800, \"width\": 900, \"autosize\": true, \"title\": \"Angles of VSP group\", \"margin\": {\"b\": 65, \"t\": 90, \"r\": 50, \"l\": 65}}, {\"linkText\": \"Export to plot.ly\", \"showLink\": true})});</script>"
      ]
     },
     "metadata": {},
     "output_type": "display_data"
    },
    {
     "data": {
      "text/html": [
       "<img src=\"visiprog/data/curetaliasfree/images/43-154.png\" width=\"100\" height=\"100\" style=\"display:inline;margin:1px\"/><img src=\"visiprog/data/curetaliasfree/images/43-155.png\" width=\"100\" height=\"100\" style=\"display:inline;margin:1px\"/><img src=\"visiprog/data/curetaliasfree/images/43-121.png\" width=\"100\" height=\"100\" style=\"display:inline;margin:1px\"/><img src=\"visiprog/data/curetaliasfree/images/43-156.png\" width=\"100\" height=\"100\" style=\"display:inline;margin:1px\"/><img src=\"visiprog/data/curetaliasfree/images/43-026.png\" width=\"100\" height=\"100\" style=\"display:inline;margin:1px\"/><img src=\"visiprog/data/curetaliasfree/images/43-017.png\" width=\"100\" height=\"100\" style=\"display:inline;margin:1px\"/><img src=\"visiprog/data/curetaliasfree/images/43-158.png\" width=\"100\" height=\"100\" style=\"display:inline;margin:1px\"/><img src=\"visiprog/data/curetaliasfree/images/43-123.png\" width=\"100\" height=\"100\" style=\"display:inline;margin:1px\"/><img src=\"visiprog/data/curetaliasfree/images/43-071.png\" width=\"100\" height=\"100\" style=\"display:inline;margin:1px\"/><br>43-154.png\t43-155.png\t43-121.png\t43-156.png\t43-026.png\t43-017.png\t43-158.png\t43-123.png\t43-071.png"
      ],
      "text/plain": [
       "<IPython.core.display.HTML object>"
      ]
     },
     "metadata": {},
     "output_type": "display_data"
    }
   ],
   "source": [
    "groups = read_VSP_label()\n",
    "list_img = read_img_list()\n",
    "\n",
    "traces = []\n",
    "\n",
    "group = groups[169]\n",
    "\n",
    "for i in group: \n",
    "    viewing_index = viewing_condition_index(list_img[i])\n",
    "    \n",
    "    illum_x = df_viewing['illum_x'][viewing_index]\n",
    "    illum_y = df_viewing['illum_y'][viewing_index]\n",
    "    illum_z = df_viewing['illum_z'][viewing_index]\n",
    "\n",
    "    view_x = df_viewing['view_x'][viewing_index]\n",
    "    view_y = df_viewing['view_y'][viewing_index]\n",
    "    view_z = df_viewing['view_z'][viewing_index]\n",
    "    \n",
    "    line_x = [illum_x, illum_x, 0, view_x]\n",
    "    line_y = [illum_y - 0.05, illum_y, 0, view_y]\n",
    "    line_z = [illum_z,illum_z, 0, view_z]\n",
    "    \n",
    "    # plotting line\n",
    "    line_scatter = go.Scatter3d(\n",
    "        x=line_x,\n",
    "        y=line_y,\n",
    "        z=line_z,\n",
    "        name=os.path.basename(list_img[i])\n",
    "    )\n",
    "    \n",
    "    traces.append(line_scatter)\n",
    "\n",
    "layout = go.Layout(\n",
    "    title='Angles of VSP group',\n",
    "    autosize=True,\n",
    "    width=900,\n",
    "    height=800,\n",
    "    margin=dict(\n",
    "        l=65,\n",
    "        r=50,\n",
    "        b=65,\n",
    "        t=90\n",
    "    )\n",
    ")\n",
    "fig = go.Figure(data=traces, layout=layout)\n",
    "iplot(fig, filename='vspgroup')\n",
    "\n",
    "# display the images as well\n",
    "display(HTML(''.join(make_image_html(list_img[i]) for i in group) + '<br>' + \\\n",
    "            '\\t'.join(os.path.basename(list_img[i]) for i in group)))"
   ]
  },
  {
   "cell_type": "markdown",
   "metadata": {
    "collapsed": true
   },
   "source": [
    "# Formal analysis using graph and minimum spanning tree"
   ]
  },
  {
   "cell_type": "code",
   "execution_count": 33,
   "metadata": {
    "collapsed": false,
    "scrolled": true
   },
   "outputs": [
    {
     "name": "stdout",
     "output_type": "stream",
     "text": [
      "456\n"
     ]
    }
   ],
   "source": [
    "groups = read_VSP_label(pappas_only=True, sorted_by_material=True)\n",
    "list_img = read_img_list()\n",
    "\n",
    "print(len(groups))\n",
    "\n",
    "mst_distances = []\n",
    "\n",
    "for group in groups:\n",
    "    \n",
    "    # building the weighted undirected graph\n",
    "    G = nx.Graph()\n",
    "    G.add_nodes_from(range(len(group)))\n",
    "\n",
    "    for i in range(len(group)):\n",
    "        index_i = viewing_condition_index(list_img[group[i]])\n",
    "        \n",
    "        illum_x_1 = df_viewing['illum_x'][index_i]\n",
    "        illum_y_1 = df_viewing['illum_y'][index_i]\n",
    "        illum_z_1 = df_viewing['illum_z'][index_i]\n",
    "        \n",
    "        view_x_1 = df_viewing['view_x'][index_i]\n",
    "        view_y_1 = df_viewing['view_y'][index_i]\n",
    "        view_z_1 = df_viewing['view_z'][index_i]\n",
    "        \n",
    "        for j in range(i + 1, len(group)):\n",
    "            index_j = viewing_condition_index(list_img[group[j]])\n",
    "            illum_x_2, illum_y_2, illum_z_2 = polar_to_euclidean(df_viewing['illum_theta'][index_j],df_viewing['illum_phi'][index_j])\n",
    "            view_x_2, view_y_2, view_z_2 = polar_to_euclidean(df_viewing['view_theta'][index_j],df_viewing['view_phi'][index_j])\n",
    "            \n",
    "            weight_illum = angle_between((illum_x_1, illum_y_1, illum_z_1),(illum_x_2, illum_y_2, illum_z_2))\n",
    "            weight_view = angle_between((view_x_1, view_y_1, view_z_1),(view_x_2, view_y_2, view_z_2))\n",
    "        \n",
    "            G.add_edge(i, j, weight=weight_illum)\n",
    "            G.add_edge(i, j, weight=weight_view)\n",
    "            \n",
    "#     print(G.edges(data=True))\n",
    "#     print(\"\\n\\nSorting the MST\\n\\n\")\n",
    "    \n",
    "    # minimum spanning tree\n",
    "    mst=nx.minimum_spanning_edges(G,data=True)\n",
    "    \n",
    "    distances = []\n",
    "    for e in mst:\n",
    "        distances.append(e[2]['weight'])\n",
    "        \n",
    "    mst_distances.append(distances)"
   ]
  },
  {
   "cell_type": "code",
   "execution_count": 20,
   "metadata": {
    "collapsed": false
   },
   "outputs": [
    {
     "name": "stdout",
     "output_type": "stream",
     "text": [
      "(456, 8)\n"
     ]
    }
   ],
   "source": [
    "mst_out = np.asarray(mst_distances)\n",
    "np.savetxt('mst_distances.csv', mst_out, fmt='%.4f', delimiter=',')\n",
    "print(mst_out.shape)"
   ]
  },
  {
   "cell_type": "code",
   "execution_count": 11,
   "metadata": {
    "collapsed": false
   },
   "outputs": [
    {
     "name": "stdout",
     "output_type": "stream",
     "text": [
      "(604, 8)\n"
     ]
    }
   ],
   "source": []
  },
  {
   "cell_type": "markdown",
   "metadata": {
    "collapsed": true
   },
   "source": [
    "# Formal analysis using graph and VORONOI DIAGRAM\n",
    "\n",
    "Why? Since angle does not explain a lot. It could be better explained through spatial adjacency."
   ]
  },
  {
   "cell_type": "code",
   "execution_count": 56,
   "metadata": {
    "collapsed": false
   },
   "outputs": [
    {
     "name": "stdout",
     "output_type": "stream",
     "text": [
      "(205, 2)\n",
      "[[ 54  99]\n",
      " [ 54  53]\n",
      " [ 54  50]\n",
      " [ 54  52]\n",
      " [ 54  49]\n",
      " [ 54  45]\n",
      " [ 17  28]\n",
      " [ 17  22]\n",
      " [ 17  14]\n",
      " [ 17   2]\n",
      " [ 81  42]\n",
      " [ 81  37]\n",
      " [ 81  28]\n",
      " [ 81  22]\n",
      " [ 42  49]\n",
      " [ 42  37]\n",
      " [ 28  22]\n",
      " [ 28  14]\n",
      " [ 28  26]\n",
      " [ 28  37]\n",
      " [ 65  14]\n",
      " [ 65   2]\n",
      " [ 65   0]\n",
      " [ 65  26]\n",
      " [ 65  73]\n",
      " [ 65   9]\n",
      " [ 14   2]\n",
      " [ 14  26]\n",
      " [  2   0]\n",
      " [  0   1]\n",
      " [  0  12]\n",
      " [  0   9]\n",
      " [  0   3]\n",
      " [ 49  37]\n",
      " [ 49  52]\n",
      " [ 49  91]\n",
      " [135  84]\n",
      " [135  41]\n",
      " [135  45]\n",
      " [135  53]\n",
      " [135  94]\n",
      " [ 45  53]\n",
      " [ 45  50]\n",
      " [ 45  86]\n",
      " [ 45  84]\n",
      " [ 53  99]\n",
      " [ 94  99]\n",
      " [ 94  39]\n",
      " [132  50]\n",
      " [132  86]\n",
      " [132 161]\n",
      " [132  52]\n",
      " [132  95]\n",
      " [ 50  52]\n",
      " [ 50  86]\n",
      " [ 52  91]\n",
      " [ 52  95]\n",
      " [  3  12]\n",
      " [  3   1]\n",
      " [  3  15]\n",
      " [  3 145]\n",
      " [ 82  79]\n",
      " [ 82  40]\n",
      " [ 82  73]\n",
      " [ 82  95]\n",
      " [ 82  91]\n",
      " [ 82  26]\n",
      " [ 82  37]\n",
      " [ 40  79]\n",
      " [ 40 161]\n",
      " [ 40  95]\n",
      " [ 73   9]\n",
      " [ 73  20]\n",
      " [ 73  79]\n",
      " [ 73  26]\n",
      " [ 95 161]\n",
      " [ 95  91]\n",
      " [ 91  37]\n",
      " [ 26  37]\n",
      " [ 80  84]\n",
      " [ 80  41]\n",
      " [ 80  75]\n",
      " [ 80  21]\n",
      " [ 80  30]\n",
      " [ 41  39]\n",
      " [ 41  84]\n",
      " [ 21  19]\n",
      " [ 21  10]\n",
      " [ 21  13]\n",
      " [ 21  75]\n",
      " [ 30  39]\n",
      " [ 30  19]\n",
      " [ 19   1]\n",
      " [ 19  10]\n",
      " [  4  10]\n",
      " [  4   1]\n",
      " [  4   6]\n",
      " [  4   8]\n",
      " [  4   7]\n",
      " [  4 145]\n",
      " [ 10  13]\n",
      " [ 10   1]\n",
      " [ 10   6]\n",
      " [  1 145]\n",
      " [  6  13]\n",
      " [  6   8]\n",
      " [ 24 121]\n",
      " [ 24  12]\n",
      " [ 24 161]\n",
      " [ 24   9]\n",
      " [ 24  20]\n",
      " [ 24  79]\n",
      " [ 12   9]\n",
      " [ 12  15]\n",
      " [ 12 121]\n",
      " [161  79]\n",
      " [161 121]\n",
      " [161  86]\n",
      " [  9  20]\n",
      " [ 20  79]\n",
      " [145  15]\n",
      " [145   7]\n",
      " [145 116]\n",
      " [ 78 121]\n",
      " [ 78  15]\n",
      " [ 78 116]\n",
      " [ 78  84]\n",
      " [ 78  86]\n",
      " [ 78  75]\n",
      " [121  86]\n",
      " [121  15]\n",
      " [ 15 116]\n",
      " [ 84  86]\n",
      " [ 84  75]\n",
      " [ 16 116]\n",
      " [ 16   7]\n",
      " [ 16   8]\n",
      " [ 16  13]\n",
      " [ 16  75]\n",
      " [116   7]\n",
      " [116  75]\n",
      " [  7   8]\n",
      " [  8  13]\n",
      " [ 13  75]]\n"
     ]
    }
   ],
   "source": [
    "# building spatial graph for illumination angles\n",
    "illum_points = df_viewing[['illum_theta', 'illum_phi']].as_matrix()\n",
    "print(illum_points.shape)\n",
    "\n",
    "\n",
    "illum_vor = Voronoi(illum_points)\n",
    "print(illum_vor.ridge_points)\n",
    "illum_edges = illum_vor.ridge_points\n",
    "\n",
    "# illum_vor = SphericalVoronoi(illum_points, radius=1, center=np.array([0,0,0]))\n",
    "\n",
    "# print(illum_vor.vertices)"
   ]
  },
  {
   "cell_type": "code",
   "execution_count": 47,
   "metadata": {
    "collapsed": false
   },
   "outputs": [
    {
     "name": "stdout",
     "output_type": "stream",
     "text": [
      "Warning: Cannot change to a different GUI toolkit: notebook. Using qt instead.\n"
     ]
    },
    {
     "ename": "ImportError",
     "evalue": "No module named 'PyQt4'",
     "output_type": "error",
     "traceback": [
      "\u001b[0;31m---------------------------------------------------------------------------\u001b[0m",
      "\u001b[0;31mImportError\u001b[0m                               Traceback (most recent call last)",
      "\u001b[0;32m<ipython-input-47-2ba85fee86f3>\u001b[0m in \u001b[0;36m<module>\u001b[0;34m()\u001b[0m\n\u001b[1;32m      2\u001b[0m \u001b[0mpoints\u001b[0m \u001b[0;34m=\u001b[0m \u001b[0millum_points\u001b[0m\u001b[0;34m\u001b[0m\u001b[0m\n\u001b[1;32m      3\u001b[0m \u001b[0;34m\u001b[0m\u001b[0m\n\u001b[0;32m----> 4\u001b[0;31m \u001b[0mget_ipython\u001b[0m\u001b[0;34m(\u001b[0m\u001b[0;34m)\u001b[0m\u001b[0;34m.\u001b[0m\u001b[0mmagic\u001b[0m\u001b[0;34m(\u001b[0m\u001b[0;34m'matplotlib notebook'\u001b[0m\u001b[0;34m)\u001b[0m\u001b[0;34m\u001b[0m\u001b[0m\n\u001b[0m\u001b[1;32m      5\u001b[0m \u001b[0;32mimport\u001b[0m \u001b[0mmatplotlib\u001b[0m\u001b[0;34m.\u001b[0m\u001b[0mpyplot\u001b[0m \u001b[0;32mas\u001b[0m \u001b[0mplt\u001b[0m\u001b[0;34m\u001b[0m\u001b[0m\n\u001b[1;32m      6\u001b[0m \u001b[0;34m\u001b[0m\u001b[0m\n",
      "\u001b[0;32m/Users/andrey/anaconda/envs/py34/lib/python3.4/site-packages/IPython/core/interactiveshell.py\u001b[0m in \u001b[0;36mmagic\u001b[0;34m(self, arg_s)\u001b[0m\n\u001b[1;32m   2156\u001b[0m         \u001b[0mmagic_name\u001b[0m\u001b[0;34m,\u001b[0m \u001b[0m_\u001b[0m\u001b[0;34m,\u001b[0m \u001b[0mmagic_arg_s\u001b[0m \u001b[0;34m=\u001b[0m \u001b[0marg_s\u001b[0m\u001b[0;34m.\u001b[0m\u001b[0mpartition\u001b[0m\u001b[0;34m(\u001b[0m\u001b[0;34m' '\u001b[0m\u001b[0;34m)\u001b[0m\u001b[0;34m\u001b[0m\u001b[0m\n\u001b[1;32m   2157\u001b[0m         \u001b[0mmagic_name\u001b[0m \u001b[0;34m=\u001b[0m \u001b[0mmagic_name\u001b[0m\u001b[0;34m.\u001b[0m\u001b[0mlstrip\u001b[0m\u001b[0;34m(\u001b[0m\u001b[0mprefilter\u001b[0m\u001b[0;34m.\u001b[0m\u001b[0mESC_MAGIC\u001b[0m\u001b[0;34m)\u001b[0m\u001b[0;34m\u001b[0m\u001b[0m\n\u001b[0;32m-> 2158\u001b[0;31m         \u001b[0;32mreturn\u001b[0m \u001b[0mself\u001b[0m\u001b[0;34m.\u001b[0m\u001b[0mrun_line_magic\u001b[0m\u001b[0;34m(\u001b[0m\u001b[0mmagic_name\u001b[0m\u001b[0;34m,\u001b[0m \u001b[0mmagic_arg_s\u001b[0m\u001b[0;34m)\u001b[0m\u001b[0;34m\u001b[0m\u001b[0m\n\u001b[0m\u001b[1;32m   2159\u001b[0m \u001b[0;34m\u001b[0m\u001b[0m\n\u001b[1;32m   2160\u001b[0m     \u001b[0;31m#-------------------------------------------------------------------------\u001b[0m\u001b[0;34m\u001b[0m\u001b[0;34m\u001b[0m\u001b[0m\n",
      "\u001b[0;32m/Users/andrey/anaconda/envs/py34/lib/python3.4/site-packages/IPython/core/interactiveshell.py\u001b[0m in \u001b[0;36mrun_line_magic\u001b[0;34m(self, magic_name, line)\u001b[0m\n\u001b[1;32m   2077\u001b[0m                 \u001b[0mkwargs\u001b[0m\u001b[0;34m[\u001b[0m\u001b[0;34m'local_ns'\u001b[0m\u001b[0;34m]\u001b[0m \u001b[0;34m=\u001b[0m \u001b[0msys\u001b[0m\u001b[0;34m.\u001b[0m\u001b[0m_getframe\u001b[0m\u001b[0;34m(\u001b[0m\u001b[0mstack_depth\u001b[0m\u001b[0;34m)\u001b[0m\u001b[0;34m.\u001b[0m\u001b[0mf_locals\u001b[0m\u001b[0;34m\u001b[0m\u001b[0m\n\u001b[1;32m   2078\u001b[0m             \u001b[0;32mwith\u001b[0m \u001b[0mself\u001b[0m\u001b[0;34m.\u001b[0m\u001b[0mbuiltin_trap\u001b[0m\u001b[0;34m:\u001b[0m\u001b[0;34m\u001b[0m\u001b[0m\n\u001b[0;32m-> 2079\u001b[0;31m                 \u001b[0mresult\u001b[0m \u001b[0;34m=\u001b[0m \u001b[0mfn\u001b[0m\u001b[0;34m(\u001b[0m\u001b[0;34m*\u001b[0m\u001b[0margs\u001b[0m\u001b[0;34m,\u001b[0m\u001b[0;34m**\u001b[0m\u001b[0mkwargs\u001b[0m\u001b[0;34m)\u001b[0m\u001b[0;34m\u001b[0m\u001b[0m\n\u001b[0m\u001b[1;32m   2080\u001b[0m             \u001b[0;32mreturn\u001b[0m \u001b[0mresult\u001b[0m\u001b[0;34m\u001b[0m\u001b[0m\n\u001b[1;32m   2081\u001b[0m \u001b[0;34m\u001b[0m\u001b[0m\n",
      "\u001b[0;32m<decorator-gen-104>\u001b[0m in \u001b[0;36mmatplotlib\u001b[0;34m(self, line)\u001b[0m\n",
      "\u001b[0;32m/Users/andrey/anaconda/envs/py34/lib/python3.4/site-packages/IPython/core/magic.py\u001b[0m in \u001b[0;36m<lambda>\u001b[0;34m(f, *a, **k)\u001b[0m\n\u001b[1;32m    186\u001b[0m     \u001b[0;31m# but it's overkill for just that one bit of state.\u001b[0m\u001b[0;34m\u001b[0m\u001b[0;34m\u001b[0m\u001b[0m\n\u001b[1;32m    187\u001b[0m     \u001b[0;32mdef\u001b[0m \u001b[0mmagic_deco\u001b[0m\u001b[0;34m(\u001b[0m\u001b[0marg\u001b[0m\u001b[0;34m)\u001b[0m\u001b[0;34m:\u001b[0m\u001b[0;34m\u001b[0m\u001b[0m\n\u001b[0;32m--> 188\u001b[0;31m         \u001b[0mcall\u001b[0m \u001b[0;34m=\u001b[0m \u001b[0;32mlambda\u001b[0m \u001b[0mf\u001b[0m\u001b[0;34m,\u001b[0m \u001b[0;34m*\u001b[0m\u001b[0ma\u001b[0m\u001b[0;34m,\u001b[0m \u001b[0;34m**\u001b[0m\u001b[0mk\u001b[0m\u001b[0;34m:\u001b[0m \u001b[0mf\u001b[0m\u001b[0;34m(\u001b[0m\u001b[0;34m*\u001b[0m\u001b[0ma\u001b[0m\u001b[0;34m,\u001b[0m \u001b[0;34m**\u001b[0m\u001b[0mk\u001b[0m\u001b[0;34m)\u001b[0m\u001b[0;34m\u001b[0m\u001b[0m\n\u001b[0m\u001b[1;32m    189\u001b[0m \u001b[0;34m\u001b[0m\u001b[0m\n\u001b[1;32m    190\u001b[0m         \u001b[0;32mif\u001b[0m \u001b[0mcallable\u001b[0m\u001b[0;34m(\u001b[0m\u001b[0marg\u001b[0m\u001b[0;34m)\u001b[0m\u001b[0;34m:\u001b[0m\u001b[0;34m\u001b[0m\u001b[0m\n",
      "\u001b[0;32m/Users/andrey/anaconda/envs/py34/lib/python3.4/site-packages/IPython/core/magics/pylab.py\u001b[0m in \u001b[0;36mmatplotlib\u001b[0;34m(self, line)\u001b[0m\n\u001b[1;32m     98\u001b[0m             \u001b[0mprint\u001b[0m\u001b[0;34m(\u001b[0m\u001b[0;34m\"Available matplotlib backends: %s\"\u001b[0m \u001b[0;34m%\u001b[0m \u001b[0mbackends_list\u001b[0m\u001b[0;34m)\u001b[0m\u001b[0;34m\u001b[0m\u001b[0m\n\u001b[1;32m     99\u001b[0m         \u001b[0;32melse\u001b[0m\u001b[0;34m:\u001b[0m\u001b[0;34m\u001b[0m\u001b[0m\n\u001b[0;32m--> 100\u001b[0;31m             \u001b[0mgui\u001b[0m\u001b[0;34m,\u001b[0m \u001b[0mbackend\u001b[0m \u001b[0;34m=\u001b[0m \u001b[0mself\u001b[0m\u001b[0;34m.\u001b[0m\u001b[0mshell\u001b[0m\u001b[0;34m.\u001b[0m\u001b[0menable_matplotlib\u001b[0m\u001b[0;34m(\u001b[0m\u001b[0margs\u001b[0m\u001b[0;34m.\u001b[0m\u001b[0mgui\u001b[0m\u001b[0;34m)\u001b[0m\u001b[0;34m\u001b[0m\u001b[0m\n\u001b[0m\u001b[1;32m    101\u001b[0m             \u001b[0mself\u001b[0m\u001b[0;34m.\u001b[0m\u001b[0m_show_matplotlib_backend\u001b[0m\u001b[0;34m(\u001b[0m\u001b[0margs\u001b[0m\u001b[0;34m.\u001b[0m\u001b[0mgui\u001b[0m\u001b[0;34m,\u001b[0m \u001b[0mbackend\u001b[0m\u001b[0;34m)\u001b[0m\u001b[0;34m\u001b[0m\u001b[0m\n\u001b[1;32m    102\u001b[0m \u001b[0;34m\u001b[0m\u001b[0m\n",
      "\u001b[0;32m/Users/andrey/anaconda/envs/py34/lib/python3.4/site-packages/IPython/core/interactiveshell.py\u001b[0m in \u001b[0;36menable_matplotlib\u001b[0;34m(self, gui)\u001b[0m\n\u001b[1;32m   2945\u001b[0m                 \u001b[0mgui\u001b[0m\u001b[0;34m,\u001b[0m \u001b[0mbackend\u001b[0m \u001b[0;34m=\u001b[0m \u001b[0mpt\u001b[0m\u001b[0;34m.\u001b[0m\u001b[0mfind_gui_and_backend\u001b[0m\u001b[0;34m(\u001b[0m\u001b[0mself\u001b[0m\u001b[0;34m.\u001b[0m\u001b[0mpylab_gui_select\u001b[0m\u001b[0;34m)\u001b[0m\u001b[0;34m\u001b[0m\u001b[0m\n\u001b[1;32m   2946\u001b[0m \u001b[0;34m\u001b[0m\u001b[0m\n\u001b[0;32m-> 2947\u001b[0;31m         \u001b[0mpt\u001b[0m\u001b[0;34m.\u001b[0m\u001b[0mactivate_matplotlib\u001b[0m\u001b[0;34m(\u001b[0m\u001b[0mbackend\u001b[0m\u001b[0;34m)\u001b[0m\u001b[0;34m\u001b[0m\u001b[0m\n\u001b[0m\u001b[1;32m   2948\u001b[0m         \u001b[0mpt\u001b[0m\u001b[0;34m.\u001b[0m\u001b[0mconfigure_inline_support\u001b[0m\u001b[0;34m(\u001b[0m\u001b[0mself\u001b[0m\u001b[0;34m,\u001b[0m \u001b[0mbackend\u001b[0m\u001b[0;34m)\u001b[0m\u001b[0;34m\u001b[0m\u001b[0m\n\u001b[1;32m   2949\u001b[0m \u001b[0;34m\u001b[0m\u001b[0m\n",
      "\u001b[0;32m/Users/andrey/anaconda/envs/py34/lib/python3.4/site-packages/IPython/core/pylabtools.py\u001b[0m in \u001b[0;36mactivate_matplotlib\u001b[0;34m(backend)\u001b[0m\n\u001b[1;32m    293\u001b[0m \u001b[0;34m\u001b[0m\u001b[0m\n\u001b[1;32m    294\u001b[0m     \u001b[0;32mimport\u001b[0m \u001b[0mmatplotlib\u001b[0m\u001b[0;34m.\u001b[0m\u001b[0mpyplot\u001b[0m\u001b[0;34m\u001b[0m\u001b[0m\n\u001b[0;32m--> 295\u001b[0;31m     \u001b[0mmatplotlib\u001b[0m\u001b[0;34m.\u001b[0m\u001b[0mpyplot\u001b[0m\u001b[0;34m.\u001b[0m\u001b[0mswitch_backend\u001b[0m\u001b[0;34m(\u001b[0m\u001b[0mbackend\u001b[0m\u001b[0;34m)\u001b[0m\u001b[0;34m\u001b[0m\u001b[0m\n\u001b[0m\u001b[1;32m    296\u001b[0m \u001b[0;34m\u001b[0m\u001b[0m\n\u001b[1;32m    297\u001b[0m     \u001b[0;31m# This must be imported last in the matplotlib series, after\u001b[0m\u001b[0;34m\u001b[0m\u001b[0;34m\u001b[0m\u001b[0m\n",
      "\u001b[0;32m/Users/andrey/anaconda/envs/py34/lib/python3.4/site-packages/matplotlib/pyplot.py\u001b[0m in \u001b[0;36mswitch_backend\u001b[0;34m(newbackend)\u001b[0m\n\u001b[1;32m    231\u001b[0m     \u001b[0mmatplotlib\u001b[0m\u001b[0;34m.\u001b[0m\u001b[0muse\u001b[0m\u001b[0;34m(\u001b[0m\u001b[0mnewbackend\u001b[0m\u001b[0;34m,\u001b[0m \u001b[0mwarn\u001b[0m\u001b[0;34m=\u001b[0m\u001b[0;32mFalse\u001b[0m\u001b[0;34m,\u001b[0m \u001b[0mforce\u001b[0m\u001b[0;34m=\u001b[0m\u001b[0;32mTrue\u001b[0m\u001b[0;34m)\u001b[0m\u001b[0;34m\u001b[0m\u001b[0m\n\u001b[1;32m    232\u001b[0m     \u001b[0;32mfrom\u001b[0m \u001b[0mmatplotlib\u001b[0m\u001b[0;34m.\u001b[0m\u001b[0mbackends\u001b[0m \u001b[0;32mimport\u001b[0m \u001b[0mpylab_setup\u001b[0m\u001b[0;34m\u001b[0m\u001b[0m\n\u001b[0;32m--> 233\u001b[0;31m     \u001b[0m_backend_mod\u001b[0m\u001b[0;34m,\u001b[0m \u001b[0mnew_figure_manager\u001b[0m\u001b[0;34m,\u001b[0m \u001b[0mdraw_if_interactive\u001b[0m\u001b[0;34m,\u001b[0m \u001b[0m_show\u001b[0m \u001b[0;34m=\u001b[0m \u001b[0mpylab_setup\u001b[0m\u001b[0;34m(\u001b[0m\u001b[0;34m)\u001b[0m\u001b[0;34m\u001b[0m\u001b[0m\n\u001b[0m\u001b[1;32m    234\u001b[0m \u001b[0;34m\u001b[0m\u001b[0m\n\u001b[1;32m    235\u001b[0m \u001b[0;34m\u001b[0m\u001b[0m\n",
      "\u001b[0;32m/Users/andrey/anaconda/envs/py34/lib/python3.4/site-packages/matplotlib/backends/__init__.py\u001b[0m in \u001b[0;36mpylab_setup\u001b[0;34m()\u001b[0m\n\u001b[1;32m     30\u001b[0m     \u001b[0;31m# imports. 0 means only perform absolute imports.\u001b[0m\u001b[0;34m\u001b[0m\u001b[0;34m\u001b[0m\u001b[0m\n\u001b[1;32m     31\u001b[0m     backend_mod = __import__(backend_name,\n\u001b[0;32m---> 32\u001b[0;31m                              globals(),locals(),[backend_name],0)\n\u001b[0m\u001b[1;32m     33\u001b[0m \u001b[0;34m\u001b[0m\u001b[0m\n\u001b[1;32m     34\u001b[0m     \u001b[0;31m# Things we pull in from all backends\u001b[0m\u001b[0;34m\u001b[0m\u001b[0;34m\u001b[0m\u001b[0m\n",
      "\u001b[0;32m/Users/andrey/anaconda/envs/py34/lib/python3.4/site-packages/matplotlib/backends/backend_qt4agg.py\u001b[0m in \u001b[0;36m<module>\u001b[0;34m()\u001b[0m\n\u001b[1;32m     16\u001b[0m \u001b[0;34m\u001b[0m\u001b[0m\n\u001b[1;32m     17\u001b[0m \u001b[0;34m\u001b[0m\u001b[0m\n\u001b[0;32m---> 18\u001b[0;31m \u001b[0;32mfrom\u001b[0m \u001b[0;34m.\u001b[0m\u001b[0mbackend_qt5agg\u001b[0m \u001b[0;32mimport\u001b[0m \u001b[0mFigureCanvasQTAggBase\u001b[0m \u001b[0;32mas\u001b[0m \u001b[0m_FigureCanvasQTAggBase\u001b[0m\u001b[0;34m\u001b[0m\u001b[0m\n\u001b[0m\u001b[1;32m     19\u001b[0m \u001b[0;34m\u001b[0m\u001b[0m\n\u001b[1;32m     20\u001b[0m \u001b[0;32mfrom\u001b[0m \u001b[0;34m.\u001b[0m\u001b[0mbackend_agg\u001b[0m \u001b[0;32mimport\u001b[0m \u001b[0mFigureCanvasAgg\u001b[0m\u001b[0;34m\u001b[0m\u001b[0m\n",
      "\u001b[0;32m/Users/andrey/anaconda/envs/py34/lib/python3.4/site-packages/matplotlib/backends/backend_qt5agg.py\u001b[0m in \u001b[0;36m<module>\u001b[0;34m()\u001b[0m\n\u001b[1;32m     14\u001b[0m \u001b[0;34m\u001b[0m\u001b[0m\n\u001b[1;32m     15\u001b[0m \u001b[0;32mfrom\u001b[0m \u001b[0;34m.\u001b[0m\u001b[0mbackend_agg\u001b[0m \u001b[0;32mimport\u001b[0m \u001b[0mFigureCanvasAgg\u001b[0m\u001b[0;34m\u001b[0m\u001b[0m\n\u001b[0;32m---> 16\u001b[0;31m \u001b[0;32mfrom\u001b[0m \u001b[0;34m.\u001b[0m\u001b[0mbackend_qt5\u001b[0m \u001b[0;32mimport\u001b[0m \u001b[0mQtCore\u001b[0m\u001b[0;34m\u001b[0m\u001b[0m\n\u001b[0m\u001b[1;32m     17\u001b[0m \u001b[0;32mfrom\u001b[0m \u001b[0;34m.\u001b[0m\u001b[0mbackend_qt5\u001b[0m \u001b[0;32mimport\u001b[0m \u001b[0mQtGui\u001b[0m\u001b[0;34m\u001b[0m\u001b[0m\n\u001b[1;32m     18\u001b[0m \u001b[0;32mfrom\u001b[0m \u001b[0;34m.\u001b[0m\u001b[0mbackend_qt5\u001b[0m \u001b[0;32mimport\u001b[0m \u001b[0mFigureManagerQT\u001b[0m\u001b[0;34m\u001b[0m\u001b[0m\n",
      "\u001b[0;32m/Users/andrey/anaconda/envs/py34/lib/python3.4/site-packages/matplotlib/backends/backend_qt5.py\u001b[0m in \u001b[0;36m<module>\u001b[0;34m()\u001b[0m\n\u001b[1;32m     24\u001b[0m \u001b[0;34m\u001b[0m\u001b[0m\n\u001b[1;32m     25\u001b[0m \u001b[0;32mfrom\u001b[0m \u001b[0mmatplotlib\u001b[0m\u001b[0;34m.\u001b[0m\u001b[0mwidgets\u001b[0m \u001b[0;32mimport\u001b[0m \u001b[0mSubplotTool\u001b[0m\u001b[0;34m\u001b[0m\u001b[0m\n\u001b[0;32m---> 26\u001b[0;31m \u001b[0;32mimport\u001b[0m \u001b[0mmatplotlib\u001b[0m\u001b[0;34m.\u001b[0m\u001b[0mbackends\u001b[0m\u001b[0;34m.\u001b[0m\u001b[0mqt_editor\u001b[0m\u001b[0;34m.\u001b[0m\u001b[0mfigureoptions\u001b[0m \u001b[0;32mas\u001b[0m \u001b[0mfigureoptions\u001b[0m\u001b[0;34m\u001b[0m\u001b[0m\n\u001b[0m\u001b[1;32m     27\u001b[0m \u001b[0;34m\u001b[0m\u001b[0m\n\u001b[1;32m     28\u001b[0m from .qt_compat import (QtCore, QtGui, QtWidgets, _getSaveFileName,\n",
      "\u001b[0;32m/Users/andrey/anaconda/envs/py34/lib/python3.4/site-packages/matplotlib/backends/qt_editor/figureoptions.py\u001b[0m in \u001b[0;36m<module>\u001b[0;34m()\u001b[0m\n\u001b[1;32m     18\u001b[0m \u001b[0;32mimport\u001b[0m \u001b[0mmatplotlib\u001b[0m\u001b[0;34m\u001b[0m\u001b[0m\n\u001b[1;32m     19\u001b[0m \u001b[0;32mfrom\u001b[0m \u001b[0mmatplotlib\u001b[0m \u001b[0;32mimport\u001b[0m \u001b[0mcm\u001b[0m\u001b[0;34m,\u001b[0m \u001b[0mmarkers\u001b[0m\u001b[0;34m,\u001b[0m \u001b[0mcolors\u001b[0m \u001b[0;32mas\u001b[0m \u001b[0mmcolors\u001b[0m\u001b[0;34m\u001b[0m\u001b[0m\n\u001b[0;32m---> 20\u001b[0;31m \u001b[0;32mimport\u001b[0m \u001b[0mmatplotlib\u001b[0m\u001b[0;34m.\u001b[0m\u001b[0mbackends\u001b[0m\u001b[0;34m.\u001b[0m\u001b[0mqt_editor\u001b[0m\u001b[0;34m.\u001b[0m\u001b[0mformlayout\u001b[0m \u001b[0;32mas\u001b[0m \u001b[0mformlayout\u001b[0m\u001b[0;34m\u001b[0m\u001b[0m\n\u001b[0m\u001b[1;32m     21\u001b[0m \u001b[0;32mfrom\u001b[0m \u001b[0mmatplotlib\u001b[0m\u001b[0;34m.\u001b[0m\u001b[0mbackends\u001b[0m\u001b[0;34m.\u001b[0m\u001b[0mqt_compat\u001b[0m \u001b[0;32mimport\u001b[0m \u001b[0mQtGui\u001b[0m\u001b[0;34m\u001b[0m\u001b[0m\n\u001b[1;32m     22\u001b[0m \u001b[0;34m\u001b[0m\u001b[0m\n",
      "\u001b[0;32m/Users/andrey/anaconda/envs/py34/lib/python3.4/site-packages/matplotlib/backends/qt_editor/formlayout.py\u001b[0m in \u001b[0;36m<module>\u001b[0;34m()\u001b[0m\n\u001b[1;32m     54\u001b[0m \u001b[0;34m\u001b[0m\u001b[0m\n\u001b[1;32m     55\u001b[0m \u001b[0;32mfrom\u001b[0m \u001b[0mmatplotlib\u001b[0m \u001b[0;32mimport\u001b[0m \u001b[0mcolors\u001b[0m \u001b[0;32mas\u001b[0m \u001b[0mmcolors\u001b[0m\u001b[0;34m\u001b[0m\u001b[0m\n\u001b[0;32m---> 56\u001b[0;31m \u001b[0;32mfrom\u001b[0m \u001b[0mmatplotlib\u001b[0m\u001b[0;34m.\u001b[0m\u001b[0mbackends\u001b[0m\u001b[0;34m.\u001b[0m\u001b[0mqt_compat\u001b[0m \u001b[0;32mimport\u001b[0m \u001b[0mQtGui\u001b[0m\u001b[0;34m,\u001b[0m \u001b[0mQtWidgets\u001b[0m\u001b[0;34m,\u001b[0m \u001b[0mQtCore\u001b[0m\u001b[0;34m\u001b[0m\u001b[0m\n\u001b[0m\u001b[1;32m     57\u001b[0m \u001b[0;34m\u001b[0m\u001b[0m\n\u001b[1;32m     58\u001b[0m \u001b[0;34m\u001b[0m\u001b[0m\n",
      "\u001b[0;32m/Users/andrey/anaconda/envs/py34/lib/python3.4/site-packages/matplotlib/backends/qt_compat.py\u001b[0m in \u001b[0;36m<module>\u001b[0;34m()\u001b[0m\n\u001b[1;32m    135\u001b[0m     \u001b[0;31m# have been changed in the above if block\u001b[0m\u001b[0;34m\u001b[0m\u001b[0;34m\u001b[0m\u001b[0m\n\u001b[1;32m    136\u001b[0m     \u001b[0;32mif\u001b[0m \u001b[0mQT_API\u001b[0m \u001b[0;32min\u001b[0m \u001b[0;34m[\u001b[0m\u001b[0mQT_API_PYQT\u001b[0m\u001b[0;34m,\u001b[0m \u001b[0mQT_API_PYQTv2\u001b[0m\u001b[0;34m]\u001b[0m\u001b[0;34m:\u001b[0m  \u001b[0;31m# PyQt4 API\u001b[0m\u001b[0;34m\u001b[0m\u001b[0m\n\u001b[0;32m--> 137\u001b[0;31m         \u001b[0;32mfrom\u001b[0m \u001b[0mPyQt4\u001b[0m \u001b[0;32mimport\u001b[0m \u001b[0mQtCore\u001b[0m\u001b[0;34m,\u001b[0m \u001b[0mQtGui\u001b[0m\u001b[0;34m\u001b[0m\u001b[0m\n\u001b[0m\u001b[1;32m    138\u001b[0m \u001b[0;34m\u001b[0m\u001b[0m\n\u001b[1;32m    139\u001b[0m         \u001b[0;32mtry\u001b[0m\u001b[0;34m:\u001b[0m\u001b[0;34m\u001b[0m\u001b[0m\n",
      "\u001b[0;31mImportError\u001b[0m: No module named 'PyQt4'"
     ]
    }
   ],
   "source": [
    "sv = illum_vor\n",
    "points = illum_points\n",
    "\n",
    "%matplotlib notebook\n",
    "import matplotlib.pyplot as plt\n",
    "\n",
    "import scipy\n",
    "from matplotlib import colors\n",
    "from mpl_toolkits.mplot3d.art3d import Poly3DCollection\n",
    "\n",
    "fig = plt.figure()\n",
    "ax = fig.add_subplot('111', projection='3d')\n",
    "# ax.plot_surface(x, y, z, rstride=5, cstride=5, color='y', alpha=0.1)\n",
    "# ax.scatter(points[:,0], points[:,1], points[:,2])\n",
    "\n",
    "# sv.sort_vertices_of_regions()\n",
    "# this is not yet completely accurate\n",
    "for n in range(0, len(sv.regions)):\n",
    "    region = sv.regions[n]\n",
    "    ax.scatter(points[n, 0], points[n, 1], points[n, 2], c='b')\n",
    "    random_color = colors.rgb2hex(scipy.rand(3))\n",
    "    polygon = Poly3DCollection([sv.vertices[region]], alpha=1.0)\n",
    "    polygon.set_color(random_color)\n",
    "    ax.add_collection3d(polygon)"
   ]
  },
  {
   "cell_type": "code",
   "execution_count": 57,
   "metadata": {
    "collapsed": false
   },
   "outputs": [],
   "source": [
    "traces = []\n",
    "\n",
    "for edge in illum_edges:\n",
    "    \n",
    "    i1 = edge[0]\n",
    "    i2 = edge[1]\n",
    "    \n",
    "    illum_x_1, illum_y_1, illum_z_1 = polar_to_euclidean(df_viewing['illum_theta'].iloc[i1],df_viewing['illum_phi'].iloc[i1])\n",
    "    illum_x_2, illum_y_2, illum_z_2 = polar_to_euclidean(df_viewing['illum_theta'].iloc[i2],df_viewing['illum_phi'].iloc[i2])\n",
    "    \n",
    "    line_x = [illum_x_1, illum_x_2]\n",
    "    line_y = [illum_y_1, illum_y_2]\n",
    "    line_z = [illum_z_1, illum_z_2]\n",
    "    \n",
    "    line_spatial_adjacent = go.Scatter3d(\n",
    "        x=line_x,\n",
    "        y=line_y,\n",
    "        z=line_z\n",
    "    )\n",
    "    \n",
    "    traces.append(line_spatial_adjacent)"
   ]
  },
  {
   "cell_type": "code",
   "execution_count": 58,
   "metadata": {
    "collapsed": false
   },
   "outputs": [
    {
     "data": {
      "application/vnd.plotly.v1+json": {
       "data": [
        {
         "type": "scatter3d",
         "x": [
          0,
          -0.1950897915589948
         ],
         "y": [
          0,
          -6.758109500328984e-08
         ],
         "z": [
          1,
          0.9807853859175633
         ]
        },
        {
         "type": "scatter3d",
         "x": [
          0,
          0.1950897915590065
         ],
         "y": [
          0,
          0
         ],
         "z": [
          1,
          0.9807853859175633
         ]
        },
        {
         "type": "scatter3d",
         "x": [
          0,
          0.20280288969962867
         ],
         "y": [
          0,
          -0.19462654797231552
         ],
         "z": [
          1,
          0.9596830178521761
         ]
        },
        {
         "type": "scatter3d",
         "x": [
          0,
          6.375434829149114e-08
         ],
         "y": [
          0,
          -0.19508979155899608
         ],
         "z": [
          1,
          0.9807853859175633
         ]
        },
        {
         "type": "scatter3d",
         "x": [
          0,
          -0.20280295712023924
         ],
         "y": [
          0,
          -0.19462647771931285
         ],
         "z": [
          1,
          0.9596830178521761
         ]
        },
        {
         "type": "scatter3d",
         "x": [
          0,
          0.41373865644490737
         ],
         "y": [
          0,
          -0.19013346548902246
         ],
         "z": [
          1,
          0.8903199365757781
         ]
        },
        {
         "type": "scatter3d",
         "x": [
          -0.8320509677633564,
          -0.7071064774765927
         ],
         "y": [
          -0.3547873108815692,
          -0.3015108633612091
         ],
         "z": [
          0.4264002240635982,
          0.6396027116779784
         ]
        },
        {
         "type": "scatter3d",
         "x": [
          -0.8320509677633564,
          -0.8068984638841425
         ],
         "y": [
          -0.3547873108815692,
          -0.12482746365962312
         ],
         "z": [
          0.4264002240635982,
          0.5773499573895512
         ]
        },
        {
         "type": "scatter3d",
         "x": [
          -0.8320509677633564,
          -0.7071065237241335
         ],
         "y": [
          -0.3547873108815692,
          -0.5773505899949206
         ],
         "z": [
          0.4264002240635982,
          0.408248282714439
         ]
        },
        {
         "type": "scatter3d",
         "x": [
          -0.8320509677633564,
          -0.7071068980068338
         ],
         "y": [
          -0.3547873108815692,
          -0.6785982161419142
         ],
         "z": [
          0.4264002240635982,
          0.19875687620851
         ]
        },
        {
         "type": "scatter3d",
         "x": [
          -0.5906901877678383,
          -0.4137387223090556
         ],
         "y": [
          -0.17051805072908632,
          -0.19013332216571754
         ],
         "z": [
          0.7886752794720706,
          0.8903199365757781
         ]
        },
        {
         "type": "scatter3d",
         "x": [
          -0.5906901877678383,
          -0.44721298276616256
         ],
         "y": [
          -0.17051805072908632,
          -0.36514820722282626
         ],
         "z": [
          0.7886752794720706,
          0.8164969900785599
         ]
        },
        {
         "type": "scatter3d",
         "x": [
          -0.5906901877678383,
          -0.7071064774765927
         ],
         "y": [
          -0.17051805072908632,
          -0.3015108633612091
         ],
         "z": [
          0.7886752794720706,
          0.6396027116779784
         ]
        },
        {
         "type": "scatter3d",
         "x": [
          -0.5906901877678383,
          -0.8068984638841425
         ],
         "y": [
          -0.17051805072908632,
          -0.12482746365962312
         ],
         "z": [
          0.7886752794720706,
          0.5773499573895512
         ]
        },
        {
         "type": "scatter3d",
         "x": [
          -0.4137387223090556,
          -0.20280295712023924
         ],
         "y": [
          -0.19013332216571754,
          -0.19462647771931285
         ],
         "z": [
          0.8903199365757781,
          0.9596830178521761
         ]
        },
        {
         "type": "scatter3d",
         "x": [
          -0.4137387223090556,
          -0.44721298276616256
         ],
         "y": [
          -0.19013332216571754,
          -0.36514820722282626
         ],
         "z": [
          0.8903199365757781,
          0.8164969900785599
         ]
        },
        {
         "type": "scatter3d",
         "x": [
          -0.7071064774765927,
          -0.8068984638841425
         ],
         "y": [
          -0.3015108633612091,
          -0.12482746365962312
         ],
         "z": [
          0.6396027116779784,
          0.5773499573895512
         ]
        },
        {
         "type": "scatter3d",
         "x": [
          -0.7071064774765927,
          -0.7071065237241335
         ],
         "y": [
          -0.3015108633612091,
          -0.5773505899949206
         ],
         "z": [
          0.6396027116779784,
          0.408248282714439
         ]
        },
        {
         "type": "scatter3d",
         "x": [
          -0.7071064774765927,
          -0.5546990730736021
         ],
         "y": [
          -0.3015108633612091,
          -0.5321816508913696
         ],
         "z": [
          0.6396027116779784,
          0.6396027116779784
         ]
        },
        {
         "type": "scatter3d",
         "x": [
          -0.7071064774765927,
          -0.44721298276616256
         ],
         "y": [
          -0.3015108633612091,
          -0.36514820722282626
         ],
         "z": [
          0.6396027116779784,
          0.8164969900785599
         ]
        },
        {
         "type": "scatter3d",
         "x": [
          -0.45866600497329046,
          -0.7071065237241335
         ],
         "y": [
          -0.7911463459601596,
          -0.5773505899949206
         ],
         "z": [
          0.4046145760544582,
          0.408248282714439
         ]
        },
        {
         "type": "scatter3d",
         "x": [
          -0.45866600497329046,
          -0.7071068980068338
         ],
         "y": [
          -0.7911463459601596,
          -0.6785982161419142
         ],
         "z": [
          0.4046145760544582,
          0.19875687620851
         ]
        },
        {
         "type": "scatter3d",
         "x": [
          -0.45866600497329046,
          3.205156381002135e-07
         ],
         "y": [
          -0.7911463459601596,
          -0.9807853221631102
         ],
         "z": [
          0.4046145760544582,
          0.1950901120746549
         ]
        },
        {
         "type": "scatter3d",
         "x": [
          -0.45866600497329046,
          -0.5546990730736021
         ],
         "y": [
          -0.7911463459601596,
          -0.5321816508913696
         ],
         "z": [
          0.4046145760544582,
          0.6396027116779784
         ]
        },
        {
         "type": "scatter3d",
         "x": [
          -0.45866600497329046,
          -0.3437238034018253
         ],
         "y": [
          -0.7911463459601596,
          -0.7406220180883545
         ],
         "z": [
          0.4046145760544582,
          0.5773499573895512
         ]
        },
        {
         "type": "scatter3d",
         "x": [
          -0.45866600497329046,
          3.0191921085329833e-07
         ],
         "y": [
          -0.7911463459601596,
          -0.923879821400162
         ],
         "z": [
          0.4046145760544582,
          0.38268273492478555
         ]
        },
        {
         "type": "scatter3d",
         "x": [
          -0.7071065237241335,
          -0.7071068980068338
         ],
         "y": [
          -0.5773505899949206,
          -0.6785982161419142
         ],
         "z": [
          0.408248282714439,
          0.19875687620851
         ]
        },
        {
         "type": "scatter3d",
         "x": [
          -0.7071065237241335,
          -0.5546990730736021
         ],
         "y": [
          -0.5773505899949206,
          -0.5321816508913696
         ],
         "z": [
          0.408248282714439,
          0.6396027116779784
         ]
        },
        {
         "type": "scatter3d",
         "x": [
          -0.7071068980068338,
          3.205156381002135e-07
         ],
         "y": [
          -0.6785982161419142,
          -0.9807853221631102
         ],
         "z": [
          0.19875687620851,
          0.1950901120746549
         ]
        },
        {
         "type": "scatter3d",
         "x": [
          3.205156381002135e-07,
          0.9807853221631626
         ],
         "y": [
          -0.9807853221631102,
          0
         ],
         "z": [
          0.1950901120746549,
          0.1950901120746549
         ]
        },
        {
         "type": "scatter3d",
         "x": [
          3.205156381002135e-07,
          0.4586665220583694
         ],
         "y": [
          -0.9807853221631102,
          -0.7911460461805713
         ],
         "z": [
          0.1950901120746549,
          0.4046145760544582
         ]
        },
        {
         "type": "scatter3d",
         "x": [
          3.205156381002135e-07,
          3.0191921085329833e-07
         ],
         "y": [
          -0.9807853221631102,
          -0.923879821400162
         ],
         "z": [
          0.1950901120746549,
          0.38268273492478555
         ]
        },
        {
         "type": "scatter3d",
         "x": [
          3.205156381002135e-07,
          0.707106662933443
         ],
         "y": [
          -0.9807853221631102,
          -0.6785984610909204
         ],
         "z": [
          0.1950901120746549,
          0.19875687620851
         ]
        },
        {
         "type": "scatter3d",
         "x": [
          -0.20280295712023924,
          -0.44721298276616256
         ],
         "y": [
          -0.19462647771931285,
          -0.36514820722282626
         ],
         "z": [
          0.9596830178521761,
          0.8164969900785599
         ]
        },
        {
         "type": "scatter3d",
         "x": [
          -0.20280295712023924,
          6.375434829149114e-08
         ],
         "y": [
          -0.19462647771931285,
          -0.19508979155899608
         ],
         "z": [
          0.9596830178521761,
          0.9807853859175633
         ]
        },
        {
         "type": "scatter3d",
         "x": [
          -0.20280295712023924,
          -0.22837595262369279
         ],
         "y": [
          -0.19462647771931285,
          -0.3939223715390168
         ],
         "z": [
          0.9596830178521761,
          0.8903199365757781
         ]
        },
        {
         "type": "scatter3d",
         "x": [
          0.38268335688530936,
          0.5906902992165697
         ],
         "y": [
          0,
          -0.1705176646599722
         ],
         "z": [
          0.9238795637760319,
          0.7886752794720706
         ]
        },
        {
         "type": "scatter3d",
         "x": [
          0.38268335688530936,
          0.5555697153896786
         ],
         "y": [
          0,
          0
         ],
         "z": [
          0.9238795637760319,
          0.8314699581715694
         ]
        },
        {
         "type": "scatter3d",
         "x": [
          0.38268335688530936,
          0.41373865644490737
         ],
         "y": [
          0,
          -0.19013346548902246
         ],
         "z": [
          0.9238795637760319,
          0.8903199365757781
         ]
        },
        {
         "type": "scatter3d",
         "x": [
          0.38268335688530936,
          0.1950897915590065
         ],
         "y": [
          0,
          0
         ],
         "z": [
          0.9238795637760319,
          0.9807853859175633
         ]
        },
        {
         "type": "scatter3d",
         "x": [
          0.38268335688530936,
          -0.38268335688528643
         ],
         "y": [
          0,
          -1.325654207284431e-07
         ],
         "z": [
          0.9238795637760319,
          0.9238795637760319
         ]
        },
        {
         "type": "scatter3d",
         "x": [
          0.41373865644490737,
          0.1950897915590065
         ],
         "y": [
          -0.19013346548902246,
          0
         ],
         "z": [
          0.8903199365757781,
          0.9807853859175633
         ]
        },
        {
         "type": "scatter3d",
         "x": [
          0.41373865644490737,
          0.20280288969962867
         ],
         "y": [
          -0.19013346548902246,
          -0.19462654797231552
         ],
         "z": [
          0.8903199365757781,
          0.9596830178521761
         ]
        },
        {
         "type": "scatter3d",
         "x": [
          0.41373865644490737,
          0.4472132214232083
         ],
         "y": [
          -0.19013346548902246,
          -0.3651479149289072
         ],
         "z": [
          0.8903199365757781,
          0.8164969900785599
         ]
        },
        {
         "type": "scatter3d",
         "x": [
          0.41373865644490737,
          0.5906902992165697
         ],
         "y": [
          -0.19013346548902246,
          -0.1705176646599722
         ],
         "z": [
          0.8903199365757781,
          0.7886752794720706
         ]
        },
        {
         "type": "scatter3d",
         "x": [
          0.1950897915590065,
          -0.1950897915589948
         ],
         "y": [
          0,
          -6.758109500328984e-08
         ],
         "z": [
          0.9807853859175633,
          0.9807853859175633
         ]
        },
        {
         "type": "scatter3d",
         "x": [
          -0.38268335688528643,
          -0.1950897915589948
         ],
         "y": [
          -1.325654207284431e-07,
          -6.758109500328984e-08
         ],
         "z": [
          0.9238795637760319,
          0.9807853859175633
         ]
        },
        {
         "type": "scatter3d",
         "x": [
          -0.38268335688528643,
          -0.5555697153896453
         ],
         "y": [
          -1.325654207284431e-07,
          -1.924550198996162e-07
         ],
         "z": [
          0.9238795637760319,
          0.8314699581715694
         ]
        },
        {
         "type": "scatter3d",
         "x": [
          0.22837621008728548,
          0.20280288969962867
         ],
         "y": [
          -0.393922222274741,
          -0.19462654797231552
         ],
         "z": [
          0.8903199365757781,
          0.9596830178521761
         ]
        },
        {
         "type": "scatter3d",
         "x": [
          0.22837621008728548,
          0.4472132214232083
         ],
         "y": [
          -0.393922222274741,
          -0.3651479149289072
         ],
         "z": [
          0.8903199365757781,
          0.8164969900785599
         ]
        },
        {
         "type": "scatter3d",
         "x": [
          0.22837621008728548,
          0.25881928712261626
         ],
         "y": [
          -0.393922222274741,
          -0.5576772186157438
         ],
         "z": [
          0.8903199365757781,
          0.7886752794720706
         ]
        },
        {
         "type": "scatter3d",
         "x": [
          0.22837621008728548,
          6.375434829149114e-08
         ],
         "y": [
          -0.393922222274741,
          -0.19508979155899608
         ],
         "z": [
          0.8903199365757781,
          0.9807853859175633
         ]
        },
        {
         "type": "scatter3d",
         "x": [
          0.22837621008728548,
          1.2505896810517491e-07
         ],
         "y": [
          -0.393922222274741,
          -0.38268335688528893
         ],
         "z": [
          0.8903199365757781,
          0.9238795637760319
         ]
        },
        {
         "type": "scatter3d",
         "x": [
          0.20280288969962867,
          6.375434829149114e-08
         ],
         "y": [
          -0.19462654797231552,
          -0.19508979155899608
         ],
         "z": [
          0.9596830178521761,
          0.9807853859175633
         ]
        },
        {
         "type": "scatter3d",
         "x": [
          0.20280288969962867,
          0.4472132214232083
         ],
         "y": [
          -0.19462654797231552,
          -0.3651479149289072
         ],
         "z": [
          0.9596830178521761,
          0.8164969900785599
         ]
        },
        {
         "type": "scatter3d",
         "x": [
          6.375434829149114e-08,
          -0.22837595262369279
         ],
         "y": [
          -0.19508979155899608,
          -0.3939223715390168
         ],
         "z": [
          0.9807853859175633,
          0.8903199365757781
         ]
        },
        {
         "type": "scatter3d",
         "x": [
          6.375434829149114e-08,
          1.2505896810517491e-07
         ],
         "y": [
          -0.19508979155899608,
          -0.38268335688528893
         ],
         "z": [
          0.9807853859175633,
          0.9238795637760319
         ]
        },
        {
         "type": "scatter3d",
         "x": [
          0.707106662933443,
          0.4586665220583694
         ],
         "y": [
          -0.6785984610909204,
          -0.7911460461805713
         ],
         "z": [
          0.19875687620851,
          0.4046145760544582
         ]
        },
        {
         "type": "scatter3d",
         "x": [
          0.707106662933443,
          0.9807853221631626
         ],
         "y": [
          -0.6785984610909204,
          0
         ],
         "z": [
          0.19875687620851,
          0.1950901120746549
         ]
        },
        {
         "type": "scatter3d",
         "x": [
          0.707106662933443,
          0.7071069010744352
         ],
         "y": [
          -0.6785984610909204,
          -0.5773501278371904
         ],
         "z": [
          0.19875687620851,
          0.408248282714439
         ]
        },
        {
         "type": "scatter3d",
         "x": [
          0.707106662933443,
          0.8886086758917745
         ],
         "y": [
          -0.6785984610909204,
          -0.40835982903476237
         ],
         "z": [
          0.19875687620851,
          0.20884652537345866
         ]
        },
        {
         "type": "scatter3d",
         "x": [
          -0.25881892263042294,
          2.3107884979857942e-07
         ],
         "y": [
          -0.557677387777269,
          -0.7071066656470566
         ],
         "z": [
          0.7886752794720706,
          0.7071068967259819
         ]
        },
        {
         "type": "scatter3d",
         "x": [
          -0.25881892263042294,
          1.8155734778385425e-07
         ],
         "y": [
          -0.557677387777269,
          -0.5555697153896489
         ],
         "z": [
          0.7886752794720706,
          0.8314699581715694
         ]
        },
        {
         "type": "scatter3d",
         "x": [
          -0.25881892263042294,
          -0.3437238034018253
         ],
         "y": [
          -0.557677387777269,
          -0.7406220180883545
         ],
         "z": [
          0.7886752794720706,
          0.5773499573895512
         ]
        },
        {
         "type": "scatter3d",
         "x": [
          -0.25881892263042294,
          1.2505896810517491e-07
         ],
         "y": [
          -0.557677387777269,
          -0.38268335688528893
         ],
         "z": [
          0.7886752794720706,
          0.9238795637760319
         ]
        },
        {
         "type": "scatter3d",
         "x": [
          -0.25881892263042294,
          -0.22837595262369279
         ],
         "y": [
          -0.557677387777269,
          -0.3939223715390168
         ],
         "z": [
          0.7886752794720706,
          0.8903199365757781
         ]
        },
        {
         "type": "scatter3d",
         "x": [
          -0.25881892263042294,
          -0.5546990730736021
         ],
         "y": [
          -0.557677387777269,
          -0.5321816508913696
         ],
         "z": [
          0.7886752794720706,
          0.6396027116779784
         ]
        },
        {
         "type": "scatter3d",
         "x": [
          -0.25881892263042294,
          -0.44721298276616256
         ],
         "y": [
          -0.557677387777269,
          -0.36514820722282626
         ],
         "z": [
          0.7886752794720706,
          0.8164969900785599
         ]
        },
        {
         "type": "scatter3d",
         "x": [
          1.8155734778385425e-07,
          2.3107884979857942e-07
         ],
         "y": [
          -0.5555697153896489,
          -0.7071066656470566
         ],
         "z": [
          0.8314699581715694,
          0.7071068967259819
         ]
        },
        {
         "type": "scatter3d",
         "x": [
          1.8155734778385425e-07,
          0.25881928712261626
         ],
         "y": [
          -0.5555697153896489,
          -0.5576772186157438
         ],
         "z": [
          0.8314699581715694,
          0.7886752794720706
         ]
        },
        {
         "type": "scatter3d",
         "x": [
          1.8155734778385425e-07,
          1.2505896810517491e-07
         ],
         "y": [
          -0.5555697153896489,
          -0.38268335688528893
         ],
         "z": [
          0.8314699581715694,
          0.9238795637760319
         ]
        },
        {
         "type": "scatter3d",
         "x": [
          -0.3437238034018253,
          3.0191921085329833e-07
         ],
         "y": [
          -0.7406220180883545,
          -0.923879821400162
         ],
         "z": [
          0.5773499573895512,
          0.38268273492478555
         ]
        },
        {
         "type": "scatter3d",
         "x": [
          -0.3437238034018253,
          2.7172007980784245e-07
         ],
         "y": [
          -0.7406220180883545,
          -0.8314697766141329
         ],
         "z": [
          0.5773499573895512,
          0.5555699871097881
         ]
        },
        {
         "type": "scatter3d",
         "x": [
          -0.3437238034018253,
          2.3107884979857942e-07
         ],
         "y": [
          -0.7406220180883545,
          -0.7071066656470566
         ],
         "z": [
          0.5773499573895512,
          0.7071068967259819
         ]
        },
        {
         "type": "scatter3d",
         "x": [
          -0.3437238034018253,
          -0.5546990730736021
         ],
         "y": [
          -0.7406220180883545,
          -0.5321816508913696
         ],
         "z": [
          0.5773499573895512,
          0.6396027116779784
         ]
        },
        {
         "type": "scatter3d",
         "x": [
          1.2505896810517491e-07,
          0.25881928712261626
         ],
         "y": [
          -0.38268335688528893,
          -0.5576772186157438
         ],
         "z": [
          0.9238795637760319,
          0.7886752794720706
         ]
        },
        {
         "type": "scatter3d",
         "x": [
          1.2505896810517491e-07,
          -0.22837595262369279
         ],
         "y": [
          -0.38268335688528893,
          -0.3939223715390168
         ],
         "z": [
          0.9238795637760319,
          0.8903199365757781
         ]
        },
        {
         "type": "scatter3d",
         "x": [
          -0.22837595262369279,
          -0.44721298276616256
         ],
         "y": [
          -0.3939223715390168,
          -0.36514820722282626
         ],
         "z": [
          0.8903199365757781,
          0.8164969900785599
         ]
        },
        {
         "type": "scatter3d",
         "x": [
          -0.5546990730736021,
          -0.44721298276616256
         ],
         "y": [
          -0.5321816508913696,
          -0.36514820722282626
         ],
         "z": [
          0.6396027116779784,
          0.8164969900785599
         ]
        },
        {
         "type": "scatter3d",
         "x": [
          0.7071066656470943,
          0.5906902992165697
         ],
         "y": [
          0,
          -0.1705176646599722
         ],
         "z": [
          0.7071068967259819,
          0.7886752794720706
         ]
        },
        {
         "type": "scatter3d",
         "x": [
          0.7071066656470943,
          0.5555697153896786
         ],
         "y": [
          0,
          0
         ],
         "z": [
          0.7071068967259819,
          0.8314699581715694
         ]
        },
        {
         "type": "scatter3d",
         "x": [
          0.7071066656470943,
          0.8068984206425867
         ],
         "y": [
          0,
          -0.12482774317747945
         ],
         "z": [
          0.7071068967259819,
          0.5773499573895512
         ]
        },
        {
         "type": "scatter3d",
         "x": [
          0.7071066656470943,
          0.8314697766141773
         ],
         "y": [
          0,
          0
         ],
         "z": [
          0.7071068967259819,
          0.5555699871097881
         ]
        },
        {
         "type": "scatter3d",
         "x": [
          0.7071066656470943,
          -0.7071066656470519
         ],
         "y": [
          0,
          -2.449489661487603e-07
         ],
         "z": [
          0.7071068967259819,
          0.7071068967259819
         ]
        },
        {
         "type": "scatter3d",
         "x": [
          0.5555697153896786,
          -0.5555697153896453
         ],
         "y": [
          0,
          -1.924550198996162e-07
         ],
         "z": [
          0.8314699581715694,
          0.8314699581715694
         ]
        },
        {
         "type": "scatter3d",
         "x": [
          0.5555697153896786,
          0.5906902992165697
         ],
         "y": [
          0,
          -0.1705176646599722
         ],
         "z": [
          0.8314699581715694,
          0.7886752794720706
         ]
        },
        {
         "type": "scatter3d",
         "x": [
          0.8314697766141773,
          -0.8314697766141275
         ],
         "y": [
          0,
          -2.880296171146981e-07
         ],
         "z": [
          0.5555699871097881,
          0.5555699871097881
         ]
        },
        {
         "type": "scatter3d",
         "x": [
          0.8314697766141773,
          0.9238798214002113
         ],
         "y": [
          0,
          0
         ],
         "z": [
          0.5555699871097881,
          0.38268273492478555
         ]
        },
        {
         "type": "scatter3d",
         "x": [
          0.8314697766141773,
          0.9103959111935398
         ],
         "y": [
          0,
          -0.08640792629357265
         ],
         "z": [
          0.5555699871097881,
          0.4046145760544582
         ]
        },
        {
         "type": "scatter3d",
         "x": [
          0.8314697766141773,
          0.8068984206425867
         ],
         "y": [
          0,
          -0.12482774317747945
         ],
         "z": [
          0.5555699871097881,
          0.5773499573895512
         ]
        },
        {
         "type": "scatter3d",
         "x": [
          -0.7071066656470519,
          -0.5555697153896453
         ],
         "y": [
          -2.449489661487603e-07,
          -1.924550198996162e-07
         ],
         "z": [
          0.7071068967259819,
          0.8314699581715694
         ]
        },
        {
         "type": "scatter3d",
         "x": [
          -0.7071066656470519,
          -0.8314697766141275
         ],
         "y": [
          -2.449489661487603e-07,
          -2.880296171146981e-07
         ],
         "z": [
          0.7071068967259819,
          0.5555699871097881
         ]
        },
        {
         "type": "scatter3d",
         "x": [
          -0.8314697766141275,
          0.9807853221631626
         ],
         "y": [
          -2.880296171146981e-07,
          0
         ],
         "z": [
          0.5555699871097881,
          0.1950901120746549
         ]
        },
        {
         "type": "scatter3d",
         "x": [
          -0.8314697766141275,
          0.9238798214002113
         ],
         "y": [
          -2.880296171146981e-07,
          0
         ],
         "z": [
          0.5555699871097881,
          0.38268273492478555
         ]
        },
        {
         "type": "scatter3d",
         "x": [
          0.9792195379726093,
          0.9238798214002113
         ],
         "y": [
          -0.040308815568615576,
          0
         ],
         "z": [
          0.19875687620851,
          0.38268273492478555
         ]
        },
        {
         "type": "scatter3d",
         "x": [
          0.9792195379726093,
          0.9807853221631626
         ],
         "y": [
          -0.040308815568615576,
          0
         ],
         "z": [
          0.19875687620851,
          0.1950901120746549
         ]
        },
        {
         "type": "scatter3d",
         "x": [
          0.9792195379726093,
          0.9735731031435004
         ],
         "y": [
          -0.040308815568615576,
          -0.09240422974608956
         ],
         "z": [
          0.19875687620851,
          0.20884652537345866
         ]
        },
        {
         "type": "scatter3d",
         "x": [
          0.9792195379726093,
          0.9659257857520813
         ],
         "y": [
          -0.040308815568615576,
          -0.149429386435463
         ],
         "z": [
          0.19875687620851,
          0.21132495093752063
         ]
        },
        {
         "type": "scatter3d",
         "x": [
          0.9792195379726093,
          0.9390707571195289
         ],
         "y": [
          -0.040308815568615576,
          -0.2710864774093487
         ],
         "z": [
          0.19875687620851,
          0.21132495093752063
         ]
        },
        {
         "type": "scatter3d",
         "x": [
          0.9792195379726093,
          0.8886086758917745
         ],
         "y": [
          -0.040308815568615576,
          -0.40835982903476237
         ],
         "z": [
          0.19875687620851,
          0.20884652537345866
         ]
        },
        {
         "type": "scatter3d",
         "x": [
          0.9238798214002113,
          0.9103959111935398
         ],
         "y": [
          0,
          -0.08640792629357265
         ],
         "z": [
          0.38268273492478555,
          0.4046145760544582
         ]
        },
        {
         "type": "scatter3d",
         "x": [
          0.9238798214002113,
          0.9807853221631626
         ],
         "y": [
          0,
          0
         ],
         "z": [
          0.38268273492478555,
          0.1950901120746549
         ]
        },
        {
         "type": "scatter3d",
         "x": [
          0.9238798214002113,
          0.9735731031435004
         ],
         "y": [
          0,
          -0.09240422974608956
         ],
         "z": [
          0.38268273492478555,
          0.20884652537345866
         ]
        },
        {
         "type": "scatter3d",
         "x": [
          0.9807853221631626,
          0.8886086758917745
         ],
         "y": [
          0,
          -0.40835982903476237
         ],
         "z": [
          0.1950901120746549,
          0.20884652537345866
         ]
        },
        {
         "type": "scatter3d",
         "x": [
          0.9735731031435004,
          0.9103959111935398
         ],
         "y": [
          -0.09240422974608956,
          -0.08640792629357265
         ],
         "z": [
          0.20884652537345866,
          0.4046145760544582
         ]
        },
        {
         "type": "scatter3d",
         "x": [
          0.9735731031435004,
          0.9659257857520813
         ],
         "y": [
          -0.09240422974608956,
          -0.149429386435463
         ],
         "z": [
          0.20884652537345866,
          0.21132495093752063
         ]
        },
        {
         "type": "scatter3d",
         "x": [
          0.3437242874647436,
          0.554698888720413
         ],
         "y": [
          -0.7406217934338266,
          -0.5321818430447582
         ],
         "z": [
          0.5773499573895512,
          0.6396027116779784
         ]
        },
        {
         "type": "scatter3d",
         "x": [
          0.3437242874647436,
          0.4586665220583694
         ],
         "y": [
          -0.7406217934338266,
          -0.7911460461805713
         ],
         "z": [
          0.5773499573895512,
          0.4046145760544582
         ]
        },
        {
         "type": "scatter3d",
         "x": [
          0.3437242874647436,
          0.25881928712261626
         ],
         "y": [
          -0.7406217934338266,
          -0.5576772186157438
         ],
         "z": [
          0.5773499573895512,
          0.7886752794720706
         ]
        },
        {
         "type": "scatter3d",
         "x": [
          0.3437242874647436,
          3.0191921085329833e-07
         ],
         "y": [
          -0.7406217934338266,
          -0.923879821400162
         ],
         "z": [
          0.5773499573895512,
          0.38268273492478555
         ]
        },
        {
         "type": "scatter3d",
         "x": [
          0.3437242874647436,
          2.7172007980784245e-07
         ],
         "y": [
          -0.7406217934338266,
          -0.8314697766141329
         ],
         "z": [
          0.5773499573895512,
          0.5555699871097881
         ]
        },
        {
         "type": "scatter3d",
         "x": [
          0.3437242874647436,
          2.3107884979857942e-07
         ],
         "y": [
          -0.7406217934338266,
          -0.7071066656470566
         ],
         "z": [
          0.5773499573895512,
          0.7071068967259819
         ]
        },
        {
         "type": "scatter3d",
         "x": [
          0.4586665220583694,
          3.0191921085329833e-07
         ],
         "y": [
          -0.7911460461805713,
          -0.923879821400162
         ],
         "z": [
          0.4046145760544582,
          0.38268273492478555
         ]
        },
        {
         "type": "scatter3d",
         "x": [
          0.4586665220583694,
          0.7071069010744352
         ],
         "y": [
          -0.7911460461805713,
          -0.5773501278371904
         ],
         "z": [
          0.4046145760544582,
          0.408248282714439
         ]
        },
        {
         "type": "scatter3d",
         "x": [
          0.4586665220583694,
          0.554698888720413
         ],
         "y": [
          -0.7911460461805713,
          -0.5321818430447582
         ],
         "z": [
          0.4046145760544582,
          0.6396027116779784
         ]
        },
        {
         "type": "scatter3d",
         "x": [
          0.25881928712261626,
          2.3107884979857942e-07
         ],
         "y": [
          -0.5576772186157438,
          -0.7071066656470566
         ],
         "z": [
          0.7886752794720706,
          0.7071068967259819
         ]
        },
        {
         "type": "scatter3d",
         "x": [
          0.25881928712261626,
          0.554698888720413
         ],
         "y": [
          -0.5576772186157438,
          -0.5321818430447582
         ],
         "z": [
          0.7886752794720706,
          0.6396027116779784
         ]
        },
        {
         "type": "scatter3d",
         "x": [
          0.25881928712261626,
          0.4472132214232083
         ],
         "y": [
          -0.5576772186157438,
          -0.3651479149289072
         ],
         "z": [
          0.7886752794720706,
          0.8164969900785599
         ]
        },
        {
         "type": "scatter3d",
         "x": [
          3.0191921085329833e-07,
          2.7172007980784245e-07
         ],
         "y": [
          -0.923879821400162,
          -0.8314697766141329
         ],
         "z": [
          0.38268273492478555,
          0.5555699871097881
         ]
        },
        {
         "type": "scatter3d",
         "x": [
          2.7172007980784245e-07,
          2.3107884979857942e-07
         ],
         "y": [
          -0.8314697766141329,
          -0.7071066656470566
         ],
         "z": [
          0.5555699871097881,
          0.7071068967259819
         ]
        },
        {
         "type": "scatter3d",
         "x": [
          0.8886086758917745,
          0.7071069010744352
         ],
         "y": [
          -0.40835982903476237,
          -0.5773501278371904
         ],
         "z": [
          0.20884652537345866,
          0.408248282714439
         ]
        },
        {
         "type": "scatter3d",
         "x": [
          0.8886086758917745,
          0.9390707571195289
         ],
         "y": [
          -0.40835982903476237,
          -0.2710864774093487
         ],
         "z": [
          0.20884652537345866,
          0.21132495093752063
         ]
        },
        {
         "type": "scatter3d",
         "x": [
          0.8886086758917745,
          0.8320511996485439
         ],
         "y": [
          -0.40835982903476237,
          -0.3547867670614732
         ],
         "z": [
          0.20884652537345866,
          0.4264002240635982
         ]
        },
        {
         "type": "scatter3d",
         "x": [
          0.7071066745408645,
          0.554698888720413
         ],
         "y": [
          -0.30151040120356815,
          -0.5321818430447582
         ],
         "z": [
          0.6396027116779784,
          0.6396027116779784
         ]
        },
        {
         "type": "scatter3d",
         "x": [
          0.7071066745408645,
          0.7071069010744352
         ],
         "y": [
          -0.30151040120356815,
          -0.5773501278371904
         ],
         "z": [
          0.6396027116779784,
          0.408248282714439
         ]
        },
        {
         "type": "scatter3d",
         "x": [
          0.7071066745408645,
          0.8320511996485439
         ],
         "y": [
          -0.30151040120356815,
          -0.3547867670614732
         ],
         "z": [
          0.6396027116779784,
          0.4264002240635982
         ]
        },
        {
         "type": "scatter3d",
         "x": [
          0.7071066745408645,
          0.5906902992165697
         ],
         "y": [
          -0.30151040120356815,
          -0.1705176646599722
         ],
         "z": [
          0.6396027116779784,
          0.7886752794720706
         ]
        },
        {
         "type": "scatter3d",
         "x": [
          0.7071066745408645,
          0.4472132214232083
         ],
         "y": [
          -0.30151040120356815,
          -0.3651479149289072
         ],
         "z": [
          0.6396027116779784,
          0.8164969900785599
         ]
        },
        {
         "type": "scatter3d",
         "x": [
          0.7071066745408645,
          0.8068984206425867
         ],
         "y": [
          -0.30151040120356815,
          -0.12482774317747945
         ],
         "z": [
          0.6396027116779784,
          0.5773499573895512
         ]
        },
        {
         "type": "scatter3d",
         "x": [
          0.554698888720413,
          0.4472132214232083
         ],
         "y": [
          -0.5321818430447582,
          -0.3651479149289072
         ],
         "z": [
          0.6396027116779784,
          0.8164969900785599
         ]
        },
        {
         "type": "scatter3d",
         "x": [
          0.554698888720413,
          0.7071069010744352
         ],
         "y": [
          -0.5321818430447582,
          -0.5773501278371904
         ],
         "z": [
          0.6396027116779784,
          0.408248282714439
         ]
        },
        {
         "type": "scatter3d",
         "x": [
          0.7071069010744352,
          0.8320511996485439
         ],
         "y": [
          -0.5773501278371904,
          -0.3547867670614732
         ],
         "z": [
          0.408248282714439,
          0.4264002240635982
         ]
        },
        {
         "type": "scatter3d",
         "x": [
          0.5906902992165697,
          0.4472132214232083
         ],
         "y": [
          -0.1705176646599722,
          -0.3651479149289072
         ],
         "z": [
          0.7886752794720706,
          0.8164969900785599
         ]
        },
        {
         "type": "scatter3d",
         "x": [
          0.5906902992165697,
          0.8068984206425867
         ],
         "y": [
          -0.1705176646599722,
          -0.12482774317747945
         ],
         "z": [
          0.7886752794720706,
          0.5773499573895512
         ]
        },
        {
         "type": "scatter3d",
         "x": [
          0.8944271799338995,
          0.8320511996485439
         ],
         "y": [
          -0.18257425737546654,
          -0.3547867670614732
         ],
         "z": [
          0.408248282714439,
          0.4264002240635982
         ]
        },
        {
         "type": "scatter3d",
         "x": [
          0.8944271799338995,
          0.9390707571195289
         ],
         "y": [
          -0.18257425737546654,
          -0.2710864774093487
         ],
         "z": [
          0.408248282714439,
          0.21132495093752063
         ]
        },
        {
         "type": "scatter3d",
         "x": [
          0.8944271799338995,
          0.9659257857520813
         ],
         "y": [
          -0.18257425737546654,
          -0.149429386435463
         ],
         "z": [
          0.408248282714439,
          0.21132495093752063
         ]
        },
        {
         "type": "scatter3d",
         "x": [
          0.8944271799338995,
          0.9103959111935398
         ],
         "y": [
          -0.18257425737546654,
          -0.08640792629357265
         ],
         "z": [
          0.408248282714439,
          0.4046145760544582
         ]
        },
        {
         "type": "scatter3d",
         "x": [
          0.8944271799338995,
          0.8068984206425867
         ],
         "y": [
          -0.18257425737546654,
          -0.12482774317747945
         ],
         "z": [
          0.408248282714439,
          0.5773499573895512
         ]
        },
        {
         "type": "scatter3d",
         "x": [
          0.8320511996485439,
          0.9390707571195289
         ],
         "y": [
          -0.3547867670614732,
          -0.2710864774093487
         ],
         "z": [
          0.4264002240635982,
          0.21132495093752063
         ]
        },
        {
         "type": "scatter3d",
         "x": [
          0.8320511996485439,
          0.8068984206425867
         ],
         "y": [
          -0.3547867670614732,
          -0.12482774317747945
         ],
         "z": [
          0.4264002240635982,
          0.5773499573895512
         ]
        },
        {
         "type": "scatter3d",
         "x": [
          0.9390707571195289,
          0.9659257857520813
         ],
         "y": [
          -0.2710864774093487,
          -0.149429386435463
         ],
         "z": [
          0.21132495093752063,
          0.21132495093752063
         ]
        },
        {
         "type": "scatter3d",
         "x": [
          0.9659257857520813,
          0.9103959111935398
         ],
         "y": [
          -0.149429386435463,
          -0.08640792629357265
         ],
         "z": [
          0.21132495093752063,
          0.4046145760544582
         ]
        },
        {
         "type": "scatter3d",
         "x": [
          0.9103959111935398,
          0.8068984206425867
         ],
         "y": [
          -0.08640792629357265,
          -0.12482774317747945
         ],
         "z": [
          0.4046145760544582,
          0.5773499573895512
         ]
        }
       ],
       "layout": {
        "autosize": true,
        "height": 800,
        "margin": {
         "b": 65,
         "l": 65,
         "r": 50,
         "t": 90
        },
        "title": "Ajacent graph",
        "width": 900
       }
      },
      "text/html": [
       "<div id=\"d338b9c4-9012-489e-bb30-69c641eb4d2d\" style=\"height: 800px; width: 900px;\" class=\"plotly-graph-div\"></div><script type=\"text/javascript\">require([\"plotly\"], function(Plotly) { window.PLOTLYENV=window.PLOTLYENV || {};window.PLOTLYENV.BASE_URL=\"https://plot.ly\";Plotly.newPlot(\"d338b9c4-9012-489e-bb30-69c641eb4d2d\", [{\"z\": [1.0, 0.9807853859175633], \"x\": [0.0, -0.1950897915589948], \"type\": \"scatter3d\", \"y\": [0.0, -6.758109500328984e-08]}, {\"z\": [1.0, 0.9807853859175633], \"x\": [0.0, 0.1950897915590065], \"type\": \"scatter3d\", \"y\": [0.0, 0.0]}, {\"z\": [1.0, 0.9596830178521761], \"x\": [0.0, 0.20280288969962867], \"type\": \"scatter3d\", \"y\": [0.0, -0.19462654797231552]}, {\"z\": [1.0, 0.9807853859175633], \"x\": [0.0, 6.375434829149114e-08], \"type\": \"scatter3d\", \"y\": [0.0, -0.19508979155899608]}, {\"z\": [1.0, 0.9596830178521761], \"x\": [0.0, -0.20280295712023924], \"type\": \"scatter3d\", \"y\": [0.0, -0.19462647771931285]}, {\"z\": [1.0, 0.8903199365757781], \"x\": [0.0, 0.41373865644490737], \"type\": \"scatter3d\", \"y\": [0.0, -0.19013346548902246]}, {\"z\": [0.4264002240635982, 0.6396027116779784], \"x\": [-0.8320509677633564, -0.7071064774765927], \"type\": \"scatter3d\", \"y\": [-0.3547873108815692, -0.3015108633612091]}, {\"z\": [0.4264002240635982, 0.5773499573895512], \"x\": [-0.8320509677633564, -0.8068984638841425], \"type\": \"scatter3d\", \"y\": [-0.3547873108815692, -0.12482746365962312]}, {\"z\": [0.4264002240635982, 0.408248282714439], \"x\": [-0.8320509677633564, -0.7071065237241335], \"type\": \"scatter3d\", \"y\": [-0.3547873108815692, -0.5773505899949206]}, {\"z\": [0.4264002240635982, 0.19875687620851], \"x\": [-0.8320509677633564, -0.7071068980068338], \"type\": \"scatter3d\", \"y\": [-0.3547873108815692, -0.6785982161419142]}, {\"z\": [0.7886752794720706, 0.8903199365757781], \"x\": [-0.5906901877678383, -0.4137387223090556], \"type\": \"scatter3d\", \"y\": [-0.17051805072908632, -0.19013332216571754]}, {\"z\": [0.7886752794720706, 0.8164969900785599], \"x\": [-0.5906901877678383, -0.44721298276616256], \"type\": \"scatter3d\", \"y\": [-0.17051805072908632, -0.36514820722282626]}, {\"z\": [0.7886752794720706, 0.6396027116779784], \"x\": [-0.5906901877678383, -0.7071064774765927], \"type\": \"scatter3d\", \"y\": [-0.17051805072908632, -0.3015108633612091]}, {\"z\": [0.7886752794720706, 0.5773499573895512], \"x\": [-0.5906901877678383, -0.8068984638841425], \"type\": \"scatter3d\", \"y\": [-0.17051805072908632, -0.12482746365962312]}, {\"z\": [0.8903199365757781, 0.9596830178521761], \"x\": [-0.4137387223090556, -0.20280295712023924], \"type\": \"scatter3d\", \"y\": [-0.19013332216571754, -0.19462647771931285]}, {\"z\": [0.8903199365757781, 0.8164969900785599], \"x\": [-0.4137387223090556, -0.44721298276616256], \"type\": \"scatter3d\", \"y\": [-0.19013332216571754, -0.36514820722282626]}, {\"z\": [0.6396027116779784, 0.5773499573895512], \"x\": [-0.7071064774765927, -0.8068984638841425], \"type\": \"scatter3d\", \"y\": [-0.3015108633612091, -0.12482746365962312]}, {\"z\": [0.6396027116779784, 0.408248282714439], \"x\": [-0.7071064774765927, -0.7071065237241335], \"type\": \"scatter3d\", \"y\": [-0.3015108633612091, -0.5773505899949206]}, {\"z\": [0.6396027116779784, 0.6396027116779784], \"x\": [-0.7071064774765927, -0.5546990730736021], \"type\": \"scatter3d\", \"y\": [-0.3015108633612091, -0.5321816508913696]}, {\"z\": [0.6396027116779784, 0.8164969900785599], \"x\": [-0.7071064774765927, -0.44721298276616256], \"type\": \"scatter3d\", \"y\": [-0.3015108633612091, -0.36514820722282626]}, {\"z\": [0.4046145760544582, 0.408248282714439], \"x\": [-0.45866600497329046, -0.7071065237241335], \"type\": \"scatter3d\", \"y\": [-0.7911463459601596, -0.5773505899949206]}, {\"z\": [0.4046145760544582, 0.19875687620851], \"x\": [-0.45866600497329046, -0.7071068980068338], \"type\": \"scatter3d\", \"y\": [-0.7911463459601596, -0.6785982161419142]}, {\"z\": [0.4046145760544582, 0.1950901120746549], \"x\": [-0.45866600497329046, 3.205156381002135e-07], \"type\": \"scatter3d\", \"y\": [-0.7911463459601596, -0.9807853221631102]}, {\"z\": [0.4046145760544582, 0.6396027116779784], \"x\": [-0.45866600497329046, -0.5546990730736021], \"type\": \"scatter3d\", \"y\": [-0.7911463459601596, -0.5321816508913696]}, {\"z\": [0.4046145760544582, 0.5773499573895512], \"x\": [-0.45866600497329046, -0.3437238034018253], \"type\": \"scatter3d\", \"y\": [-0.7911463459601596, -0.7406220180883545]}, {\"z\": [0.4046145760544582, 0.38268273492478555], \"x\": [-0.45866600497329046, 3.0191921085329833e-07], \"type\": \"scatter3d\", \"y\": [-0.7911463459601596, -0.923879821400162]}, {\"z\": [0.408248282714439, 0.19875687620851], \"x\": [-0.7071065237241335, -0.7071068980068338], \"type\": \"scatter3d\", \"y\": [-0.5773505899949206, -0.6785982161419142]}, {\"z\": [0.408248282714439, 0.6396027116779784], \"x\": [-0.7071065237241335, -0.5546990730736021], \"type\": \"scatter3d\", \"y\": [-0.5773505899949206, -0.5321816508913696]}, {\"z\": [0.19875687620851, 0.1950901120746549], \"x\": [-0.7071068980068338, 3.205156381002135e-07], \"type\": \"scatter3d\", \"y\": [-0.6785982161419142, -0.9807853221631102]}, {\"z\": [0.1950901120746549, 0.1950901120746549], \"x\": [3.205156381002135e-07, 0.9807853221631626], \"type\": \"scatter3d\", \"y\": [-0.9807853221631102, 0.0]}, {\"z\": [0.1950901120746549, 0.4046145760544582], \"x\": [3.205156381002135e-07, 0.4586665220583694], \"type\": \"scatter3d\", \"y\": [-0.9807853221631102, -0.7911460461805713]}, {\"z\": [0.1950901120746549, 0.38268273492478555], \"x\": [3.205156381002135e-07, 3.0191921085329833e-07], \"type\": \"scatter3d\", \"y\": [-0.9807853221631102, -0.923879821400162]}, {\"z\": [0.1950901120746549, 0.19875687620851], \"x\": [3.205156381002135e-07, 0.707106662933443], \"type\": \"scatter3d\", \"y\": [-0.9807853221631102, -0.6785984610909204]}, {\"z\": [0.9596830178521761, 0.8164969900785599], \"x\": [-0.20280295712023924, -0.44721298276616256], \"type\": \"scatter3d\", \"y\": [-0.19462647771931285, -0.36514820722282626]}, {\"z\": [0.9596830178521761, 0.9807853859175633], \"x\": [-0.20280295712023924, 6.375434829149114e-08], \"type\": \"scatter3d\", \"y\": [-0.19462647771931285, -0.19508979155899608]}, {\"z\": [0.9596830178521761, 0.8903199365757781], \"x\": [-0.20280295712023924, -0.22837595262369279], \"type\": \"scatter3d\", \"y\": [-0.19462647771931285, -0.3939223715390168]}, {\"z\": [0.9238795637760319, 0.7886752794720706], \"x\": [0.38268335688530936, 0.5906902992165697], \"type\": \"scatter3d\", \"y\": [0.0, -0.1705176646599722]}, {\"z\": [0.9238795637760319, 0.8314699581715694], \"x\": [0.38268335688530936, 0.5555697153896786], \"type\": \"scatter3d\", \"y\": [0.0, 0.0]}, {\"z\": [0.9238795637760319, 0.8903199365757781], \"x\": [0.38268335688530936, 0.41373865644490737], \"type\": \"scatter3d\", \"y\": [0.0, -0.19013346548902246]}, {\"z\": [0.9238795637760319, 0.9807853859175633], \"x\": [0.38268335688530936, 0.1950897915590065], \"type\": \"scatter3d\", \"y\": [0.0, 0.0]}, {\"z\": [0.9238795637760319, 0.9238795637760319], \"x\": [0.38268335688530936, -0.38268335688528643], \"type\": \"scatter3d\", \"y\": [0.0, -1.325654207284431e-07]}, {\"z\": [0.8903199365757781, 0.9807853859175633], \"x\": [0.41373865644490737, 0.1950897915590065], \"type\": \"scatter3d\", \"y\": [-0.19013346548902246, 0.0]}, {\"z\": [0.8903199365757781, 0.9596830178521761], \"x\": [0.41373865644490737, 0.20280288969962867], \"type\": \"scatter3d\", \"y\": [-0.19013346548902246, -0.19462654797231552]}, {\"z\": [0.8903199365757781, 0.8164969900785599], \"x\": [0.41373865644490737, 0.4472132214232083], \"type\": \"scatter3d\", \"y\": [-0.19013346548902246, -0.3651479149289072]}, {\"z\": [0.8903199365757781, 0.7886752794720706], \"x\": [0.41373865644490737, 0.5906902992165697], \"type\": \"scatter3d\", \"y\": [-0.19013346548902246, -0.1705176646599722]}, {\"z\": [0.9807853859175633, 0.9807853859175633], \"x\": [0.1950897915590065, -0.1950897915589948], \"type\": \"scatter3d\", \"y\": [0.0, -6.758109500328984e-08]}, {\"z\": [0.9238795637760319, 0.9807853859175633], \"x\": [-0.38268335688528643, -0.1950897915589948], \"type\": \"scatter3d\", \"y\": [-1.325654207284431e-07, -6.758109500328984e-08]}, {\"z\": [0.9238795637760319, 0.8314699581715694], \"x\": [-0.38268335688528643, -0.5555697153896453], \"type\": \"scatter3d\", \"y\": [-1.325654207284431e-07, -1.924550198996162e-07]}, {\"z\": [0.8903199365757781, 0.9596830178521761], \"x\": [0.22837621008728548, 0.20280288969962867], \"type\": \"scatter3d\", \"y\": [-0.393922222274741, -0.19462654797231552]}, {\"z\": [0.8903199365757781, 0.8164969900785599], \"x\": [0.22837621008728548, 0.4472132214232083], \"type\": \"scatter3d\", \"y\": [-0.393922222274741, -0.3651479149289072]}, {\"z\": [0.8903199365757781, 0.7886752794720706], \"x\": [0.22837621008728548, 0.25881928712261626], \"type\": \"scatter3d\", \"y\": [-0.393922222274741, -0.5576772186157438]}, {\"z\": [0.8903199365757781, 0.9807853859175633], \"x\": [0.22837621008728548, 6.375434829149114e-08], \"type\": \"scatter3d\", \"y\": [-0.393922222274741, -0.19508979155899608]}, {\"z\": [0.8903199365757781, 0.9238795637760319], \"x\": [0.22837621008728548, 1.2505896810517491e-07], \"type\": \"scatter3d\", \"y\": [-0.393922222274741, -0.38268335688528893]}, {\"z\": [0.9596830178521761, 0.9807853859175633], \"x\": [0.20280288969962867, 6.375434829149114e-08], \"type\": \"scatter3d\", \"y\": [-0.19462654797231552, -0.19508979155899608]}, {\"z\": [0.9596830178521761, 0.8164969900785599], \"x\": [0.20280288969962867, 0.4472132214232083], \"type\": \"scatter3d\", \"y\": [-0.19462654797231552, -0.3651479149289072]}, {\"z\": [0.9807853859175633, 0.8903199365757781], \"x\": [6.375434829149114e-08, -0.22837595262369279], \"type\": \"scatter3d\", \"y\": [-0.19508979155899608, -0.3939223715390168]}, {\"z\": [0.9807853859175633, 0.9238795637760319], \"x\": [6.375434829149114e-08, 1.2505896810517491e-07], \"type\": \"scatter3d\", \"y\": [-0.19508979155899608, -0.38268335688528893]}, {\"z\": [0.19875687620851, 0.4046145760544582], \"x\": [0.707106662933443, 0.4586665220583694], \"type\": \"scatter3d\", \"y\": [-0.6785984610909204, -0.7911460461805713]}, {\"z\": [0.19875687620851, 0.1950901120746549], \"x\": [0.707106662933443, 0.9807853221631626], \"type\": \"scatter3d\", \"y\": [-0.6785984610909204, 0.0]}, {\"z\": [0.19875687620851, 0.408248282714439], \"x\": [0.707106662933443, 0.7071069010744352], \"type\": \"scatter3d\", \"y\": [-0.6785984610909204, -0.5773501278371904]}, {\"z\": [0.19875687620851, 0.20884652537345866], \"x\": [0.707106662933443, 0.8886086758917745], \"type\": \"scatter3d\", \"y\": [-0.6785984610909204, -0.40835982903476237]}, {\"z\": [0.7886752794720706, 0.7071068967259819], \"x\": [-0.25881892263042294, 2.3107884979857942e-07], \"type\": \"scatter3d\", \"y\": [-0.557677387777269, -0.7071066656470566]}, {\"z\": [0.7886752794720706, 0.8314699581715694], \"x\": [-0.25881892263042294, 1.8155734778385425e-07], \"type\": \"scatter3d\", \"y\": [-0.557677387777269, -0.5555697153896489]}, {\"z\": [0.7886752794720706, 0.5773499573895512], \"x\": [-0.25881892263042294, -0.3437238034018253], \"type\": \"scatter3d\", \"y\": [-0.557677387777269, -0.7406220180883545]}, {\"z\": [0.7886752794720706, 0.9238795637760319], \"x\": [-0.25881892263042294, 1.2505896810517491e-07], \"type\": \"scatter3d\", \"y\": [-0.557677387777269, -0.38268335688528893]}, {\"z\": [0.7886752794720706, 0.8903199365757781], \"x\": [-0.25881892263042294, -0.22837595262369279], \"type\": \"scatter3d\", \"y\": [-0.557677387777269, -0.3939223715390168]}, {\"z\": [0.7886752794720706, 0.6396027116779784], \"x\": [-0.25881892263042294, -0.5546990730736021], \"type\": \"scatter3d\", \"y\": [-0.557677387777269, -0.5321816508913696]}, {\"z\": [0.7886752794720706, 0.8164969900785599], \"x\": [-0.25881892263042294, -0.44721298276616256], \"type\": \"scatter3d\", \"y\": [-0.557677387777269, -0.36514820722282626]}, {\"z\": [0.8314699581715694, 0.7071068967259819], \"x\": [1.8155734778385425e-07, 2.3107884979857942e-07], \"type\": \"scatter3d\", \"y\": [-0.5555697153896489, -0.7071066656470566]}, {\"z\": [0.8314699581715694, 0.7886752794720706], \"x\": [1.8155734778385425e-07, 0.25881928712261626], \"type\": \"scatter3d\", \"y\": [-0.5555697153896489, -0.5576772186157438]}, {\"z\": [0.8314699581715694, 0.9238795637760319], \"x\": [1.8155734778385425e-07, 1.2505896810517491e-07], \"type\": \"scatter3d\", \"y\": [-0.5555697153896489, -0.38268335688528893]}, {\"z\": [0.5773499573895512, 0.38268273492478555], \"x\": [-0.3437238034018253, 3.0191921085329833e-07], \"type\": \"scatter3d\", \"y\": [-0.7406220180883545, -0.923879821400162]}, {\"z\": [0.5773499573895512, 0.5555699871097881], \"x\": [-0.3437238034018253, 2.7172007980784245e-07], \"type\": \"scatter3d\", \"y\": [-0.7406220180883545, -0.8314697766141329]}, {\"z\": [0.5773499573895512, 0.7071068967259819], \"x\": [-0.3437238034018253, 2.3107884979857942e-07], \"type\": \"scatter3d\", \"y\": [-0.7406220180883545, -0.7071066656470566]}, {\"z\": [0.5773499573895512, 0.6396027116779784], \"x\": [-0.3437238034018253, -0.5546990730736021], \"type\": \"scatter3d\", \"y\": [-0.7406220180883545, -0.5321816508913696]}, {\"z\": [0.9238795637760319, 0.7886752794720706], \"x\": [1.2505896810517491e-07, 0.25881928712261626], \"type\": \"scatter3d\", \"y\": [-0.38268335688528893, -0.5576772186157438]}, {\"z\": [0.9238795637760319, 0.8903199365757781], \"x\": [1.2505896810517491e-07, -0.22837595262369279], \"type\": \"scatter3d\", \"y\": [-0.38268335688528893, -0.3939223715390168]}, {\"z\": [0.8903199365757781, 0.8164969900785599], \"x\": [-0.22837595262369279, -0.44721298276616256], \"type\": \"scatter3d\", \"y\": [-0.3939223715390168, -0.36514820722282626]}, {\"z\": [0.6396027116779784, 0.8164969900785599], \"x\": [-0.5546990730736021, -0.44721298276616256], \"type\": \"scatter3d\", \"y\": [-0.5321816508913696, -0.36514820722282626]}, {\"z\": [0.7071068967259819, 0.7886752794720706], \"x\": [0.7071066656470943, 0.5906902992165697], \"type\": \"scatter3d\", \"y\": [0.0, -0.1705176646599722]}, {\"z\": [0.7071068967259819, 0.8314699581715694], \"x\": [0.7071066656470943, 0.5555697153896786], \"type\": \"scatter3d\", \"y\": [0.0, 0.0]}, {\"z\": [0.7071068967259819, 0.5773499573895512], \"x\": [0.7071066656470943, 0.8068984206425867], \"type\": \"scatter3d\", \"y\": [0.0, -0.12482774317747945]}, {\"z\": [0.7071068967259819, 0.5555699871097881], \"x\": [0.7071066656470943, 0.8314697766141773], \"type\": \"scatter3d\", \"y\": [0.0, 0.0]}, {\"z\": [0.7071068967259819, 0.7071068967259819], \"x\": [0.7071066656470943, -0.7071066656470519], \"type\": \"scatter3d\", \"y\": [0.0, -2.449489661487603e-07]}, {\"z\": [0.8314699581715694, 0.8314699581715694], \"x\": [0.5555697153896786, -0.5555697153896453], \"type\": \"scatter3d\", \"y\": [0.0, -1.924550198996162e-07]}, {\"z\": [0.8314699581715694, 0.7886752794720706], \"x\": [0.5555697153896786, 0.5906902992165697], \"type\": \"scatter3d\", \"y\": [0.0, -0.1705176646599722]}, {\"z\": [0.5555699871097881, 0.5555699871097881], \"x\": [0.8314697766141773, -0.8314697766141275], \"type\": \"scatter3d\", \"y\": [0.0, -2.880296171146981e-07]}, {\"z\": [0.5555699871097881, 0.38268273492478555], \"x\": [0.8314697766141773, 0.9238798214002113], \"type\": \"scatter3d\", \"y\": [0.0, 0.0]}, {\"z\": [0.5555699871097881, 0.4046145760544582], \"x\": [0.8314697766141773, 0.9103959111935398], \"type\": \"scatter3d\", \"y\": [0.0, -0.08640792629357265]}, {\"z\": [0.5555699871097881, 0.5773499573895512], \"x\": [0.8314697766141773, 0.8068984206425867], \"type\": \"scatter3d\", \"y\": [0.0, -0.12482774317747945]}, {\"z\": [0.7071068967259819, 0.8314699581715694], \"x\": [-0.7071066656470519, -0.5555697153896453], \"type\": \"scatter3d\", \"y\": [-2.449489661487603e-07, -1.924550198996162e-07]}, {\"z\": [0.7071068967259819, 0.5555699871097881], \"x\": [-0.7071066656470519, -0.8314697766141275], \"type\": \"scatter3d\", \"y\": [-2.449489661487603e-07, -2.880296171146981e-07]}, {\"z\": [0.5555699871097881, 0.1950901120746549], \"x\": [-0.8314697766141275, 0.9807853221631626], \"type\": \"scatter3d\", \"y\": [-2.880296171146981e-07, 0.0]}, {\"z\": [0.5555699871097881, 0.38268273492478555], \"x\": [-0.8314697766141275, 0.9238798214002113], \"type\": \"scatter3d\", \"y\": [-2.880296171146981e-07, 0.0]}, {\"z\": [0.19875687620851, 0.38268273492478555], \"x\": [0.9792195379726093, 0.9238798214002113], \"type\": \"scatter3d\", \"y\": [-0.040308815568615576, 0.0]}, {\"z\": [0.19875687620851, 0.1950901120746549], \"x\": [0.9792195379726093, 0.9807853221631626], \"type\": \"scatter3d\", \"y\": [-0.040308815568615576, 0.0]}, {\"z\": [0.19875687620851, 0.20884652537345866], \"x\": [0.9792195379726093, 0.9735731031435004], \"type\": \"scatter3d\", \"y\": [-0.040308815568615576, -0.09240422974608956]}, {\"z\": [0.19875687620851, 0.21132495093752063], \"x\": [0.9792195379726093, 0.9659257857520813], \"type\": \"scatter3d\", \"y\": [-0.040308815568615576, -0.149429386435463]}, {\"z\": [0.19875687620851, 0.21132495093752063], \"x\": [0.9792195379726093, 0.9390707571195289], \"type\": \"scatter3d\", \"y\": [-0.040308815568615576, -0.2710864774093487]}, {\"z\": [0.19875687620851, 0.20884652537345866], \"x\": [0.9792195379726093, 0.8886086758917745], \"type\": \"scatter3d\", \"y\": [-0.040308815568615576, -0.40835982903476237]}, {\"z\": [0.38268273492478555, 0.4046145760544582], \"x\": [0.9238798214002113, 0.9103959111935398], \"type\": \"scatter3d\", \"y\": [0.0, -0.08640792629357265]}, {\"z\": [0.38268273492478555, 0.1950901120746549], \"x\": [0.9238798214002113, 0.9807853221631626], \"type\": \"scatter3d\", \"y\": [0.0, 0.0]}, {\"z\": [0.38268273492478555, 0.20884652537345866], \"x\": [0.9238798214002113, 0.9735731031435004], \"type\": \"scatter3d\", \"y\": [0.0, -0.09240422974608956]}, {\"z\": [0.1950901120746549, 0.20884652537345866], \"x\": [0.9807853221631626, 0.8886086758917745], \"type\": \"scatter3d\", \"y\": [0.0, -0.40835982903476237]}, {\"z\": [0.20884652537345866, 0.4046145760544582], \"x\": [0.9735731031435004, 0.9103959111935398], \"type\": \"scatter3d\", \"y\": [-0.09240422974608956, -0.08640792629357265]}, {\"z\": [0.20884652537345866, 0.21132495093752063], \"x\": [0.9735731031435004, 0.9659257857520813], \"type\": \"scatter3d\", \"y\": [-0.09240422974608956, -0.149429386435463]}, {\"z\": [0.5773499573895512, 0.6396027116779784], \"x\": [0.3437242874647436, 0.554698888720413], \"type\": \"scatter3d\", \"y\": [-0.7406217934338266, -0.5321818430447582]}, {\"z\": [0.5773499573895512, 0.4046145760544582], \"x\": [0.3437242874647436, 0.4586665220583694], \"type\": \"scatter3d\", \"y\": [-0.7406217934338266, -0.7911460461805713]}, {\"z\": [0.5773499573895512, 0.7886752794720706], \"x\": [0.3437242874647436, 0.25881928712261626], \"type\": \"scatter3d\", \"y\": [-0.7406217934338266, -0.5576772186157438]}, {\"z\": [0.5773499573895512, 0.38268273492478555], \"x\": [0.3437242874647436, 3.0191921085329833e-07], \"type\": \"scatter3d\", \"y\": [-0.7406217934338266, -0.923879821400162]}, {\"z\": [0.5773499573895512, 0.5555699871097881], \"x\": [0.3437242874647436, 2.7172007980784245e-07], \"type\": \"scatter3d\", \"y\": [-0.7406217934338266, -0.8314697766141329]}, {\"z\": [0.5773499573895512, 0.7071068967259819], \"x\": [0.3437242874647436, 2.3107884979857942e-07], \"type\": \"scatter3d\", \"y\": [-0.7406217934338266, -0.7071066656470566]}, {\"z\": [0.4046145760544582, 0.38268273492478555], \"x\": [0.4586665220583694, 3.0191921085329833e-07], \"type\": \"scatter3d\", \"y\": [-0.7911460461805713, -0.923879821400162]}, {\"z\": [0.4046145760544582, 0.408248282714439], \"x\": [0.4586665220583694, 0.7071069010744352], \"type\": \"scatter3d\", \"y\": [-0.7911460461805713, -0.5773501278371904]}, {\"z\": [0.4046145760544582, 0.6396027116779784], \"x\": [0.4586665220583694, 0.554698888720413], \"type\": \"scatter3d\", \"y\": [-0.7911460461805713, -0.5321818430447582]}, {\"z\": [0.7886752794720706, 0.7071068967259819], \"x\": [0.25881928712261626, 2.3107884979857942e-07], \"type\": \"scatter3d\", \"y\": [-0.5576772186157438, -0.7071066656470566]}, {\"z\": [0.7886752794720706, 0.6396027116779784], \"x\": [0.25881928712261626, 0.554698888720413], \"type\": \"scatter3d\", \"y\": [-0.5576772186157438, -0.5321818430447582]}, {\"z\": [0.7886752794720706, 0.8164969900785599], \"x\": [0.25881928712261626, 0.4472132214232083], \"type\": \"scatter3d\", \"y\": [-0.5576772186157438, -0.3651479149289072]}, {\"z\": [0.38268273492478555, 0.5555699871097881], \"x\": [3.0191921085329833e-07, 2.7172007980784245e-07], \"type\": \"scatter3d\", \"y\": [-0.923879821400162, -0.8314697766141329]}, {\"z\": [0.5555699871097881, 0.7071068967259819], \"x\": [2.7172007980784245e-07, 2.3107884979857942e-07], \"type\": \"scatter3d\", \"y\": [-0.8314697766141329, -0.7071066656470566]}, {\"z\": [0.20884652537345866, 0.408248282714439], \"x\": [0.8886086758917745, 0.7071069010744352], \"type\": \"scatter3d\", \"y\": [-0.40835982903476237, -0.5773501278371904]}, {\"z\": [0.20884652537345866, 0.21132495093752063], \"x\": [0.8886086758917745, 0.9390707571195289], \"type\": \"scatter3d\", \"y\": [-0.40835982903476237, -0.2710864774093487]}, {\"z\": [0.20884652537345866, 0.4264002240635982], \"x\": [0.8886086758917745, 0.8320511996485439], \"type\": \"scatter3d\", \"y\": [-0.40835982903476237, -0.3547867670614732]}, {\"z\": [0.6396027116779784, 0.6396027116779784], \"x\": [0.7071066745408645, 0.554698888720413], \"type\": \"scatter3d\", \"y\": [-0.30151040120356815, -0.5321818430447582]}, {\"z\": [0.6396027116779784, 0.408248282714439], \"x\": [0.7071066745408645, 0.7071069010744352], \"type\": \"scatter3d\", \"y\": [-0.30151040120356815, -0.5773501278371904]}, {\"z\": [0.6396027116779784, 0.4264002240635982], \"x\": [0.7071066745408645, 0.8320511996485439], \"type\": \"scatter3d\", \"y\": [-0.30151040120356815, -0.3547867670614732]}, {\"z\": [0.6396027116779784, 0.7886752794720706], \"x\": [0.7071066745408645, 0.5906902992165697], \"type\": \"scatter3d\", \"y\": [-0.30151040120356815, -0.1705176646599722]}, {\"z\": [0.6396027116779784, 0.8164969900785599], \"x\": [0.7071066745408645, 0.4472132214232083], \"type\": \"scatter3d\", \"y\": [-0.30151040120356815, -0.3651479149289072]}, {\"z\": [0.6396027116779784, 0.5773499573895512], \"x\": [0.7071066745408645, 0.8068984206425867], \"type\": \"scatter3d\", \"y\": [-0.30151040120356815, -0.12482774317747945]}, {\"z\": [0.6396027116779784, 0.8164969900785599], \"x\": [0.554698888720413, 0.4472132214232083], \"type\": \"scatter3d\", \"y\": [-0.5321818430447582, -0.3651479149289072]}, {\"z\": [0.6396027116779784, 0.408248282714439], \"x\": [0.554698888720413, 0.7071069010744352], \"type\": \"scatter3d\", \"y\": [-0.5321818430447582, -0.5773501278371904]}, {\"z\": [0.408248282714439, 0.4264002240635982], \"x\": [0.7071069010744352, 0.8320511996485439], \"type\": \"scatter3d\", \"y\": [-0.5773501278371904, -0.3547867670614732]}, {\"z\": [0.7886752794720706, 0.8164969900785599], \"x\": [0.5906902992165697, 0.4472132214232083], \"type\": \"scatter3d\", \"y\": [-0.1705176646599722, -0.3651479149289072]}, {\"z\": [0.7886752794720706, 0.5773499573895512], \"x\": [0.5906902992165697, 0.8068984206425867], \"type\": \"scatter3d\", \"y\": [-0.1705176646599722, -0.12482774317747945]}, {\"z\": [0.408248282714439, 0.4264002240635982], \"x\": [0.8944271799338995, 0.8320511996485439], \"type\": \"scatter3d\", \"y\": [-0.18257425737546654, -0.3547867670614732]}, {\"z\": [0.408248282714439, 0.21132495093752063], \"x\": [0.8944271799338995, 0.9390707571195289], \"type\": \"scatter3d\", \"y\": [-0.18257425737546654, -0.2710864774093487]}, {\"z\": [0.408248282714439, 0.21132495093752063], \"x\": [0.8944271799338995, 0.9659257857520813], \"type\": \"scatter3d\", \"y\": [-0.18257425737546654, -0.149429386435463]}, {\"z\": [0.408248282714439, 0.4046145760544582], \"x\": [0.8944271799338995, 0.9103959111935398], \"type\": \"scatter3d\", \"y\": [-0.18257425737546654, -0.08640792629357265]}, {\"z\": [0.408248282714439, 0.5773499573895512], \"x\": [0.8944271799338995, 0.8068984206425867], \"type\": \"scatter3d\", \"y\": [-0.18257425737546654, -0.12482774317747945]}, {\"z\": [0.4264002240635982, 0.21132495093752063], \"x\": [0.8320511996485439, 0.9390707571195289], \"type\": \"scatter3d\", \"y\": [-0.3547867670614732, -0.2710864774093487]}, {\"z\": [0.4264002240635982, 0.5773499573895512], \"x\": [0.8320511996485439, 0.8068984206425867], \"type\": \"scatter3d\", \"y\": [-0.3547867670614732, -0.12482774317747945]}, {\"z\": [0.21132495093752063, 0.21132495093752063], \"x\": [0.9390707571195289, 0.9659257857520813], \"type\": \"scatter3d\", \"y\": [-0.2710864774093487, -0.149429386435463]}, {\"z\": [0.21132495093752063, 0.4046145760544582], \"x\": [0.9659257857520813, 0.9103959111935398], \"type\": \"scatter3d\", \"y\": [-0.149429386435463, -0.08640792629357265]}, {\"z\": [0.4046145760544582, 0.5773499573895512], \"x\": [0.9103959111935398, 0.8068984206425867], \"type\": \"scatter3d\", \"y\": [-0.08640792629357265, -0.12482774317747945]}], {\"height\": 800, \"width\": 900, \"autosize\": true, \"title\": \"Ajacent graph\", \"margin\": {\"b\": 65, \"t\": 90, \"r\": 50, \"l\": 65}}, {\"linkText\": \"Export to plot.ly\", \"showLink\": true})});</script>"
      ],
      "text/vnd.plotly.v1+html": [
       "<div id=\"d338b9c4-9012-489e-bb30-69c641eb4d2d\" style=\"height: 800px; width: 900px;\" class=\"plotly-graph-div\"></div><script type=\"text/javascript\">require([\"plotly\"], function(Plotly) { window.PLOTLYENV=window.PLOTLYENV || {};window.PLOTLYENV.BASE_URL=\"https://plot.ly\";Plotly.newPlot(\"d338b9c4-9012-489e-bb30-69c641eb4d2d\", [{\"z\": [1.0, 0.9807853859175633], \"x\": [0.0, -0.1950897915589948], \"type\": \"scatter3d\", \"y\": [0.0, -6.758109500328984e-08]}, {\"z\": [1.0, 0.9807853859175633], \"x\": [0.0, 0.1950897915590065], \"type\": \"scatter3d\", \"y\": [0.0, 0.0]}, {\"z\": [1.0, 0.9596830178521761], \"x\": [0.0, 0.20280288969962867], \"type\": \"scatter3d\", \"y\": [0.0, -0.19462654797231552]}, {\"z\": [1.0, 0.9807853859175633], \"x\": [0.0, 6.375434829149114e-08], \"type\": \"scatter3d\", \"y\": [0.0, -0.19508979155899608]}, {\"z\": [1.0, 0.9596830178521761], \"x\": [0.0, -0.20280295712023924], \"type\": \"scatter3d\", \"y\": [0.0, -0.19462647771931285]}, {\"z\": [1.0, 0.8903199365757781], \"x\": [0.0, 0.41373865644490737], \"type\": \"scatter3d\", \"y\": [0.0, -0.19013346548902246]}, {\"z\": [0.4264002240635982, 0.6396027116779784], \"x\": [-0.8320509677633564, -0.7071064774765927], \"type\": \"scatter3d\", \"y\": [-0.3547873108815692, -0.3015108633612091]}, {\"z\": [0.4264002240635982, 0.5773499573895512], \"x\": [-0.8320509677633564, -0.8068984638841425], \"type\": \"scatter3d\", \"y\": [-0.3547873108815692, -0.12482746365962312]}, {\"z\": [0.4264002240635982, 0.408248282714439], \"x\": [-0.8320509677633564, -0.7071065237241335], \"type\": \"scatter3d\", \"y\": [-0.3547873108815692, -0.5773505899949206]}, {\"z\": [0.4264002240635982, 0.19875687620851], \"x\": [-0.8320509677633564, -0.7071068980068338], \"type\": \"scatter3d\", \"y\": [-0.3547873108815692, -0.6785982161419142]}, {\"z\": [0.7886752794720706, 0.8903199365757781], \"x\": [-0.5906901877678383, -0.4137387223090556], \"type\": \"scatter3d\", \"y\": [-0.17051805072908632, -0.19013332216571754]}, {\"z\": [0.7886752794720706, 0.8164969900785599], \"x\": [-0.5906901877678383, -0.44721298276616256], \"type\": \"scatter3d\", \"y\": [-0.17051805072908632, -0.36514820722282626]}, {\"z\": [0.7886752794720706, 0.6396027116779784], \"x\": [-0.5906901877678383, -0.7071064774765927], \"type\": \"scatter3d\", \"y\": [-0.17051805072908632, -0.3015108633612091]}, {\"z\": [0.7886752794720706, 0.5773499573895512], \"x\": [-0.5906901877678383, -0.8068984638841425], \"type\": \"scatter3d\", \"y\": [-0.17051805072908632, -0.12482746365962312]}, {\"z\": [0.8903199365757781, 0.9596830178521761], \"x\": [-0.4137387223090556, -0.20280295712023924], \"type\": \"scatter3d\", \"y\": [-0.19013332216571754, -0.19462647771931285]}, {\"z\": [0.8903199365757781, 0.8164969900785599], \"x\": [-0.4137387223090556, -0.44721298276616256], \"type\": \"scatter3d\", \"y\": [-0.19013332216571754, -0.36514820722282626]}, {\"z\": [0.6396027116779784, 0.5773499573895512], \"x\": [-0.7071064774765927, -0.8068984638841425], \"type\": \"scatter3d\", \"y\": [-0.3015108633612091, -0.12482746365962312]}, {\"z\": [0.6396027116779784, 0.408248282714439], \"x\": [-0.7071064774765927, -0.7071065237241335], \"type\": \"scatter3d\", \"y\": [-0.3015108633612091, -0.5773505899949206]}, {\"z\": [0.6396027116779784, 0.6396027116779784], \"x\": [-0.7071064774765927, -0.5546990730736021], \"type\": \"scatter3d\", \"y\": [-0.3015108633612091, -0.5321816508913696]}, {\"z\": [0.6396027116779784, 0.8164969900785599], \"x\": [-0.7071064774765927, -0.44721298276616256], \"type\": \"scatter3d\", \"y\": [-0.3015108633612091, -0.36514820722282626]}, {\"z\": [0.4046145760544582, 0.408248282714439], \"x\": [-0.45866600497329046, -0.7071065237241335], \"type\": \"scatter3d\", \"y\": [-0.7911463459601596, -0.5773505899949206]}, {\"z\": [0.4046145760544582, 0.19875687620851], \"x\": [-0.45866600497329046, -0.7071068980068338], \"type\": \"scatter3d\", \"y\": [-0.7911463459601596, -0.6785982161419142]}, {\"z\": [0.4046145760544582, 0.1950901120746549], \"x\": [-0.45866600497329046, 3.205156381002135e-07], \"type\": \"scatter3d\", \"y\": [-0.7911463459601596, -0.9807853221631102]}, {\"z\": [0.4046145760544582, 0.6396027116779784], \"x\": [-0.45866600497329046, -0.5546990730736021], \"type\": \"scatter3d\", \"y\": [-0.7911463459601596, -0.5321816508913696]}, {\"z\": [0.4046145760544582, 0.5773499573895512], \"x\": [-0.45866600497329046, -0.3437238034018253], \"type\": \"scatter3d\", \"y\": [-0.7911463459601596, -0.7406220180883545]}, {\"z\": [0.4046145760544582, 0.38268273492478555], \"x\": [-0.45866600497329046, 3.0191921085329833e-07], \"type\": \"scatter3d\", \"y\": [-0.7911463459601596, -0.923879821400162]}, {\"z\": [0.408248282714439, 0.19875687620851], \"x\": [-0.7071065237241335, -0.7071068980068338], \"type\": \"scatter3d\", \"y\": [-0.5773505899949206, -0.6785982161419142]}, {\"z\": [0.408248282714439, 0.6396027116779784], \"x\": [-0.7071065237241335, -0.5546990730736021], \"type\": \"scatter3d\", \"y\": [-0.5773505899949206, -0.5321816508913696]}, {\"z\": [0.19875687620851, 0.1950901120746549], \"x\": [-0.7071068980068338, 3.205156381002135e-07], \"type\": \"scatter3d\", \"y\": [-0.6785982161419142, -0.9807853221631102]}, {\"z\": [0.1950901120746549, 0.1950901120746549], \"x\": [3.205156381002135e-07, 0.9807853221631626], \"type\": \"scatter3d\", \"y\": [-0.9807853221631102, 0.0]}, {\"z\": [0.1950901120746549, 0.4046145760544582], \"x\": [3.205156381002135e-07, 0.4586665220583694], \"type\": \"scatter3d\", \"y\": [-0.9807853221631102, -0.7911460461805713]}, {\"z\": [0.1950901120746549, 0.38268273492478555], \"x\": [3.205156381002135e-07, 3.0191921085329833e-07], \"type\": \"scatter3d\", \"y\": [-0.9807853221631102, -0.923879821400162]}, {\"z\": [0.1950901120746549, 0.19875687620851], \"x\": [3.205156381002135e-07, 0.707106662933443], \"type\": \"scatter3d\", \"y\": [-0.9807853221631102, -0.6785984610909204]}, {\"z\": [0.9596830178521761, 0.8164969900785599], \"x\": [-0.20280295712023924, -0.44721298276616256], \"type\": \"scatter3d\", \"y\": [-0.19462647771931285, -0.36514820722282626]}, {\"z\": [0.9596830178521761, 0.9807853859175633], \"x\": [-0.20280295712023924, 6.375434829149114e-08], \"type\": \"scatter3d\", \"y\": [-0.19462647771931285, -0.19508979155899608]}, {\"z\": [0.9596830178521761, 0.8903199365757781], \"x\": [-0.20280295712023924, -0.22837595262369279], \"type\": \"scatter3d\", \"y\": [-0.19462647771931285, -0.3939223715390168]}, {\"z\": [0.9238795637760319, 0.7886752794720706], \"x\": [0.38268335688530936, 0.5906902992165697], \"type\": \"scatter3d\", \"y\": [0.0, -0.1705176646599722]}, {\"z\": [0.9238795637760319, 0.8314699581715694], \"x\": [0.38268335688530936, 0.5555697153896786], \"type\": \"scatter3d\", \"y\": [0.0, 0.0]}, {\"z\": [0.9238795637760319, 0.8903199365757781], \"x\": [0.38268335688530936, 0.41373865644490737], \"type\": \"scatter3d\", \"y\": [0.0, -0.19013346548902246]}, {\"z\": [0.9238795637760319, 0.9807853859175633], \"x\": [0.38268335688530936, 0.1950897915590065], \"type\": \"scatter3d\", \"y\": [0.0, 0.0]}, {\"z\": [0.9238795637760319, 0.9238795637760319], \"x\": [0.38268335688530936, -0.38268335688528643], \"type\": \"scatter3d\", \"y\": [0.0, -1.325654207284431e-07]}, {\"z\": [0.8903199365757781, 0.9807853859175633], \"x\": [0.41373865644490737, 0.1950897915590065], \"type\": \"scatter3d\", \"y\": [-0.19013346548902246, 0.0]}, {\"z\": [0.8903199365757781, 0.9596830178521761], \"x\": [0.41373865644490737, 0.20280288969962867], \"type\": \"scatter3d\", \"y\": [-0.19013346548902246, -0.19462654797231552]}, {\"z\": [0.8903199365757781, 0.8164969900785599], \"x\": [0.41373865644490737, 0.4472132214232083], \"type\": \"scatter3d\", \"y\": [-0.19013346548902246, -0.3651479149289072]}, {\"z\": [0.8903199365757781, 0.7886752794720706], \"x\": [0.41373865644490737, 0.5906902992165697], \"type\": \"scatter3d\", \"y\": [-0.19013346548902246, -0.1705176646599722]}, {\"z\": [0.9807853859175633, 0.9807853859175633], \"x\": [0.1950897915590065, -0.1950897915589948], \"type\": \"scatter3d\", \"y\": [0.0, -6.758109500328984e-08]}, {\"z\": [0.9238795637760319, 0.9807853859175633], \"x\": [-0.38268335688528643, -0.1950897915589948], \"type\": \"scatter3d\", \"y\": [-1.325654207284431e-07, -6.758109500328984e-08]}, {\"z\": [0.9238795637760319, 0.8314699581715694], \"x\": [-0.38268335688528643, -0.5555697153896453], \"type\": \"scatter3d\", \"y\": [-1.325654207284431e-07, -1.924550198996162e-07]}, {\"z\": [0.8903199365757781, 0.9596830178521761], \"x\": [0.22837621008728548, 0.20280288969962867], \"type\": \"scatter3d\", \"y\": [-0.393922222274741, -0.19462654797231552]}, {\"z\": [0.8903199365757781, 0.8164969900785599], \"x\": [0.22837621008728548, 0.4472132214232083], \"type\": \"scatter3d\", \"y\": [-0.393922222274741, -0.3651479149289072]}, {\"z\": [0.8903199365757781, 0.7886752794720706], \"x\": [0.22837621008728548, 0.25881928712261626], \"type\": \"scatter3d\", \"y\": [-0.393922222274741, -0.5576772186157438]}, {\"z\": [0.8903199365757781, 0.9807853859175633], \"x\": [0.22837621008728548, 6.375434829149114e-08], \"type\": \"scatter3d\", \"y\": [-0.393922222274741, -0.19508979155899608]}, {\"z\": [0.8903199365757781, 0.9238795637760319], \"x\": [0.22837621008728548, 1.2505896810517491e-07], \"type\": \"scatter3d\", \"y\": [-0.393922222274741, -0.38268335688528893]}, {\"z\": [0.9596830178521761, 0.9807853859175633], \"x\": [0.20280288969962867, 6.375434829149114e-08], \"type\": \"scatter3d\", \"y\": [-0.19462654797231552, -0.19508979155899608]}, {\"z\": [0.9596830178521761, 0.8164969900785599], \"x\": [0.20280288969962867, 0.4472132214232083], \"type\": \"scatter3d\", \"y\": [-0.19462654797231552, -0.3651479149289072]}, {\"z\": [0.9807853859175633, 0.8903199365757781], \"x\": [6.375434829149114e-08, -0.22837595262369279], \"type\": \"scatter3d\", \"y\": [-0.19508979155899608, -0.3939223715390168]}, {\"z\": [0.9807853859175633, 0.9238795637760319], \"x\": [6.375434829149114e-08, 1.2505896810517491e-07], \"type\": \"scatter3d\", \"y\": [-0.19508979155899608, -0.38268335688528893]}, {\"z\": [0.19875687620851, 0.4046145760544582], \"x\": [0.707106662933443, 0.4586665220583694], \"type\": \"scatter3d\", \"y\": [-0.6785984610909204, -0.7911460461805713]}, {\"z\": [0.19875687620851, 0.1950901120746549], \"x\": [0.707106662933443, 0.9807853221631626], \"type\": \"scatter3d\", \"y\": [-0.6785984610909204, 0.0]}, {\"z\": [0.19875687620851, 0.408248282714439], \"x\": [0.707106662933443, 0.7071069010744352], \"type\": \"scatter3d\", \"y\": [-0.6785984610909204, -0.5773501278371904]}, {\"z\": [0.19875687620851, 0.20884652537345866], \"x\": [0.707106662933443, 0.8886086758917745], \"type\": \"scatter3d\", \"y\": [-0.6785984610909204, -0.40835982903476237]}, {\"z\": [0.7886752794720706, 0.7071068967259819], \"x\": [-0.25881892263042294, 2.3107884979857942e-07], \"type\": \"scatter3d\", \"y\": [-0.557677387777269, -0.7071066656470566]}, {\"z\": [0.7886752794720706, 0.8314699581715694], \"x\": [-0.25881892263042294, 1.8155734778385425e-07], \"type\": \"scatter3d\", \"y\": [-0.557677387777269, -0.5555697153896489]}, {\"z\": [0.7886752794720706, 0.5773499573895512], \"x\": [-0.25881892263042294, -0.3437238034018253], \"type\": \"scatter3d\", \"y\": [-0.557677387777269, -0.7406220180883545]}, {\"z\": [0.7886752794720706, 0.9238795637760319], \"x\": [-0.25881892263042294, 1.2505896810517491e-07], \"type\": \"scatter3d\", \"y\": [-0.557677387777269, -0.38268335688528893]}, {\"z\": [0.7886752794720706, 0.8903199365757781], \"x\": [-0.25881892263042294, -0.22837595262369279], \"type\": \"scatter3d\", \"y\": [-0.557677387777269, -0.3939223715390168]}, {\"z\": [0.7886752794720706, 0.6396027116779784], \"x\": [-0.25881892263042294, -0.5546990730736021], \"type\": \"scatter3d\", \"y\": [-0.557677387777269, -0.5321816508913696]}, {\"z\": [0.7886752794720706, 0.8164969900785599], \"x\": [-0.25881892263042294, -0.44721298276616256], \"type\": \"scatter3d\", \"y\": [-0.557677387777269, -0.36514820722282626]}, {\"z\": [0.8314699581715694, 0.7071068967259819], \"x\": [1.8155734778385425e-07, 2.3107884979857942e-07], \"type\": \"scatter3d\", \"y\": [-0.5555697153896489, -0.7071066656470566]}, {\"z\": [0.8314699581715694, 0.7886752794720706], \"x\": [1.8155734778385425e-07, 0.25881928712261626], \"type\": \"scatter3d\", \"y\": [-0.5555697153896489, -0.5576772186157438]}, {\"z\": [0.8314699581715694, 0.9238795637760319], \"x\": [1.8155734778385425e-07, 1.2505896810517491e-07], \"type\": \"scatter3d\", \"y\": [-0.5555697153896489, -0.38268335688528893]}, {\"z\": [0.5773499573895512, 0.38268273492478555], \"x\": [-0.3437238034018253, 3.0191921085329833e-07], \"type\": \"scatter3d\", \"y\": [-0.7406220180883545, -0.923879821400162]}, {\"z\": [0.5773499573895512, 0.5555699871097881], \"x\": [-0.3437238034018253, 2.7172007980784245e-07], \"type\": \"scatter3d\", \"y\": [-0.7406220180883545, -0.8314697766141329]}, {\"z\": [0.5773499573895512, 0.7071068967259819], \"x\": [-0.3437238034018253, 2.3107884979857942e-07], \"type\": \"scatter3d\", \"y\": [-0.7406220180883545, -0.7071066656470566]}, {\"z\": [0.5773499573895512, 0.6396027116779784], \"x\": [-0.3437238034018253, -0.5546990730736021], \"type\": \"scatter3d\", \"y\": [-0.7406220180883545, -0.5321816508913696]}, {\"z\": [0.9238795637760319, 0.7886752794720706], \"x\": [1.2505896810517491e-07, 0.25881928712261626], \"type\": \"scatter3d\", \"y\": [-0.38268335688528893, -0.5576772186157438]}, {\"z\": [0.9238795637760319, 0.8903199365757781], \"x\": [1.2505896810517491e-07, -0.22837595262369279], \"type\": \"scatter3d\", \"y\": [-0.38268335688528893, -0.3939223715390168]}, {\"z\": [0.8903199365757781, 0.8164969900785599], \"x\": [-0.22837595262369279, -0.44721298276616256], \"type\": \"scatter3d\", \"y\": [-0.3939223715390168, -0.36514820722282626]}, {\"z\": [0.6396027116779784, 0.8164969900785599], \"x\": [-0.5546990730736021, -0.44721298276616256], \"type\": \"scatter3d\", \"y\": [-0.5321816508913696, -0.36514820722282626]}, {\"z\": [0.7071068967259819, 0.7886752794720706], \"x\": [0.7071066656470943, 0.5906902992165697], \"type\": \"scatter3d\", \"y\": [0.0, -0.1705176646599722]}, {\"z\": [0.7071068967259819, 0.8314699581715694], \"x\": [0.7071066656470943, 0.5555697153896786], \"type\": \"scatter3d\", \"y\": [0.0, 0.0]}, {\"z\": [0.7071068967259819, 0.5773499573895512], \"x\": [0.7071066656470943, 0.8068984206425867], \"type\": \"scatter3d\", \"y\": [0.0, -0.12482774317747945]}, {\"z\": [0.7071068967259819, 0.5555699871097881], \"x\": [0.7071066656470943, 0.8314697766141773], \"type\": \"scatter3d\", \"y\": [0.0, 0.0]}, {\"z\": [0.7071068967259819, 0.7071068967259819], \"x\": [0.7071066656470943, -0.7071066656470519], \"type\": \"scatter3d\", \"y\": [0.0, -2.449489661487603e-07]}, {\"z\": [0.8314699581715694, 0.8314699581715694], \"x\": [0.5555697153896786, -0.5555697153896453], \"type\": \"scatter3d\", \"y\": [0.0, -1.924550198996162e-07]}, {\"z\": [0.8314699581715694, 0.7886752794720706], \"x\": [0.5555697153896786, 0.5906902992165697], \"type\": \"scatter3d\", \"y\": [0.0, -0.1705176646599722]}, {\"z\": [0.5555699871097881, 0.5555699871097881], \"x\": [0.8314697766141773, -0.8314697766141275], \"type\": \"scatter3d\", \"y\": [0.0, -2.880296171146981e-07]}, {\"z\": [0.5555699871097881, 0.38268273492478555], \"x\": [0.8314697766141773, 0.9238798214002113], \"type\": \"scatter3d\", \"y\": [0.0, 0.0]}, {\"z\": [0.5555699871097881, 0.4046145760544582], \"x\": [0.8314697766141773, 0.9103959111935398], \"type\": \"scatter3d\", \"y\": [0.0, -0.08640792629357265]}, {\"z\": [0.5555699871097881, 0.5773499573895512], \"x\": [0.8314697766141773, 0.8068984206425867], \"type\": \"scatter3d\", \"y\": [0.0, -0.12482774317747945]}, {\"z\": [0.7071068967259819, 0.8314699581715694], \"x\": [-0.7071066656470519, -0.5555697153896453], \"type\": \"scatter3d\", \"y\": [-2.449489661487603e-07, -1.924550198996162e-07]}, {\"z\": [0.7071068967259819, 0.5555699871097881], \"x\": [-0.7071066656470519, -0.8314697766141275], \"type\": \"scatter3d\", \"y\": [-2.449489661487603e-07, -2.880296171146981e-07]}, {\"z\": [0.5555699871097881, 0.1950901120746549], \"x\": [-0.8314697766141275, 0.9807853221631626], \"type\": \"scatter3d\", \"y\": [-2.880296171146981e-07, 0.0]}, {\"z\": [0.5555699871097881, 0.38268273492478555], \"x\": [-0.8314697766141275, 0.9238798214002113], \"type\": \"scatter3d\", \"y\": [-2.880296171146981e-07, 0.0]}, {\"z\": [0.19875687620851, 0.38268273492478555], \"x\": [0.9792195379726093, 0.9238798214002113], \"type\": \"scatter3d\", \"y\": [-0.040308815568615576, 0.0]}, {\"z\": [0.19875687620851, 0.1950901120746549], \"x\": [0.9792195379726093, 0.9807853221631626], \"type\": \"scatter3d\", \"y\": [-0.040308815568615576, 0.0]}, {\"z\": [0.19875687620851, 0.20884652537345866], \"x\": [0.9792195379726093, 0.9735731031435004], \"type\": \"scatter3d\", \"y\": [-0.040308815568615576, -0.09240422974608956]}, {\"z\": [0.19875687620851, 0.21132495093752063], \"x\": [0.9792195379726093, 0.9659257857520813], \"type\": \"scatter3d\", \"y\": [-0.040308815568615576, -0.149429386435463]}, {\"z\": [0.19875687620851, 0.21132495093752063], \"x\": [0.9792195379726093, 0.9390707571195289], \"type\": \"scatter3d\", \"y\": [-0.040308815568615576, -0.2710864774093487]}, {\"z\": [0.19875687620851, 0.20884652537345866], \"x\": [0.9792195379726093, 0.8886086758917745], \"type\": \"scatter3d\", \"y\": [-0.040308815568615576, -0.40835982903476237]}, {\"z\": [0.38268273492478555, 0.4046145760544582], \"x\": [0.9238798214002113, 0.9103959111935398], \"type\": \"scatter3d\", \"y\": [0.0, -0.08640792629357265]}, {\"z\": [0.38268273492478555, 0.1950901120746549], \"x\": [0.9238798214002113, 0.9807853221631626], \"type\": \"scatter3d\", \"y\": [0.0, 0.0]}, {\"z\": [0.38268273492478555, 0.20884652537345866], \"x\": [0.9238798214002113, 0.9735731031435004], \"type\": \"scatter3d\", \"y\": [0.0, -0.09240422974608956]}, {\"z\": [0.1950901120746549, 0.20884652537345866], \"x\": [0.9807853221631626, 0.8886086758917745], \"type\": \"scatter3d\", \"y\": [0.0, -0.40835982903476237]}, {\"z\": [0.20884652537345866, 0.4046145760544582], \"x\": [0.9735731031435004, 0.9103959111935398], \"type\": \"scatter3d\", \"y\": [-0.09240422974608956, -0.08640792629357265]}, {\"z\": [0.20884652537345866, 0.21132495093752063], \"x\": [0.9735731031435004, 0.9659257857520813], \"type\": \"scatter3d\", \"y\": [-0.09240422974608956, -0.149429386435463]}, {\"z\": [0.5773499573895512, 0.6396027116779784], \"x\": [0.3437242874647436, 0.554698888720413], \"type\": \"scatter3d\", \"y\": [-0.7406217934338266, -0.5321818430447582]}, {\"z\": [0.5773499573895512, 0.4046145760544582], \"x\": [0.3437242874647436, 0.4586665220583694], \"type\": \"scatter3d\", \"y\": [-0.7406217934338266, -0.7911460461805713]}, {\"z\": [0.5773499573895512, 0.7886752794720706], \"x\": [0.3437242874647436, 0.25881928712261626], \"type\": \"scatter3d\", \"y\": [-0.7406217934338266, -0.5576772186157438]}, {\"z\": [0.5773499573895512, 0.38268273492478555], \"x\": [0.3437242874647436, 3.0191921085329833e-07], \"type\": \"scatter3d\", \"y\": [-0.7406217934338266, -0.923879821400162]}, {\"z\": [0.5773499573895512, 0.5555699871097881], \"x\": [0.3437242874647436, 2.7172007980784245e-07], \"type\": \"scatter3d\", \"y\": [-0.7406217934338266, -0.8314697766141329]}, {\"z\": [0.5773499573895512, 0.7071068967259819], \"x\": [0.3437242874647436, 2.3107884979857942e-07], \"type\": \"scatter3d\", \"y\": [-0.7406217934338266, -0.7071066656470566]}, {\"z\": [0.4046145760544582, 0.38268273492478555], \"x\": [0.4586665220583694, 3.0191921085329833e-07], \"type\": \"scatter3d\", \"y\": [-0.7911460461805713, -0.923879821400162]}, {\"z\": [0.4046145760544582, 0.408248282714439], \"x\": [0.4586665220583694, 0.7071069010744352], \"type\": \"scatter3d\", \"y\": [-0.7911460461805713, -0.5773501278371904]}, {\"z\": [0.4046145760544582, 0.6396027116779784], \"x\": [0.4586665220583694, 0.554698888720413], \"type\": \"scatter3d\", \"y\": [-0.7911460461805713, -0.5321818430447582]}, {\"z\": [0.7886752794720706, 0.7071068967259819], \"x\": [0.25881928712261626, 2.3107884979857942e-07], \"type\": \"scatter3d\", \"y\": [-0.5576772186157438, -0.7071066656470566]}, {\"z\": [0.7886752794720706, 0.6396027116779784], \"x\": [0.25881928712261626, 0.554698888720413], \"type\": \"scatter3d\", \"y\": [-0.5576772186157438, -0.5321818430447582]}, {\"z\": [0.7886752794720706, 0.8164969900785599], \"x\": [0.25881928712261626, 0.4472132214232083], \"type\": \"scatter3d\", \"y\": [-0.5576772186157438, -0.3651479149289072]}, {\"z\": [0.38268273492478555, 0.5555699871097881], \"x\": [3.0191921085329833e-07, 2.7172007980784245e-07], \"type\": \"scatter3d\", \"y\": [-0.923879821400162, -0.8314697766141329]}, {\"z\": [0.5555699871097881, 0.7071068967259819], \"x\": [2.7172007980784245e-07, 2.3107884979857942e-07], \"type\": \"scatter3d\", \"y\": [-0.8314697766141329, -0.7071066656470566]}, {\"z\": [0.20884652537345866, 0.408248282714439], \"x\": [0.8886086758917745, 0.7071069010744352], \"type\": \"scatter3d\", \"y\": [-0.40835982903476237, -0.5773501278371904]}, {\"z\": [0.20884652537345866, 0.21132495093752063], \"x\": [0.8886086758917745, 0.9390707571195289], \"type\": \"scatter3d\", \"y\": [-0.40835982903476237, -0.2710864774093487]}, {\"z\": [0.20884652537345866, 0.4264002240635982], \"x\": [0.8886086758917745, 0.8320511996485439], \"type\": \"scatter3d\", \"y\": [-0.40835982903476237, -0.3547867670614732]}, {\"z\": [0.6396027116779784, 0.6396027116779784], \"x\": [0.7071066745408645, 0.554698888720413], \"type\": \"scatter3d\", \"y\": [-0.30151040120356815, -0.5321818430447582]}, {\"z\": [0.6396027116779784, 0.408248282714439], \"x\": [0.7071066745408645, 0.7071069010744352], \"type\": \"scatter3d\", \"y\": [-0.30151040120356815, -0.5773501278371904]}, {\"z\": [0.6396027116779784, 0.4264002240635982], \"x\": [0.7071066745408645, 0.8320511996485439], \"type\": \"scatter3d\", \"y\": [-0.30151040120356815, -0.3547867670614732]}, {\"z\": [0.6396027116779784, 0.7886752794720706], \"x\": [0.7071066745408645, 0.5906902992165697], \"type\": \"scatter3d\", \"y\": [-0.30151040120356815, -0.1705176646599722]}, {\"z\": [0.6396027116779784, 0.8164969900785599], \"x\": [0.7071066745408645, 0.4472132214232083], \"type\": \"scatter3d\", \"y\": [-0.30151040120356815, -0.3651479149289072]}, {\"z\": [0.6396027116779784, 0.5773499573895512], \"x\": [0.7071066745408645, 0.8068984206425867], \"type\": \"scatter3d\", \"y\": [-0.30151040120356815, -0.12482774317747945]}, {\"z\": [0.6396027116779784, 0.8164969900785599], \"x\": [0.554698888720413, 0.4472132214232083], \"type\": \"scatter3d\", \"y\": [-0.5321818430447582, -0.3651479149289072]}, {\"z\": [0.6396027116779784, 0.408248282714439], \"x\": [0.554698888720413, 0.7071069010744352], \"type\": \"scatter3d\", \"y\": [-0.5321818430447582, -0.5773501278371904]}, {\"z\": [0.408248282714439, 0.4264002240635982], \"x\": [0.7071069010744352, 0.8320511996485439], \"type\": \"scatter3d\", \"y\": [-0.5773501278371904, -0.3547867670614732]}, {\"z\": [0.7886752794720706, 0.8164969900785599], \"x\": [0.5906902992165697, 0.4472132214232083], \"type\": \"scatter3d\", \"y\": [-0.1705176646599722, -0.3651479149289072]}, {\"z\": [0.7886752794720706, 0.5773499573895512], \"x\": [0.5906902992165697, 0.8068984206425867], \"type\": \"scatter3d\", \"y\": [-0.1705176646599722, -0.12482774317747945]}, {\"z\": [0.408248282714439, 0.4264002240635982], \"x\": [0.8944271799338995, 0.8320511996485439], \"type\": \"scatter3d\", \"y\": [-0.18257425737546654, -0.3547867670614732]}, {\"z\": [0.408248282714439, 0.21132495093752063], \"x\": [0.8944271799338995, 0.9390707571195289], \"type\": \"scatter3d\", \"y\": [-0.18257425737546654, -0.2710864774093487]}, {\"z\": [0.408248282714439, 0.21132495093752063], \"x\": [0.8944271799338995, 0.9659257857520813], \"type\": \"scatter3d\", \"y\": [-0.18257425737546654, -0.149429386435463]}, {\"z\": [0.408248282714439, 0.4046145760544582], \"x\": [0.8944271799338995, 0.9103959111935398], \"type\": \"scatter3d\", \"y\": [-0.18257425737546654, -0.08640792629357265]}, {\"z\": [0.408248282714439, 0.5773499573895512], \"x\": [0.8944271799338995, 0.8068984206425867], \"type\": \"scatter3d\", \"y\": [-0.18257425737546654, -0.12482774317747945]}, {\"z\": [0.4264002240635982, 0.21132495093752063], \"x\": [0.8320511996485439, 0.9390707571195289], \"type\": \"scatter3d\", \"y\": [-0.3547867670614732, -0.2710864774093487]}, {\"z\": [0.4264002240635982, 0.5773499573895512], \"x\": [0.8320511996485439, 0.8068984206425867], \"type\": \"scatter3d\", \"y\": [-0.3547867670614732, -0.12482774317747945]}, {\"z\": [0.21132495093752063, 0.21132495093752063], \"x\": [0.9390707571195289, 0.9659257857520813], \"type\": \"scatter3d\", \"y\": [-0.2710864774093487, -0.149429386435463]}, {\"z\": [0.21132495093752063, 0.4046145760544582], \"x\": [0.9659257857520813, 0.9103959111935398], \"type\": \"scatter3d\", \"y\": [-0.149429386435463, -0.08640792629357265]}, {\"z\": [0.4046145760544582, 0.5773499573895512], \"x\": [0.9103959111935398, 0.8068984206425867], \"type\": \"scatter3d\", \"y\": [-0.08640792629357265, -0.12482774317747945]}], {\"height\": 800, \"width\": 900, \"autosize\": true, \"title\": \"Ajacent graph\", \"margin\": {\"b\": 65, \"t\": 90, \"r\": 50, \"l\": 65}}, {\"linkText\": \"Export to plot.ly\", \"showLink\": true})});</script>"
      ]
     },
     "metadata": {},
     "output_type": "display_data"
    }
   ],
   "source": [
    "layout = go.Layout(\n",
    "    title='Ajacent graph',\n",
    "    autosize=True,\n",
    "    width=900,\n",
    "    height=800,\n",
    "    margin=dict(\n",
    "        l=65,\n",
    "        r=50,\n",
    "        b=65,\n",
    "        t=90\n",
    "    )\n",
    ")\n",
    "\n",
    "\n",
    "fig = go.Figure(data=traces, layout=layout)\n",
    "iplot(fig, filename='spatial')"
   ]
  },
  {
   "cell_type": "code",
   "execution_count": null,
   "metadata": {
    "collapsed": true
   },
   "outputs": [],
   "source": []
  }
 ],
 "metadata": {
  "kernelspec": {
   "display_name": "Python 3",
   "language": "python",
   "name": "python3"
  },
  "language_info": {
   "codemirror_mode": {
    "name": "ipython",
    "version": 3
   },
   "file_extension": ".py",
   "mimetype": "text/x-python",
   "name": "python",
   "nbconvert_exporter": "python",
   "pygments_lexer": "ipython3",
   "version": "3.4.5"
  }
 },
 "nbformat": 4,
 "nbformat_minor": 2
}
