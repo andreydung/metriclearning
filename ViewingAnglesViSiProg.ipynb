{
 "cells": [
  {
   "cell_type": "markdown",
   "metadata": {},
   "source": [
    "# Viewing angles\n",
    "\n",
    "Visualizing the illumination and viewing angles. Explaining how ViSiProg groups are related?"
   ]
  },
  {
   "cell_type": "code",
   "execution_count": 45,
   "metadata": {
    "collapsed": false
   },
   "outputs": [
    {
     "name": "stdout",
     "output_type": "stream",
     "text": [
      "The autoreload extension is already loaded. To reload it, use:\n",
      "  %reload_ext autoreload\n"
     ]
    },
    {
     "data": {
      "text/html": [
       "<script>requirejs.config({paths: { 'plotly': ['https://cdn.plot.ly/plotly-latest.min']},});if(!window.Plotly) {{require(['plotly'],function(plotly) {window.Plotly=plotly;});}}</script>"
      ],
      "text/plain": [
       "<IPython.core.display.HTML object>"
      ]
     },
     "metadata": {},
     "output_type": "display_data"
    }
   ],
   "source": [
    "%load_ext autoreload\n",
    "%autoreload 2\n",
    "import networkx as nx\n",
    "import numpy as np\n",
    "import os\n",
    "\n",
    "from plotly.offline import download_plotlyjs, init_notebook_mode, plot, iplot\n",
    "init_notebook_mode(connected=True)\n",
    "\n",
    "import plotly.graph_objs as go\n",
    "from visiprog.data import read_VSP_label, read_img_list, read_viewing_conditions, viewing_condition_index\n",
    "from visiprog.data import read_viewing_conditions, polar_to_euclidean, angle_between\n",
    "from visiprog.data import illum_spatial_adjacent_graph, viewing_spatial_adjacent_graph\n",
    "from IPython.display import display, HTML\n",
    "\n",
    "from scipy.spatial import Voronoi, SphericalVoronoi"
   ]
  },
  {
   "cell_type": "code",
   "execution_count": 63,
   "metadata": {
    "collapsed": false
   },
   "outputs": [
    {
     "name": "stdout",
     "output_type": "stream",
     "text": [
      "['view_theta' 'view_phi' 'illum_theta' 'illum_phi' 'illum_x' 'illum_y'\n",
      " 'illum_z' 'view_x' 'view_y' 'view_z']\n",
      "(205, 10)\n"
     ]
    }
   ],
   "source": [
    "df_viewing = read_viewing_conditions()\n",
    "\n",
    "np.savetxt('df_viewing.csv', df_viewing, fmt='%.4f', delimiter=',')\n",
    "\n",
    "print(df_viewing.columns.values)\n",
    "print(df_viewing.shape)"
   ]
  },
  {
   "cell_type": "code",
   "execution_count": 25,
   "metadata": {
    "collapsed": false
   },
   "outputs": [],
   "source": [
    "def make_image_html(image_path):\n",
    "     return '<img src=\"{}\" width=\"100\" height=\"100\" style=\"display:inline;margin:1px\"/>'.format(image_path)"
   ]
  },
  {
   "cell_type": "code",
   "execution_count": 36,
   "metadata": {
    "collapsed": false
   },
   "outputs": [
    {
     "data": {
      "application/vnd.plotly.v1+json": {
       "data": [
        {
         "name": "43-154.png",
         "type": "scatter3d",
         "x": [
          0.8944271799338995,
          0.8944271799338995,
          0,
          -0.44721298276616256
         ],
         "y": [
          -0.23257425737546655,
          -0.18257425737546654,
          0,
          -0.36514820722282626
         ],
         "z": [
          0.408248282714439,
          0.408248282714439,
          0,
          0.8164969900785599
         ]
        },
        {
         "name": "43-155.png",
         "type": "scatter3d",
         "x": [
          0.8320511996485439,
          0.8320511996485439,
          0,
          -0.5546990730736021
         ],
         "y": [
          -0.4047867670614732,
          -0.3547867670614732,
          0,
          -0.5321816508913696
         ],
         "z": [
          0.4264002240635982,
          0.4264002240635982,
          0,
          0.6396027116779784
         ]
        },
        {
         "name": "43-121.png",
         "type": "scatter3d",
         "x": [
          0.8068984206425867,
          0.8068984206425867,
          0,
          -0.23694041989807352
         ],
         "y": [
          -0.17482774317747946,
          -0.12482774317747945,
          0,
          -0.2053076876055188
         ],
         "z": [
          0.5773499573895512,
          0.5773499573895512,
          0,
          0.9495830615741834
         ]
        },
        {
         "name": "43-156.png",
         "type": "scatter3d",
         "x": [
          0.8314697766141773,
          0.8314697766141773,
          0,
          -0.5555697153896453
         ],
         "y": [
          -0.05,
          0,
          0,
          -1.924550198996162e-07
         ],
         "z": [
          0.5555699871097881,
          0.5555699871097881,
          0,
          0.8314699581715694
         ]
        },
        {
         "name": "43-026.png",
         "type": "scatter3d",
         "x": [
          0.8068984206425867,
          0.8068984206425867,
          0,
          0.5194294141188199
         ],
         "y": [
          -0.17482774317747946,
          -0.12482774317747945,
          0,
          -0.1805803658467075
         ],
         "z": [
          0.5773499573895512,
          0.5773499573895512,
          0,
          0.8352148317761416
         ]
        },
        {
         "name": "43-017.png",
         "type": "scatter3d",
         "x": [
          0.8944271799338995,
          0.8944271799338995,
          0,
          0.6552021944685535
         ],
         "y": [
          -0.23257425737546655,
          -0.18257425737546654,
          0,
          -0.30841241276391385
         ],
         "z": [
          0.408248282714439,
          0.408248282714439,
          0,
          0.6896316901192497
         ]
        },
        {
         "name": "43-158.png",
         "type": "scatter3d",
         "x": [
          0.8068984206425867,
          0.8068984206425867,
          0,
          -0.5906901877678383
         ],
         "y": [
          -0.17482774317747946,
          -0.12482774317747945,
          0,
          -0.17051805072908632
         ],
         "z": [
          0.5773499573895512,
          0.5773499573895512,
          0,
          0.7886752794720706
         ]
        },
        {
         "name": "43-123.png",
         "type": "scatter3d",
         "x": [
          0.7071066745408645,
          0.7071066745408645,
          0,
          -0.38268351429937203
         ],
         "y": [
          -0.35151040120356813,
          -0.30151040120356815,
          0,
          -0.3939426566773774
         ],
         "z": [
          0.6396027116779784,
          0.6396027116779784,
          0,
          0.8356808667987153
         ]
        },
        {
         "name": "43-071.png",
         "type": "scatter3d",
         "x": [
          0.8320511996485439,
          0.8320511996485439,
          0,
          0.1961171682442345
         ],
         "y": [
          -0.4047867670614732,
          -0.3547867670614732,
          0,
          -0.6271817768369309
         ],
         "z": [
          0.4264002240635982,
          0.4264002240635982,
          0,
          0.753777868555142
         ]
        }
       ],
       "layout": {
        "autosize": true,
        "height": 800,
        "margin": {
         "b": 65,
         "l": 65,
         "r": 50,
         "t": 90
        },
        "title": "Angles of VSP group",
        "width": 900
       }
      },
      "text/html": [
       "<div id=\"c86fbb07-51f6-4b86-ae65-6110c9c74331\" style=\"height: 800px; width: 900px;\" class=\"plotly-graph-div\"></div><script type=\"text/javascript\">require([\"plotly\"], function(Plotly) { window.PLOTLYENV=window.PLOTLYENV || {};window.PLOTLYENV.BASE_URL=\"https://plot.ly\";Plotly.newPlot(\"c86fbb07-51f6-4b86-ae65-6110c9c74331\", [{\"z\": [0.408248282714439, 0.408248282714439, 0, 0.8164969900785599], \"x\": [0.8944271799338995, 0.8944271799338995, 0, -0.44721298276616256], \"type\": \"scatter3d\", \"y\": [-0.23257425737546655, -0.18257425737546654, 0, -0.36514820722282626], \"name\": \"43-154.png\"}, {\"z\": [0.4264002240635982, 0.4264002240635982, 0, 0.6396027116779784], \"x\": [0.8320511996485439, 0.8320511996485439, 0, -0.5546990730736021], \"type\": \"scatter3d\", \"y\": [-0.4047867670614732, -0.3547867670614732, 0, -0.5321816508913696], \"name\": \"43-155.png\"}, {\"z\": [0.5773499573895512, 0.5773499573895512, 0, 0.9495830615741834], \"x\": [0.8068984206425867, 0.8068984206425867, 0, -0.23694041989807352], \"type\": \"scatter3d\", \"y\": [-0.17482774317747946, -0.12482774317747945, 0, -0.2053076876055188], \"name\": \"43-121.png\"}, {\"z\": [0.5555699871097881, 0.5555699871097881, 0, 0.8314699581715694], \"x\": [0.8314697766141773, 0.8314697766141773, 0, -0.5555697153896453], \"type\": \"scatter3d\", \"y\": [-0.05, 0.0, 0, -1.924550198996162e-07], \"name\": \"43-156.png\"}, {\"z\": [0.5773499573895512, 0.5773499573895512, 0, 0.8352148317761416], \"x\": [0.8068984206425867, 0.8068984206425867, 0, 0.5194294141188199], \"type\": \"scatter3d\", \"y\": [-0.17482774317747946, -0.12482774317747945, 0, -0.1805803658467075], \"name\": \"43-026.png\"}, {\"z\": [0.408248282714439, 0.408248282714439, 0, 0.6896316901192497], \"x\": [0.8944271799338995, 0.8944271799338995, 0, 0.6552021944685535], \"type\": \"scatter3d\", \"y\": [-0.23257425737546655, -0.18257425737546654, 0, -0.30841241276391385], \"name\": \"43-017.png\"}, {\"z\": [0.5773499573895512, 0.5773499573895512, 0, 0.7886752794720706], \"x\": [0.8068984206425867, 0.8068984206425867, 0, -0.5906901877678383], \"type\": \"scatter3d\", \"y\": [-0.17482774317747946, -0.12482774317747945, 0, -0.17051805072908632], \"name\": \"43-158.png\"}, {\"z\": [0.6396027116779784, 0.6396027116779784, 0, 0.8356808667987153], \"x\": [0.7071066745408645, 0.7071066745408645, 0, -0.38268351429937203], \"type\": \"scatter3d\", \"y\": [-0.35151040120356813, -0.30151040120356815, 0, -0.3939426566773774], \"name\": \"43-123.png\"}, {\"z\": [0.4264002240635982, 0.4264002240635982, 0, 0.753777868555142], \"x\": [0.8320511996485439, 0.8320511996485439, 0, 0.1961171682442345], \"type\": \"scatter3d\", \"y\": [-0.4047867670614732, -0.3547867670614732, 0, -0.6271817768369309], \"name\": \"43-071.png\"}], {\"height\": 800, \"width\": 900, \"autosize\": true, \"title\": \"Angles of VSP group\", \"margin\": {\"b\": 65, \"t\": 90, \"r\": 50, \"l\": 65}}, {\"linkText\": \"Export to plot.ly\", \"showLink\": true})});</script>"
      ],
      "text/vnd.plotly.v1+html": [
       "<div id=\"c86fbb07-51f6-4b86-ae65-6110c9c74331\" style=\"height: 800px; width: 900px;\" class=\"plotly-graph-div\"></div><script type=\"text/javascript\">require([\"plotly\"], function(Plotly) { window.PLOTLYENV=window.PLOTLYENV || {};window.PLOTLYENV.BASE_URL=\"https://plot.ly\";Plotly.newPlot(\"c86fbb07-51f6-4b86-ae65-6110c9c74331\", [{\"z\": [0.408248282714439, 0.408248282714439, 0, 0.8164969900785599], \"x\": [0.8944271799338995, 0.8944271799338995, 0, -0.44721298276616256], \"type\": \"scatter3d\", \"y\": [-0.23257425737546655, -0.18257425737546654, 0, -0.36514820722282626], \"name\": \"43-154.png\"}, {\"z\": [0.4264002240635982, 0.4264002240635982, 0, 0.6396027116779784], \"x\": [0.8320511996485439, 0.8320511996485439, 0, -0.5546990730736021], \"type\": \"scatter3d\", \"y\": [-0.4047867670614732, -0.3547867670614732, 0, -0.5321816508913696], \"name\": \"43-155.png\"}, {\"z\": [0.5773499573895512, 0.5773499573895512, 0, 0.9495830615741834], \"x\": [0.8068984206425867, 0.8068984206425867, 0, -0.23694041989807352], \"type\": \"scatter3d\", \"y\": [-0.17482774317747946, -0.12482774317747945, 0, -0.2053076876055188], \"name\": \"43-121.png\"}, {\"z\": [0.5555699871097881, 0.5555699871097881, 0, 0.8314699581715694], \"x\": [0.8314697766141773, 0.8314697766141773, 0, -0.5555697153896453], \"type\": \"scatter3d\", \"y\": [-0.05, 0.0, 0, -1.924550198996162e-07], \"name\": \"43-156.png\"}, {\"z\": [0.5773499573895512, 0.5773499573895512, 0, 0.8352148317761416], \"x\": [0.8068984206425867, 0.8068984206425867, 0, 0.5194294141188199], \"type\": \"scatter3d\", \"y\": [-0.17482774317747946, -0.12482774317747945, 0, -0.1805803658467075], \"name\": \"43-026.png\"}, {\"z\": [0.408248282714439, 0.408248282714439, 0, 0.6896316901192497], \"x\": [0.8944271799338995, 0.8944271799338995, 0, 0.6552021944685535], \"type\": \"scatter3d\", \"y\": [-0.23257425737546655, -0.18257425737546654, 0, -0.30841241276391385], \"name\": \"43-017.png\"}, {\"z\": [0.5773499573895512, 0.5773499573895512, 0, 0.7886752794720706], \"x\": [0.8068984206425867, 0.8068984206425867, 0, -0.5906901877678383], \"type\": \"scatter3d\", \"y\": [-0.17482774317747946, -0.12482774317747945, 0, -0.17051805072908632], \"name\": \"43-158.png\"}, {\"z\": [0.6396027116779784, 0.6396027116779784, 0, 0.8356808667987153], \"x\": [0.7071066745408645, 0.7071066745408645, 0, -0.38268351429937203], \"type\": \"scatter3d\", \"y\": [-0.35151040120356813, -0.30151040120356815, 0, -0.3939426566773774], \"name\": \"43-123.png\"}, {\"z\": [0.4264002240635982, 0.4264002240635982, 0, 0.753777868555142], \"x\": [0.8320511996485439, 0.8320511996485439, 0, 0.1961171682442345], \"type\": \"scatter3d\", \"y\": [-0.4047867670614732, -0.3547867670614732, 0, -0.6271817768369309], \"name\": \"43-071.png\"}], {\"height\": 800, \"width\": 900, \"autosize\": true, \"title\": \"Angles of VSP group\", \"margin\": {\"b\": 65, \"t\": 90, \"r\": 50, \"l\": 65}}, {\"linkText\": \"Export to plot.ly\", \"showLink\": true})});</script>"
      ]
     },
     "metadata": {},
     "output_type": "display_data"
    },
    {
     "data": {
      "text/html": [
       "<img src=\"visiprog/data/curetaliasfree/images/43-154.png\" width=\"100\" height=\"100\" style=\"display:inline;margin:1px\"/><img src=\"visiprog/data/curetaliasfree/images/43-155.png\" width=\"100\" height=\"100\" style=\"display:inline;margin:1px\"/><img src=\"visiprog/data/curetaliasfree/images/43-121.png\" width=\"100\" height=\"100\" style=\"display:inline;margin:1px\"/><img src=\"visiprog/data/curetaliasfree/images/43-156.png\" width=\"100\" height=\"100\" style=\"display:inline;margin:1px\"/><img src=\"visiprog/data/curetaliasfree/images/43-026.png\" width=\"100\" height=\"100\" style=\"display:inline;margin:1px\"/><img src=\"visiprog/data/curetaliasfree/images/43-017.png\" width=\"100\" height=\"100\" style=\"display:inline;margin:1px\"/><img src=\"visiprog/data/curetaliasfree/images/43-158.png\" width=\"100\" height=\"100\" style=\"display:inline;margin:1px\"/><img src=\"visiprog/data/curetaliasfree/images/43-123.png\" width=\"100\" height=\"100\" style=\"display:inline;margin:1px\"/><img src=\"visiprog/data/curetaliasfree/images/43-071.png\" width=\"100\" height=\"100\" style=\"display:inline;margin:1px\"/><br>43-154.png\t43-155.png\t43-121.png\t43-156.png\t43-026.png\t43-017.png\t43-158.png\t43-123.png\t43-071.png"
      ],
      "text/plain": [
       "<IPython.core.display.HTML object>"
      ]
     },
     "metadata": {},
     "output_type": "display_data"
    }
   ],
   "source": [
    "groups = read_VSP_label()\n",
    "list_img = read_img_list()\n",
    "\n",
    "traces = []\n",
    "\n",
    "group = groups[169]\n",
    "\n",
    "for i in group: \n",
    "    viewing_index = viewing_condition_index(list_img[i])\n",
    "    \n",
    "    illum_x = df_viewing['illum_x'][viewing_index]\n",
    "    illum_y = df_viewing['illum_y'][viewing_index]\n",
    "    illum_z = df_viewing['illum_z'][viewing_index]\n",
    "\n",
    "    view_x = df_viewing['view_x'][viewing_index]\n",
    "    view_y = df_viewing['view_y'][viewing_index]\n",
    "    view_z = df_viewing['view_z'][viewing_index]\n",
    "    \n",
    "    line_x = [illum_x, illum_x, 0, view_x]\n",
    "    line_y = [illum_y - 0.05, illum_y, 0, view_y]\n",
    "    line_z = [illum_z,illum_z, 0, view_z]\n",
    "    \n",
    "    # plotting line\n",
    "    line_scatter = go.Scatter3d(\n",
    "        x=line_x,\n",
    "        y=line_y,\n",
    "        z=line_z,\n",
    "        name=os.path.basename(list_img[i])\n",
    "    )\n",
    "    \n",
    "    traces.append(line_scatter)\n",
    "\n",
    "layout = go.Layout(\n",
    "    title='Angles of VSP group',\n",
    "    autosize=True,\n",
    "    width=900,\n",
    "    height=800,\n",
    "    margin=dict(\n",
    "        l=65,\n",
    "        r=50,\n",
    "        b=65,\n",
    "        t=90\n",
    "    )\n",
    ")\n",
    "fig = go.Figure(data=traces, layout=layout)\n",
    "iplot(fig, filename='vspgroup')\n",
    "\n",
    "# display the images as well\n",
    "display(HTML(''.join(make_image_html(list_img[i]) for i in group) + '<br>' + \\\n",
    "            '\\t'.join(os.path.basename(list_img[i]) for i in group)))"
   ]
  },
  {
   "cell_type": "markdown",
   "metadata": {
    "collapsed": true
   },
   "source": [
    "# Formal analysis using graph and minimum spanning tree"
   ]
  },
  {
   "cell_type": "code",
   "execution_count": 33,
   "metadata": {
    "collapsed": false,
    "scrolled": true
   },
   "outputs": [
    {
     "name": "stdout",
     "output_type": "stream",
     "text": [
      "456\n"
     ]
    }
   ],
   "source": [
    "groups = read_VSP_label(pappas_only=True, sorted_by_material=True)\n",
    "list_img = read_img_list()\n",
    "\n",
    "print(len(groups))\n",
    "\n",
    "mst_distances = []\n",
    "\n",
    "for group in groups:\n",
    "    \n",
    "    # building the weighted undirected graph\n",
    "    G = nx.Graph()\n",
    "    G.add_nodes_from(range(len(group)))\n",
    "\n",
    "    for i in range(len(group)):\n",
    "        index_i = viewing_condition_index(list_img[group[i]])\n",
    "        \n",
    "        illum_x_1 = df_viewing['illum_x'][index_i]\n",
    "        illum_y_1 = df_viewing['illum_y'][index_i]\n",
    "        illum_z_1 = df_viewing['illum_z'][index_i]\n",
    "        \n",
    "        view_x_1 = df_viewing['view_x'][index_i]\n",
    "        view_y_1 = df_viewing['view_y'][index_i]\n",
    "        view_z_1 = df_viewing['view_z'][index_i]\n",
    "        \n",
    "        for j in range(i + 1, len(group)):\n",
    "            index_j = viewing_condition_index(list_img[group[j]])\n",
    "            illum_x_2, illum_y_2, illum_z_2 = polar_to_euclidean(df_viewing['illum_theta'][index_j],df_viewing['illum_phi'][index_j])\n",
    "            view_x_2, view_y_2, view_z_2 = polar_to_euclidean(df_viewing['view_theta'][index_j],df_viewing['view_phi'][index_j])\n",
    "            \n",
    "            weight_illum = angle_between((illum_x_1, illum_y_1, illum_z_1),(illum_x_2, illum_y_2, illum_z_2))\n",
    "            weight_view = angle_between((view_x_1, view_y_1, view_z_1),(view_x_2, view_y_2, view_z_2))\n",
    "        \n",
    "            G.add_edge(i, j, weight=weight_illum)\n",
    "            G.add_edge(i, j, weight=weight_view)\n",
    "            \n",
    "#     print(G.edges(data=True))\n",
    "#     print(\"\\n\\nSorting the MST\\n\\n\")\n",
    "    \n",
    "    # minimum spanning tree\n",
    "    mst=nx.minimum_spanning_edges(G,data=True)\n",
    "    \n",
    "    distances = []\n",
    "    for e in mst:\n",
    "        distances.append(e[2]['weight'])\n",
    "        \n",
    "    mst_distances.append(distances)"
   ]
  },
  {
   "cell_type": "code",
   "execution_count": 20,
   "metadata": {
    "collapsed": false
   },
   "outputs": [
    {
     "name": "stdout",
     "output_type": "stream",
     "text": [
      "(456, 8)\n"
     ]
    }
   ],
   "source": [
    "mst_out = np.asarray(mst_distances)\n",
    "np.savetxt('mst_distances.csv', mst_out, fmt='%.4f', delimiter=',')\n",
    "print(mst_out.shape)"
   ]
  },
  {
   "cell_type": "code",
   "execution_count": 11,
   "metadata": {
    "collapsed": false
   },
   "outputs": [
    {
     "name": "stdout",
     "output_type": "stream",
     "text": [
      "(604, 8)\n"
     ]
    }
   ],
   "source": []
  },
  {
   "cell_type": "markdown",
   "metadata": {
    "collapsed": true
   },
   "source": [
    "# Formal analysis using graph and VORONOI DIAGRAM\n",
    "\n",
    "Why? Since angle does not explain a lot. It could be better explained through spatial adjacency."
   ]
  },
  {
   "cell_type": "code",
   "execution_count": 46,
   "metadata": {
    "collapsed": false
   },
   "outputs": [
    {
     "name": "stdout",
     "output_type": "stream",
     "text": [
      "{(1.1502620000000001, -0.684719): Int64Index([16, 69, 115, 153, 180], dtype='int64'), (0.955317, -1.136277): Int64Index([25, 75, 120, 157], dtype='int64'), (0.955317, -0.15348399999999998): Int64Index([26, 76, 121, 158, 184, 201], dtype='int64'), (0.39269899999999996, -1.5707959999999999): Int64Index([48, 96, 135], dtype='int64'), (1.154239, -1.0454): Int64Index([13, 67, 113, 151], dtype='int64'), (0.955317, -2.988109): Int64Index([23], dtype='int64'), (0.662145, -2.005315): Int64Index([35, 83, 126], dtype='int64'), (0.876815, -0.40305599999999997): Int64Index([30, 79, 123, 160, 186], dtype='int64'), (0.981748, -1.5707959999999999): Int64Index([21, 72, 118], dtype='int64'), (1.357866, -0.15348399999999998): Int64Index([9, 63, 110, 149, 177, 195, 205], dtype='int64'), (0.5890479999999999, 3.141593): Int64Index([40, 88], dtype='int64'), (0.662145, -2.860557): Int64Index([34, 82], dtype='int64'), (1.370707, -2.3767650000000002): Int64Index([3], dtype='int64'), (1.360401, -0.09462899999999999): Int64Index([7, 61, 108, 147, 175, 193, 204], dtype='int64'), (0.5890479999999999, -1.5707959999999999): Int64Index([41, 89, 130], dtype='int64'), (0.876815, -2.376909): Int64Index([27, 77], dtype='int64'), (1.130287, -0.40305599999999997): Int64Index([19, 71, 117, 155, 182, 199], dtype='int64'), (0.196349, 0.0): Int64Index([54, 102, 141, 170], dtype='int64'), (0.876815, -0.764684): Int64Index([28, 78, 122, 159, 185], dtype='int64'), (0.28492399999999996, -0.764828): Int64Index([51, 99, 138, 169], dtype='int64'), (1.130287, -2.738536): Int64Index([18], dtype='int64'), (0.39269899999999996, 3.141593): Int64Index([47, 95], dtype='int64'), (1.1502620000000001, -0.20135799999999998): Int64Index([17, 70, 116, 154, 181, 198], dtype='int64'), (0.7853979999999999, -1.5707959999999999): Int64Index([32, 80, 124], dtype='int64'), (1.370707, -0.764828): Int64Index([4, 58, 105, 144, 172], dtype='int64'), (1.154239, -2.096192): Int64Index([12, 66], dtype='int64'), (0.981748, 0.0): Int64Index([22, 73, 119, 156, 183, 200], dtype='int64'), (0.196349, 3.141593): Int64Index([52, 100, 139], dtype='int64'), (1.1780979999999999, 0.0): Int64Index([11, 65, 112, 150, 178, 196], dtype='int64'), (0.0, 0.0): Int64Index([55, 103, 142], dtype='int64'), (0.472749, -0.430767): Int64Index([46, 94, 134, 167], dtype='int64'), (1.1502620000000001, -2.456873): Int64Index([15], dtype='int64'), (0.615479, -0.684719): Int64Index([39, 87, 129, 164], dtype='int64'), (0.662145, -0.281035): Int64Index([37, 85, 128, 163, 188], dtype='int64'), (0.472749, -1.0454): Int64Index([45, 93, 133, 166], dtype='int64'), (0.5890479999999999, 0.0): Int64Index([42, 90, 131, 165, 189], dtype='int64'), (0.955317, -2.005315): Int64Index([24, 74], dtype='int64'), (1.374447, 0.0): Int64Index([2, 57, 104, 143, 171, 190, 202], dtype='int64'), (1.360401, -0.430767): Int64Index([6, 60, 107, 146, 174, 192], dtype='int64'), (0.28492399999999996, -2.3767650000000002): Int64Index([50, 98, 137], dtype='int64'), (0.472749, -2.710826): Int64Index([43, 91], dtype='int64'), (0.876815, -2.738536): Int64Index([29], dtype='int64'), (0.7853979999999999, 3.141593): Int64Index([31], dtype='int64'), (0.39269899999999996, 0.0): Int64Index([49, 97, 136, 168], dtype='int64'), (1.357866, -0.281035): Int64Index([8, 62, 109, 148, 176, 194], dtype='int64'), (1.154239, -0.09462899999999999): Int64Index([14, 68, 114, 152, 179, 197], dtype='int64'), (0.7853979999999999, 0.0): Int64Index([33, 81, 125, 161, 187], dtype='int64'), (0.472749, -2.096192): Int64Index([44, 92, 132], dtype='int64'), (0.662145, -1.136277): Int64Index([36, 84, 127, 162], dtype='int64'), (0.615479, -2.456873): Int64Index([38, 86], dtype='int64'), (1.374447, -1.5707959999999999): Int64Index([1, 56], dtype='int64'), (0.981748, 3.141593): Int64Index([20], dtype='int64'), (1.370707, -0.041141000000000004): Int64Index([5, 59, 106, 145, 173, 191, 203], dtype='int64'), (0.196349, -1.5707959999999999): Int64Index([53, 101, 140], dtype='int64'), (1.1780979999999999, -1.5707959999999999): Int64Index([10, 64, 111], dtype='int64')}\n",
      "1.1502620000000001\n",
      "-0.684719\n"
     ]
    },
    {
     "ename": "TypeError",
     "evalue": "object of type 'float' has no len()",
     "output_type": "error",
     "traceback": [
      "\u001b[0;31m---------------------------------------------------------------------------\u001b[0m",
      "\u001b[0;31mTypeError\u001b[0m                                 Traceback (most recent call last)",
      "\u001b[0;32m<ipython-input-46-c4820ae937a3>\u001b[0m in \u001b[0;36m<module>\u001b[0;34m()\u001b[0m\n\u001b[1;32m      1\u001b[0m \u001b[0;31m# building spatial graph for illumination angles\u001b[0m\u001b[0;34m\u001b[0m\u001b[0;34m\u001b[0m\u001b[0m\n\u001b[0;32m----> 2\u001b[0;31m \u001b[0mG_illum\u001b[0m \u001b[0;34m=\u001b[0m \u001b[0millum_spatial_adjacent_graph\u001b[0m\u001b[0;34m(\u001b[0m\u001b[0;34m)\u001b[0m\u001b[0;34m\u001b[0m\u001b[0m\n\u001b[0m\u001b[1;32m      3\u001b[0m \u001b[0;31m# viewing_edges = viewing_spatial_adjacent_graph()\u001b[0m\u001b[0;34m\u001b[0m\u001b[0;34m\u001b[0m\u001b[0m\n\u001b[1;32m      4\u001b[0m \u001b[0;34m\u001b[0m\u001b[0m\n\u001b[1;32m      5\u001b[0m \u001b[0;34m\u001b[0m\u001b[0m\n",
      "\u001b[0;32m/home/andrey/Dropbox/Hacking/Research/VisiProg2/analysis/thesis/visiprog/data.py\u001b[0m in \u001b[0;36millum_spatial_adjacent_graph\u001b[0;34m()\u001b[0m\n\u001b[1;32m    203\u001b[0m         \u001b[0mprint\u001b[0m\u001b[0;34m(\u001b[0m\u001b[0mvalue\u001b[0m\u001b[0;34m)\u001b[0m\u001b[0;34m\u001b[0m\u001b[0m\n\u001b[1;32m    204\u001b[0m         \u001b[0mprint\u001b[0m\u001b[0;34m(\u001b[0m\u001b[0mg\u001b[0m\u001b[0;34m)\u001b[0m\u001b[0;34m\u001b[0m\u001b[0m\n\u001b[0;32m--> 205\u001b[0;31m         \u001b[0;32mfor\u001b[0m \u001b[0mi\u001b[0m \u001b[0;32min\u001b[0m \u001b[0mrange\u001b[0m\u001b[0;34m(\u001b[0m\u001b[0;36m1\u001b[0m\u001b[0;34m,\u001b[0m\u001b[0mlen\u001b[0m\u001b[0;34m(\u001b[0m\u001b[0mg\u001b[0m\u001b[0;34m)\u001b[0m\u001b[0;34m)\u001b[0m\u001b[0;34m:\u001b[0m\u001b[0;34m\u001b[0m\u001b[0m\n\u001b[0m\u001b[1;32m    206\u001b[0m             \u001b[0mG_illum\u001b[0m\u001b[0;34m.\u001b[0m\u001b[0madd_edge\u001b[0m\u001b[0;34m(\u001b[0m\u001b[0mg\u001b[0m\u001b[0;34m[\u001b[0m\u001b[0mi\u001b[0m\u001b[0;34m-\u001b[0m\u001b[0;36m1\u001b[0m\u001b[0;34m]\u001b[0m\u001b[0;34m,\u001b[0m \u001b[0mg\u001b[0m\u001b[0;34m[\u001b[0m\u001b[0mi\u001b[0m\u001b[0;34m]\u001b[0m\u001b[0;34m)\u001b[0m\u001b[0;34m\u001b[0m\u001b[0m\n\u001b[1;32m    207\u001b[0m \u001b[0;34m\u001b[0m\u001b[0m\n",
      "\u001b[0;31mTypeError\u001b[0m: object of type 'float' has no len()"
     ]
    }
   ],
   "source": [
    "# building spatial graph for illumination angles\n",
    "G_illum = illum_spatial_adjacent_graph()\n",
    "# viewing_edges = viewing_spatial_adjacent_graph()\n",
    "\n",
    "\n",
    "print(G_illum.edges())\n",
    "\n",
    "print(nx.is_connected(G_illum))"
   ]
  },
  {
   "cell_type": "code",
   "execution_count": 85,
   "metadata": {
    "collapsed": false
   },
   "outputs": [
    {
     "name": "stdout",
     "output_type": "stream",
     "text": [
      "False\n",
      "[(0, 65), (0, 2), (0, 3), (0, 12), (0, 9), (1, 10), (1, 4), (2, 17), (2, 14), (2, 65), (3, 145), (3, 12), (3, 15), (4, 6), (4, 7), (4, 8), (4, 145), (4, 10), (6, 8), (6, 10), (6, 13), (7, 16), (7, 145), (7, 116), (7, 8), (8, 16), (8, 13), (9, 65), (9, 20), (9, 24), (9, 73), (9, 12), (10, 21), (10, 13), (12, 121), (12, 24), (12, 15), (13, 16), (13, 21), (13, 75), (14, 17), (14, 28), (14, 26), (14, 65), (15, 145), (15, 116), (15, 121), (15, 78), (16, 75), (16, 116), (17, 28), (17, 22), (20, 24), (20, 73), (20, 79), (21, 80), (21, 75), (22, 28), (22, 30), (22, 81), (24, 161), (24, 121), (24, 79), (26, 65), (26, 82), (26, 37), (26, 73), (26, 28), (28, 37), (28, 81), (30, 39), (37, 81), (37, 82), (37, 49), (37, 42), (37, 91), (37, 94), (39, 81), (39, 94), (40, 161), (40, 82), (40, 95), (40, 79), (41, 80), (41, 84), (41, 135), (42, 81), (42, 99), (42, 49), (45, 50), (45, 84), (45, 53), (45, 86), (45, 135), (49, 99), (49, 52), (49, 54), (49, 91), (50, 52), (50, 54), (50, 86), (50, 132), (50, 53), (52, 132), (52, 54), (52, 91), (52, 95), (53, 54), (53, 135), (54, 99), (65, 73), (73, 82), (73, 79), (75, 80), (75, 84), (75, 116), (75, 78), (78, 116), (78, 84), (78, 86), (78, 121), (79, 82), (79, 161), (80, 84), (81, 94), (82, 91), (82, 95), (84, 86), (84, 135), (86, 161), (86, 132), (86, 121), (91, 95), (94, 99), (95, 161), (95, 132), (116, 145), (121, 161), (132, 161)]\n",
      "False\n"
     ]
    }
   ],
   "source": [
    "G_illum = nx.Graph()\n",
    "G_illum.add_nodes_from(range(df_viewing.shape[0]))\n",
    "\n",
    "for e in illum_edges:\n",
    "    G_illum.add_edge(e[0], e[1])\n",
    "\n",
    "print(nx.is_connected(G_illum))\n",
    "\n",
    "print(G_illum.edges())\n",
    "\n",
    "G_viewing = nx.Graph()\n",
    "G_viewing.add_nodes_from(range(df_viewing.shape[0]))\n",
    "\n",
    "for e in viewing_edges:\n",
    "    G_viewing.add_edge(e[0], e[1])\n",
    "\n",
    "print(nx.is_connected(G_viewing))"
   ]
  },
  {
   "cell_type": "code",
   "execution_count": 69,
   "metadata": {
    "collapsed": false
   },
   "outputs": [
    {
     "data": {
      "text/plain": [
       "1"
      ]
     },
     "execution_count": 69,
     "metadata": {},
     "output_type": "execute_result"
    }
   ],
   "source": [
    "nx.shortest_path_length(G_illum,source = 0, target=2)"
   ]
  },
  {
   "cell_type": "code",
   "execution_count": 78,
   "metadata": {
    "collapsed": false
   },
   "outputs": [
    {
     "name": "stdout",
     "output_type": "stream",
     "text": [
      "175 149\n"
     ]
    },
    {
     "ename": "NetworkXNoPath",
     "evalue": "No path between 174 and 148.",
     "output_type": "error",
     "traceback": [
      "\u001b[0;31m---------------------------------------------------------------------------\u001b[0m",
      "\u001b[0;31mNetworkXNoPath\u001b[0m                            Traceback (most recent call last)",
      "\u001b[0;32m<ipython-input-78-85c5d580c9d5>\u001b[0m in \u001b[0;36m<module>\u001b[0;34m()\u001b[0m\n\u001b[1;32m     15\u001b[0m             \u001b[0mm_j\u001b[0m \u001b[0;34m=\u001b[0m \u001b[0mviewing_condition_index\u001b[0m\u001b[0;34m(\u001b[0m\u001b[0mlist_img\u001b[0m\u001b[0;34m[\u001b[0m\u001b[0mgroup\u001b[0m\u001b[0;34m[\u001b[0m\u001b[0mj\u001b[0m\u001b[0;34m]\u001b[0m\u001b[0;34m]\u001b[0m\u001b[0;34m)\u001b[0m\u001b[0;34m\u001b[0m\u001b[0m\n\u001b[1;32m     16\u001b[0m             \u001b[0mprint\u001b[0m\u001b[0;34m(\u001b[0m\u001b[0mm_i\u001b[0m\u001b[0;34m,\u001b[0m \u001b[0mm_j\u001b[0m\u001b[0;34m)\u001b[0m\u001b[0;34m\u001b[0m\u001b[0m\n\u001b[0;32m---> 17\u001b[0;31m             \u001b[0mweight_illum\u001b[0m \u001b[0;34m=\u001b[0m \u001b[0mnx\u001b[0m\u001b[0;34m.\u001b[0m\u001b[0mshortest_path_length\u001b[0m\u001b[0;34m(\u001b[0m\u001b[0mG_illum\u001b[0m\u001b[0;34m,\u001b[0m \u001b[0msource\u001b[0m\u001b[0;34m=\u001b[0m\u001b[0mm_i\u001b[0m \u001b[0;34m-\u001b[0m \u001b[0;36m1\u001b[0m\u001b[0;34m,\u001b[0m \u001b[0mtarget\u001b[0m\u001b[0;34m=\u001b[0m\u001b[0mm_j\u001b[0m \u001b[0;34m-\u001b[0m \u001b[0;36m1\u001b[0m\u001b[0;34m)\u001b[0m\u001b[0;34m\u001b[0m\u001b[0m\n\u001b[0m\u001b[1;32m     18\u001b[0m             \u001b[0mweight_view\u001b[0m \u001b[0;34m=\u001b[0m \u001b[0mnx\u001b[0m\u001b[0;34m.\u001b[0m\u001b[0mshortest_path_length\u001b[0m\u001b[0;34m(\u001b[0m\u001b[0mG_viewing\u001b[0m\u001b[0;34m,\u001b[0m \u001b[0msource\u001b[0m\u001b[0;34m=\u001b[0m\u001b[0mm_i\u001b[0m \u001b[0;34m-\u001b[0m \u001b[0;36m1\u001b[0m\u001b[0;34m,\u001b[0m \u001b[0mtarget\u001b[0m\u001b[0;34m=\u001b[0m\u001b[0mm_j\u001b[0m \u001b[0;34m-\u001b[0m \u001b[0;36m1\u001b[0m\u001b[0;34m)\u001b[0m\u001b[0;34m\u001b[0m\u001b[0m\n\u001b[1;32m     19\u001b[0m \u001b[0;34m\u001b[0m\u001b[0m\n",
      "\u001b[0;32m/Users/andrey/anaconda/envs/py34/lib/python3.4/site-packages/networkx/algorithms/shortest_paths/generic.py\u001b[0m in \u001b[0;36mshortest_path_length\u001b[0;34m(G, source, target, weight)\u001b[0m\n\u001b[1;32m    243\u001b[0m             \u001b[0;31m## Find shortest source-target path.\u001b[0m\u001b[0;34m\u001b[0m\u001b[0;34m\u001b[0m\u001b[0m\n\u001b[1;32m    244\u001b[0m             \u001b[0;32mif\u001b[0m \u001b[0mweight\u001b[0m \u001b[0;32mis\u001b[0m \u001b[0;32mNone\u001b[0m\u001b[0;34m:\u001b[0m\u001b[0;34m\u001b[0m\u001b[0m\n\u001b[0;32m--> 245\u001b[0;31m                 \u001b[0mp\u001b[0m\u001b[0;34m=\u001b[0m\u001b[0mnx\u001b[0m\u001b[0;34m.\u001b[0m\u001b[0mbidirectional_shortest_path\u001b[0m\u001b[0;34m(\u001b[0m\u001b[0mG\u001b[0m\u001b[0;34m,\u001b[0m\u001b[0msource\u001b[0m\u001b[0;34m,\u001b[0m\u001b[0mtarget\u001b[0m\u001b[0;34m)\u001b[0m\u001b[0;34m\u001b[0m\u001b[0m\n\u001b[0m\u001b[1;32m    246\u001b[0m                 \u001b[0mpaths\u001b[0m\u001b[0;34m=\u001b[0m\u001b[0mlen\u001b[0m\u001b[0;34m(\u001b[0m\u001b[0mp\u001b[0m\u001b[0;34m)\u001b[0m\u001b[0;34m-\u001b[0m\u001b[0;36m1\u001b[0m\u001b[0;34m\u001b[0m\u001b[0m\n\u001b[1;32m    247\u001b[0m             \u001b[0;32melse\u001b[0m\u001b[0;34m:\u001b[0m\u001b[0;34m\u001b[0m\u001b[0m\n",
      "\u001b[0;32m/Users/andrey/anaconda/envs/py34/lib/python3.4/site-packages/networkx/algorithms/shortest_paths/unweighted.py\u001b[0m in \u001b[0;36mbidirectional_shortest_path\u001b[0;34m(G, source, target)\u001b[0m\n\u001b[1;32m    134\u001b[0m     \"\"\"\n\u001b[1;32m    135\u001b[0m     \u001b[0;31m# call helper to do the real work\u001b[0m\u001b[0;34m\u001b[0m\u001b[0;34m\u001b[0m\u001b[0m\n\u001b[0;32m--> 136\u001b[0;31m     \u001b[0mresults\u001b[0m\u001b[0;34m=\u001b[0m\u001b[0m_bidirectional_pred_succ\u001b[0m\u001b[0;34m(\u001b[0m\u001b[0mG\u001b[0m\u001b[0;34m,\u001b[0m\u001b[0msource\u001b[0m\u001b[0;34m,\u001b[0m\u001b[0mtarget\u001b[0m\u001b[0;34m)\u001b[0m\u001b[0;34m\u001b[0m\u001b[0m\n\u001b[0m\u001b[1;32m    137\u001b[0m     \u001b[0mpred\u001b[0m\u001b[0;34m,\u001b[0m\u001b[0msucc\u001b[0m\u001b[0;34m,\u001b[0m\u001b[0mw\u001b[0m\u001b[0;34m=\u001b[0m\u001b[0mresults\u001b[0m\u001b[0;34m\u001b[0m\u001b[0m\n\u001b[1;32m    138\u001b[0m \u001b[0;34m\u001b[0m\u001b[0m\n",
      "\u001b[0;32m/Users/andrey/anaconda/envs/py34/lib/python3.4/site-packages/networkx/algorithms/shortest_paths/unweighted.py\u001b[0m in \u001b[0;36m_bidirectional_pred_succ\u001b[0;34m(G, source, target)\u001b[0m\n\u001b[1;32m    199\u001b[0m                     \u001b[0;32mif\u001b[0m \u001b[0mw\u001b[0m \u001b[0;32min\u001b[0m \u001b[0mpred\u001b[0m\u001b[0;34m:\u001b[0m  \u001b[0;32mreturn\u001b[0m \u001b[0mpred\u001b[0m\u001b[0;34m,\u001b[0m\u001b[0msucc\u001b[0m\u001b[0;34m,\u001b[0m\u001b[0mw\u001b[0m \u001b[0;31m# found path\u001b[0m\u001b[0;34m\u001b[0m\u001b[0m\n\u001b[1;32m    200\u001b[0m \u001b[0;34m\u001b[0m\u001b[0m\n\u001b[0;32m--> 201\u001b[0;31m     \u001b[0;32mraise\u001b[0m \u001b[0mnx\u001b[0m\u001b[0;34m.\u001b[0m\u001b[0mNetworkXNoPath\u001b[0m\u001b[0;34m(\u001b[0m\u001b[0;34m\"No path between %s and %s.\"\u001b[0m \u001b[0;34m%\u001b[0m \u001b[0;34m(\u001b[0m\u001b[0msource\u001b[0m\u001b[0;34m,\u001b[0m \u001b[0mtarget\u001b[0m\u001b[0;34m)\u001b[0m\u001b[0;34m)\u001b[0m\u001b[0;34m\u001b[0m\u001b[0m\n\u001b[0m\u001b[1;32m    202\u001b[0m \u001b[0;34m\u001b[0m\u001b[0m\n\u001b[1;32m    203\u001b[0m \u001b[0;34m\u001b[0m\u001b[0m\n",
      "\u001b[0;31mNetworkXNoPath\u001b[0m: No path between 174 and 148."
     ]
    }
   ],
   "source": [
    "groups, _ = read_VSP_label(pappas_only=True, sorted_by_material=True)\n",
    "list_img = read_img_list()\n",
    "\n",
    "\n",
    "mst_spatial_distances = []\n",
    "\n",
    "for group in groups:    \n",
    "    # building the weighted undirected graph\n",
    "    G = nx.Graph()\n",
    "    G.add_nodes_from(range(len(group)))\n",
    "\n",
    "    for i in range(len(group)):\n",
    "        m_i = viewing_condition_index(list_img[group[i]])\n",
    "        for j in range(i + 1, len(group)):\n",
    "            m_j = viewing_condition_index(list_img[group[j]])\n",
    "            print(m_i, m_j)\n",
    "            weight_illum = nx.shortest_path_length(G_illum, source=m_i - 1, target=m_j - 1)\n",
    "            weight_view = nx.shortest_path_length(G_viewing, source=m_i - 1, target=m_j - 1)\n",
    "            \n",
    "            print(weight_illum)\n",
    "            \n",
    "            G.add_edge(i, j, weight = max(weight_illum, weight_view))\n",
    "            \n",
    "    distances = []\n",
    "    for e in mst:\n",
    "        distances.append(e[2]['weight'])\n",
    "        \n",
    "    mst_spatial_distances.append(distances)"
   ]
  },
  {
   "cell_type": "code",
   "execution_count": 58,
   "metadata": {
    "collapsed": false
   },
   "outputs": [
    {
     "data": {
      "application/vnd.plotly.v1+json": {
       "data": [
        {
         "type": "scatter3d",
         "x": [
          0,
          -0.1950897915589948
         ],
         "y": [
          0,
          -6.758109500328984e-08
         ],
         "z": [
          1,
          0.9807853859175633
         ]
        },
        {
         "type": "scatter3d",
         "x": [
          0,
          0.1950897915590065
         ],
         "y": [
          0,
          0
         ],
         "z": [
          1,
          0.9807853859175633
         ]
        },
        {
         "type": "scatter3d",
         "x": [
          0,
          0.20280288969962867
         ],
         "y": [
          0,
          -0.19462654797231552
         ],
         "z": [
          1,
          0.9596830178521761
         ]
        },
        {
         "type": "scatter3d",
         "x": [
          0,
          6.375434829149114e-08
         ],
         "y": [
          0,
          -0.19508979155899608
         ],
         "z": [
          1,
          0.9807853859175633
         ]
        },
        {
         "type": "scatter3d",
         "x": [
          0,
          -0.20280295712023924
         ],
         "y": [
          0,
          -0.19462647771931285
         ],
         "z": [
          1,
          0.9596830178521761
         ]
        },
        {
         "type": "scatter3d",
         "x": [
          0,
          0.41373865644490737
         ],
         "y": [
          0,
          -0.19013346548902246
         ],
         "z": [
          1,
          0.8903199365757781
         ]
        },
        {
         "type": "scatter3d",
         "x": [
          -0.8320509677633564,
          -0.7071064774765927
         ],
         "y": [
          -0.3547873108815692,
          -0.3015108633612091
         ],
         "z": [
          0.4264002240635982,
          0.6396027116779784
         ]
        },
        {
         "type": "scatter3d",
         "x": [
          -0.8320509677633564,
          -0.8068984638841425
         ],
         "y": [
          -0.3547873108815692,
          -0.12482746365962312
         ],
         "z": [
          0.4264002240635982,
          0.5773499573895512
         ]
        },
        {
         "type": "scatter3d",
         "x": [
          -0.8320509677633564,
          -0.7071065237241335
         ],
         "y": [
          -0.3547873108815692,
          -0.5773505899949206
         ],
         "z": [
          0.4264002240635982,
          0.408248282714439
         ]
        },
        {
         "type": "scatter3d",
         "x": [
          -0.8320509677633564,
          -0.7071068980068338
         ],
         "y": [
          -0.3547873108815692,
          -0.6785982161419142
         ],
         "z": [
          0.4264002240635982,
          0.19875687620851
         ]
        },
        {
         "type": "scatter3d",
         "x": [
          -0.5906901877678383,
          -0.4137387223090556
         ],
         "y": [
          -0.17051805072908632,
          -0.19013332216571754
         ],
         "z": [
          0.7886752794720706,
          0.8903199365757781
         ]
        },
        {
         "type": "scatter3d",
         "x": [
          -0.5906901877678383,
          -0.44721298276616256
         ],
         "y": [
          -0.17051805072908632,
          -0.36514820722282626
         ],
         "z": [
          0.7886752794720706,
          0.8164969900785599
         ]
        },
        {
         "type": "scatter3d",
         "x": [
          -0.5906901877678383,
          -0.7071064774765927
         ],
         "y": [
          -0.17051805072908632,
          -0.3015108633612091
         ],
         "z": [
          0.7886752794720706,
          0.6396027116779784
         ]
        },
        {
         "type": "scatter3d",
         "x": [
          -0.5906901877678383,
          -0.8068984638841425
         ],
         "y": [
          -0.17051805072908632,
          -0.12482746365962312
         ],
         "z": [
          0.7886752794720706,
          0.5773499573895512
         ]
        },
        {
         "type": "scatter3d",
         "x": [
          -0.4137387223090556,
          -0.20280295712023924
         ],
         "y": [
          -0.19013332216571754,
          -0.19462647771931285
         ],
         "z": [
          0.8903199365757781,
          0.9596830178521761
         ]
        },
        {
         "type": "scatter3d",
         "x": [
          -0.4137387223090556,
          -0.44721298276616256
         ],
         "y": [
          -0.19013332216571754,
          -0.36514820722282626
         ],
         "z": [
          0.8903199365757781,
          0.8164969900785599
         ]
        },
        {
         "type": "scatter3d",
         "x": [
          -0.7071064774765927,
          -0.8068984638841425
         ],
         "y": [
          -0.3015108633612091,
          -0.12482746365962312
         ],
         "z": [
          0.6396027116779784,
          0.5773499573895512
         ]
        },
        {
         "type": "scatter3d",
         "x": [
          -0.7071064774765927,
          -0.7071065237241335
         ],
         "y": [
          -0.3015108633612091,
          -0.5773505899949206
         ],
         "z": [
          0.6396027116779784,
          0.408248282714439
         ]
        },
        {
         "type": "scatter3d",
         "x": [
          -0.7071064774765927,
          -0.5546990730736021
         ],
         "y": [
          -0.3015108633612091,
          -0.5321816508913696
         ],
         "z": [
          0.6396027116779784,
          0.6396027116779784
         ]
        },
        {
         "type": "scatter3d",
         "x": [
          -0.7071064774765927,
          -0.44721298276616256
         ],
         "y": [
          -0.3015108633612091,
          -0.36514820722282626
         ],
         "z": [
          0.6396027116779784,
          0.8164969900785599
         ]
        },
        {
         "type": "scatter3d",
         "x": [
          -0.45866600497329046,
          -0.7071065237241335
         ],
         "y": [
          -0.7911463459601596,
          -0.5773505899949206
         ],
         "z": [
          0.4046145760544582,
          0.408248282714439
         ]
        },
        {
         "type": "scatter3d",
         "x": [
          -0.45866600497329046,
          -0.7071068980068338
         ],
         "y": [
          -0.7911463459601596,
          -0.6785982161419142
         ],
         "z": [
          0.4046145760544582,
          0.19875687620851
         ]
        },
        {
         "type": "scatter3d",
         "x": [
          -0.45866600497329046,
          3.205156381002135e-07
         ],
         "y": [
          -0.7911463459601596,
          -0.9807853221631102
         ],
         "z": [
          0.4046145760544582,
          0.1950901120746549
         ]
        },
        {
         "type": "scatter3d",
         "x": [
          -0.45866600497329046,
          -0.5546990730736021
         ],
         "y": [
          -0.7911463459601596,
          -0.5321816508913696
         ],
         "z": [
          0.4046145760544582,
          0.6396027116779784
         ]
        },
        {
         "type": "scatter3d",
         "x": [
          -0.45866600497329046,
          -0.3437238034018253
         ],
         "y": [
          -0.7911463459601596,
          -0.7406220180883545
         ],
         "z": [
          0.4046145760544582,
          0.5773499573895512
         ]
        },
        {
         "type": "scatter3d",
         "x": [
          -0.45866600497329046,
          3.0191921085329833e-07
         ],
         "y": [
          -0.7911463459601596,
          -0.923879821400162
         ],
         "z": [
          0.4046145760544582,
          0.38268273492478555
         ]
        },
        {
         "type": "scatter3d",
         "x": [
          -0.7071065237241335,
          -0.7071068980068338
         ],
         "y": [
          -0.5773505899949206,
          -0.6785982161419142
         ],
         "z": [
          0.408248282714439,
          0.19875687620851
         ]
        },
        {
         "type": "scatter3d",
         "x": [
          -0.7071065237241335,
          -0.5546990730736021
         ],
         "y": [
          -0.5773505899949206,
          -0.5321816508913696
         ],
         "z": [
          0.408248282714439,
          0.6396027116779784
         ]
        },
        {
         "type": "scatter3d",
         "x": [
          -0.7071068980068338,
          3.205156381002135e-07
         ],
         "y": [
          -0.6785982161419142,
          -0.9807853221631102
         ],
         "z": [
          0.19875687620851,
          0.1950901120746549
         ]
        },
        {
         "type": "scatter3d",
         "x": [
          3.205156381002135e-07,
          0.9807853221631626
         ],
         "y": [
          -0.9807853221631102,
          0
         ],
         "z": [
          0.1950901120746549,
          0.1950901120746549
         ]
        },
        {
         "type": "scatter3d",
         "x": [
          3.205156381002135e-07,
          0.4586665220583694
         ],
         "y": [
          -0.9807853221631102,
          -0.7911460461805713
         ],
         "z": [
          0.1950901120746549,
          0.4046145760544582
         ]
        },
        {
         "type": "scatter3d",
         "x": [
          3.205156381002135e-07,
          3.0191921085329833e-07
         ],
         "y": [
          -0.9807853221631102,
          -0.923879821400162
         ],
         "z": [
          0.1950901120746549,
          0.38268273492478555
         ]
        },
        {
         "type": "scatter3d",
         "x": [
          3.205156381002135e-07,
          0.707106662933443
         ],
         "y": [
          -0.9807853221631102,
          -0.6785984610909204
         ],
         "z": [
          0.1950901120746549,
          0.19875687620851
         ]
        },
        {
         "type": "scatter3d",
         "x": [
          -0.20280295712023924,
          -0.44721298276616256
         ],
         "y": [
          -0.19462647771931285,
          -0.36514820722282626
         ],
         "z": [
          0.9596830178521761,
          0.8164969900785599
         ]
        },
        {
         "type": "scatter3d",
         "x": [
          -0.20280295712023924,
          6.375434829149114e-08
         ],
         "y": [
          -0.19462647771931285,
          -0.19508979155899608
         ],
         "z": [
          0.9596830178521761,
          0.9807853859175633
         ]
        },
        {
         "type": "scatter3d",
         "x": [
          -0.20280295712023924,
          -0.22837595262369279
         ],
         "y": [
          -0.19462647771931285,
          -0.3939223715390168
         ],
         "z": [
          0.9596830178521761,
          0.8903199365757781
         ]
        },
        {
         "type": "scatter3d",
         "x": [
          0.38268335688530936,
          0.5906902992165697
         ],
         "y": [
          0,
          -0.1705176646599722
         ],
         "z": [
          0.9238795637760319,
          0.7886752794720706
         ]
        },
        {
         "type": "scatter3d",
         "x": [
          0.38268335688530936,
          0.5555697153896786
         ],
         "y": [
          0,
          0
         ],
         "z": [
          0.9238795637760319,
          0.8314699581715694
         ]
        },
        {
         "type": "scatter3d",
         "x": [
          0.38268335688530936,
          0.41373865644490737
         ],
         "y": [
          0,
          -0.19013346548902246
         ],
         "z": [
          0.9238795637760319,
          0.8903199365757781
         ]
        },
        {
         "type": "scatter3d",
         "x": [
          0.38268335688530936,
          0.1950897915590065
         ],
         "y": [
          0,
          0
         ],
         "z": [
          0.9238795637760319,
          0.9807853859175633
         ]
        },
        {
         "type": "scatter3d",
         "x": [
          0.38268335688530936,
          -0.38268335688528643
         ],
         "y": [
          0,
          -1.325654207284431e-07
         ],
         "z": [
          0.9238795637760319,
          0.9238795637760319
         ]
        },
        {
         "type": "scatter3d",
         "x": [
          0.41373865644490737,
          0.1950897915590065
         ],
         "y": [
          -0.19013346548902246,
          0
         ],
         "z": [
          0.8903199365757781,
          0.9807853859175633
         ]
        },
        {
         "type": "scatter3d",
         "x": [
          0.41373865644490737,
          0.20280288969962867
         ],
         "y": [
          -0.19013346548902246,
          -0.19462654797231552
         ],
         "z": [
          0.8903199365757781,
          0.9596830178521761
         ]
        },
        {
         "type": "scatter3d",
         "x": [
          0.41373865644490737,
          0.4472132214232083
         ],
         "y": [
          -0.19013346548902246,
          -0.3651479149289072
         ],
         "z": [
          0.8903199365757781,
          0.8164969900785599
         ]
        },
        {
         "type": "scatter3d",
         "x": [
          0.41373865644490737,
          0.5906902992165697
         ],
         "y": [
          -0.19013346548902246,
          -0.1705176646599722
         ],
         "z": [
          0.8903199365757781,
          0.7886752794720706
         ]
        },
        {
         "type": "scatter3d",
         "x": [
          0.1950897915590065,
          -0.1950897915589948
         ],
         "y": [
          0,
          -6.758109500328984e-08
         ],
         "z": [
          0.9807853859175633,
          0.9807853859175633
         ]
        },
        {
         "type": "scatter3d",
         "x": [
          -0.38268335688528643,
          -0.1950897915589948
         ],
         "y": [
          -1.325654207284431e-07,
          -6.758109500328984e-08
         ],
         "z": [
          0.9238795637760319,
          0.9807853859175633
         ]
        },
        {
         "type": "scatter3d",
         "x": [
          -0.38268335688528643,
          -0.5555697153896453
         ],
         "y": [
          -1.325654207284431e-07,
          -1.924550198996162e-07
         ],
         "z": [
          0.9238795637760319,
          0.8314699581715694
         ]
        },
        {
         "type": "scatter3d",
         "x": [
          0.22837621008728548,
          0.20280288969962867
         ],
         "y": [
          -0.393922222274741,
          -0.19462654797231552
         ],
         "z": [
          0.8903199365757781,
          0.9596830178521761
         ]
        },
        {
         "type": "scatter3d",
         "x": [
          0.22837621008728548,
          0.4472132214232083
         ],
         "y": [
          -0.393922222274741,
          -0.3651479149289072
         ],
         "z": [
          0.8903199365757781,
          0.8164969900785599
         ]
        },
        {
         "type": "scatter3d",
         "x": [
          0.22837621008728548,
          0.25881928712261626
         ],
         "y": [
          -0.393922222274741,
          -0.5576772186157438
         ],
         "z": [
          0.8903199365757781,
          0.7886752794720706
         ]
        },
        {
         "type": "scatter3d",
         "x": [
          0.22837621008728548,
          6.375434829149114e-08
         ],
         "y": [
          -0.393922222274741,
          -0.19508979155899608
         ],
         "z": [
          0.8903199365757781,
          0.9807853859175633
         ]
        },
        {
         "type": "scatter3d",
         "x": [
          0.22837621008728548,
          1.2505896810517491e-07
         ],
         "y": [
          -0.393922222274741,
          -0.38268335688528893
         ],
         "z": [
          0.8903199365757781,
          0.9238795637760319
         ]
        },
        {
         "type": "scatter3d",
         "x": [
          0.20280288969962867,
          6.375434829149114e-08
         ],
         "y": [
          -0.19462654797231552,
          -0.19508979155899608
         ],
         "z": [
          0.9596830178521761,
          0.9807853859175633
         ]
        },
        {
         "type": "scatter3d",
         "x": [
          0.20280288969962867,
          0.4472132214232083
         ],
         "y": [
          -0.19462654797231552,
          -0.3651479149289072
         ],
         "z": [
          0.9596830178521761,
          0.8164969900785599
         ]
        },
        {
         "type": "scatter3d",
         "x": [
          6.375434829149114e-08,
          -0.22837595262369279
         ],
         "y": [
          -0.19508979155899608,
          -0.3939223715390168
         ],
         "z": [
          0.9807853859175633,
          0.8903199365757781
         ]
        },
        {
         "type": "scatter3d",
         "x": [
          6.375434829149114e-08,
          1.2505896810517491e-07
         ],
         "y": [
          -0.19508979155899608,
          -0.38268335688528893
         ],
         "z": [
          0.9807853859175633,
          0.9238795637760319
         ]
        },
        {
         "type": "scatter3d",
         "x": [
          0.707106662933443,
          0.4586665220583694
         ],
         "y": [
          -0.6785984610909204,
          -0.7911460461805713
         ],
         "z": [
          0.19875687620851,
          0.4046145760544582
         ]
        },
        {
         "type": "scatter3d",
         "x": [
          0.707106662933443,
          0.9807853221631626
         ],
         "y": [
          -0.6785984610909204,
          0
         ],
         "z": [
          0.19875687620851,
          0.1950901120746549
         ]
        },
        {
         "type": "scatter3d",
         "x": [
          0.707106662933443,
          0.7071069010744352
         ],
         "y": [
          -0.6785984610909204,
          -0.5773501278371904
         ],
         "z": [
          0.19875687620851,
          0.408248282714439
         ]
        },
        {
         "type": "scatter3d",
         "x": [
          0.707106662933443,
          0.8886086758917745
         ],
         "y": [
          -0.6785984610909204,
          -0.40835982903476237
         ],
         "z": [
          0.19875687620851,
          0.20884652537345866
         ]
        },
        {
         "type": "scatter3d",
         "x": [
          -0.25881892263042294,
          2.3107884979857942e-07
         ],
         "y": [
          -0.557677387777269,
          -0.7071066656470566
         ],
         "z": [
          0.7886752794720706,
          0.7071068967259819
         ]
        },
        {
         "type": "scatter3d",
         "x": [
          -0.25881892263042294,
          1.8155734778385425e-07
         ],
         "y": [
          -0.557677387777269,
          -0.5555697153896489
         ],
         "z": [
          0.7886752794720706,
          0.8314699581715694
         ]
        },
        {
         "type": "scatter3d",
         "x": [
          -0.25881892263042294,
          -0.3437238034018253
         ],
         "y": [
          -0.557677387777269,
          -0.7406220180883545
         ],
         "z": [
          0.7886752794720706,
          0.5773499573895512
         ]
        },
        {
         "type": "scatter3d",
         "x": [
          -0.25881892263042294,
          1.2505896810517491e-07
         ],
         "y": [
          -0.557677387777269,
          -0.38268335688528893
         ],
         "z": [
          0.7886752794720706,
          0.9238795637760319
         ]
        },
        {
         "type": "scatter3d",
         "x": [
          -0.25881892263042294,
          -0.22837595262369279
         ],
         "y": [
          -0.557677387777269,
          -0.3939223715390168
         ],
         "z": [
          0.7886752794720706,
          0.8903199365757781
         ]
        },
        {
         "type": "scatter3d",
         "x": [
          -0.25881892263042294,
          -0.5546990730736021
         ],
         "y": [
          -0.557677387777269,
          -0.5321816508913696
         ],
         "z": [
          0.7886752794720706,
          0.6396027116779784
         ]
        },
        {
         "type": "scatter3d",
         "x": [
          -0.25881892263042294,
          -0.44721298276616256
         ],
         "y": [
          -0.557677387777269,
          -0.36514820722282626
         ],
         "z": [
          0.7886752794720706,
          0.8164969900785599
         ]
        },
        {
         "type": "scatter3d",
         "x": [
          1.8155734778385425e-07,
          2.3107884979857942e-07
         ],
         "y": [
          -0.5555697153896489,
          -0.7071066656470566
         ],
         "z": [
          0.8314699581715694,
          0.7071068967259819
         ]
        },
        {
         "type": "scatter3d",
         "x": [
          1.8155734778385425e-07,
          0.25881928712261626
         ],
         "y": [
          -0.5555697153896489,
          -0.5576772186157438
         ],
         "z": [
          0.8314699581715694,
          0.7886752794720706
         ]
        },
        {
         "type": "scatter3d",
         "x": [
          1.8155734778385425e-07,
          1.2505896810517491e-07
         ],
         "y": [
          -0.5555697153896489,
          -0.38268335688528893
         ],
         "z": [
          0.8314699581715694,
          0.9238795637760319
         ]
        },
        {
         "type": "scatter3d",
         "x": [
          -0.3437238034018253,
          3.0191921085329833e-07
         ],
         "y": [
          -0.7406220180883545,
          -0.923879821400162
         ],
         "z": [
          0.5773499573895512,
          0.38268273492478555
         ]
        },
        {
         "type": "scatter3d",
         "x": [
          -0.3437238034018253,
          2.7172007980784245e-07
         ],
         "y": [
          -0.7406220180883545,
          -0.8314697766141329
         ],
         "z": [
          0.5773499573895512,
          0.5555699871097881
         ]
        },
        {
         "type": "scatter3d",
         "x": [
          -0.3437238034018253,
          2.3107884979857942e-07
         ],
         "y": [
          -0.7406220180883545,
          -0.7071066656470566
         ],
         "z": [
          0.5773499573895512,
          0.7071068967259819
         ]
        },
        {
         "type": "scatter3d",
         "x": [
          -0.3437238034018253,
          -0.5546990730736021
         ],
         "y": [
          -0.7406220180883545,
          -0.5321816508913696
         ],
         "z": [
          0.5773499573895512,
          0.6396027116779784
         ]
        },
        {
         "type": "scatter3d",
         "x": [
          1.2505896810517491e-07,
          0.25881928712261626
         ],
         "y": [
          -0.38268335688528893,
          -0.5576772186157438
         ],
         "z": [
          0.9238795637760319,
          0.7886752794720706
         ]
        },
        {
         "type": "scatter3d",
         "x": [
          1.2505896810517491e-07,
          -0.22837595262369279
         ],
         "y": [
          -0.38268335688528893,
          -0.3939223715390168
         ],
         "z": [
          0.9238795637760319,
          0.8903199365757781
         ]
        },
        {
         "type": "scatter3d",
         "x": [
          -0.22837595262369279,
          -0.44721298276616256
         ],
         "y": [
          -0.3939223715390168,
          -0.36514820722282626
         ],
         "z": [
          0.8903199365757781,
          0.8164969900785599
         ]
        },
        {
         "type": "scatter3d",
         "x": [
          -0.5546990730736021,
          -0.44721298276616256
         ],
         "y": [
          -0.5321816508913696,
          -0.36514820722282626
         ],
         "z": [
          0.6396027116779784,
          0.8164969900785599
         ]
        },
        {
         "type": "scatter3d",
         "x": [
          0.7071066656470943,
          0.5906902992165697
         ],
         "y": [
          0,
          -0.1705176646599722
         ],
         "z": [
          0.7071068967259819,
          0.7886752794720706
         ]
        },
        {
         "type": "scatter3d",
         "x": [
          0.7071066656470943,
          0.5555697153896786
         ],
         "y": [
          0,
          0
         ],
         "z": [
          0.7071068967259819,
          0.8314699581715694
         ]
        },
        {
         "type": "scatter3d",
         "x": [
          0.7071066656470943,
          0.8068984206425867
         ],
         "y": [
          0,
          -0.12482774317747945
         ],
         "z": [
          0.7071068967259819,
          0.5773499573895512
         ]
        },
        {
         "type": "scatter3d",
         "x": [
          0.7071066656470943,
          0.8314697766141773
         ],
         "y": [
          0,
          0
         ],
         "z": [
          0.7071068967259819,
          0.5555699871097881
         ]
        },
        {
         "type": "scatter3d",
         "x": [
          0.7071066656470943,
          -0.7071066656470519
         ],
         "y": [
          0,
          -2.449489661487603e-07
         ],
         "z": [
          0.7071068967259819,
          0.7071068967259819
         ]
        },
        {
         "type": "scatter3d",
         "x": [
          0.5555697153896786,
          -0.5555697153896453
         ],
         "y": [
          0,
          -1.924550198996162e-07
         ],
         "z": [
          0.8314699581715694,
          0.8314699581715694
         ]
        },
        {
         "type": "scatter3d",
         "x": [
          0.5555697153896786,
          0.5906902992165697
         ],
         "y": [
          0,
          -0.1705176646599722
         ],
         "z": [
          0.8314699581715694,
          0.7886752794720706
         ]
        },
        {
         "type": "scatter3d",
         "x": [
          0.8314697766141773,
          -0.8314697766141275
         ],
         "y": [
          0,
          -2.880296171146981e-07
         ],
         "z": [
          0.5555699871097881,
          0.5555699871097881
         ]
        },
        {
         "type": "scatter3d",
         "x": [
          0.8314697766141773,
          0.9238798214002113
         ],
         "y": [
          0,
          0
         ],
         "z": [
          0.5555699871097881,
          0.38268273492478555
         ]
        },
        {
         "type": "scatter3d",
         "x": [
          0.8314697766141773,
          0.9103959111935398
         ],
         "y": [
          0,
          -0.08640792629357265
         ],
         "z": [
          0.5555699871097881,
          0.4046145760544582
         ]
        },
        {
         "type": "scatter3d",
         "x": [
          0.8314697766141773,
          0.8068984206425867
         ],
         "y": [
          0,
          -0.12482774317747945
         ],
         "z": [
          0.5555699871097881,
          0.5773499573895512
         ]
        },
        {
         "type": "scatter3d",
         "x": [
          -0.7071066656470519,
          -0.5555697153896453
         ],
         "y": [
          -2.449489661487603e-07,
          -1.924550198996162e-07
         ],
         "z": [
          0.7071068967259819,
          0.8314699581715694
         ]
        },
        {
         "type": "scatter3d",
         "x": [
          -0.7071066656470519,
          -0.8314697766141275
         ],
         "y": [
          -2.449489661487603e-07,
          -2.880296171146981e-07
         ],
         "z": [
          0.7071068967259819,
          0.5555699871097881
         ]
        },
        {
         "type": "scatter3d",
         "x": [
          -0.8314697766141275,
          0.9807853221631626
         ],
         "y": [
          -2.880296171146981e-07,
          0
         ],
         "z": [
          0.5555699871097881,
          0.1950901120746549
         ]
        },
        {
         "type": "scatter3d",
         "x": [
          -0.8314697766141275,
          0.9238798214002113
         ],
         "y": [
          -2.880296171146981e-07,
          0
         ],
         "z": [
          0.5555699871097881,
          0.38268273492478555
         ]
        },
        {
         "type": "scatter3d",
         "x": [
          0.9792195379726093,
          0.9238798214002113
         ],
         "y": [
          -0.040308815568615576,
          0
         ],
         "z": [
          0.19875687620851,
          0.38268273492478555
         ]
        },
        {
         "type": "scatter3d",
         "x": [
          0.9792195379726093,
          0.9807853221631626
         ],
         "y": [
          -0.040308815568615576,
          0
         ],
         "z": [
          0.19875687620851,
          0.1950901120746549
         ]
        },
        {
         "type": "scatter3d",
         "x": [
          0.9792195379726093,
          0.9735731031435004
         ],
         "y": [
          -0.040308815568615576,
          -0.09240422974608956
         ],
         "z": [
          0.19875687620851,
          0.20884652537345866
         ]
        },
        {
         "type": "scatter3d",
         "x": [
          0.9792195379726093,
          0.9659257857520813
         ],
         "y": [
          -0.040308815568615576,
          -0.149429386435463
         ],
         "z": [
          0.19875687620851,
          0.21132495093752063
         ]
        },
        {
         "type": "scatter3d",
         "x": [
          0.9792195379726093,
          0.9390707571195289
         ],
         "y": [
          -0.040308815568615576,
          -0.2710864774093487
         ],
         "z": [
          0.19875687620851,
          0.21132495093752063
         ]
        },
        {
         "type": "scatter3d",
         "x": [
          0.9792195379726093,
          0.8886086758917745
         ],
         "y": [
          -0.040308815568615576,
          -0.40835982903476237
         ],
         "z": [
          0.19875687620851,
          0.20884652537345866
         ]
        },
        {
         "type": "scatter3d",
         "x": [
          0.9238798214002113,
          0.9103959111935398
         ],
         "y": [
          0,
          -0.08640792629357265
         ],
         "z": [
          0.38268273492478555,
          0.4046145760544582
         ]
        },
        {
         "type": "scatter3d",
         "x": [
          0.9238798214002113,
          0.9807853221631626
         ],
         "y": [
          0,
          0
         ],
         "z": [
          0.38268273492478555,
          0.1950901120746549
         ]
        },
        {
         "type": "scatter3d",
         "x": [
          0.9238798214002113,
          0.9735731031435004
         ],
         "y": [
          0,
          -0.09240422974608956
         ],
         "z": [
          0.38268273492478555,
          0.20884652537345866
         ]
        },
        {
         "type": "scatter3d",
         "x": [
          0.9807853221631626,
          0.8886086758917745
         ],
         "y": [
          0,
          -0.40835982903476237
         ],
         "z": [
          0.1950901120746549,
          0.20884652537345866
         ]
        },
        {
         "type": "scatter3d",
         "x": [
          0.9735731031435004,
          0.9103959111935398
         ],
         "y": [
          -0.09240422974608956,
          -0.08640792629357265
         ],
         "z": [
          0.20884652537345866,
          0.4046145760544582
         ]
        },
        {
         "type": "scatter3d",
         "x": [
          0.9735731031435004,
          0.9659257857520813
         ],
         "y": [
          -0.09240422974608956,
          -0.149429386435463
         ],
         "z": [
          0.20884652537345866,
          0.21132495093752063
         ]
        },
        {
         "type": "scatter3d",
         "x": [
          0.3437242874647436,
          0.554698888720413
         ],
         "y": [
          -0.7406217934338266,
          -0.5321818430447582
         ],
         "z": [
          0.5773499573895512,
          0.6396027116779784
         ]
        },
        {
         "type": "scatter3d",
         "x": [
          0.3437242874647436,
          0.4586665220583694
         ],
         "y": [
          -0.7406217934338266,
          -0.7911460461805713
         ],
         "z": [
          0.5773499573895512,
          0.4046145760544582
         ]
        },
        {
         "type": "scatter3d",
         "x": [
          0.3437242874647436,
          0.25881928712261626
         ],
         "y": [
          -0.7406217934338266,
          -0.5576772186157438
         ],
         "z": [
          0.5773499573895512,
          0.7886752794720706
         ]
        },
        {
         "type": "scatter3d",
         "x": [
          0.3437242874647436,
          3.0191921085329833e-07
         ],
         "y": [
          -0.7406217934338266,
          -0.923879821400162
         ],
         "z": [
          0.5773499573895512,
          0.38268273492478555
         ]
        },
        {
         "type": "scatter3d",
         "x": [
          0.3437242874647436,
          2.7172007980784245e-07
         ],
         "y": [
          -0.7406217934338266,
          -0.8314697766141329
         ],
         "z": [
          0.5773499573895512,
          0.5555699871097881
         ]
        },
        {
         "type": "scatter3d",
         "x": [
          0.3437242874647436,
          2.3107884979857942e-07
         ],
         "y": [
          -0.7406217934338266,
          -0.7071066656470566
         ],
         "z": [
          0.5773499573895512,
          0.7071068967259819
         ]
        },
        {
         "type": "scatter3d",
         "x": [
          0.4586665220583694,
          3.0191921085329833e-07
         ],
         "y": [
          -0.7911460461805713,
          -0.923879821400162
         ],
         "z": [
          0.4046145760544582,
          0.38268273492478555
         ]
        },
        {
         "type": "scatter3d",
         "x": [
          0.4586665220583694,
          0.7071069010744352
         ],
         "y": [
          -0.7911460461805713,
          -0.5773501278371904
         ],
         "z": [
          0.4046145760544582,
          0.408248282714439
         ]
        },
        {
         "type": "scatter3d",
         "x": [
          0.4586665220583694,
          0.554698888720413
         ],
         "y": [
          -0.7911460461805713,
          -0.5321818430447582
         ],
         "z": [
          0.4046145760544582,
          0.6396027116779784
         ]
        },
        {
         "type": "scatter3d",
         "x": [
          0.25881928712261626,
          2.3107884979857942e-07
         ],
         "y": [
          -0.5576772186157438,
          -0.7071066656470566
         ],
         "z": [
          0.7886752794720706,
          0.7071068967259819
         ]
        },
        {
         "type": "scatter3d",
         "x": [
          0.25881928712261626,
          0.554698888720413
         ],
         "y": [
          -0.5576772186157438,
          -0.5321818430447582
         ],
         "z": [
          0.7886752794720706,
          0.6396027116779784
         ]
        },
        {
         "type": "scatter3d",
         "x": [
          0.25881928712261626,
          0.4472132214232083
         ],
         "y": [
          -0.5576772186157438,
          -0.3651479149289072
         ],
         "z": [
          0.7886752794720706,
          0.8164969900785599
         ]
        },
        {
         "type": "scatter3d",
         "x": [
          3.0191921085329833e-07,
          2.7172007980784245e-07
         ],
         "y": [
          -0.923879821400162,
          -0.8314697766141329
         ],
         "z": [
          0.38268273492478555,
          0.5555699871097881
         ]
        },
        {
         "type": "scatter3d",
         "x": [
          2.7172007980784245e-07,
          2.3107884979857942e-07
         ],
         "y": [
          -0.8314697766141329,
          -0.7071066656470566
         ],
         "z": [
          0.5555699871097881,
          0.7071068967259819
         ]
        },
        {
         "type": "scatter3d",
         "x": [
          0.8886086758917745,
          0.7071069010744352
         ],
         "y": [
          -0.40835982903476237,
          -0.5773501278371904
         ],
         "z": [
          0.20884652537345866,
          0.408248282714439
         ]
        },
        {
         "type": "scatter3d",
         "x": [
          0.8886086758917745,
          0.9390707571195289
         ],
         "y": [
          -0.40835982903476237,
          -0.2710864774093487
         ],
         "z": [
          0.20884652537345866,
          0.21132495093752063
         ]
        },
        {
         "type": "scatter3d",
         "x": [
          0.8886086758917745,
          0.8320511996485439
         ],
         "y": [
          -0.40835982903476237,
          -0.3547867670614732
         ],
         "z": [
          0.20884652537345866,
          0.4264002240635982
         ]
        },
        {
         "type": "scatter3d",
         "x": [
          0.7071066745408645,
          0.554698888720413
         ],
         "y": [
          -0.30151040120356815,
          -0.5321818430447582
         ],
         "z": [
          0.6396027116779784,
          0.6396027116779784
         ]
        },
        {
         "type": "scatter3d",
         "x": [
          0.7071066745408645,
          0.7071069010744352
         ],
         "y": [
          -0.30151040120356815,
          -0.5773501278371904
         ],
         "z": [
          0.6396027116779784,
          0.408248282714439
         ]
        },
        {
         "type": "scatter3d",
         "x": [
          0.7071066745408645,
          0.8320511996485439
         ],
         "y": [
          -0.30151040120356815,
          -0.3547867670614732
         ],
         "z": [
          0.6396027116779784,
          0.4264002240635982
         ]
        },
        {
         "type": "scatter3d",
         "x": [
          0.7071066745408645,
          0.5906902992165697
         ],
         "y": [
          -0.30151040120356815,
          -0.1705176646599722
         ],
         "z": [
          0.6396027116779784,
          0.7886752794720706
         ]
        },
        {
         "type": "scatter3d",
         "x": [
          0.7071066745408645,
          0.4472132214232083
         ],
         "y": [
          -0.30151040120356815,
          -0.3651479149289072
         ],
         "z": [
          0.6396027116779784,
          0.8164969900785599
         ]
        },
        {
         "type": "scatter3d",
         "x": [
          0.7071066745408645,
          0.8068984206425867
         ],
         "y": [
          -0.30151040120356815,
          -0.12482774317747945
         ],
         "z": [
          0.6396027116779784,
          0.5773499573895512
         ]
        },
        {
         "type": "scatter3d",
         "x": [
          0.554698888720413,
          0.4472132214232083
         ],
         "y": [
          -0.5321818430447582,
          -0.3651479149289072
         ],
         "z": [
          0.6396027116779784,
          0.8164969900785599
         ]
        },
        {
         "type": "scatter3d",
         "x": [
          0.554698888720413,
          0.7071069010744352
         ],
         "y": [
          -0.5321818430447582,
          -0.5773501278371904
         ],
         "z": [
          0.6396027116779784,
          0.408248282714439
         ]
        },
        {
         "type": "scatter3d",
         "x": [
          0.7071069010744352,
          0.8320511996485439
         ],
         "y": [
          -0.5773501278371904,
          -0.3547867670614732
         ],
         "z": [
          0.408248282714439,
          0.4264002240635982
         ]
        },
        {
         "type": "scatter3d",
         "x": [
          0.5906902992165697,
          0.4472132214232083
         ],
         "y": [
          -0.1705176646599722,
          -0.3651479149289072
         ],
         "z": [
          0.7886752794720706,
          0.8164969900785599
         ]
        },
        {
         "type": "scatter3d",
         "x": [
          0.5906902992165697,
          0.8068984206425867
         ],
         "y": [
          -0.1705176646599722,
          -0.12482774317747945
         ],
         "z": [
          0.7886752794720706,
          0.5773499573895512
         ]
        },
        {
         "type": "scatter3d",
         "x": [
          0.8944271799338995,
          0.8320511996485439
         ],
         "y": [
          -0.18257425737546654,
          -0.3547867670614732
         ],
         "z": [
          0.408248282714439,
          0.4264002240635982
         ]
        },
        {
         "type": "scatter3d",
         "x": [
          0.8944271799338995,
          0.9390707571195289
         ],
         "y": [
          -0.18257425737546654,
          -0.2710864774093487
         ],
         "z": [
          0.408248282714439,
          0.21132495093752063
         ]
        },
        {
         "type": "scatter3d",
         "x": [
          0.8944271799338995,
          0.9659257857520813
         ],
         "y": [
          -0.18257425737546654,
          -0.149429386435463
         ],
         "z": [
          0.408248282714439,
          0.21132495093752063
         ]
        },
        {
         "type": "scatter3d",
         "x": [
          0.8944271799338995,
          0.9103959111935398
         ],
         "y": [
          -0.18257425737546654,
          -0.08640792629357265
         ],
         "z": [
          0.408248282714439,
          0.4046145760544582
         ]
        },
        {
         "type": "scatter3d",
         "x": [
          0.8944271799338995,
          0.8068984206425867
         ],
         "y": [
          -0.18257425737546654,
          -0.12482774317747945
         ],
         "z": [
          0.408248282714439,
          0.5773499573895512
         ]
        },
        {
         "type": "scatter3d",
         "x": [
          0.8320511996485439,
          0.9390707571195289
         ],
         "y": [
          -0.3547867670614732,
          -0.2710864774093487
         ],
         "z": [
          0.4264002240635982,
          0.21132495093752063
         ]
        },
        {
         "type": "scatter3d",
         "x": [
          0.8320511996485439,
          0.8068984206425867
         ],
         "y": [
          -0.3547867670614732,
          -0.12482774317747945
         ],
         "z": [
          0.4264002240635982,
          0.5773499573895512
         ]
        },
        {
         "type": "scatter3d",
         "x": [
          0.9390707571195289,
          0.9659257857520813
         ],
         "y": [
          -0.2710864774093487,
          -0.149429386435463
         ],
         "z": [
          0.21132495093752063,
          0.21132495093752063
         ]
        },
        {
         "type": "scatter3d",
         "x": [
          0.9659257857520813,
          0.9103959111935398
         ],
         "y": [
          -0.149429386435463,
          -0.08640792629357265
         ],
         "z": [
          0.21132495093752063,
          0.4046145760544582
         ]
        },
        {
         "type": "scatter3d",
         "x": [
          0.9103959111935398,
          0.8068984206425867
         ],
         "y": [
          -0.08640792629357265,
          -0.12482774317747945
         ],
         "z": [
          0.4046145760544582,
          0.5773499573895512
         ]
        }
       ],
       "layout": {
        "autosize": true,
        "height": 800,
        "margin": {
         "b": 65,
         "l": 65,
         "r": 50,
         "t": 90
        },
        "title": "Ajacent graph",
        "width": 900
       }
      },
      "text/html": [
       "<div id=\"d338b9c4-9012-489e-bb30-69c641eb4d2d\" style=\"height: 800px; width: 900px;\" class=\"plotly-graph-div\"></div><script type=\"text/javascript\">require([\"plotly\"], function(Plotly) { window.PLOTLYENV=window.PLOTLYENV || {};window.PLOTLYENV.BASE_URL=\"https://plot.ly\";Plotly.newPlot(\"d338b9c4-9012-489e-bb30-69c641eb4d2d\", [{\"z\": [1.0, 0.9807853859175633], \"x\": [0.0, -0.1950897915589948], \"type\": \"scatter3d\", \"y\": [0.0, -6.758109500328984e-08]}, {\"z\": [1.0, 0.9807853859175633], \"x\": [0.0, 0.1950897915590065], \"type\": \"scatter3d\", \"y\": [0.0, 0.0]}, {\"z\": [1.0, 0.9596830178521761], \"x\": [0.0, 0.20280288969962867], \"type\": \"scatter3d\", \"y\": [0.0, -0.19462654797231552]}, {\"z\": [1.0, 0.9807853859175633], \"x\": [0.0, 6.375434829149114e-08], \"type\": \"scatter3d\", \"y\": [0.0, -0.19508979155899608]}, {\"z\": [1.0, 0.9596830178521761], \"x\": [0.0, -0.20280295712023924], \"type\": \"scatter3d\", \"y\": [0.0, -0.19462647771931285]}, {\"z\": [1.0, 0.8903199365757781], \"x\": [0.0, 0.41373865644490737], \"type\": \"scatter3d\", \"y\": [0.0, -0.19013346548902246]}, {\"z\": [0.4264002240635982, 0.6396027116779784], \"x\": [-0.8320509677633564, -0.7071064774765927], \"type\": \"scatter3d\", \"y\": [-0.3547873108815692, -0.3015108633612091]}, {\"z\": [0.4264002240635982, 0.5773499573895512], \"x\": [-0.8320509677633564, -0.8068984638841425], \"type\": \"scatter3d\", \"y\": [-0.3547873108815692, -0.12482746365962312]}, {\"z\": [0.4264002240635982, 0.408248282714439], \"x\": [-0.8320509677633564, -0.7071065237241335], \"type\": \"scatter3d\", \"y\": [-0.3547873108815692, -0.5773505899949206]}, {\"z\": [0.4264002240635982, 0.19875687620851], \"x\": [-0.8320509677633564, -0.7071068980068338], \"type\": \"scatter3d\", \"y\": [-0.3547873108815692, -0.6785982161419142]}, {\"z\": [0.7886752794720706, 0.8903199365757781], \"x\": [-0.5906901877678383, -0.4137387223090556], \"type\": \"scatter3d\", \"y\": [-0.17051805072908632, -0.19013332216571754]}, {\"z\": [0.7886752794720706, 0.8164969900785599], \"x\": [-0.5906901877678383, -0.44721298276616256], \"type\": \"scatter3d\", \"y\": [-0.17051805072908632, -0.36514820722282626]}, {\"z\": [0.7886752794720706, 0.6396027116779784], \"x\": [-0.5906901877678383, -0.7071064774765927], \"type\": \"scatter3d\", \"y\": [-0.17051805072908632, -0.3015108633612091]}, {\"z\": [0.7886752794720706, 0.5773499573895512], \"x\": [-0.5906901877678383, -0.8068984638841425], \"type\": \"scatter3d\", \"y\": [-0.17051805072908632, -0.12482746365962312]}, {\"z\": [0.8903199365757781, 0.9596830178521761], \"x\": [-0.4137387223090556, -0.20280295712023924], \"type\": \"scatter3d\", \"y\": [-0.19013332216571754, -0.19462647771931285]}, {\"z\": [0.8903199365757781, 0.8164969900785599], \"x\": [-0.4137387223090556, -0.44721298276616256], \"type\": \"scatter3d\", \"y\": [-0.19013332216571754, -0.36514820722282626]}, {\"z\": [0.6396027116779784, 0.5773499573895512], \"x\": [-0.7071064774765927, -0.8068984638841425], \"type\": \"scatter3d\", \"y\": [-0.3015108633612091, -0.12482746365962312]}, {\"z\": [0.6396027116779784, 0.408248282714439], \"x\": [-0.7071064774765927, -0.7071065237241335], \"type\": \"scatter3d\", \"y\": [-0.3015108633612091, -0.5773505899949206]}, {\"z\": [0.6396027116779784, 0.6396027116779784], \"x\": [-0.7071064774765927, -0.5546990730736021], \"type\": \"scatter3d\", \"y\": [-0.3015108633612091, -0.5321816508913696]}, {\"z\": [0.6396027116779784, 0.8164969900785599], \"x\": [-0.7071064774765927, -0.44721298276616256], \"type\": \"scatter3d\", \"y\": [-0.3015108633612091, -0.36514820722282626]}, {\"z\": [0.4046145760544582, 0.408248282714439], \"x\": [-0.45866600497329046, -0.7071065237241335], \"type\": \"scatter3d\", \"y\": [-0.7911463459601596, -0.5773505899949206]}, {\"z\": [0.4046145760544582, 0.19875687620851], \"x\": [-0.45866600497329046, -0.7071068980068338], \"type\": \"scatter3d\", \"y\": [-0.7911463459601596, -0.6785982161419142]}, {\"z\": [0.4046145760544582, 0.1950901120746549], \"x\": [-0.45866600497329046, 3.205156381002135e-07], \"type\": \"scatter3d\", \"y\": [-0.7911463459601596, -0.9807853221631102]}, {\"z\": [0.4046145760544582, 0.6396027116779784], \"x\": [-0.45866600497329046, -0.5546990730736021], \"type\": \"scatter3d\", \"y\": [-0.7911463459601596, -0.5321816508913696]}, {\"z\": [0.4046145760544582, 0.5773499573895512], \"x\": [-0.45866600497329046, -0.3437238034018253], \"type\": \"scatter3d\", \"y\": [-0.7911463459601596, -0.7406220180883545]}, {\"z\": [0.4046145760544582, 0.38268273492478555], \"x\": [-0.45866600497329046, 3.0191921085329833e-07], \"type\": \"scatter3d\", \"y\": [-0.7911463459601596, -0.923879821400162]}, {\"z\": [0.408248282714439, 0.19875687620851], \"x\": [-0.7071065237241335, -0.7071068980068338], \"type\": \"scatter3d\", \"y\": [-0.5773505899949206, -0.6785982161419142]}, {\"z\": [0.408248282714439, 0.6396027116779784], \"x\": [-0.7071065237241335, -0.5546990730736021], \"type\": \"scatter3d\", \"y\": [-0.5773505899949206, -0.5321816508913696]}, {\"z\": [0.19875687620851, 0.1950901120746549], \"x\": [-0.7071068980068338, 3.205156381002135e-07], \"type\": \"scatter3d\", \"y\": [-0.6785982161419142, -0.9807853221631102]}, {\"z\": [0.1950901120746549, 0.1950901120746549], \"x\": [3.205156381002135e-07, 0.9807853221631626], \"type\": \"scatter3d\", \"y\": [-0.9807853221631102, 0.0]}, {\"z\": [0.1950901120746549, 0.4046145760544582], \"x\": [3.205156381002135e-07, 0.4586665220583694], \"type\": \"scatter3d\", \"y\": [-0.9807853221631102, -0.7911460461805713]}, {\"z\": [0.1950901120746549, 0.38268273492478555], \"x\": [3.205156381002135e-07, 3.0191921085329833e-07], \"type\": \"scatter3d\", \"y\": [-0.9807853221631102, -0.923879821400162]}, {\"z\": [0.1950901120746549, 0.19875687620851], \"x\": [3.205156381002135e-07, 0.707106662933443], \"type\": \"scatter3d\", \"y\": [-0.9807853221631102, -0.6785984610909204]}, {\"z\": [0.9596830178521761, 0.8164969900785599], \"x\": [-0.20280295712023924, -0.44721298276616256], \"type\": \"scatter3d\", \"y\": [-0.19462647771931285, -0.36514820722282626]}, {\"z\": [0.9596830178521761, 0.9807853859175633], \"x\": [-0.20280295712023924, 6.375434829149114e-08], \"type\": \"scatter3d\", \"y\": [-0.19462647771931285, -0.19508979155899608]}, {\"z\": [0.9596830178521761, 0.8903199365757781], \"x\": [-0.20280295712023924, -0.22837595262369279], \"type\": \"scatter3d\", \"y\": [-0.19462647771931285, -0.3939223715390168]}, {\"z\": [0.9238795637760319, 0.7886752794720706], \"x\": [0.38268335688530936, 0.5906902992165697], \"type\": \"scatter3d\", \"y\": [0.0, -0.1705176646599722]}, {\"z\": [0.9238795637760319, 0.8314699581715694], \"x\": [0.38268335688530936, 0.5555697153896786], \"type\": \"scatter3d\", \"y\": [0.0, 0.0]}, {\"z\": [0.9238795637760319, 0.8903199365757781], \"x\": [0.38268335688530936, 0.41373865644490737], \"type\": \"scatter3d\", \"y\": [0.0, -0.19013346548902246]}, {\"z\": [0.9238795637760319, 0.9807853859175633], \"x\": [0.38268335688530936, 0.1950897915590065], \"type\": \"scatter3d\", \"y\": [0.0, 0.0]}, {\"z\": [0.9238795637760319, 0.9238795637760319], \"x\": [0.38268335688530936, -0.38268335688528643], \"type\": \"scatter3d\", \"y\": [0.0, -1.325654207284431e-07]}, {\"z\": [0.8903199365757781, 0.9807853859175633], \"x\": [0.41373865644490737, 0.1950897915590065], \"type\": \"scatter3d\", \"y\": [-0.19013346548902246, 0.0]}, {\"z\": [0.8903199365757781, 0.9596830178521761], \"x\": [0.41373865644490737, 0.20280288969962867], \"type\": \"scatter3d\", \"y\": [-0.19013346548902246, -0.19462654797231552]}, {\"z\": [0.8903199365757781, 0.8164969900785599], \"x\": [0.41373865644490737, 0.4472132214232083], \"type\": \"scatter3d\", \"y\": [-0.19013346548902246, -0.3651479149289072]}, {\"z\": [0.8903199365757781, 0.7886752794720706], \"x\": [0.41373865644490737, 0.5906902992165697], \"type\": \"scatter3d\", \"y\": [-0.19013346548902246, -0.1705176646599722]}, {\"z\": [0.9807853859175633, 0.9807853859175633], \"x\": [0.1950897915590065, -0.1950897915589948], \"type\": \"scatter3d\", \"y\": [0.0, -6.758109500328984e-08]}, {\"z\": [0.9238795637760319, 0.9807853859175633], \"x\": [-0.38268335688528643, -0.1950897915589948], \"type\": \"scatter3d\", \"y\": [-1.325654207284431e-07, -6.758109500328984e-08]}, {\"z\": [0.9238795637760319, 0.8314699581715694], \"x\": [-0.38268335688528643, -0.5555697153896453], \"type\": \"scatter3d\", \"y\": [-1.325654207284431e-07, -1.924550198996162e-07]}, {\"z\": [0.8903199365757781, 0.9596830178521761], \"x\": [0.22837621008728548, 0.20280288969962867], \"type\": \"scatter3d\", \"y\": [-0.393922222274741, -0.19462654797231552]}, {\"z\": [0.8903199365757781, 0.8164969900785599], \"x\": [0.22837621008728548, 0.4472132214232083], \"type\": \"scatter3d\", \"y\": [-0.393922222274741, -0.3651479149289072]}, {\"z\": [0.8903199365757781, 0.7886752794720706], \"x\": [0.22837621008728548, 0.25881928712261626], \"type\": \"scatter3d\", \"y\": [-0.393922222274741, -0.5576772186157438]}, {\"z\": [0.8903199365757781, 0.9807853859175633], \"x\": [0.22837621008728548, 6.375434829149114e-08], \"type\": \"scatter3d\", \"y\": [-0.393922222274741, -0.19508979155899608]}, {\"z\": [0.8903199365757781, 0.9238795637760319], \"x\": [0.22837621008728548, 1.2505896810517491e-07], \"type\": \"scatter3d\", \"y\": [-0.393922222274741, -0.38268335688528893]}, {\"z\": [0.9596830178521761, 0.9807853859175633], \"x\": [0.20280288969962867, 6.375434829149114e-08], \"type\": \"scatter3d\", \"y\": [-0.19462654797231552, -0.19508979155899608]}, {\"z\": [0.9596830178521761, 0.8164969900785599], \"x\": [0.20280288969962867, 0.4472132214232083], \"type\": \"scatter3d\", \"y\": [-0.19462654797231552, -0.3651479149289072]}, {\"z\": [0.9807853859175633, 0.8903199365757781], \"x\": [6.375434829149114e-08, -0.22837595262369279], \"type\": \"scatter3d\", \"y\": [-0.19508979155899608, -0.3939223715390168]}, {\"z\": [0.9807853859175633, 0.9238795637760319], \"x\": [6.375434829149114e-08, 1.2505896810517491e-07], \"type\": \"scatter3d\", \"y\": [-0.19508979155899608, -0.38268335688528893]}, {\"z\": [0.19875687620851, 0.4046145760544582], \"x\": [0.707106662933443, 0.4586665220583694], \"type\": \"scatter3d\", \"y\": [-0.6785984610909204, -0.7911460461805713]}, {\"z\": [0.19875687620851, 0.1950901120746549], \"x\": [0.707106662933443, 0.9807853221631626], \"type\": \"scatter3d\", \"y\": [-0.6785984610909204, 0.0]}, {\"z\": [0.19875687620851, 0.408248282714439], \"x\": [0.707106662933443, 0.7071069010744352], \"type\": \"scatter3d\", \"y\": [-0.6785984610909204, -0.5773501278371904]}, {\"z\": [0.19875687620851, 0.20884652537345866], \"x\": [0.707106662933443, 0.8886086758917745], \"type\": \"scatter3d\", \"y\": [-0.6785984610909204, -0.40835982903476237]}, {\"z\": [0.7886752794720706, 0.7071068967259819], \"x\": [-0.25881892263042294, 2.3107884979857942e-07], \"type\": \"scatter3d\", \"y\": [-0.557677387777269, -0.7071066656470566]}, {\"z\": [0.7886752794720706, 0.8314699581715694], \"x\": [-0.25881892263042294, 1.8155734778385425e-07], \"type\": \"scatter3d\", \"y\": [-0.557677387777269, -0.5555697153896489]}, {\"z\": [0.7886752794720706, 0.5773499573895512], \"x\": [-0.25881892263042294, -0.3437238034018253], \"type\": \"scatter3d\", \"y\": [-0.557677387777269, -0.7406220180883545]}, {\"z\": [0.7886752794720706, 0.9238795637760319], \"x\": [-0.25881892263042294, 1.2505896810517491e-07], \"type\": \"scatter3d\", \"y\": [-0.557677387777269, -0.38268335688528893]}, {\"z\": [0.7886752794720706, 0.8903199365757781], \"x\": [-0.25881892263042294, -0.22837595262369279], \"type\": \"scatter3d\", \"y\": [-0.557677387777269, -0.3939223715390168]}, {\"z\": [0.7886752794720706, 0.6396027116779784], \"x\": [-0.25881892263042294, -0.5546990730736021], \"type\": \"scatter3d\", \"y\": [-0.557677387777269, -0.5321816508913696]}, {\"z\": [0.7886752794720706, 0.8164969900785599], \"x\": [-0.25881892263042294, -0.44721298276616256], \"type\": \"scatter3d\", \"y\": [-0.557677387777269, -0.36514820722282626]}, {\"z\": [0.8314699581715694, 0.7071068967259819], \"x\": [1.8155734778385425e-07, 2.3107884979857942e-07], \"type\": \"scatter3d\", \"y\": [-0.5555697153896489, -0.7071066656470566]}, {\"z\": [0.8314699581715694, 0.7886752794720706], \"x\": [1.8155734778385425e-07, 0.25881928712261626], \"type\": \"scatter3d\", \"y\": [-0.5555697153896489, -0.5576772186157438]}, {\"z\": [0.8314699581715694, 0.9238795637760319], \"x\": [1.8155734778385425e-07, 1.2505896810517491e-07], \"type\": \"scatter3d\", \"y\": [-0.5555697153896489, -0.38268335688528893]}, {\"z\": [0.5773499573895512, 0.38268273492478555], \"x\": [-0.3437238034018253, 3.0191921085329833e-07], \"type\": \"scatter3d\", \"y\": [-0.7406220180883545, -0.923879821400162]}, {\"z\": [0.5773499573895512, 0.5555699871097881], \"x\": [-0.3437238034018253, 2.7172007980784245e-07], \"type\": \"scatter3d\", \"y\": [-0.7406220180883545, -0.8314697766141329]}, {\"z\": [0.5773499573895512, 0.7071068967259819], \"x\": [-0.3437238034018253, 2.3107884979857942e-07], \"type\": \"scatter3d\", \"y\": [-0.7406220180883545, -0.7071066656470566]}, {\"z\": [0.5773499573895512, 0.6396027116779784], \"x\": [-0.3437238034018253, -0.5546990730736021], \"type\": \"scatter3d\", \"y\": [-0.7406220180883545, -0.5321816508913696]}, {\"z\": [0.9238795637760319, 0.7886752794720706], \"x\": [1.2505896810517491e-07, 0.25881928712261626], \"type\": \"scatter3d\", \"y\": [-0.38268335688528893, -0.5576772186157438]}, {\"z\": [0.9238795637760319, 0.8903199365757781], \"x\": [1.2505896810517491e-07, -0.22837595262369279], \"type\": \"scatter3d\", \"y\": [-0.38268335688528893, -0.3939223715390168]}, {\"z\": [0.8903199365757781, 0.8164969900785599], \"x\": [-0.22837595262369279, -0.44721298276616256], \"type\": \"scatter3d\", \"y\": [-0.3939223715390168, -0.36514820722282626]}, {\"z\": [0.6396027116779784, 0.8164969900785599], \"x\": [-0.5546990730736021, -0.44721298276616256], \"type\": \"scatter3d\", \"y\": [-0.5321816508913696, -0.36514820722282626]}, {\"z\": [0.7071068967259819, 0.7886752794720706], \"x\": [0.7071066656470943, 0.5906902992165697], \"type\": \"scatter3d\", \"y\": [0.0, -0.1705176646599722]}, {\"z\": [0.7071068967259819, 0.8314699581715694], \"x\": [0.7071066656470943, 0.5555697153896786], \"type\": \"scatter3d\", \"y\": [0.0, 0.0]}, {\"z\": [0.7071068967259819, 0.5773499573895512], \"x\": [0.7071066656470943, 0.8068984206425867], \"type\": \"scatter3d\", \"y\": [0.0, -0.12482774317747945]}, {\"z\": [0.7071068967259819, 0.5555699871097881], \"x\": [0.7071066656470943, 0.8314697766141773], \"type\": \"scatter3d\", \"y\": [0.0, 0.0]}, {\"z\": [0.7071068967259819, 0.7071068967259819], \"x\": [0.7071066656470943, -0.7071066656470519], \"type\": \"scatter3d\", \"y\": [0.0, -2.449489661487603e-07]}, {\"z\": [0.8314699581715694, 0.8314699581715694], \"x\": [0.5555697153896786, -0.5555697153896453], \"type\": \"scatter3d\", \"y\": [0.0, -1.924550198996162e-07]}, {\"z\": [0.8314699581715694, 0.7886752794720706], \"x\": [0.5555697153896786, 0.5906902992165697], \"type\": \"scatter3d\", \"y\": [0.0, -0.1705176646599722]}, {\"z\": [0.5555699871097881, 0.5555699871097881], \"x\": [0.8314697766141773, -0.8314697766141275], \"type\": \"scatter3d\", \"y\": [0.0, -2.880296171146981e-07]}, {\"z\": [0.5555699871097881, 0.38268273492478555], \"x\": [0.8314697766141773, 0.9238798214002113], \"type\": \"scatter3d\", \"y\": [0.0, 0.0]}, {\"z\": [0.5555699871097881, 0.4046145760544582], \"x\": [0.8314697766141773, 0.9103959111935398], \"type\": \"scatter3d\", \"y\": [0.0, -0.08640792629357265]}, {\"z\": [0.5555699871097881, 0.5773499573895512], \"x\": [0.8314697766141773, 0.8068984206425867], \"type\": \"scatter3d\", \"y\": [0.0, -0.12482774317747945]}, {\"z\": [0.7071068967259819, 0.8314699581715694], \"x\": [-0.7071066656470519, -0.5555697153896453], \"type\": \"scatter3d\", \"y\": [-2.449489661487603e-07, -1.924550198996162e-07]}, {\"z\": [0.7071068967259819, 0.5555699871097881], \"x\": [-0.7071066656470519, -0.8314697766141275], \"type\": \"scatter3d\", \"y\": [-2.449489661487603e-07, -2.880296171146981e-07]}, {\"z\": [0.5555699871097881, 0.1950901120746549], \"x\": [-0.8314697766141275, 0.9807853221631626], \"type\": \"scatter3d\", \"y\": [-2.880296171146981e-07, 0.0]}, {\"z\": [0.5555699871097881, 0.38268273492478555], \"x\": [-0.8314697766141275, 0.9238798214002113], \"type\": \"scatter3d\", \"y\": [-2.880296171146981e-07, 0.0]}, {\"z\": [0.19875687620851, 0.38268273492478555], \"x\": [0.9792195379726093, 0.9238798214002113], \"type\": \"scatter3d\", \"y\": [-0.040308815568615576, 0.0]}, {\"z\": [0.19875687620851, 0.1950901120746549], \"x\": [0.9792195379726093, 0.9807853221631626], \"type\": \"scatter3d\", \"y\": [-0.040308815568615576, 0.0]}, {\"z\": [0.19875687620851, 0.20884652537345866], \"x\": [0.9792195379726093, 0.9735731031435004], \"type\": \"scatter3d\", \"y\": [-0.040308815568615576, -0.09240422974608956]}, {\"z\": [0.19875687620851, 0.21132495093752063], \"x\": [0.9792195379726093, 0.9659257857520813], \"type\": \"scatter3d\", \"y\": [-0.040308815568615576, -0.149429386435463]}, {\"z\": [0.19875687620851, 0.21132495093752063], \"x\": [0.9792195379726093, 0.9390707571195289], \"type\": \"scatter3d\", \"y\": [-0.040308815568615576, -0.2710864774093487]}, {\"z\": [0.19875687620851, 0.20884652537345866], \"x\": [0.9792195379726093, 0.8886086758917745], \"type\": \"scatter3d\", \"y\": [-0.040308815568615576, -0.40835982903476237]}, {\"z\": [0.38268273492478555, 0.4046145760544582], \"x\": [0.9238798214002113, 0.9103959111935398], \"type\": \"scatter3d\", \"y\": [0.0, -0.08640792629357265]}, {\"z\": [0.38268273492478555, 0.1950901120746549], \"x\": [0.9238798214002113, 0.9807853221631626], \"type\": \"scatter3d\", \"y\": [0.0, 0.0]}, {\"z\": [0.38268273492478555, 0.20884652537345866], \"x\": [0.9238798214002113, 0.9735731031435004], \"type\": \"scatter3d\", \"y\": [0.0, -0.09240422974608956]}, {\"z\": [0.1950901120746549, 0.20884652537345866], \"x\": [0.9807853221631626, 0.8886086758917745], \"type\": \"scatter3d\", \"y\": [0.0, -0.40835982903476237]}, {\"z\": [0.20884652537345866, 0.4046145760544582], \"x\": [0.9735731031435004, 0.9103959111935398], \"type\": \"scatter3d\", \"y\": [-0.09240422974608956, -0.08640792629357265]}, {\"z\": [0.20884652537345866, 0.21132495093752063], \"x\": [0.9735731031435004, 0.9659257857520813], \"type\": \"scatter3d\", \"y\": [-0.09240422974608956, -0.149429386435463]}, {\"z\": [0.5773499573895512, 0.6396027116779784], \"x\": [0.3437242874647436, 0.554698888720413], \"type\": \"scatter3d\", \"y\": [-0.7406217934338266, -0.5321818430447582]}, {\"z\": [0.5773499573895512, 0.4046145760544582], \"x\": [0.3437242874647436, 0.4586665220583694], \"type\": \"scatter3d\", \"y\": [-0.7406217934338266, -0.7911460461805713]}, {\"z\": [0.5773499573895512, 0.7886752794720706], \"x\": [0.3437242874647436, 0.25881928712261626], \"type\": \"scatter3d\", \"y\": [-0.7406217934338266, -0.5576772186157438]}, {\"z\": [0.5773499573895512, 0.38268273492478555], \"x\": [0.3437242874647436, 3.0191921085329833e-07], \"type\": \"scatter3d\", \"y\": [-0.7406217934338266, -0.923879821400162]}, {\"z\": [0.5773499573895512, 0.5555699871097881], \"x\": [0.3437242874647436, 2.7172007980784245e-07], \"type\": \"scatter3d\", \"y\": [-0.7406217934338266, -0.8314697766141329]}, {\"z\": [0.5773499573895512, 0.7071068967259819], \"x\": [0.3437242874647436, 2.3107884979857942e-07], \"type\": \"scatter3d\", \"y\": [-0.7406217934338266, -0.7071066656470566]}, {\"z\": [0.4046145760544582, 0.38268273492478555], \"x\": [0.4586665220583694, 3.0191921085329833e-07], \"type\": \"scatter3d\", \"y\": [-0.7911460461805713, -0.923879821400162]}, {\"z\": [0.4046145760544582, 0.408248282714439], \"x\": [0.4586665220583694, 0.7071069010744352], \"type\": \"scatter3d\", \"y\": [-0.7911460461805713, -0.5773501278371904]}, {\"z\": [0.4046145760544582, 0.6396027116779784], \"x\": [0.4586665220583694, 0.554698888720413], \"type\": \"scatter3d\", \"y\": [-0.7911460461805713, -0.5321818430447582]}, {\"z\": [0.7886752794720706, 0.7071068967259819], \"x\": [0.25881928712261626, 2.3107884979857942e-07], \"type\": \"scatter3d\", \"y\": [-0.5576772186157438, -0.7071066656470566]}, {\"z\": [0.7886752794720706, 0.6396027116779784], \"x\": [0.25881928712261626, 0.554698888720413], \"type\": \"scatter3d\", \"y\": [-0.5576772186157438, -0.5321818430447582]}, {\"z\": [0.7886752794720706, 0.8164969900785599], \"x\": [0.25881928712261626, 0.4472132214232083], \"type\": \"scatter3d\", \"y\": [-0.5576772186157438, -0.3651479149289072]}, {\"z\": [0.38268273492478555, 0.5555699871097881], \"x\": [3.0191921085329833e-07, 2.7172007980784245e-07], \"type\": \"scatter3d\", \"y\": [-0.923879821400162, -0.8314697766141329]}, {\"z\": [0.5555699871097881, 0.7071068967259819], \"x\": [2.7172007980784245e-07, 2.3107884979857942e-07], \"type\": \"scatter3d\", \"y\": [-0.8314697766141329, -0.7071066656470566]}, {\"z\": [0.20884652537345866, 0.408248282714439], \"x\": [0.8886086758917745, 0.7071069010744352], \"type\": \"scatter3d\", \"y\": [-0.40835982903476237, -0.5773501278371904]}, {\"z\": [0.20884652537345866, 0.21132495093752063], \"x\": [0.8886086758917745, 0.9390707571195289], \"type\": \"scatter3d\", \"y\": [-0.40835982903476237, -0.2710864774093487]}, {\"z\": [0.20884652537345866, 0.4264002240635982], \"x\": [0.8886086758917745, 0.8320511996485439], \"type\": \"scatter3d\", \"y\": [-0.40835982903476237, -0.3547867670614732]}, {\"z\": [0.6396027116779784, 0.6396027116779784], \"x\": [0.7071066745408645, 0.554698888720413], \"type\": \"scatter3d\", \"y\": [-0.30151040120356815, -0.5321818430447582]}, {\"z\": [0.6396027116779784, 0.408248282714439], \"x\": [0.7071066745408645, 0.7071069010744352], \"type\": \"scatter3d\", \"y\": [-0.30151040120356815, -0.5773501278371904]}, {\"z\": [0.6396027116779784, 0.4264002240635982], \"x\": [0.7071066745408645, 0.8320511996485439], \"type\": \"scatter3d\", \"y\": [-0.30151040120356815, -0.3547867670614732]}, {\"z\": [0.6396027116779784, 0.7886752794720706], \"x\": [0.7071066745408645, 0.5906902992165697], \"type\": \"scatter3d\", \"y\": [-0.30151040120356815, -0.1705176646599722]}, {\"z\": [0.6396027116779784, 0.8164969900785599], \"x\": [0.7071066745408645, 0.4472132214232083], \"type\": \"scatter3d\", \"y\": [-0.30151040120356815, -0.3651479149289072]}, {\"z\": [0.6396027116779784, 0.5773499573895512], \"x\": [0.7071066745408645, 0.8068984206425867], \"type\": \"scatter3d\", \"y\": [-0.30151040120356815, -0.12482774317747945]}, {\"z\": [0.6396027116779784, 0.8164969900785599], \"x\": [0.554698888720413, 0.4472132214232083], \"type\": \"scatter3d\", \"y\": [-0.5321818430447582, -0.3651479149289072]}, {\"z\": [0.6396027116779784, 0.408248282714439], \"x\": [0.554698888720413, 0.7071069010744352], \"type\": \"scatter3d\", \"y\": [-0.5321818430447582, -0.5773501278371904]}, {\"z\": [0.408248282714439, 0.4264002240635982], \"x\": [0.7071069010744352, 0.8320511996485439], \"type\": \"scatter3d\", \"y\": [-0.5773501278371904, -0.3547867670614732]}, {\"z\": [0.7886752794720706, 0.8164969900785599], \"x\": [0.5906902992165697, 0.4472132214232083], \"type\": \"scatter3d\", \"y\": [-0.1705176646599722, -0.3651479149289072]}, {\"z\": [0.7886752794720706, 0.5773499573895512], \"x\": [0.5906902992165697, 0.8068984206425867], \"type\": \"scatter3d\", \"y\": [-0.1705176646599722, -0.12482774317747945]}, {\"z\": [0.408248282714439, 0.4264002240635982], \"x\": [0.8944271799338995, 0.8320511996485439], \"type\": \"scatter3d\", \"y\": [-0.18257425737546654, -0.3547867670614732]}, {\"z\": [0.408248282714439, 0.21132495093752063], \"x\": [0.8944271799338995, 0.9390707571195289], \"type\": \"scatter3d\", \"y\": [-0.18257425737546654, -0.2710864774093487]}, {\"z\": [0.408248282714439, 0.21132495093752063], \"x\": [0.8944271799338995, 0.9659257857520813], \"type\": \"scatter3d\", \"y\": [-0.18257425737546654, -0.149429386435463]}, {\"z\": [0.408248282714439, 0.4046145760544582], \"x\": [0.8944271799338995, 0.9103959111935398], \"type\": \"scatter3d\", \"y\": [-0.18257425737546654, -0.08640792629357265]}, {\"z\": [0.408248282714439, 0.5773499573895512], \"x\": [0.8944271799338995, 0.8068984206425867], \"type\": \"scatter3d\", \"y\": [-0.18257425737546654, -0.12482774317747945]}, {\"z\": [0.4264002240635982, 0.21132495093752063], \"x\": [0.8320511996485439, 0.9390707571195289], \"type\": \"scatter3d\", \"y\": [-0.3547867670614732, -0.2710864774093487]}, {\"z\": [0.4264002240635982, 0.5773499573895512], \"x\": [0.8320511996485439, 0.8068984206425867], \"type\": \"scatter3d\", \"y\": [-0.3547867670614732, -0.12482774317747945]}, {\"z\": [0.21132495093752063, 0.21132495093752063], \"x\": [0.9390707571195289, 0.9659257857520813], \"type\": \"scatter3d\", \"y\": [-0.2710864774093487, -0.149429386435463]}, {\"z\": [0.21132495093752063, 0.4046145760544582], \"x\": [0.9659257857520813, 0.9103959111935398], \"type\": \"scatter3d\", \"y\": [-0.149429386435463, -0.08640792629357265]}, {\"z\": [0.4046145760544582, 0.5773499573895512], \"x\": [0.9103959111935398, 0.8068984206425867], \"type\": \"scatter3d\", \"y\": [-0.08640792629357265, -0.12482774317747945]}], {\"height\": 800, \"width\": 900, \"autosize\": true, \"title\": \"Ajacent graph\", \"margin\": {\"b\": 65, \"t\": 90, \"r\": 50, \"l\": 65}}, {\"linkText\": \"Export to plot.ly\", \"showLink\": true})});</script>"
      ],
      "text/vnd.plotly.v1+html": [
       "<div id=\"d338b9c4-9012-489e-bb30-69c641eb4d2d\" style=\"height: 800px; width: 900px;\" class=\"plotly-graph-div\"></div><script type=\"text/javascript\">require([\"plotly\"], function(Plotly) { window.PLOTLYENV=window.PLOTLYENV || {};window.PLOTLYENV.BASE_URL=\"https://plot.ly\";Plotly.newPlot(\"d338b9c4-9012-489e-bb30-69c641eb4d2d\", [{\"z\": [1.0, 0.9807853859175633], \"x\": [0.0, -0.1950897915589948], \"type\": \"scatter3d\", \"y\": [0.0, -6.758109500328984e-08]}, {\"z\": [1.0, 0.9807853859175633], \"x\": [0.0, 0.1950897915590065], \"type\": \"scatter3d\", \"y\": [0.0, 0.0]}, {\"z\": [1.0, 0.9596830178521761], \"x\": [0.0, 0.20280288969962867], \"type\": \"scatter3d\", \"y\": [0.0, -0.19462654797231552]}, {\"z\": [1.0, 0.9807853859175633], \"x\": [0.0, 6.375434829149114e-08], \"type\": \"scatter3d\", \"y\": [0.0, -0.19508979155899608]}, {\"z\": [1.0, 0.9596830178521761], \"x\": [0.0, -0.20280295712023924], \"type\": \"scatter3d\", \"y\": [0.0, -0.19462647771931285]}, {\"z\": [1.0, 0.8903199365757781], \"x\": [0.0, 0.41373865644490737], \"type\": \"scatter3d\", \"y\": [0.0, -0.19013346548902246]}, {\"z\": [0.4264002240635982, 0.6396027116779784], \"x\": [-0.8320509677633564, -0.7071064774765927], \"type\": \"scatter3d\", \"y\": [-0.3547873108815692, -0.3015108633612091]}, {\"z\": [0.4264002240635982, 0.5773499573895512], \"x\": [-0.8320509677633564, -0.8068984638841425], \"type\": \"scatter3d\", \"y\": [-0.3547873108815692, -0.12482746365962312]}, {\"z\": [0.4264002240635982, 0.408248282714439], \"x\": [-0.8320509677633564, -0.7071065237241335], \"type\": \"scatter3d\", \"y\": [-0.3547873108815692, -0.5773505899949206]}, {\"z\": [0.4264002240635982, 0.19875687620851], \"x\": [-0.8320509677633564, -0.7071068980068338], \"type\": \"scatter3d\", \"y\": [-0.3547873108815692, -0.6785982161419142]}, {\"z\": [0.7886752794720706, 0.8903199365757781], \"x\": [-0.5906901877678383, -0.4137387223090556], \"type\": \"scatter3d\", \"y\": [-0.17051805072908632, -0.19013332216571754]}, {\"z\": [0.7886752794720706, 0.8164969900785599], \"x\": [-0.5906901877678383, -0.44721298276616256], \"type\": \"scatter3d\", \"y\": [-0.17051805072908632, -0.36514820722282626]}, {\"z\": [0.7886752794720706, 0.6396027116779784], \"x\": [-0.5906901877678383, -0.7071064774765927], \"type\": \"scatter3d\", \"y\": [-0.17051805072908632, -0.3015108633612091]}, {\"z\": [0.7886752794720706, 0.5773499573895512], \"x\": [-0.5906901877678383, -0.8068984638841425], \"type\": \"scatter3d\", \"y\": [-0.17051805072908632, -0.12482746365962312]}, {\"z\": [0.8903199365757781, 0.9596830178521761], \"x\": [-0.4137387223090556, -0.20280295712023924], \"type\": \"scatter3d\", \"y\": [-0.19013332216571754, -0.19462647771931285]}, {\"z\": [0.8903199365757781, 0.8164969900785599], \"x\": [-0.4137387223090556, -0.44721298276616256], \"type\": \"scatter3d\", \"y\": [-0.19013332216571754, -0.36514820722282626]}, {\"z\": [0.6396027116779784, 0.5773499573895512], \"x\": [-0.7071064774765927, -0.8068984638841425], \"type\": \"scatter3d\", \"y\": [-0.3015108633612091, -0.12482746365962312]}, {\"z\": [0.6396027116779784, 0.408248282714439], \"x\": [-0.7071064774765927, -0.7071065237241335], \"type\": \"scatter3d\", \"y\": [-0.3015108633612091, -0.5773505899949206]}, {\"z\": [0.6396027116779784, 0.6396027116779784], \"x\": [-0.7071064774765927, -0.5546990730736021], \"type\": \"scatter3d\", \"y\": [-0.3015108633612091, -0.5321816508913696]}, {\"z\": [0.6396027116779784, 0.8164969900785599], \"x\": [-0.7071064774765927, -0.44721298276616256], \"type\": \"scatter3d\", \"y\": [-0.3015108633612091, -0.36514820722282626]}, {\"z\": [0.4046145760544582, 0.408248282714439], \"x\": [-0.45866600497329046, -0.7071065237241335], \"type\": \"scatter3d\", \"y\": [-0.7911463459601596, -0.5773505899949206]}, {\"z\": [0.4046145760544582, 0.19875687620851], \"x\": [-0.45866600497329046, -0.7071068980068338], \"type\": \"scatter3d\", \"y\": [-0.7911463459601596, -0.6785982161419142]}, {\"z\": [0.4046145760544582, 0.1950901120746549], \"x\": [-0.45866600497329046, 3.205156381002135e-07], \"type\": \"scatter3d\", \"y\": [-0.7911463459601596, -0.9807853221631102]}, {\"z\": [0.4046145760544582, 0.6396027116779784], \"x\": [-0.45866600497329046, -0.5546990730736021], \"type\": \"scatter3d\", \"y\": [-0.7911463459601596, -0.5321816508913696]}, {\"z\": [0.4046145760544582, 0.5773499573895512], \"x\": [-0.45866600497329046, -0.3437238034018253], \"type\": \"scatter3d\", \"y\": [-0.7911463459601596, -0.7406220180883545]}, {\"z\": [0.4046145760544582, 0.38268273492478555], \"x\": [-0.45866600497329046, 3.0191921085329833e-07], \"type\": \"scatter3d\", \"y\": [-0.7911463459601596, -0.923879821400162]}, {\"z\": [0.408248282714439, 0.19875687620851], \"x\": [-0.7071065237241335, -0.7071068980068338], \"type\": \"scatter3d\", \"y\": [-0.5773505899949206, -0.6785982161419142]}, {\"z\": [0.408248282714439, 0.6396027116779784], \"x\": [-0.7071065237241335, -0.5546990730736021], \"type\": \"scatter3d\", \"y\": [-0.5773505899949206, -0.5321816508913696]}, {\"z\": [0.19875687620851, 0.1950901120746549], \"x\": [-0.7071068980068338, 3.205156381002135e-07], \"type\": \"scatter3d\", \"y\": [-0.6785982161419142, -0.9807853221631102]}, {\"z\": [0.1950901120746549, 0.1950901120746549], \"x\": [3.205156381002135e-07, 0.9807853221631626], \"type\": \"scatter3d\", \"y\": [-0.9807853221631102, 0.0]}, {\"z\": [0.1950901120746549, 0.4046145760544582], \"x\": [3.205156381002135e-07, 0.4586665220583694], \"type\": \"scatter3d\", \"y\": [-0.9807853221631102, -0.7911460461805713]}, {\"z\": [0.1950901120746549, 0.38268273492478555], \"x\": [3.205156381002135e-07, 3.0191921085329833e-07], \"type\": \"scatter3d\", \"y\": [-0.9807853221631102, -0.923879821400162]}, {\"z\": [0.1950901120746549, 0.19875687620851], \"x\": [3.205156381002135e-07, 0.707106662933443], \"type\": \"scatter3d\", \"y\": [-0.9807853221631102, -0.6785984610909204]}, {\"z\": [0.9596830178521761, 0.8164969900785599], \"x\": [-0.20280295712023924, -0.44721298276616256], \"type\": \"scatter3d\", \"y\": [-0.19462647771931285, -0.36514820722282626]}, {\"z\": [0.9596830178521761, 0.9807853859175633], \"x\": [-0.20280295712023924, 6.375434829149114e-08], \"type\": \"scatter3d\", \"y\": [-0.19462647771931285, -0.19508979155899608]}, {\"z\": [0.9596830178521761, 0.8903199365757781], \"x\": [-0.20280295712023924, -0.22837595262369279], \"type\": \"scatter3d\", \"y\": [-0.19462647771931285, -0.3939223715390168]}, {\"z\": [0.9238795637760319, 0.7886752794720706], \"x\": [0.38268335688530936, 0.5906902992165697], \"type\": \"scatter3d\", \"y\": [0.0, -0.1705176646599722]}, {\"z\": [0.9238795637760319, 0.8314699581715694], \"x\": [0.38268335688530936, 0.5555697153896786], \"type\": \"scatter3d\", \"y\": [0.0, 0.0]}, {\"z\": [0.9238795637760319, 0.8903199365757781], \"x\": [0.38268335688530936, 0.41373865644490737], \"type\": \"scatter3d\", \"y\": [0.0, -0.19013346548902246]}, {\"z\": [0.9238795637760319, 0.9807853859175633], \"x\": [0.38268335688530936, 0.1950897915590065], \"type\": \"scatter3d\", \"y\": [0.0, 0.0]}, {\"z\": [0.9238795637760319, 0.9238795637760319], \"x\": [0.38268335688530936, -0.38268335688528643], \"type\": \"scatter3d\", \"y\": [0.0, -1.325654207284431e-07]}, {\"z\": [0.8903199365757781, 0.9807853859175633], \"x\": [0.41373865644490737, 0.1950897915590065], \"type\": \"scatter3d\", \"y\": [-0.19013346548902246, 0.0]}, {\"z\": [0.8903199365757781, 0.9596830178521761], \"x\": [0.41373865644490737, 0.20280288969962867], \"type\": \"scatter3d\", \"y\": [-0.19013346548902246, -0.19462654797231552]}, {\"z\": [0.8903199365757781, 0.8164969900785599], \"x\": [0.41373865644490737, 0.4472132214232083], \"type\": \"scatter3d\", \"y\": [-0.19013346548902246, -0.3651479149289072]}, {\"z\": [0.8903199365757781, 0.7886752794720706], \"x\": [0.41373865644490737, 0.5906902992165697], \"type\": \"scatter3d\", \"y\": [-0.19013346548902246, -0.1705176646599722]}, {\"z\": [0.9807853859175633, 0.9807853859175633], \"x\": [0.1950897915590065, -0.1950897915589948], \"type\": \"scatter3d\", \"y\": [0.0, -6.758109500328984e-08]}, {\"z\": [0.9238795637760319, 0.9807853859175633], \"x\": [-0.38268335688528643, -0.1950897915589948], \"type\": \"scatter3d\", \"y\": [-1.325654207284431e-07, -6.758109500328984e-08]}, {\"z\": [0.9238795637760319, 0.8314699581715694], \"x\": [-0.38268335688528643, -0.5555697153896453], \"type\": \"scatter3d\", \"y\": [-1.325654207284431e-07, -1.924550198996162e-07]}, {\"z\": [0.8903199365757781, 0.9596830178521761], \"x\": [0.22837621008728548, 0.20280288969962867], \"type\": \"scatter3d\", \"y\": [-0.393922222274741, -0.19462654797231552]}, {\"z\": [0.8903199365757781, 0.8164969900785599], \"x\": [0.22837621008728548, 0.4472132214232083], \"type\": \"scatter3d\", \"y\": [-0.393922222274741, -0.3651479149289072]}, {\"z\": [0.8903199365757781, 0.7886752794720706], \"x\": [0.22837621008728548, 0.25881928712261626], \"type\": \"scatter3d\", \"y\": [-0.393922222274741, -0.5576772186157438]}, {\"z\": [0.8903199365757781, 0.9807853859175633], \"x\": [0.22837621008728548, 6.375434829149114e-08], \"type\": \"scatter3d\", \"y\": [-0.393922222274741, -0.19508979155899608]}, {\"z\": [0.8903199365757781, 0.9238795637760319], \"x\": [0.22837621008728548, 1.2505896810517491e-07], \"type\": \"scatter3d\", \"y\": [-0.393922222274741, -0.38268335688528893]}, {\"z\": [0.9596830178521761, 0.9807853859175633], \"x\": [0.20280288969962867, 6.375434829149114e-08], \"type\": \"scatter3d\", \"y\": [-0.19462654797231552, -0.19508979155899608]}, {\"z\": [0.9596830178521761, 0.8164969900785599], \"x\": [0.20280288969962867, 0.4472132214232083], \"type\": \"scatter3d\", \"y\": [-0.19462654797231552, -0.3651479149289072]}, {\"z\": [0.9807853859175633, 0.8903199365757781], \"x\": [6.375434829149114e-08, -0.22837595262369279], \"type\": \"scatter3d\", \"y\": [-0.19508979155899608, -0.3939223715390168]}, {\"z\": [0.9807853859175633, 0.9238795637760319], \"x\": [6.375434829149114e-08, 1.2505896810517491e-07], \"type\": \"scatter3d\", \"y\": [-0.19508979155899608, -0.38268335688528893]}, {\"z\": [0.19875687620851, 0.4046145760544582], \"x\": [0.707106662933443, 0.4586665220583694], \"type\": \"scatter3d\", \"y\": [-0.6785984610909204, -0.7911460461805713]}, {\"z\": [0.19875687620851, 0.1950901120746549], \"x\": [0.707106662933443, 0.9807853221631626], \"type\": \"scatter3d\", \"y\": [-0.6785984610909204, 0.0]}, {\"z\": [0.19875687620851, 0.408248282714439], \"x\": [0.707106662933443, 0.7071069010744352], \"type\": \"scatter3d\", \"y\": [-0.6785984610909204, -0.5773501278371904]}, {\"z\": [0.19875687620851, 0.20884652537345866], \"x\": [0.707106662933443, 0.8886086758917745], \"type\": \"scatter3d\", \"y\": [-0.6785984610909204, -0.40835982903476237]}, {\"z\": [0.7886752794720706, 0.7071068967259819], \"x\": [-0.25881892263042294, 2.3107884979857942e-07], \"type\": \"scatter3d\", \"y\": [-0.557677387777269, -0.7071066656470566]}, {\"z\": [0.7886752794720706, 0.8314699581715694], \"x\": [-0.25881892263042294, 1.8155734778385425e-07], \"type\": \"scatter3d\", \"y\": [-0.557677387777269, -0.5555697153896489]}, {\"z\": [0.7886752794720706, 0.5773499573895512], \"x\": [-0.25881892263042294, -0.3437238034018253], \"type\": \"scatter3d\", \"y\": [-0.557677387777269, -0.7406220180883545]}, {\"z\": [0.7886752794720706, 0.9238795637760319], \"x\": [-0.25881892263042294, 1.2505896810517491e-07], \"type\": \"scatter3d\", \"y\": [-0.557677387777269, -0.38268335688528893]}, {\"z\": [0.7886752794720706, 0.8903199365757781], \"x\": [-0.25881892263042294, -0.22837595262369279], \"type\": \"scatter3d\", \"y\": [-0.557677387777269, -0.3939223715390168]}, {\"z\": [0.7886752794720706, 0.6396027116779784], \"x\": [-0.25881892263042294, -0.5546990730736021], \"type\": \"scatter3d\", \"y\": [-0.557677387777269, -0.5321816508913696]}, {\"z\": [0.7886752794720706, 0.8164969900785599], \"x\": [-0.25881892263042294, -0.44721298276616256], \"type\": \"scatter3d\", \"y\": [-0.557677387777269, -0.36514820722282626]}, {\"z\": [0.8314699581715694, 0.7071068967259819], \"x\": [1.8155734778385425e-07, 2.3107884979857942e-07], \"type\": \"scatter3d\", \"y\": [-0.5555697153896489, -0.7071066656470566]}, {\"z\": [0.8314699581715694, 0.7886752794720706], \"x\": [1.8155734778385425e-07, 0.25881928712261626], \"type\": \"scatter3d\", \"y\": [-0.5555697153896489, -0.5576772186157438]}, {\"z\": [0.8314699581715694, 0.9238795637760319], \"x\": [1.8155734778385425e-07, 1.2505896810517491e-07], \"type\": \"scatter3d\", \"y\": [-0.5555697153896489, -0.38268335688528893]}, {\"z\": [0.5773499573895512, 0.38268273492478555], \"x\": [-0.3437238034018253, 3.0191921085329833e-07], \"type\": \"scatter3d\", \"y\": [-0.7406220180883545, -0.923879821400162]}, {\"z\": [0.5773499573895512, 0.5555699871097881], \"x\": [-0.3437238034018253, 2.7172007980784245e-07], \"type\": \"scatter3d\", \"y\": [-0.7406220180883545, -0.8314697766141329]}, {\"z\": [0.5773499573895512, 0.7071068967259819], \"x\": [-0.3437238034018253, 2.3107884979857942e-07], \"type\": \"scatter3d\", \"y\": [-0.7406220180883545, -0.7071066656470566]}, {\"z\": [0.5773499573895512, 0.6396027116779784], \"x\": [-0.3437238034018253, -0.5546990730736021], \"type\": \"scatter3d\", \"y\": [-0.7406220180883545, -0.5321816508913696]}, {\"z\": [0.9238795637760319, 0.7886752794720706], \"x\": [1.2505896810517491e-07, 0.25881928712261626], \"type\": \"scatter3d\", \"y\": [-0.38268335688528893, -0.5576772186157438]}, {\"z\": [0.9238795637760319, 0.8903199365757781], \"x\": [1.2505896810517491e-07, -0.22837595262369279], \"type\": \"scatter3d\", \"y\": [-0.38268335688528893, -0.3939223715390168]}, {\"z\": [0.8903199365757781, 0.8164969900785599], \"x\": [-0.22837595262369279, -0.44721298276616256], \"type\": \"scatter3d\", \"y\": [-0.3939223715390168, -0.36514820722282626]}, {\"z\": [0.6396027116779784, 0.8164969900785599], \"x\": [-0.5546990730736021, -0.44721298276616256], \"type\": \"scatter3d\", \"y\": [-0.5321816508913696, -0.36514820722282626]}, {\"z\": [0.7071068967259819, 0.7886752794720706], \"x\": [0.7071066656470943, 0.5906902992165697], \"type\": \"scatter3d\", \"y\": [0.0, -0.1705176646599722]}, {\"z\": [0.7071068967259819, 0.8314699581715694], \"x\": [0.7071066656470943, 0.5555697153896786], \"type\": \"scatter3d\", \"y\": [0.0, 0.0]}, {\"z\": [0.7071068967259819, 0.5773499573895512], \"x\": [0.7071066656470943, 0.8068984206425867], \"type\": \"scatter3d\", \"y\": [0.0, -0.12482774317747945]}, {\"z\": [0.7071068967259819, 0.5555699871097881], \"x\": [0.7071066656470943, 0.8314697766141773], \"type\": \"scatter3d\", \"y\": [0.0, 0.0]}, {\"z\": [0.7071068967259819, 0.7071068967259819], \"x\": [0.7071066656470943, -0.7071066656470519], \"type\": \"scatter3d\", \"y\": [0.0, -2.449489661487603e-07]}, {\"z\": [0.8314699581715694, 0.8314699581715694], \"x\": [0.5555697153896786, -0.5555697153896453], \"type\": \"scatter3d\", \"y\": [0.0, -1.924550198996162e-07]}, {\"z\": [0.8314699581715694, 0.7886752794720706], \"x\": [0.5555697153896786, 0.5906902992165697], \"type\": \"scatter3d\", \"y\": [0.0, -0.1705176646599722]}, {\"z\": [0.5555699871097881, 0.5555699871097881], \"x\": [0.8314697766141773, -0.8314697766141275], \"type\": \"scatter3d\", \"y\": [0.0, -2.880296171146981e-07]}, {\"z\": [0.5555699871097881, 0.38268273492478555], \"x\": [0.8314697766141773, 0.9238798214002113], \"type\": \"scatter3d\", \"y\": [0.0, 0.0]}, {\"z\": [0.5555699871097881, 0.4046145760544582], \"x\": [0.8314697766141773, 0.9103959111935398], \"type\": \"scatter3d\", \"y\": [0.0, -0.08640792629357265]}, {\"z\": [0.5555699871097881, 0.5773499573895512], \"x\": [0.8314697766141773, 0.8068984206425867], \"type\": \"scatter3d\", \"y\": [0.0, -0.12482774317747945]}, {\"z\": [0.7071068967259819, 0.8314699581715694], \"x\": [-0.7071066656470519, -0.5555697153896453], \"type\": \"scatter3d\", \"y\": [-2.449489661487603e-07, -1.924550198996162e-07]}, {\"z\": [0.7071068967259819, 0.5555699871097881], \"x\": [-0.7071066656470519, -0.8314697766141275], \"type\": \"scatter3d\", \"y\": [-2.449489661487603e-07, -2.880296171146981e-07]}, {\"z\": [0.5555699871097881, 0.1950901120746549], \"x\": [-0.8314697766141275, 0.9807853221631626], \"type\": \"scatter3d\", \"y\": [-2.880296171146981e-07, 0.0]}, {\"z\": [0.5555699871097881, 0.38268273492478555], \"x\": [-0.8314697766141275, 0.9238798214002113], \"type\": \"scatter3d\", \"y\": [-2.880296171146981e-07, 0.0]}, {\"z\": [0.19875687620851, 0.38268273492478555], \"x\": [0.9792195379726093, 0.9238798214002113], \"type\": \"scatter3d\", \"y\": [-0.040308815568615576, 0.0]}, {\"z\": [0.19875687620851, 0.1950901120746549], \"x\": [0.9792195379726093, 0.9807853221631626], \"type\": \"scatter3d\", \"y\": [-0.040308815568615576, 0.0]}, {\"z\": [0.19875687620851, 0.20884652537345866], \"x\": [0.9792195379726093, 0.9735731031435004], \"type\": \"scatter3d\", \"y\": [-0.040308815568615576, -0.09240422974608956]}, {\"z\": [0.19875687620851, 0.21132495093752063], \"x\": [0.9792195379726093, 0.9659257857520813], \"type\": \"scatter3d\", \"y\": [-0.040308815568615576, -0.149429386435463]}, {\"z\": [0.19875687620851, 0.21132495093752063], \"x\": [0.9792195379726093, 0.9390707571195289], \"type\": \"scatter3d\", \"y\": [-0.040308815568615576, -0.2710864774093487]}, {\"z\": [0.19875687620851, 0.20884652537345866], \"x\": [0.9792195379726093, 0.8886086758917745], \"type\": \"scatter3d\", \"y\": [-0.040308815568615576, -0.40835982903476237]}, {\"z\": [0.38268273492478555, 0.4046145760544582], \"x\": [0.9238798214002113, 0.9103959111935398], \"type\": \"scatter3d\", \"y\": [0.0, -0.08640792629357265]}, {\"z\": [0.38268273492478555, 0.1950901120746549], \"x\": [0.9238798214002113, 0.9807853221631626], \"type\": \"scatter3d\", \"y\": [0.0, 0.0]}, {\"z\": [0.38268273492478555, 0.20884652537345866], \"x\": [0.9238798214002113, 0.9735731031435004], \"type\": \"scatter3d\", \"y\": [0.0, -0.09240422974608956]}, {\"z\": [0.1950901120746549, 0.20884652537345866], \"x\": [0.9807853221631626, 0.8886086758917745], \"type\": \"scatter3d\", \"y\": [0.0, -0.40835982903476237]}, {\"z\": [0.20884652537345866, 0.4046145760544582], \"x\": [0.9735731031435004, 0.9103959111935398], \"type\": \"scatter3d\", \"y\": [-0.09240422974608956, -0.08640792629357265]}, {\"z\": [0.20884652537345866, 0.21132495093752063], \"x\": [0.9735731031435004, 0.9659257857520813], \"type\": \"scatter3d\", \"y\": [-0.09240422974608956, -0.149429386435463]}, {\"z\": [0.5773499573895512, 0.6396027116779784], \"x\": [0.3437242874647436, 0.554698888720413], \"type\": \"scatter3d\", \"y\": [-0.7406217934338266, -0.5321818430447582]}, {\"z\": [0.5773499573895512, 0.4046145760544582], \"x\": [0.3437242874647436, 0.4586665220583694], \"type\": \"scatter3d\", \"y\": [-0.7406217934338266, -0.7911460461805713]}, {\"z\": [0.5773499573895512, 0.7886752794720706], \"x\": [0.3437242874647436, 0.25881928712261626], \"type\": \"scatter3d\", \"y\": [-0.7406217934338266, -0.5576772186157438]}, {\"z\": [0.5773499573895512, 0.38268273492478555], \"x\": [0.3437242874647436, 3.0191921085329833e-07], \"type\": \"scatter3d\", \"y\": [-0.7406217934338266, -0.923879821400162]}, {\"z\": [0.5773499573895512, 0.5555699871097881], \"x\": [0.3437242874647436, 2.7172007980784245e-07], \"type\": \"scatter3d\", \"y\": [-0.7406217934338266, -0.8314697766141329]}, {\"z\": [0.5773499573895512, 0.7071068967259819], \"x\": [0.3437242874647436, 2.3107884979857942e-07], \"type\": \"scatter3d\", \"y\": [-0.7406217934338266, -0.7071066656470566]}, {\"z\": [0.4046145760544582, 0.38268273492478555], \"x\": [0.4586665220583694, 3.0191921085329833e-07], \"type\": \"scatter3d\", \"y\": [-0.7911460461805713, -0.923879821400162]}, {\"z\": [0.4046145760544582, 0.408248282714439], \"x\": [0.4586665220583694, 0.7071069010744352], \"type\": \"scatter3d\", \"y\": [-0.7911460461805713, -0.5773501278371904]}, {\"z\": [0.4046145760544582, 0.6396027116779784], \"x\": [0.4586665220583694, 0.554698888720413], \"type\": \"scatter3d\", \"y\": [-0.7911460461805713, -0.5321818430447582]}, {\"z\": [0.7886752794720706, 0.7071068967259819], \"x\": [0.25881928712261626, 2.3107884979857942e-07], \"type\": \"scatter3d\", \"y\": [-0.5576772186157438, -0.7071066656470566]}, {\"z\": [0.7886752794720706, 0.6396027116779784], \"x\": [0.25881928712261626, 0.554698888720413], \"type\": \"scatter3d\", \"y\": [-0.5576772186157438, -0.5321818430447582]}, {\"z\": [0.7886752794720706, 0.8164969900785599], \"x\": [0.25881928712261626, 0.4472132214232083], \"type\": \"scatter3d\", \"y\": [-0.5576772186157438, -0.3651479149289072]}, {\"z\": [0.38268273492478555, 0.5555699871097881], \"x\": [3.0191921085329833e-07, 2.7172007980784245e-07], \"type\": \"scatter3d\", \"y\": [-0.923879821400162, -0.8314697766141329]}, {\"z\": [0.5555699871097881, 0.7071068967259819], \"x\": [2.7172007980784245e-07, 2.3107884979857942e-07], \"type\": \"scatter3d\", \"y\": [-0.8314697766141329, -0.7071066656470566]}, {\"z\": [0.20884652537345866, 0.408248282714439], \"x\": [0.8886086758917745, 0.7071069010744352], \"type\": \"scatter3d\", \"y\": [-0.40835982903476237, -0.5773501278371904]}, {\"z\": [0.20884652537345866, 0.21132495093752063], \"x\": [0.8886086758917745, 0.9390707571195289], \"type\": \"scatter3d\", \"y\": [-0.40835982903476237, -0.2710864774093487]}, {\"z\": [0.20884652537345866, 0.4264002240635982], \"x\": [0.8886086758917745, 0.8320511996485439], \"type\": \"scatter3d\", \"y\": [-0.40835982903476237, -0.3547867670614732]}, {\"z\": [0.6396027116779784, 0.6396027116779784], \"x\": [0.7071066745408645, 0.554698888720413], \"type\": \"scatter3d\", \"y\": [-0.30151040120356815, -0.5321818430447582]}, {\"z\": [0.6396027116779784, 0.408248282714439], \"x\": [0.7071066745408645, 0.7071069010744352], \"type\": \"scatter3d\", \"y\": [-0.30151040120356815, -0.5773501278371904]}, {\"z\": [0.6396027116779784, 0.4264002240635982], \"x\": [0.7071066745408645, 0.8320511996485439], \"type\": \"scatter3d\", \"y\": [-0.30151040120356815, -0.3547867670614732]}, {\"z\": [0.6396027116779784, 0.7886752794720706], \"x\": [0.7071066745408645, 0.5906902992165697], \"type\": \"scatter3d\", \"y\": [-0.30151040120356815, -0.1705176646599722]}, {\"z\": [0.6396027116779784, 0.8164969900785599], \"x\": [0.7071066745408645, 0.4472132214232083], \"type\": \"scatter3d\", \"y\": [-0.30151040120356815, -0.3651479149289072]}, {\"z\": [0.6396027116779784, 0.5773499573895512], \"x\": [0.7071066745408645, 0.8068984206425867], \"type\": \"scatter3d\", \"y\": [-0.30151040120356815, -0.12482774317747945]}, {\"z\": [0.6396027116779784, 0.8164969900785599], \"x\": [0.554698888720413, 0.4472132214232083], \"type\": \"scatter3d\", \"y\": [-0.5321818430447582, -0.3651479149289072]}, {\"z\": [0.6396027116779784, 0.408248282714439], \"x\": [0.554698888720413, 0.7071069010744352], \"type\": \"scatter3d\", \"y\": [-0.5321818430447582, -0.5773501278371904]}, {\"z\": [0.408248282714439, 0.4264002240635982], \"x\": [0.7071069010744352, 0.8320511996485439], \"type\": \"scatter3d\", \"y\": [-0.5773501278371904, -0.3547867670614732]}, {\"z\": [0.7886752794720706, 0.8164969900785599], \"x\": [0.5906902992165697, 0.4472132214232083], \"type\": \"scatter3d\", \"y\": [-0.1705176646599722, -0.3651479149289072]}, {\"z\": [0.7886752794720706, 0.5773499573895512], \"x\": [0.5906902992165697, 0.8068984206425867], \"type\": \"scatter3d\", \"y\": [-0.1705176646599722, -0.12482774317747945]}, {\"z\": [0.408248282714439, 0.4264002240635982], \"x\": [0.8944271799338995, 0.8320511996485439], \"type\": \"scatter3d\", \"y\": [-0.18257425737546654, -0.3547867670614732]}, {\"z\": [0.408248282714439, 0.21132495093752063], \"x\": [0.8944271799338995, 0.9390707571195289], \"type\": \"scatter3d\", \"y\": [-0.18257425737546654, -0.2710864774093487]}, {\"z\": [0.408248282714439, 0.21132495093752063], \"x\": [0.8944271799338995, 0.9659257857520813], \"type\": \"scatter3d\", \"y\": [-0.18257425737546654, -0.149429386435463]}, {\"z\": [0.408248282714439, 0.4046145760544582], \"x\": [0.8944271799338995, 0.9103959111935398], \"type\": \"scatter3d\", \"y\": [-0.18257425737546654, -0.08640792629357265]}, {\"z\": [0.408248282714439, 0.5773499573895512], \"x\": [0.8944271799338995, 0.8068984206425867], \"type\": \"scatter3d\", \"y\": [-0.18257425737546654, -0.12482774317747945]}, {\"z\": [0.4264002240635982, 0.21132495093752063], \"x\": [0.8320511996485439, 0.9390707571195289], \"type\": \"scatter3d\", \"y\": [-0.3547867670614732, -0.2710864774093487]}, {\"z\": [0.4264002240635982, 0.5773499573895512], \"x\": [0.8320511996485439, 0.8068984206425867], \"type\": \"scatter3d\", \"y\": [-0.3547867670614732, -0.12482774317747945]}, {\"z\": [0.21132495093752063, 0.21132495093752063], \"x\": [0.9390707571195289, 0.9659257857520813], \"type\": \"scatter3d\", \"y\": [-0.2710864774093487, -0.149429386435463]}, {\"z\": [0.21132495093752063, 0.4046145760544582], \"x\": [0.9659257857520813, 0.9103959111935398], \"type\": \"scatter3d\", \"y\": [-0.149429386435463, -0.08640792629357265]}, {\"z\": [0.4046145760544582, 0.5773499573895512], \"x\": [0.9103959111935398, 0.8068984206425867], \"type\": \"scatter3d\", \"y\": [-0.08640792629357265, -0.12482774317747945]}], {\"height\": 800, \"width\": 900, \"autosize\": true, \"title\": \"Ajacent graph\", \"margin\": {\"b\": 65, \"t\": 90, \"r\": 50, \"l\": 65}}, {\"linkText\": \"Export to plot.ly\", \"showLink\": true})});</script>"
      ]
     },
     "metadata": {},
     "output_type": "display_data"
    }
   ],
   "source": []
  },
  {
   "cell_type": "code",
   "execution_count": null,
   "metadata": {
    "collapsed": true
   },
   "outputs": [],
   "source": []
  }
 ],
 "metadata": {
  "kernelspec": {
   "display_name": "Python 3",
   "language": "python",
   "name": "python3"
  },
  "language_info": {
   "codemirror_mode": {
    "name": "ipython",
    "version": 3
   },
   "file_extension": ".py",
   "mimetype": "text/x-python",
   "name": "python",
   "nbconvert_exporter": "python",
   "pygments_lexer": "ipython3",
   "version": "3.4.5"
  }
 },
 "nbformat": 4,
 "nbformat_minor": 2
}
