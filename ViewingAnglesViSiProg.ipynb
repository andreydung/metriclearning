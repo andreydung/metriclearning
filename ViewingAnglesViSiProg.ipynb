{
 "cells": [
  {
   "cell_type": "markdown",
   "metadata": {},
   "source": [
    "# Viewing angles\n",
    "\n",
    "Visualizing the illumination and viewing angles. Explaining how ViSiProg groups are related?"
   ]
  },
  {
   "cell_type": "code",
   "execution_count": 47,
   "metadata": {
    "collapsed": false
   },
   "outputs": [
    {
     "name": "stdout",
     "output_type": "stream",
     "text": [
      "The autoreload extension is already loaded. To reload it, use:\n",
      "  %reload_ext autoreload\n"
     ]
    },
    {
     "data": {
      "text/html": [
       "<script>requirejs.config({paths: { 'plotly': ['https://cdn.plot.ly/plotly-latest.min']},});if(!window.Plotly) {{require(['plotly'],function(plotly) {window.Plotly=plotly;});}}</script>"
      ],
      "text/plain": [
       "<IPython.core.display.HTML object>"
      ]
     },
     "metadata": {},
     "output_type": "display_data"
    }
   ],
   "source": [
    "%load_ext autoreload\n",
    "%autoreload 2\n",
    "import networkx as nx\n",
    "import numpy as np\n",
    "import os\n",
    "\n",
    "from plotly.offline import download_plotlyjs, init_notebook_mode, plot, iplot\n",
    "init_notebook_mode(connected=True)\n",
    "\n",
    "import plotly.graph_objs as go\n",
    "from visiprog.data import read_VSP_label, read_img_list, read_viewing_conditions, viewing_condition_index\n",
    "from visiprog.data import read_viewing_conditions, polar_to_euclidean, angle_between\n",
    "from visiprog.data import illum_spatial_adjacent_graph, viewing_spatial_adjacent_graph\n",
    "from IPython.display import display, HTML\n",
    "\n",
    "from scipy.spatial import Voronoi, SphericalVoronoi"
   ]
  },
  {
   "cell_type": "code",
   "execution_count": 63,
   "metadata": {
    "collapsed": false
   },
   "outputs": [
    {
     "name": "stdout",
     "output_type": "stream",
     "text": [
      "['view_theta' 'view_phi' 'illum_theta' 'illum_phi' 'illum_x' 'illum_y'\n",
      " 'illum_z' 'view_x' 'view_y' 'view_z']\n",
      "(205, 10)\n"
     ]
    }
   ],
   "source": [
    "df_viewing = read_viewing_conditions()\n",
    "\n",
    "np.savetxt('df_viewing.csv', df_viewing, fmt='%.4f', delimiter=',')\n",
    "\n",
    "print(df_viewing.columns.values)\n",
    "print(df_viewing.shape)"
   ]
  },
  {
   "cell_type": "code",
   "execution_count": 25,
   "metadata": {
    "collapsed": false
   },
   "outputs": [],
   "source": [
    "def make_image_html(image_path):\n",
    "     return '<img src=\"{}\" width=\"100\" height=\"100\" style=\"display:inline;margin:1px\"/>'.format(image_path)"
   ]
  },
  {
   "cell_type": "code",
   "execution_count": 36,
   "metadata": {
    "collapsed": false
   },
   "outputs": [
    {
     "data": {
      "application/vnd.plotly.v1+json": {
       "data": [
        {
         "name": "43-154.png",
         "type": "scatter3d",
         "x": [
          0.8944271799338995,
          0.8944271799338995,
          0,
          -0.44721298276616256
         ],
         "y": [
          -0.23257425737546655,
          -0.18257425737546654,
          0,
          -0.36514820722282626
         ],
         "z": [
          0.408248282714439,
          0.408248282714439,
          0,
          0.8164969900785599
         ]
        },
        {
         "name": "43-155.png",
         "type": "scatter3d",
         "x": [
          0.8320511996485439,
          0.8320511996485439,
          0,
          -0.5546990730736021
         ],
         "y": [
          -0.4047867670614732,
          -0.3547867670614732,
          0,
          -0.5321816508913696
         ],
         "z": [
          0.4264002240635982,
          0.4264002240635982,
          0,
          0.6396027116779784
         ]
        },
        {
         "name": "43-121.png",
         "type": "scatter3d",
         "x": [
          0.8068984206425867,
          0.8068984206425867,
          0,
          -0.23694041989807352
         ],
         "y": [
          -0.17482774317747946,
          -0.12482774317747945,
          0,
          -0.2053076876055188
         ],
         "z": [
          0.5773499573895512,
          0.5773499573895512,
          0,
          0.9495830615741834
         ]
        },
        {
         "name": "43-156.png",
         "type": "scatter3d",
         "x": [
          0.8314697766141773,
          0.8314697766141773,
          0,
          -0.5555697153896453
         ],
         "y": [
          -0.05,
          0,
          0,
          -1.924550198996162e-07
         ],
         "z": [
          0.5555699871097881,
          0.5555699871097881,
          0,
          0.8314699581715694
         ]
        },
        {
         "name": "43-026.png",
         "type": "scatter3d",
         "x": [
          0.8068984206425867,
          0.8068984206425867,
          0,
          0.5194294141188199
         ],
         "y": [
          -0.17482774317747946,
          -0.12482774317747945,
          0,
          -0.1805803658467075
         ],
         "z": [
          0.5773499573895512,
          0.5773499573895512,
          0,
          0.8352148317761416
         ]
        },
        {
         "name": "43-017.png",
         "type": "scatter3d",
         "x": [
          0.8944271799338995,
          0.8944271799338995,
          0,
          0.6552021944685535
         ],
         "y": [
          -0.23257425737546655,
          -0.18257425737546654,
          0,
          -0.30841241276391385
         ],
         "z": [
          0.408248282714439,
          0.408248282714439,
          0,
          0.6896316901192497
         ]
        },
        {
         "name": "43-158.png",
         "type": "scatter3d",
         "x": [
          0.8068984206425867,
          0.8068984206425867,
          0,
          -0.5906901877678383
         ],
         "y": [
          -0.17482774317747946,
          -0.12482774317747945,
          0,
          -0.17051805072908632
         ],
         "z": [
          0.5773499573895512,
          0.5773499573895512,
          0,
          0.7886752794720706
         ]
        },
        {
         "name": "43-123.png",
         "type": "scatter3d",
         "x": [
          0.7071066745408645,
          0.7071066745408645,
          0,
          -0.38268351429937203
         ],
         "y": [
          -0.35151040120356813,
          -0.30151040120356815,
          0,
          -0.3939426566773774
         ],
         "z": [
          0.6396027116779784,
          0.6396027116779784,
          0,
          0.8356808667987153
         ]
        },
        {
         "name": "43-071.png",
         "type": "scatter3d",
         "x": [
          0.8320511996485439,
          0.8320511996485439,
          0,
          0.1961171682442345
         ],
         "y": [
          -0.4047867670614732,
          -0.3547867670614732,
          0,
          -0.6271817768369309
         ],
         "z": [
          0.4264002240635982,
          0.4264002240635982,
          0,
          0.753777868555142
         ]
        }
       ],
       "layout": {
        "autosize": true,
        "height": 800,
        "margin": {
         "b": 65,
         "l": 65,
         "r": 50,
         "t": 90
        },
        "title": "Angles of VSP group",
        "width": 900
       }
      },
      "text/html": [
       "<div id=\"c86fbb07-51f6-4b86-ae65-6110c9c74331\" style=\"height: 800px; width: 900px;\" class=\"plotly-graph-div\"></div><script type=\"text/javascript\">require([\"plotly\"], function(Plotly) { window.PLOTLYENV=window.PLOTLYENV || {};window.PLOTLYENV.BASE_URL=\"https://plot.ly\";Plotly.newPlot(\"c86fbb07-51f6-4b86-ae65-6110c9c74331\", [{\"z\": [0.408248282714439, 0.408248282714439, 0, 0.8164969900785599], \"x\": [0.8944271799338995, 0.8944271799338995, 0, -0.44721298276616256], \"type\": \"scatter3d\", \"y\": [-0.23257425737546655, -0.18257425737546654, 0, -0.36514820722282626], \"name\": \"43-154.png\"}, {\"z\": [0.4264002240635982, 0.4264002240635982, 0, 0.6396027116779784], \"x\": [0.8320511996485439, 0.8320511996485439, 0, -0.5546990730736021], \"type\": \"scatter3d\", \"y\": [-0.4047867670614732, -0.3547867670614732, 0, -0.5321816508913696], \"name\": \"43-155.png\"}, {\"z\": [0.5773499573895512, 0.5773499573895512, 0, 0.9495830615741834], \"x\": [0.8068984206425867, 0.8068984206425867, 0, -0.23694041989807352], \"type\": \"scatter3d\", \"y\": [-0.17482774317747946, -0.12482774317747945, 0, -0.2053076876055188], \"name\": \"43-121.png\"}, {\"z\": [0.5555699871097881, 0.5555699871097881, 0, 0.8314699581715694], \"x\": [0.8314697766141773, 0.8314697766141773, 0, -0.5555697153896453], \"type\": \"scatter3d\", \"y\": [-0.05, 0.0, 0, -1.924550198996162e-07], \"name\": \"43-156.png\"}, {\"z\": [0.5773499573895512, 0.5773499573895512, 0, 0.8352148317761416], \"x\": [0.8068984206425867, 0.8068984206425867, 0, 0.5194294141188199], \"type\": \"scatter3d\", \"y\": [-0.17482774317747946, -0.12482774317747945, 0, -0.1805803658467075], \"name\": \"43-026.png\"}, {\"z\": [0.408248282714439, 0.408248282714439, 0, 0.6896316901192497], \"x\": [0.8944271799338995, 0.8944271799338995, 0, 0.6552021944685535], \"type\": \"scatter3d\", \"y\": [-0.23257425737546655, -0.18257425737546654, 0, -0.30841241276391385], \"name\": \"43-017.png\"}, {\"z\": [0.5773499573895512, 0.5773499573895512, 0, 0.7886752794720706], \"x\": [0.8068984206425867, 0.8068984206425867, 0, -0.5906901877678383], \"type\": \"scatter3d\", \"y\": [-0.17482774317747946, -0.12482774317747945, 0, -0.17051805072908632], \"name\": \"43-158.png\"}, {\"z\": [0.6396027116779784, 0.6396027116779784, 0, 0.8356808667987153], \"x\": [0.7071066745408645, 0.7071066745408645, 0, -0.38268351429937203], \"type\": \"scatter3d\", \"y\": [-0.35151040120356813, -0.30151040120356815, 0, -0.3939426566773774], \"name\": \"43-123.png\"}, {\"z\": [0.4264002240635982, 0.4264002240635982, 0, 0.753777868555142], \"x\": [0.8320511996485439, 0.8320511996485439, 0, 0.1961171682442345], \"type\": \"scatter3d\", \"y\": [-0.4047867670614732, -0.3547867670614732, 0, -0.6271817768369309], \"name\": \"43-071.png\"}], {\"height\": 800, \"width\": 900, \"autosize\": true, \"title\": \"Angles of VSP group\", \"margin\": {\"b\": 65, \"t\": 90, \"r\": 50, \"l\": 65}}, {\"linkText\": \"Export to plot.ly\", \"showLink\": true})});</script>"
      ],
      "text/vnd.plotly.v1+html": [
       "<div id=\"c86fbb07-51f6-4b86-ae65-6110c9c74331\" style=\"height: 800px; width: 900px;\" class=\"plotly-graph-div\"></div><script type=\"text/javascript\">require([\"plotly\"], function(Plotly) { window.PLOTLYENV=window.PLOTLYENV || {};window.PLOTLYENV.BASE_URL=\"https://plot.ly\";Plotly.newPlot(\"c86fbb07-51f6-4b86-ae65-6110c9c74331\", [{\"z\": [0.408248282714439, 0.408248282714439, 0, 0.8164969900785599], \"x\": [0.8944271799338995, 0.8944271799338995, 0, -0.44721298276616256], \"type\": \"scatter3d\", \"y\": [-0.23257425737546655, -0.18257425737546654, 0, -0.36514820722282626], \"name\": \"43-154.png\"}, {\"z\": [0.4264002240635982, 0.4264002240635982, 0, 0.6396027116779784], \"x\": [0.8320511996485439, 0.8320511996485439, 0, -0.5546990730736021], \"type\": \"scatter3d\", \"y\": [-0.4047867670614732, -0.3547867670614732, 0, -0.5321816508913696], \"name\": \"43-155.png\"}, {\"z\": [0.5773499573895512, 0.5773499573895512, 0, 0.9495830615741834], \"x\": [0.8068984206425867, 0.8068984206425867, 0, -0.23694041989807352], \"type\": \"scatter3d\", \"y\": [-0.17482774317747946, -0.12482774317747945, 0, -0.2053076876055188], \"name\": \"43-121.png\"}, {\"z\": [0.5555699871097881, 0.5555699871097881, 0, 0.8314699581715694], \"x\": [0.8314697766141773, 0.8314697766141773, 0, -0.5555697153896453], \"type\": \"scatter3d\", \"y\": [-0.05, 0.0, 0, -1.924550198996162e-07], \"name\": \"43-156.png\"}, {\"z\": [0.5773499573895512, 0.5773499573895512, 0, 0.8352148317761416], \"x\": [0.8068984206425867, 0.8068984206425867, 0, 0.5194294141188199], \"type\": \"scatter3d\", \"y\": [-0.17482774317747946, -0.12482774317747945, 0, -0.1805803658467075], \"name\": \"43-026.png\"}, {\"z\": [0.408248282714439, 0.408248282714439, 0, 0.6896316901192497], \"x\": [0.8944271799338995, 0.8944271799338995, 0, 0.6552021944685535], \"type\": \"scatter3d\", \"y\": [-0.23257425737546655, -0.18257425737546654, 0, -0.30841241276391385], \"name\": \"43-017.png\"}, {\"z\": [0.5773499573895512, 0.5773499573895512, 0, 0.7886752794720706], \"x\": [0.8068984206425867, 0.8068984206425867, 0, -0.5906901877678383], \"type\": \"scatter3d\", \"y\": [-0.17482774317747946, -0.12482774317747945, 0, -0.17051805072908632], \"name\": \"43-158.png\"}, {\"z\": [0.6396027116779784, 0.6396027116779784, 0, 0.8356808667987153], \"x\": [0.7071066745408645, 0.7071066745408645, 0, -0.38268351429937203], \"type\": \"scatter3d\", \"y\": [-0.35151040120356813, -0.30151040120356815, 0, -0.3939426566773774], \"name\": \"43-123.png\"}, {\"z\": [0.4264002240635982, 0.4264002240635982, 0, 0.753777868555142], \"x\": [0.8320511996485439, 0.8320511996485439, 0, 0.1961171682442345], \"type\": \"scatter3d\", \"y\": [-0.4047867670614732, -0.3547867670614732, 0, -0.6271817768369309], \"name\": \"43-071.png\"}], {\"height\": 800, \"width\": 900, \"autosize\": true, \"title\": \"Angles of VSP group\", \"margin\": {\"b\": 65, \"t\": 90, \"r\": 50, \"l\": 65}}, {\"linkText\": \"Export to plot.ly\", \"showLink\": true})});</script>"
      ]
     },
     "metadata": {},
     "output_type": "display_data"
    },
    {
     "data": {
      "text/html": [
       "<img src=\"visiprog/data/curetaliasfree/images/43-154.png\" width=\"100\" height=\"100\" style=\"display:inline;margin:1px\"/><img src=\"visiprog/data/curetaliasfree/images/43-155.png\" width=\"100\" height=\"100\" style=\"display:inline;margin:1px\"/><img src=\"visiprog/data/curetaliasfree/images/43-121.png\" width=\"100\" height=\"100\" style=\"display:inline;margin:1px\"/><img src=\"visiprog/data/curetaliasfree/images/43-156.png\" width=\"100\" height=\"100\" style=\"display:inline;margin:1px\"/><img src=\"visiprog/data/curetaliasfree/images/43-026.png\" width=\"100\" height=\"100\" style=\"display:inline;margin:1px\"/><img src=\"visiprog/data/curetaliasfree/images/43-017.png\" width=\"100\" height=\"100\" style=\"display:inline;margin:1px\"/><img src=\"visiprog/data/curetaliasfree/images/43-158.png\" width=\"100\" height=\"100\" style=\"display:inline;margin:1px\"/><img src=\"visiprog/data/curetaliasfree/images/43-123.png\" width=\"100\" height=\"100\" style=\"display:inline;margin:1px\"/><img src=\"visiprog/data/curetaliasfree/images/43-071.png\" width=\"100\" height=\"100\" style=\"display:inline;margin:1px\"/><br>43-154.png\t43-155.png\t43-121.png\t43-156.png\t43-026.png\t43-017.png\t43-158.png\t43-123.png\t43-071.png"
      ],
      "text/plain": [
       "<IPython.core.display.HTML object>"
      ]
     },
     "metadata": {},
     "output_type": "display_data"
    }
   ],
   "source": [
    "groups = read_VSP_label()\n",
    "list_img = read_img_list()\n",
    "\n",
    "traces = []\n",
    "\n",
    "group = groups[169]\n",
    "\n",
    "for i in group: \n",
    "    viewing_index = viewing_condition_index(list_img[i])\n",
    "    \n",
    "    illum_x = df_viewing['illum_x'][viewing_index]\n",
    "    illum_y = df_viewing['illum_y'][viewing_index]\n",
    "    illum_z = df_viewing['illum_z'][viewing_index]\n",
    "\n",
    "    view_x = df_viewing['view_x'][viewing_index]\n",
    "    view_y = df_viewing['view_y'][viewing_index]\n",
    "    view_z = df_viewing['view_z'][viewing_index]\n",
    "    \n",
    "    line_x = [illum_x, illum_x, 0, view_x]\n",
    "    line_y = [illum_y - 0.05, illum_y, 0, view_y]\n",
    "    line_z = [illum_z,illum_z, 0, view_z]\n",
    "    \n",
    "    # plotting line\n",
    "    line_scatter = go.Scatter3d(\n",
    "        x=line_x,\n",
    "        y=line_y,\n",
    "        z=line_z,\n",
    "        name=os.path.basename(list_img[i])\n",
    "    )\n",
    "    \n",
    "    traces.append(line_scatter)\n",
    "\n",
    "layout = go.Layout(\n",
    "    title='Angles of VSP group',\n",
    "    autosize=True,\n",
    "    width=900,\n",
    "    height=800,\n",
    "    margin=dict(\n",
    "        l=65,\n",
    "        r=50,\n",
    "        b=65,\n",
    "        t=90\n",
    "    )\n",
    ")\n",
    "fig = go.Figure(data=traces, layout=layout)\n",
    "iplot(fig, filename='vspgroup')\n",
    "\n",
    "# display the images as well\n",
    "display(HTML(''.join(make_image_html(list_img[i]) for i in group) + '<br>' + \\\n",
    "            '\\t'.join(os.path.basename(list_img[i]) for i in group)))"
   ]
  },
  {
   "cell_type": "markdown",
   "metadata": {
    "collapsed": true
   },
   "source": [
    "# Formal analysis using graph and minimum spanning tree"
   ]
  },
  {
   "cell_type": "code",
   "execution_count": 33,
   "metadata": {
    "collapsed": false,
    "scrolled": true
   },
   "outputs": [
    {
     "name": "stdout",
     "output_type": "stream",
     "text": [
      "456\n"
     ]
    }
   ],
   "source": [
    "groups = read_VSP_label(pappas_only=True, sorted_by_material=True)\n",
    "list_img = read_img_list()\n",
    "\n",
    "print(len(groups))\n",
    "\n",
    "mst_distances = []\n",
    "\n",
    "for group in groups:\n",
    "    \n",
    "    # building the weighted undirected graph\n",
    "    G = nx.Graph()\n",
    "    G.add_nodes_from(range(len(group)))\n",
    "\n",
    "    for i in range(len(group)):\n",
    "        index_i = viewing_condition_index(list_img[group[i]])\n",
    "        \n",
    "        illum_x_1 = df_viewing['illum_x'][index_i]\n",
    "        illum_y_1 = df_viewing['illum_y'][index_i]\n",
    "        illum_z_1 = df_viewing['illum_z'][index_i]\n",
    "        \n",
    "        view_x_1 = df_viewing['view_x'][index_i]\n",
    "        view_y_1 = df_viewing['view_y'][index_i]\n",
    "        view_z_1 = df_viewing['view_z'][index_i]\n",
    "        \n",
    "        for j in range(i + 1, len(group)):\n",
    "            index_j = viewing_condition_index(list_img[group[j]])\n",
    "            illum_x_2, illum_y_2, illum_z_2 = polar_to_euclidean(df_viewing['illum_theta'][index_j],df_viewing['illum_phi'][index_j])\n",
    "            view_x_2, view_y_2, view_z_2 = polar_to_euclidean(df_viewing['view_theta'][index_j],df_viewing['view_phi'][index_j])\n",
    "            \n",
    "            weight_illum = angle_between((illum_x_1, illum_y_1, illum_z_1),(illum_x_2, illum_y_2, illum_z_2))\n",
    "            weight_view = angle_between((view_x_1, view_y_1, view_z_1),(view_x_2, view_y_2, view_z_2))\n",
    "        \n",
    "            G.add_edge(i, j, weight=weight_illum)\n",
    "            G.add_edge(i, j, weight=weight_view)\n",
    "            \n",
    "#     print(G.edges(data=True))\n",
    "#     print(\"\\n\\nSorting the MST\\n\\n\")\n",
    "    \n",
    "    # minimum spanning tree\n",
    "    mst=nx.minimum_spanning_edges(G,data=True)\n",
    "    \n",
    "    distances = []\n",
    "    for e in mst:\n",
    "        distances.append(e[2]['weight'])\n",
    "        \n",
    "    mst_distances.append(distances)"
   ]
  },
  {
   "cell_type": "code",
   "execution_count": 20,
   "metadata": {
    "collapsed": false
   },
   "outputs": [
    {
     "name": "stdout",
     "output_type": "stream",
     "text": [
      "(456, 8)\n"
     ]
    }
   ],
   "source": [
    "mst_out = np.asarray(mst_distances)\n",
    "np.savetxt('mst_distances.csv', mst_out, fmt='%.4f', delimiter=',')\n",
    "print(mst_out.shape)"
   ]
  },
  {
   "cell_type": "code",
   "execution_count": 11,
   "metadata": {
    "collapsed": false
   },
   "outputs": [
    {
     "name": "stdout",
     "output_type": "stream",
     "text": [
      "(604, 8)\n"
     ]
    }
   ],
   "source": []
  },
  {
   "cell_type": "markdown",
   "metadata": {
    "collapsed": true
   },
   "source": [
    "# Formal analysis using graph and VORONOI DIAGRAM\n",
    "\n",
    "Why? Since angle does not explain a lot. It could be better explained through spatial adjacency."
   ]
  },
  {
   "cell_type": "code",
   "execution_count": 48,
   "metadata": {
    "collapsed": false
   },
   "outputs": [],
   "source": [
    "# building spatial graph for illumination angles\n",
    "G_illum = illum_spatial_adjacent_graph()\n",
    "G_viewing = viewing_spatial_adjacent_graph()"
   ]
  },
  {
   "cell_type": "code",
   "execution_count": 69,
   "metadata": {
    "collapsed": false
   },
   "outputs": [
    {
     "data": {
      "text/plain": [
       "1"
      ]
     },
     "execution_count": 69,
     "metadata": {},
     "output_type": "execute_result"
    }
   ],
   "source": [
    "nx.shortest_path_length(G_illum,source = 0, target=2)"
   ]
  },
  {
   "cell_type": "code",
   "execution_count": 58,
   "metadata": {
    "collapsed": false,
    "scrolled": false
   },
   "outputs": [],
   "source": [
    "groups, _ = read_VSP_label(pappas_only=True, sorted_by_material=True)\n",
    "list_img = read_img_list()\n",
    "\n",
    "mst_spatial_distances = []\n",
    "\n",
    "for group in groups:    \n",
    "\n",
    "    # building the weighted undirected graph\n",
    "    G = nx.Graph()\n",
    "    G.add_nodes_from(range(len(group)))\n",
    "\n",
    "    for i in range(len(group)):\n",
    "        m_i = viewing_condition_index(list_img[group[i]])\n",
    "        for j in range(i + 1, len(group)):\n",
    "            m_j = viewing_condition_index(list_img[group[j]])\n",
    "            weight_illum = nx.shortest_path_length(G_illum, source=m_i - 1, target=m_j - 1)\n",
    "            weight_view = nx.shortest_path_length(G_viewing, source=m_i - 1, target=m_j - 1)                \n",
    "            G.add_edge(i, j, weight = min(weight_illum, weight_view))\n",
    "            \n",
    "    mst=nx.minimum_spanning_edges(G,data=True)\n",
    "    \n",
    "    distances = []   \n",
    "    for e in mst:\n",
    "        distances.append(e[2]['weight'])\n",
    "        \n",
    "    mst_spatial_distances.append(distances)"
   ]
  },
  {
   "cell_type": "code",
   "execution_count": 59,
   "metadata": {
    "collapsed": false
   },
   "outputs": [],
   "source": [
    "np.savetxt('mst_spatial_distances.csv', np.array(mst_spatial_distances), fmt='%d', delimiter=',')"
   ]
  },
  {
   "cell_type": "code",
   "execution_count": 60,
   "metadata": {
    "collapsed": false
   },
   "outputs": [
    {
     "name": "stdout",
     "output_type": "stream",
     "text": [
      "[[1 1 1 ..., 3 3 6]\n",
      " [1 1 1 ..., 3 4 5]\n",
      " [0 1 1 ..., 1 1 2]\n",
      " ..., \n",
      " [1 1 1 ..., 1 2 3]\n",
      " [1 1 1 ..., 1 2 2]\n",
      " [1 1 1 ..., 2 2 4]]\n"
     ]
    }
   ],
   "source": [
    "print(np.array(mst_spatial_distances))"
   ]
  },
  {
   "cell_type": "code",
   "execution_count": null,
   "metadata": {
    "collapsed": true
   },
   "outputs": [],
   "source": []
  }
 ],
 "metadata": {
  "kernelspec": {
   "display_name": "Python 3",
   "language": "python",
   "name": "python3"
  },
  "language_info": {
   "codemirror_mode": {
    "name": "ipython",
    "version": 3
   },
   "file_extension": ".py",
   "mimetype": "text/x-python",
   "name": "python",
   "nbconvert_exporter": "python",
   "pygments_lexer": "ipython3",
   "version": "3.4.5"
  }
 },
 "nbformat": 4,
 "nbformat_minor": 2
}
