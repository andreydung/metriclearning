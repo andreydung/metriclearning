{
 "cells": [
  {
   "cell_type": "code",
   "execution_count": 12,
   "metadata": {
    "collapsed": false
   },
   "outputs": [],
   "source": [
    "%load_ext autoreload\n",
    "%autoreload 2\n",
    "from metric_learn import Covariance\n",
    "from visiprog.data import *\n",
    "from visiprog.metric_learn import *\n",
    "from visiprog.evaluate import *\n",
    "%matplotlib inline\n",
    "import numpy as np\n",
    "from visiprog.metric_learn.fda_visiprog import LFDA_VISIPROG\n",
    "\n",
    "from IPython.display import Image, display\n",
    "\n",
    "np.set_printoptions(precision=2)\n",
    "\n",
    "from sklearn.cluster import KMeans\n",
    "from sklearn.metrics import pairwise_distances_argmin_min\n",
    "\n",
    "%matplotlib inline\n",
    "import matplotlib\n",
    "import matplotlib.pyplot as plt"
   ]
  },
  {
   "cell_type": "code",
   "execution_count": 4,
   "metadata": {
    "collapsed": false
   },
   "outputs": [
    {
     "name": "stdout",
     "output_type": "stream",
     "text": [
      "(5245, 82)\n"
     ]
    }
   ],
   "source": [
    "raw_feature = read_raw_feature()\n",
    "print(raw_feature.shape)\n",
    "material_label = read_material_label()"
   ]
  },
  {
   "cell_type": "markdown",
   "metadata": {},
   "source": [
    "# Baseline approach\n",
    "STSIM-M approach, no training"
   ]
  },
  {
   "cell_type": "code",
   "execution_count": 3,
   "metadata": {
    "collapsed": false
   },
   "outputs": [],
   "source": [
    "# cov = Covariance()\n",
    "# cov.fit(raw_feature)\n",
    "# X_STSIMM = cov.transform(raw_feature)"
   ]
  },
  {
   "cell_type": "code",
   "execution_count": 4,
   "metadata": {
    "collapsed": false
   },
   "outputs": [],
   "source": [
    "# np.savetxt('STSIM_M.csv', M, fmt='%.2f', delimiter=',')\n",
    "# res = leave_one_sample_out(X_STSIMM)\n",
    "# print(res['accuracy'])"
   ]
  },
  {
   "cell_type": "markdown",
   "metadata": {},
   "source": [
    "# Fisher linear discriminant approach\n",
    "\n",
    "Exact solution, however trained with semantic labels ..."
   ]
  },
  {
   "cell_type": "code",
   "execution_count": 5,
   "metadata": {
    "collapsed": false
   },
   "outputs": [],
   "source": [
    "model = LFDA()\n",
    "model.fit(raw_feature, material_label)\n",
    "X_fisher = model.transform(raw_feature)"
   ]
  },
  {
   "cell_type": "code",
   "execution_count": 6,
   "metadata": {
    "collapsed": false
   },
   "outputs": [
    {
     "name": "stdout",
     "output_type": "stream",
     "text": [
      "0.989323164919\n"
     ]
    }
   ],
   "source": [
    "# np.savetxt('FDA_semantic.csv', M, fmt='%.2f', delimiter=',')\n",
    "res_fda = leave_one_sample_out(X_fisher, material_label)\n",
    "print(res_fda['accuracy'])"
   ]
  },
  {
   "cell_type": "code",
   "execution_count": 7,
   "metadata": {
    "collapsed": true
   },
   "outputs": [],
   "source": [
    "n_list = range(10,150,20)"
   ]
  },
  {
   "cell_type": "code",
   "execution_count": 8,
   "metadata": {
    "collapsed": false
   },
   "outputs": [],
   "source": [
    "representative = []\n",
    "\n",
    "for n in n_list:\n",
    "    print(n)\n",
    "    km = KMeans(n_clusters = n, init='k-means++')\n",
    "    km.fit(X_fisher)\n",
    "\n",
    "    closest, _ = pairwise_distances_argmin_min(km.cluster_centers_, X_fisher)\n",
    "\n",
    "    representative_label = [material_label[closest[i]] for i in km.labels_]\n",
    "    representative_label = np.array(representative_label)\n",
    "\n",
    "    representative.append(np.mean(representative_label == material_label))"
   ]
  },
  {
   "cell_type": "markdown",
   "metadata": {},
   "source": [
    "# Train using ViSiProg label"
   ]
  },
  {
   "cell_type": "code",
   "execution_count": 10,
   "metadata": {
    "collapsed": false
   },
   "outputs": [],
   "source": [
    "groups, material = read_VSP_group(pappas_only=False)"
   ]
  },
  {
   "cell_type": "code",
   "execution_count": 14,
   "metadata": {
    "collapsed": false
   },
   "outputs": [],
   "source": [
    "visiprog_label = get_VSP_label(groups, raw_feature.shape[0])"
   ]
  },
  {
   "cell_type": "code",
   "execution_count": 15,
   "metadata": {
    "collapsed": false
   },
   "outputs": [],
   "source": [
    "model = LFDA_VISIPROG()\n",
    "model.fit(raw_feature, visiprog_label)\n",
    "X_vsp = model.transform(raw_feature)"
   ]
  },
  {
   "cell_type": "code",
   "execution_count": 16,
   "metadata": {
    "collapsed": false
   },
   "outputs": [
    {
     "name": "stdout",
     "output_type": "stream",
     "text": [
      "0.99180171592\n"
     ]
    }
   ],
   "source": [
    "res_vsp = leave_one_sample_out(X_vsp, material_label)\n",
    "print(res_vsp['accuracy'])"
   ]
  },
  {
   "cell_type": "code",
   "execution_count": 17,
   "metadata": {
    "collapsed": false
   },
   "outputs": [],
   "source": [
    "representative_VSP = []\n",
    "\n",
    "for n in n_list:\n",
    "    km = KMeans(n_clusters = n, init='k-means++')\n",
    "    km.fit(X_fisher)\n",
    "\n",
    "    closest, _ = pairwise_distances_argmin_min(km.cluster_centers_, X_fisher)\n",
    "\n",
    "    representative_label = [material_label[closest[i]] for i in km.labels_]\n",
    "    representative_label = np.array(representative_label)\n",
    "\n",
    "    representative_VSP.append(np.mean(representative_label == material_label))"
   ]
  },
  {
   "cell_type": "code",
   "execution_count": 18,
   "metadata": {
    "collapsed": false
   },
   "outputs": [
    {
     "ename": "NameError",
     "evalue": "name 'matplotlib' is not defined",
     "output_type": "error",
     "traceback": [
      "\u001b[0;31m---------------------------------------------------------------------------\u001b[0m",
      "\u001b[0;31mNameError\u001b[0m                                 Traceback (most recent call last)",
      "\u001b[0;32m<ipython-input-18-b0d4f5beda5e>\u001b[0m in \u001b[0;36m<module>\u001b[0;34m()\u001b[0m\n\u001b[1;32m      1\u001b[0m \u001b[0mfig\u001b[0m \u001b[0;34m=\u001b[0m \u001b[0mplt\u001b[0m\u001b[0;34m.\u001b[0m\u001b[0mgcf\u001b[0m\u001b[0;34m(\u001b[0m\u001b[0;34m)\u001b[0m\u001b[0;34m\u001b[0m\u001b[0m\n\u001b[1;32m      2\u001b[0m \u001b[0;34m\u001b[0m\u001b[0m\n\u001b[0;32m----> 3\u001b[0;31m \u001b[0mmatplotlib\u001b[0m\u001b[0;34m.\u001b[0m\u001b[0mrcParams\u001b[0m\u001b[0;34m.\u001b[0m\u001b[0mupdate\u001b[0m\u001b[0;34m(\u001b[0m\u001b[0;34m{\u001b[0m\u001b[0;34m'font.size'\u001b[0m\u001b[0;34m:\u001b[0m \u001b[0;36m20\u001b[0m\u001b[0;34m}\u001b[0m\u001b[0;34m)\u001b[0m\u001b[0;34m\u001b[0m\u001b[0m\n\u001b[0m\u001b[1;32m      4\u001b[0m \u001b[0;34m\u001b[0m\u001b[0m\n\u001b[1;32m      5\u001b[0m \u001b[0mfig\u001b[0m\u001b[0;34m.\u001b[0m\u001b[0mset_size_inches\u001b[0m\u001b[0;34m(\u001b[0m\u001b[0;36m18.5\u001b[0m\u001b[0;34m,\u001b[0m \u001b[0;36m10.5\u001b[0m\u001b[0;34m)\u001b[0m\u001b[0;34m\u001b[0m\u001b[0m\n",
      "\u001b[0;31mNameError\u001b[0m: name 'matplotlib' is not defined"
     ]
    },
    {
     "data": {
      "text/plain": [
       "<matplotlib.figure.Figure at 0x112b59710>"
      ]
     },
     "metadata": {},
     "output_type": "display_data"
    }
   ],
   "source": [
    "fig = plt.gcf()\n",
    "\n",
    "matplotlib.rcParams.update({'font.size': 20})\n",
    "\n",
    "fig.set_size_inches(18.5, 10.5)\n",
    "plt.plot(np.array(n_list)/61,representative, label='semantic')\n",
    "plt.plot(np.array(n_list)/61,representative_VSP, 'r', label='VSP')\n",
    "\n",
    "plt.ylabel('Precision @1')\n",
    "plt.xlabel('Number of average exemplars per class')\n",
    "\n",
    "plt.legend()\n",
    "\n",
    "fig.savefig('thrasos/exemplars.pdf')\n",
    "fig.savefig('thrasos/exemplars.eps', dpi=1200)"
   ]
  },
  {
   "cell_type": "code",
   "execution_count": null,
   "metadata": {
    "collapsed": true
   },
   "outputs": [],
   "source": []
  }
 ],
 "metadata": {
  "kernelspec": {
   "display_name": "Python 3",
   "language": "python",
   "name": "python3"
  },
  "language_info": {
   "codemirror_mode": {
    "name": "ipython",
    "version": 3
   },
   "file_extension": ".py",
   "mimetype": "text/x-python",
   "name": "python",
   "nbconvert_exporter": "python",
   "pygments_lexer": "ipython3",
   "version": "3.4.5"
  }
 },
 "nbformat": 4,
 "nbformat_minor": 2
}
