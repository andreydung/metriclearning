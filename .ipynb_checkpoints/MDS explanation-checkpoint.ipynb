{
 "cells": [
  {
   "cell_type": "code",
   "execution_count": 16,
   "metadata": {
    "collapsed": true
   },
   "outputs": [],
   "source": [
    "from visualize.data import *\n",
    "from visualize.drawing import *\n",
    "%matplotlib inline\n",
    "\n",
    "import numpy as np\n",
    "import matplotlib\n",
    "import matplotlib.pyplot as plt\n",
    "from sklearn.metrics import euclidean_distances"
   ]
  },
  {
   "cell_type": "markdown",
   "metadata": {},
   "source": [
    "## Testing whether MDS implementation is correct: \n",
    "\n",
    "* generate some random samples\n",
    "* calculate Euclidean distances between them\n",
    "* reconstruct the positions"
   ]
  },
  {
   "cell_type": "code",
   "execution_count": 2,
   "metadata": {},
   "outputs": [
    {
     "name": "stdout",
     "output_type": "stream",
     "text": [
      "[[ 1.53740067  2.82240294]\n",
      " [ 4.5582354   4.79081964]\n",
      " [-9.49349382 -0.0617803 ]\n",
      " [-1.74734732 -2.29721264]\n",
      " [ 0.35451664  0.06544713]\n",
      " [ 7.17877795 -9.39123197]\n",
      " [-0.04278552 -8.46927555]\n",
      " [-4.50116532  6.50148964]\n",
      " [ 9.67787505  1.50620112]\n",
      " [-7.52201373  4.53313998]]\n"
     ]
    }
   ],
   "source": [
    "# seed = np.random.RandomState(seed=3)\n",
    "# n_samples = 10\n",
    "# X_true = seed.randint(0, 20, 2 * n_samples).astype(np.float)\n",
    "# X_true = X_true.reshape((n_samples, 2))\n",
    "# D = euclidean_distances(X_true)\n",
    "\n",
    "# X = MDS(D)\n",
    "\n",
    "# print(X)\n",
    "\n",
    "# plot = visualize_img.scatter_plot(X, 'testing')\n",
    "# plot = scatter_img(X, readImgList(), 'out.png')"
   ]
  },
  {
   "cell_type": "markdown",
   "metadata": {},
   "source": [
    "## Testing on CURET-VisiProg data\n",
    "* Create pairwise matrix\n",
    "* Remove rows with all zeros entry\n",
    "* Convert to similarity matrix:\n",
    "  * Identical:         0\n",
    "  * Highest labeling:  1\n",
    "  * etc\n",
    "  * Not in same group: 100 (a large value)\n",
    "  \n",
    "  \n",
    "An example of the transformation is shown below:"
   ]
  },
  {
   "cell_type": "code",
   "execution_count": 19,
   "metadata": {},
   "outputs": [
    {
     "name": "stdout",
     "output_type": "stream",
     "text": [
      "Original pairwise matrix\n",
      "[[ 1.  1.  0.  0.]\n",
      " [ 1.  2.  1.  0.]\n",
      " [ 0.  1.  1.  0.]\n",
      " [ 0.  0.  0.  0.]]\n",
      "Method A\n",
      "[[   0.    1.  100.]\n",
      " [   1.    0.    1.]\n",
      " [ 100.    1.    0.]]\n"
     ]
    },
    {
     "data": {
      "text/plain": [
       "<matplotlib.collections.PathCollection at 0x14d910828>"
      ]
     },
     "execution_count": 19,
     "metadata": {},
     "output_type": "execute_result"
    },
    {
     "data": {
      "image/png": "[encoded data removed]",
      "text/plain": [
       "<matplotlib.figure.Figure at 0x120f90390>"
      ]
     },
     "metadata": {},
     "output_type": "display_data"
    }
   ],
   "source": [
    "S = count_matrix([[0,1],[1,2]], 4)\n",
    "\n",
    "print(\"Original pairwise matrix\")\n",
    "print(S)\n",
    "\n",
    "print(\"Method A\")\n",
    "D, nonZeroIndex = similarity_to_distance(S, missing_value=10)\n",
    "print(D)\n",
    "\n",
    "X = MDS(D)\n",
    "\n",
    "scatter_plot(X, \"testing\")"
   ]
  },
  {
   "cell_type": "code",
   "execution_count": null,
   "metadata": {
    "collapsed": true
   },
   "outputs": [],
   "source": []
  },
  {
   "cell_type": "code",
   "execution_count": 4,
   "metadata": {},
   "outputs": [
    {
     "name": "stdout",
     "output_type": "stream",
     "text": [
      "Adjacent\n",
      "[[ 0.          0.14285714  0.14285714 ...,  0.          0.          0.        ]\n",
      " [ 0.14285714  0.          0.14285714 ...,  0.          0.          0.        ]\n",
      " [ 0.14285714  0.14285714  0.         ...,  0.          0.          0.        ]\n",
      " ..., \n",
      " [ 0.          0.          0.         ...,  0.          0.          0.        ]\n",
      " [ 0.          0.          0.         ...,  0.          0.          0.14285714]\n",
      " [ 0.          0.          0.         ...,  0.          0.14285714  0.        ]]\n",
      "Laplacian\n",
      "[[ 1.14285714 -0.14285714 -0.14285714 ...,  0.          0.          0.        ]\n",
      " [-0.14285714  1.14285714 -0.14285714 ...,  0.          0.          0.        ]\n",
      " [-0.14285714 -0.14285714  1.14285714 ...,  0.          0.          0.        ]\n",
      " ..., \n",
      " [ 0.          0.          0.         ...,  1.14285714  0.          0.        ]\n",
      " [ 0.          0.          0.         ...,  0.          2.28571429\n",
      "  -0.14285714]\n",
      " [ 0.          0.          0.         ...,  0.         -0.14285714\n",
      "   1.14285714]]\n"
     ]
    }
   ],
   "source": [
    "groups, N = readVSPLabel()\n",
    "S = count_matrix(groups, N)\n",
    "listImg = readImgList()\n",
    "\n",
    "X, nonZeroIndex = spectral_clustering(S)"
   ]
  },
  {
   "cell_type": "code",
   "execution_count": 9,
   "metadata": {},
   "outputs": [
    {
     "name": "stdout",
     "output_type": "stream",
     "text": [
      "(3224, 10)\n",
      "(3224, 2)\n",
      "3224\n",
      "[[ 0.  0.  0. ...,  0.  0.  0.]\n",
      " [ 0.  0.  0. ...,  0.  0.  0.]\n",
      " [ 0.  0.  0. ...,  0.  0.  0.]\n",
      " ..., \n",
      " [ 0.  0.  0. ...,  0.  0.  0.]\n",
      " [ 0.  0.  0. ...,  0.  0.  0.]\n",
      " [ 0.  0.  0. ...,  0.  0.  0.]]\n"
     ]
    }
   ],
   "source": [
    "print(X.shape)\n",
    "\n",
    "spec_X = X[:,:2]\n",
    "print(spec_X.shape)\n",
    "print(len(nonZeroIndex))\n",
    "\n",
    "print(X)\n",
    "\n",
    "np.savetxt('spec.csv', X, delimiter=\",\")"
   ]
  },
  {
   "cell_type": "code",
   "execution_count": 6,
   "metadata": {},
   "outputs": [
    {
     "name": "stderr",
     "output_type": "stream",
     "text": [
      "/Users/andrey/anaconda/envs/beyourself/lib/python3.6/site-packages/skimage/util/dtype.py:122: UserWarning: Possible precision loss when converting from int64 to float64\n",
      "  .format(dtypeobj_in, dtypeobj_out))\n",
      "/Users/andrey/anaconda/envs/beyourself/lib/python3.6/site-packages/skimage/io/_io.py:132: UserWarning: spec.png is a low contrast image\n",
      "  warn('%s is a low contrast image' % fname)\n",
      "/Users/andrey/anaconda/envs/beyourself/lib/python3.6/site-packages/skimage/util/dtype.py:118: UserWarning: Possible sign loss when converting negative image of type int64 to positive image of type uint8.\n",
      "  .format(dtypeobj_in, dtypeobj_out))\n",
      "/Users/andrey/anaconda/envs/beyourself/lib/python3.6/site-packages/skimage/util/dtype.py:171: UserWarning: Downcasting int64 to uint8 without scaling because max value 255 fits in uint8\n",
      "  \"value {} fits in {}\".format(a.dtype, dtype, a.max(), dtype))\n"
     ]
    }
   ],
   "source": [
    "nonZeroList = [listImg[t] for t in nonZeroIndex]\n",
    "scatter_img(spec_X, nonZeroList, 'spec.png')"
   ]
  },
  {
   "cell_type": "code",
   "execution_count": 13,
   "metadata": {
    "collapsed": true
   },
   "outputs": [],
   "source": [
    "groups, N = readVSPLabel()\n",
    "S = count_matrix(groups, N)\n",
    "D, nonZeroIndex = similarity_to_distance(S, missing_value=100)\n",
    "\n",
    "X = MDS(D)"
   ]
  },
  {
   "cell_type": "code",
   "execution_count": 15,
   "metadata": {},
   "outputs": [
    {
     "name": "stderr",
     "output_type": "stream",
     "text": [
      "/Users/andrey/anaconda/envs/beyourself/lib/python3.6/site-packages/skimage/util/dtype.py:122: UserWarning: Possible precision loss when converting from int64 to float64\n",
      "  .format(dtypeobj_in, dtypeobj_out))\n",
      "/Users/andrey/anaconda/envs/beyourself/lib/python3.6/site-packages/skimage/io/_io.py:132: UserWarning: MDS.png is a low contrast image\n",
      "  warn('%s is a low contrast image' % fname)\n",
      "/Users/andrey/anaconda/envs/beyourself/lib/python3.6/site-packages/skimage/util/dtype.py:118: UserWarning: Possible sign loss when converting negative image of type int64 to positive image of type uint8.\n",
      "  .format(dtypeobj_in, dtypeobj_out))\n",
      "/Users/andrey/anaconda/envs/beyourself/lib/python3.6/site-packages/skimage/util/dtype.py:171: UserWarning: Downcasting int64 to uint8 without scaling because max value 255 fits in uint8\n",
      "  \"value {} fits in {}\".format(a.dtype, dtype, a.max(), dtype))\n"
     ]
    }
   ],
   "source": [
    "imgList = readImgList()\n",
    "nonZeroList = [imgList[p] for p in nonZeroIndex]\n",
    "scatter_img(X, nonZeroList, 'MDS.png')"
   ]
  },
  {
   "cell_type": "code",
   "execution_count": 8,
   "metadata": {},
   "outputs": [
    {
     "ename": "NameError",
     "evalue": "name 'distance' is not defined",
     "output_type": "error",
     "traceback": [
      "\u001b[0;31m---------------------------------------------------------------------------\u001b[0m",
      "\u001b[0;31mNameError\u001b[0m                                 Traceback (most recent call last)",
      "\u001b[0;32m<ipython-input-8-0cf5961433df>\u001b[0m in \u001b[0;36m<module>\u001b[0;34m()\u001b[0m\n\u001b[0;32m----> 1\u001b[0;31m \u001b[0mgroups\u001b[0m\u001b[0;34m,\u001b[0m \u001b[0mN\u001b[0m \u001b[0;34m=\u001b[0m \u001b[0mdistance\u001b[0m\u001b[0;34m.\u001b[0m\u001b[0mreadVSPLabel\u001b[0m\u001b[0;34m(\u001b[0m\u001b[0;34m)\u001b[0m\u001b[0;34m\u001b[0m\u001b[0m\n\u001b[0m\u001b[1;32m      2\u001b[0m \u001b[0mS\u001b[0m \u001b[0;34m=\u001b[0m \u001b[0mdistance\u001b[0m\u001b[0;34m.\u001b[0m\u001b[0mcount_matrix\u001b[0m\u001b[0;34m(\u001b[0m\u001b[0mgroups\u001b[0m\u001b[0;34m,\u001b[0m \u001b[0mN\u001b[0m\u001b[0;34m)\u001b[0m\u001b[0;34m\u001b[0m\u001b[0m\n\u001b[1;32m      3\u001b[0m \u001b[0mD\u001b[0m\u001b[0;34m,\u001b[0m \u001b[0mnonZeroIndex\u001b[0m \u001b[0;34m=\u001b[0m \u001b[0mdistance\u001b[0m\u001b[0;34m.\u001b[0m\u001b[0msimilarity_to_distance\u001b[0m\u001b[0;34m(\u001b[0m\u001b[0mS\u001b[0m\u001b[0;34m,\u001b[0m \u001b[0mmissing_value\u001b[0m\u001b[0;34m=\u001b[0m\u001b[0;36m0\u001b[0m\u001b[0;34m)\u001b[0m\u001b[0;34m\u001b[0m\u001b[0m\n\u001b[1;32m      4\u001b[0m \u001b[0;34m\u001b[0m\u001b[0m\n\u001b[1;32m      5\u001b[0m \u001b[0mplot\u001b[0m \u001b[0;34m=\u001b[0m \u001b[0mdistance\u001b[0m\u001b[0;34m.\u001b[0m\u001b[0mSMACOF\u001b[0m\u001b[0;34m(\u001b[0m\u001b[0mD\u001b[0m\u001b[0;34m)\u001b[0m\u001b[0;34m\u001b[0m\u001b[0m\n",
      "\u001b[0;31mNameError\u001b[0m: name 'distance' is not defined"
     ]
    }
   ],
   "source": [
    "# groups, N = distance.readVSPLabel()\n",
    "# S = distance.count_matrix(groups, N)\n",
    "# D, nonZeroIndex = distance.similarity_to_distance(S, missing_value=0)\n",
    "\n",
    "# plot = distance.SMACOF(D)"
   ]
  },
  {
   "cell_type": "code",
   "execution_count": null,
   "metadata": {
    "collapsed": true
   },
   "outputs": [],
   "source": [
    "# print(plot.shape)\n",
    "# plot = plot[:-1]\n",
    "# listImg = distance.readImgList()\n",
    "# print(len(listImg))\n",
    "\n",
    "# visualize_img.scatter_img(plot, distance.readImgList(), 'smacof.png')"
   ]
  },
  {
   "cell_type": "markdown",
   "metadata": {},
   "source": [
    "## Why MDS do not work?\n",
    "\n",
    "MDS is highly sensitive to all entries of the S matrix. It requires that all of the entries make sense, and follow the metric axioms.\n",
    "\n",
    "In VSP case, lots of entries of the matrix has the same value (100). This forces MDS to learn the circle representation.\n",
    "\n",
    "In other words, the simple model of setting pair not belongs to a group to be a large number does not work."
   ]
  },
  {
   "cell_type": "code",
   "execution_count": null,
   "metadata": {
    "collapsed": true
   },
   "outputs": [],
   "source": []
  }
 ],
 "metadata": {
  "kernelspec": {
   "display_name": "Python 3",
   "language": "python",
   "name": "python3"
  },
  "language_info": {
   "codemirror_mode": {
    "name": "ipython",
    "version": 3
   },
   "file_extension": ".py",
   "mimetype": "text/x-python",
   "name": "python",
   "nbconvert_exporter": "python",
   "pygments_lexer": "ipython3",
   "version": "3.6.1"
  }
 },
 "nbformat": 4,
 "nbformat_minor": 2
}
