{
 "cells": [
  {
   "cell_type": "code",
   "execution_count": 1,
   "metadata": {},
   "outputs": [],
   "source": [
    "from visualize import distance, visualize_img\n",
    "%matplotlib inline\n",
    "\n",
    "import numpy as np\n",
    "import matplotlib\n",
    "import matplotlib.pyplot as plt\n",
    "from sklearn.metrics import euclidean_distances"
   ]
  },
  {
   "cell_type": "markdown",
   "metadata": {},
   "source": [
    "## Testing whether MDS implementation is correct: \n",
    "\n",
    "* generate some random samples\n",
    "* calculate Euclidean distances between them\n",
    "* reconstruct the positions"
   ]
  },
  {
   "cell_type": "code",
   "execution_count": 2,
   "metadata": {},
   "outputs": [
    {
     "name": "stdout",
     "output_type": "stream",
     "text": [
      "[[ 1.53740067  2.82240294]\n",
      " [ 4.5582354   4.79081964]\n",
      " [-9.49349382 -0.0617803 ]\n",
      " [-1.74734732 -2.29721264]\n",
      " [ 0.35451664  0.06544713]\n",
      " [ 7.17877795 -9.39123197]\n",
      " [-0.04278552 -8.46927555]\n",
      " [-4.50116532  6.50148964]\n",
      " [ 9.67787505  1.50620112]\n",
      " [-7.52201373  4.53313998]]\n"
     ]
    },
    {
     "name": "stderr",
     "output_type": "stream",
     "text": [
      "/Users/andrey/anaconda/envs/beyourself/lib/python3.6/site-packages/skimage/util/dtype.py:122: UserWarning: Possible precision loss when converting from int64 to float64\n",
      "  .format(dtypeobj_in, dtypeobj_out))\n",
      "/Users/andrey/anaconda/envs/beyourself/lib/python3.6/site-packages/skimage/io/_io.py:132: UserWarning: out.png is a low contrast image\n",
      "  warn('%s is a low contrast image' % fname)\n",
      "/Users/andrey/anaconda/envs/beyourself/lib/python3.6/site-packages/skimage/util/dtype.py:118: UserWarning: Possible sign loss when converting negative image of type int64 to positive image of type uint8.\n",
      "  .format(dtypeobj_in, dtypeobj_out))\n",
      "/Users/andrey/anaconda/envs/beyourself/lib/python3.6/site-packages/skimage/util/dtype.py:171: UserWarning: Downcasting int64 to uint8 without scaling because max value 255 fits in uint8\n",
      "  \"value {} fits in {}\".format(a.dtype, dtype, a.max(), dtype))\n"
     ]
    }
   ],
   "source": [
    "seed = np.random.RandomState(seed=3)\n",
    "n_samples = 10\n",
    "X_true = seed.randint(0, 20, 2 * n_samples).astype(np.float)\n",
    "X_true = X_true.reshape((n_samples, 2))\n",
    "D = euclidean_distances(X_true)\n",
    "\n",
    "X = distance.MDS(D)\n",
    "\n",
    "print(X)\n",
    "\n",
    "# plot = visualize_img.scatter_plot(X, 'testing')\n",
    "plot = visualize_img.scatter_img(X, distance.readImgList(), 'out.png')"
   ]
  },
  {
   "cell_type": "markdown",
   "metadata": {},
   "source": [
    "## Testing on CURET-VisiProg data\n",
    "* Create pairwise matrix\n",
    "* Remove rows with all zeros entry\n",
    "* Convert to similarity matrix:\n",
    "  * Identical:         0\n",
    "  * Highest labeling:  1\n",
    "  * etc\n",
    "  * Not in same group: 100 (a large value)\n",
    "  \n",
    "  \n",
    "An example of the transformation is shown below:"
   ]
  },
  {
   "cell_type": "code",
   "execution_count": 3,
   "metadata": {},
   "outputs": [
    {
     "name": "stdout",
     "output_type": "stream",
     "text": [
      "Original pairwise matrix\n",
      "[[ 1.  1.  0.  0.]\n",
      " [ 1.  2.  1.  0.]\n",
      " [ 0.  1.  1.  0.]\n",
      " [ 0.  0.  0.  0.]]\n",
      "Method A\n",
      "[[   0.    1.  100.  100.]\n",
      " [   1.    0.    1.  100.]\n",
      " [ 100.    1.    0.  100.]\n",
      " [ 100.  100.  100.    0.]]\n",
      "Method B\n",
      "[[ 0.  1.  0.  0.]\n",
      " [ 1.  0.  1.  0.]\n",
      " [ 0.  1.  0.  0.]\n",
      " [ 0.  0.  0.  0.]]\n"
     ]
    }
   ],
   "source": [
    "S = distance.count_matrix([[0,1],[1,2]], 4)\n",
    "\n",
    "print(\"Original pairwise matrix\")\n",
    "print(S)\n",
    "\n",
    "print(\"Method A\")\n",
    "D, nonZeroIndex = distance.similarity_to_distance(S, missing_value=100)\n",
    "print(D)\n",
    "\n",
    "print(\"Method B\")\n",
    "D, nonZeroIndex = distance.similarity_to_distance(S, missing_value=0)\n",
    "print(D)"
   ]
  },
  {
   "cell_type": "code",
   "execution_count": 4,
   "metadata": {
    "collapsed": true
   },
   "outputs": [],
   "source": [
    "# groups, N = readData()\n",
    "# S = count_matrix(groups, N)\n",
    "# D, nonZeroIndex = similarity_to_distance(S, missing_value=100)\n",
    "\n",
    "# plot = get_MDS_plot(D)"
   ]
  },
  {
   "cell_type": "code",
   "execution_count": 9,
   "metadata": {},
   "outputs": [
    {
     "name": "stdout",
     "output_type": "stream",
     "text": [
      "it: 0, stress 231731.736133\n",
      "it: 0, stress 247919.746203\n",
      "it: 0, stress 218123.515245\n",
      "it: 0, stress 245413.215301\n",
      "it: 0, stress 228414.212479\n",
      "it: 0, stress 232307.375507\n",
      "it: 1, stress 753.027912877\n",
      "it: 0, stress 224317.957784\n",
      "it: 1, stress 705.091034465\n",
      "it: 1, stress 760.331716386\n",
      "it: 0, stress 232433.958535\n",
      "it: 1, stress 712.650441113\n",
      "it: 1, stress 707.360231304\n",
      "it: 2, stress 752.643712523\n",
      "it: 1, stress 742.712053235\n",
      "it: 1, stress 705.213945494\n",
      "it: 2, stress 760.011717475\n",
      "it: 2, stress 704.715818138\n",
      "it: 1, stress 704.774248853\n"
     ]
    },
    {
     "name": "stderr",
     "output_type": "stream",
     "text": [
      "[Parallel(n_jobs=8)]: Done   2 out of   8 | elapsed:   30.6s remaining:  1.5min\n"
     ]
    },
    {
     "name": "stdout",
     "output_type": "stream",
     "text": [
      "it: 2, stress 712.243542242\n",
      "it: 2, stress 706.992736546\n",
      "it: 2, stress 742.346885292\n",
      "it: 2, stress 704.840755814\n",
      "it: 2, stress 704.398020208\n"
     ]
    },
    {
     "name": "stderr",
     "output_type": "stream",
     "text": [
      "[Parallel(n_jobs=8)]: Done   8 out of   8 | elapsed:   33.2s finished\n"
     ]
    }
   ],
   "source": [
    "groups, N = distance.readVSPLabel()\n",
    "S = distance.count_matrix(groups, N)\n",
    "D, nonZeroIndex = distance.similarity_to_distance(S, missing_value=0)\n",
    "\n",
    "plot = distance.SMACOF(D)"
   ]
  },
  {
   "cell_type": "code",
   "execution_count": 13,
   "metadata": {},
   "outputs": [
    {
     "name": "stdout",
     "output_type": "stream",
     "text": [
      "(5245, 2)\n",
      "5245\n"
     ]
    },
    {
     "name": "stderr",
     "output_type": "stream",
     "text": [
      "/Users/andrey/anaconda/envs/beyourself/lib/python3.6/site-packages/skimage/util/dtype.py:122: UserWarning: Possible precision loss when converting from int64 to float64\n",
      "  .format(dtypeobj_in, dtypeobj_out))\n",
      "/Users/andrey/anaconda/envs/beyourself/lib/python3.6/site-packages/skimage/io/_io.py:132: UserWarning: smacof.png is a low contrast image\n",
      "  warn('%s is a low contrast image' % fname)\n",
      "/Users/andrey/anaconda/envs/beyourself/lib/python3.6/site-packages/skimage/util/dtype.py:118: UserWarning: Possible sign loss when converting negative image of type int64 to positive image of type uint8.\n",
      "  .format(dtypeobj_in, dtypeobj_out))\n",
      "/Users/andrey/anaconda/envs/beyourself/lib/python3.6/site-packages/skimage/util/dtype.py:171: UserWarning: Downcasting int64 to uint8 without scaling because max value 255 fits in uint8\n",
      "  \"value {} fits in {}\".format(a.dtype, dtype, a.max(), dtype))\n"
     ]
    }
   ],
   "source": [
    "print(plot.shape)\n",
    "plot = plot[:-1]\n",
    "listImg = distance.readImgList()\n",
    "print(len(listImg))\n",
    "\n",
    "visualize_img.scatter_img(plot, distance.readImgList(), 'smacof.png')"
   ]
  },
  {
   "cell_type": "markdown",
   "metadata": {},
   "source": [
    "## Why MDS do not work?\n",
    "\n",
    "MDS is highly sensitive to all entries of the S matrix. It requires that all of the entries make sense, and follow the metric axioms.\n",
    "\n",
    "In VSP case, lots of entries of the matrix has the same value (100). This forces MDS to learn the circle representation.\n",
    "\n",
    "In other words, the simple model of setting pair not belongs to a group to be a large number does not work."
   ]
  },
  {
   "cell_type": "code",
   "execution_count": null,
   "metadata": {
    "collapsed": true
   },
   "outputs": [],
   "source": []
  }
 ],
 "metadata": {
  "kernelspec": {
   "display_name": "Python 3",
   "language": "python",
   "name": "python3"
  },
  "language_info": {
   "codemirror_mode": {
    "name": "ipython",
    "version": 3
   },
   "file_extension": ".py",
   "mimetype": "text/x-python",
   "name": "python",
   "nbconvert_exporter": "python",
   "pygments_lexer": "ipython3",
   "version": "3.6.1"
  }
 },
 "nbformat": 4,
 "nbformat_minor": 2
}
