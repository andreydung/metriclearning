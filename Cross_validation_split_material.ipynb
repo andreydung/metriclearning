{
 "cells": [
  {
   "cell_type": "code",
   "execution_count": 9,
   "metadata": {
    "collapsed": false
   },
   "outputs": [],
   "source": [
    "from visiprog.data import *\n",
    "from visiprog.metriclearning import *\n",
    "from visiprog.evaluate import *\n",
    "%matplotlib inline\n",
    "import numpy as np\n",
    "from visiprog.metric_learn.fda_visiprog import LFDA_VISIPROG\n",
    "from metric_learn import Covariance\n",
    "\n",
    "from IPython.display import Image, display\n",
    "from sklearn.model_selection import train_test_split\n",
    "import pandas as pd\n",
    "\n",
    "import logging\n",
    "import sys\n",
    "logging.basicConfig(stream=sys.stdout, level=logging.INFO)\n"
   ]
  },
  {
   "cell_type": "code",
   "execution_count": 10,
   "metadata": {
    "collapsed": false
   },
   "outputs": [
    {
     "name": "stdout",
     "output_type": "stream",
     "text": [
      "(5245, 82)\n",
      "(5245,)\n"
     ]
    }
   ],
   "source": [
    "raw_feature = np.genfromtxt('visiprog/data/curetaliasfree.csv',delimiter=\",\")\n",
    "label_material = read_material_label()\n",
    "groups_VSP, N = read_VSP_label()\n",
    "\n",
    "print(raw_feature.shape)\n",
    "print(label_material.shape)"
   ]
  },
  {
   "cell_type": "code",
   "execution_count": 11,
   "metadata": {
    "collapsed": false
   },
   "outputs": [],
   "source": [
    "label_visiprog = np.zeros((N,))\n",
    "\n",
    "count = 0\n",
    "for g in groups_VSP:\n",
    "    label = False\n",
    "    \n",
    "    # check whether any entry in the group has been labelled yet\n",
    "    # if yes, then merge with that existing label\n",
    "    for i in g:\n",
    "        if label_visiprog[i] != 0:\n",
    "            label = label_visiprog[i]\n",
    "            break\n",
    "    \n",
    "    # if no, then create a new label\n",
    "    if label == False:\n",
    "        count += 1\n",
    "        label = count\n",
    "        \n",
    "    for i in g:\n",
    "        label_visiprog[i] = label\n"
   ]
  },
  {
   "cell_type": "code",
   "execution_count": 12,
   "metadata": {
    "collapsed": false
   },
   "outputs": [],
   "source": [
    "model = Covariance()\n",
    "model.fit(raw_feature)\n",
    "X_STSIMM = model.transform(raw_feature)"
   ]
  },
  {
   "cell_type": "code",
   "execution_count": 14,
   "metadata": {
    "collapsed": false,
    "scrolled": false
   },
   "outputs": [
    {
     "name": "stdout",
     "output_type": "stream",
     "text": [
      "INFO:visiprog.evaluate:Nearest neighbor on separate test data\n",
      "INFO:visiprog.evaluate:Nearest neighbor on same data\n",
      "INFO:visiprog.evaluate:Nearest neighbor on same data\n",
      "INFO:visiprog.evaluate:Nearest neighbor on same data\n",
      "INFO:visiprog.evaluate:Nearest neighbor on separate test data\n",
      "INFO:visiprog.evaluate:Nearest neighbor on same data\n",
      "INFO:visiprog.evaluate:Nearest neighbor on same data\n",
      "INFO:visiprog.evaluate:Nearest neighbor on same data\n",
      "INFO:visiprog.evaluate:Nearest neighbor on separate test data\n",
      "INFO:visiprog.evaluate:Nearest neighbor on same data\n",
      "INFO:visiprog.evaluate:Nearest neighbor on same data\n",
      "INFO:visiprog.evaluate:Nearest neighbor on same data\n",
      "INFO:visiprog.evaluate:Nearest neighbor on separate test data\n",
      "INFO:visiprog.evaluate:Nearest neighbor on same data\n",
      "INFO:visiprog.evaluate:Nearest neighbor on same data\n",
      "INFO:visiprog.evaluate:Nearest neighbor on same data\n",
      "INFO:visiprog.evaluate:Nearest neighbor on separate test data\n",
      "INFO:visiprog.evaluate:Nearest neighbor on same data\n",
      "INFO:visiprog.evaluate:Nearest neighbor on same data\n",
      "INFO:visiprog.evaluate:Nearest neighbor on same data\n",
      "INFO:visiprog.evaluate:Nearest neighbor on separate test data\n",
      "INFO:visiprog.evaluate:Nearest neighbor on same data\n",
      "INFO:visiprog.evaluate:Nearest neighbor on same data\n",
      "INFO:visiprog.evaluate:Nearest neighbor on same data\n",
      "INFO:visiprog.evaluate:Nearest neighbor on separate test data\n",
      "INFO:visiprog.evaluate:Nearest neighbor on same data\n",
      "INFO:visiprog.evaluate:Nearest neighbor on same data\n",
      "INFO:visiprog.evaluate:Nearest neighbor on same data\n",
      "INFO:visiprog.evaluate:Nearest neighbor on separate test data\n",
      "INFO:visiprog.evaluate:Nearest neighbor on same data\n",
      "INFO:visiprog.evaluate:Nearest neighbor on same data\n",
      "INFO:visiprog.evaluate:Nearest neighbor on same data\n",
      "INFO:visiprog.evaluate:Nearest neighbor on separate test data\n",
      "INFO:visiprog.evaluate:Nearest neighbor on same data\n",
      "INFO:visiprog.evaluate:Nearest neighbor on same data\n",
      "INFO:visiprog.evaluate:Nearest neighbor on same data\n",
      "INFO:visiprog.evaluate:Nearest neighbor on separate test data\n",
      "INFO:visiprog.evaluate:Nearest neighbor on same data\n",
      "INFO:visiprog.evaluate:Nearest neighbor on same data\n",
      "INFO:visiprog.evaluate:Nearest neighbor on same data\n"
     ]
    }
   ],
   "source": [
    "accuracy_STSIMM = []\n",
    "accuracy_mat = []\n",
    "accuracy_vsp_original = []\n",
    "accuracy_vsp = []\n",
    "\n",
    "for i in range(10):\n",
    "    X_train, X_test, X_STSIMM_train, X_STSIMM_test, Y_mat_train, Y_mat_test, Y_VSP_train, Y_VSP_test = \\\n",
    "    train_test_split(raw_feature, X_STSIMM, label_material, label_visiprog, \\\n",
    "                     test_size=0.2, stratify=label_material)\n",
    "\n",
    "    res = leave_one_sample_out(X_STSIMM_train, Y_mat_train, X_STSIMM_test, Y_mat_test)\n",
    "    accuracy_STSIMM.append(res['accuracy'])\n",
    "\n",
    "    model = LFDA()\n",
    "    try:\n",
    "        model.fit(X_train, Y_mat_train)\n",
    "        X_mat_test = model.transform(X_test)\n",
    "        res = leave_one_sample_out(X_mat_test, Y_mat_test)\n",
    "        accuracy_mat.append(res['accuracy'])\n",
    "    except Exception as e:\n",
    "        acuracy_mat.append(NaN)\n",
    "\n",
    "    model_vsp_original = LFDA()\n",
    "    try:\n",
    "        model_vsp_original.fit(X_train, Y_VSP_train)\n",
    "        X_vsp_original_test = model_vsp_original.transform(X_test)\n",
    "        res_vsp_original = leave_one_sample_out(X_vsp_original_test, Y_mat_test)\n",
    "        accuracy_vsp_original.append(res_vsp_original['accuracy'])\n",
    "    except Exception as e:\n",
    "        accuracy_vsp_original.append(NaN)\n",
    "\n",
    "    model_vsp = LFDA_VISIPROG()\n",
    "    try:\n",
    "        model_vsp.fit(X_train, Y_VSP_train)\n",
    "        X_vsp_test = model_vsp.transform(X_test)\n",
    "        res_vsp = leave_one_sample_out(X_vsp_test, Y_mat_test)\n",
    "        accuracy_vsp.append(res_vsp['accuracy'])\n",
    "    except Exception as e:\n",
    "        accuracy_vsp.append(NaN)"
   ]
  },
  {
   "cell_type": "code",
   "execution_count": 15,
   "metadata": {
    "collapsed": false
   },
   "outputs": [
    {
     "data": {
      "text/html": [
       "<div>\n",
       "<table border=\"1\" class=\"dataframe\">\n",
       "  <thead>\n",
       "    <tr style=\"text-align: right;\">\n",
       "      <th></th>\n",
       "      <th>STSIMM</th>\n",
       "      <th>material</th>\n",
       "      <th>visiprog_original</th>\n",
       "      <th>visiprog</th>\n",
       "    </tr>\n",
       "  </thead>\n",
       "  <tbody>\n",
       "    <tr>\n",
       "      <th>0</th>\n",
       "      <td>0.818147</td>\n",
       "      <td>0.980175</td>\n",
       "      <td>0.940145</td>\n",
       "      <td>0.977888</td>\n",
       "    </tr>\n",
       "    <tr>\n",
       "      <th>1</th>\n",
       "      <td>0.816241</td>\n",
       "      <td>0.979413</td>\n",
       "      <td>0.902021</td>\n",
       "      <td>0.972551</td>\n",
       "    </tr>\n",
       "    <tr>\n",
       "      <th>2</th>\n",
       "      <td>0.821578</td>\n",
       "      <td>0.979413</td>\n",
       "      <td>0.953488</td>\n",
       "      <td>0.974457</td>\n",
       "    </tr>\n",
       "    <tr>\n",
       "      <th>3</th>\n",
       "      <td>0.815478</td>\n",
       "      <td>0.977125</td>\n",
       "      <td>0.910789</td>\n",
       "      <td>0.972169</td>\n",
       "    </tr>\n",
       "    <tr>\n",
       "      <th>4</th>\n",
       "      <td>0.819672</td>\n",
       "      <td>0.974457</td>\n",
       "      <td>0.941289</td>\n",
       "      <td>0.969882</td>\n",
       "    </tr>\n",
       "    <tr>\n",
       "      <th>5</th>\n",
       "      <td>0.805947</td>\n",
       "      <td>0.980175</td>\n",
       "      <td>0.943957</td>\n",
       "      <td>0.974838</td>\n",
       "    </tr>\n",
       "    <tr>\n",
       "      <th>6</th>\n",
       "      <td>0.809760</td>\n",
       "      <td>0.976744</td>\n",
       "      <td>0.929089</td>\n",
       "      <td>0.972551</td>\n",
       "    </tr>\n",
       "    <tr>\n",
       "      <th>7</th>\n",
       "      <td>0.815478</td>\n",
       "      <td>0.979032</td>\n",
       "      <td>0.924895</td>\n",
       "      <td>0.973313</td>\n",
       "    </tr>\n",
       "    <tr>\n",
       "      <th>8</th>\n",
       "      <td>0.821197</td>\n",
       "      <td>0.978650</td>\n",
       "      <td>0.939382</td>\n",
       "      <td>0.971407</td>\n",
       "    </tr>\n",
       "    <tr>\n",
       "      <th>9</th>\n",
       "      <td>0.816241</td>\n",
       "      <td>0.975600</td>\n",
       "      <td>0.939382</td>\n",
       "      <td>0.972169</td>\n",
       "    </tr>\n",
       "    <tr>\n",
       "      <th>average</th>\n",
       "      <td>0.815974</td>\n",
       "      <td>0.978079</td>\n",
       "      <td>0.932444</td>\n",
       "      <td>0.973122</td>\n",
       "    </tr>\n",
       "  </tbody>\n",
       "</table>\n",
       "</div>"
      ],
      "text/plain": [
       "           STSIMM  material  visiprog_original  visiprog\n",
       "0        0.818147  0.980175           0.940145  0.977888\n",
       "1        0.816241  0.979413           0.902021  0.972551\n",
       "2        0.821578  0.979413           0.953488  0.974457\n",
       "3        0.815478  0.977125           0.910789  0.972169\n",
       "4        0.819672  0.974457           0.941289  0.969882\n",
       "5        0.805947  0.980175           0.943957  0.974838\n",
       "6        0.809760  0.976744           0.929089  0.972551\n",
       "7        0.815478  0.979032           0.924895  0.973313\n",
       "8        0.821197  0.978650           0.939382  0.971407\n",
       "9        0.816241  0.975600           0.939382  0.972169\n",
       "average  0.815974  0.978079           0.932444  0.973122"
      ]
     },
     "metadata": {},
     "output_type": "display_data"
    }
   ],
   "source": [
    "df = pd.DataFrame({'visiprog':accuracy_vsp, 'material':accuracy_mat, 'STSIMM':accuracy_STSIMM, \\\n",
    "       'visiprog_original':accuracy_vsp_original}, columns=['STSIMM','material','visiprog_original','visiprog'])\n",
    "df.loc['average'] = df.mean()\n",
    "display(df)"
   ]
  },
  {
   "cell_type": "code",
   "execution_count": null,
   "metadata": {
    "collapsed": false
   },
   "outputs": [],
   "source": [
    "print(Y_mat_test)"
   ]
  },
  {
   "cell_type": "code",
   "execution_count": null,
   "metadata": {
    "collapsed": true
   },
   "outputs": [],
   "source": []
  }
 ],
 "metadata": {
  "kernelspec": {
   "display_name": "Python 3",
   "language": "python",
   "name": "python3"
  },
  "language_info": {
   "codemirror_mode": {
    "name": "ipython",
    "version": 3
   },
   "file_extension": ".py",
   "mimetype": "text/x-python",
   "name": "python",
   "nbconvert_exporter": "python",
   "pygments_lexer": "ipython3",
   "version": "3.4.5"
  }
 },
 "nbformat": 4,
 "nbformat_minor": 2
}
