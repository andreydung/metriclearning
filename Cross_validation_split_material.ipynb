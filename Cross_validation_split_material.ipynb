{
 "cells": [
  {
   "cell_type": "code",
   "execution_count": 1,
   "metadata": {
    "collapsed": false
   },
   "outputs": [],
   "source": [
    "from visiprog.data import *\n",
    "from visiprog.metriclearning import *\n",
    "from visiprog.evaluate import *\n",
    "%matplotlib inline\n",
    "import numpy as np\n",
    "from visiprog.metric_learn.fda_visiprog import LFDA_VISIPROG\n",
    "\n",
    "from IPython.display import Image, display\n",
    "from sklearn.model_selection import train_test_split\n",
    "import pandas as pd\n",
    "\n",
    "import logging\n",
    "import sys\n",
    "logging.basicConfig(stream=sys.stdout, level=logging.INFO)\n"
   ]
  },
  {
   "cell_type": "code",
   "execution_count": 2,
   "metadata": {
    "collapsed": false
   },
   "outputs": [
    {
     "name": "stdout",
     "output_type": "stream",
     "text": [
      "(5245, 82)\n",
      "(5245,)\n"
     ]
    }
   ],
   "source": [
    "raw_feature = np.genfromtxt('visiprog/data/curetaliasfree.csv',delimiter=\",\")\n",
    "label_material = read_material_label()\n",
    "groups_VSP, N = read_VSP_label()\n",
    "\n",
    "print(raw_feature.shape)\n",
    "print(label_material.shape)"
   ]
  },
  {
   "cell_type": "code",
   "execution_count": 3,
   "metadata": {
    "collapsed": false
   },
   "outputs": [],
   "source": [
    "label_visiprog = np.zeros((N,))\n",
    "\n",
    "count = 0\n",
    "for g in groups_VSP:\n",
    "    label = False\n",
    "    \n",
    "    # check whether any entry in the group has been labelled yet\n",
    "    # if yes, then merge with that existing label\n",
    "    for i in g:\n",
    "        if label_visiprog[i] != 0:\n",
    "            label = label_visiprog[i]\n",
    "            break\n",
    "    \n",
    "    # if no, then create a new label\n",
    "    if label == False:\n",
    "        count += 1\n",
    "        label = count\n",
    "        \n",
    "    for i in g:\n",
    "        label_visiprog[i] = label\n"
   ]
  },
  {
   "cell_type": "code",
   "execution_count": 4,
   "metadata": {
    "collapsed": false
   },
   "outputs": [
    {
     "name": "stdout",
     "output_type": "stream",
     "text": [
      "INFO:visiprog.evaluate:Testing on separate test data\n",
      "INFO:visiprog.evaluate:Testing on separate test data\n",
      "INFO:visiprog.evaluate:Testing on separate test data\n",
      "INFO:visiprog.evaluate:Testing on separate test data\n",
      "INFO:visiprog.evaluate:Testing on separate test data\n",
      "INFO:visiprog.evaluate:Testing on separate test data\n",
      "INFO:visiprog.evaluate:Testing on separate test data\n",
      "INFO:visiprog.evaluate:Testing on separate test data\n",
      "INFO:visiprog.evaluate:Testing on separate test data\n",
      "INFO:visiprog.evaluate:Testing on separate test data\n",
      "INFO:visiprog.evaluate:Testing on separate test data\n",
      "INFO:visiprog.evaluate:Testing on separate test data\n",
      "INFO:visiprog.evaluate:Testing on separate test data\n",
      "INFO:visiprog.evaluate:Testing on separate test data\n",
      "INFO:visiprog.evaluate:Testing on separate test data\n",
      "INFO:visiprog.evaluate:Testing on separate test data\n",
      "INFO:visiprog.evaluate:Testing on separate test data\n",
      "INFO:visiprog.evaluate:Testing on separate test data\n",
      "INFO:visiprog.evaluate:Testing on separate test data\n",
      "INFO:visiprog.evaluate:Testing on separate test data\n"
     ]
    }
   ],
   "source": [
    "accuracy_vsp = []\n",
    "accuracy = []\n",
    "\n",
    "for i in range(10):\n",
    "    X_train, X_test, Y_mat_train, Y_mat_test, Y_VSP_train, Y_VSP_test = \\\n",
    "    train_test_split(raw_feature, label_material, label_visiprog, \\\n",
    "                     test_size=0.1, stratify=label_material)\n",
    "\n",
    "    model = LFDA()\n",
    "    model.fit(X_train, Y_mat_train)\n",
    "    X_mat_test = model.transform(X_test)\n",
    "    res = leave_one_sample_out(X_train, Y_mat_train, X_mat_test, Y_mat_test)\n",
    "    accuracy.append(res['accuracy'])\n",
    "\n",
    "    model_vsp = LFDA_VISIPROG()\n",
    "    model_vsp.fit(X_train, Y_VSP_train)\n",
    "    X_vsp_test = model_vsp.transform(X_test)\n",
    "    res_vsp = leave_one_sample_out(X_train, Y_mat_train, X_vsp_test, Y_mat_test)\n",
    "    accuracy_vsp.append(res_vsp['accuracy'])\n",
    "    \n",
    "    \n"
   ]
  },
  {
   "cell_type": "code",
   "execution_count": 9,
   "metadata": {
    "collapsed": false
   },
   "outputs": [
    {
     "data": {
      "text/html": [
       "<div>\n",
       "<table border=\"1\" class=\"dataframe\">\n",
       "  <thead>\n",
       "    <tr style=\"text-align: right;\">\n",
       "      <th></th>\n",
       "      <th>material</th>\n",
       "      <th>visiprog</th>\n",
       "    </tr>\n",
       "  </thead>\n",
       "  <tbody>\n",
       "    <tr>\n",
       "      <th>0</th>\n",
       "      <td>0.017143</td>\n",
       "      <td>0.017143</td>\n",
       "    </tr>\n",
       "    <tr>\n",
       "      <th>1</th>\n",
       "      <td>0.019048</td>\n",
       "      <td>0.019048</td>\n",
       "    </tr>\n",
       "    <tr>\n",
       "      <th>2</th>\n",
       "      <td>0.017143</td>\n",
       "      <td>0.017143</td>\n",
       "    </tr>\n",
       "    <tr>\n",
       "      <th>3</th>\n",
       "      <td>0.017143</td>\n",
       "      <td>0.017143</td>\n",
       "    </tr>\n",
       "    <tr>\n",
       "      <th>4</th>\n",
       "      <td>0.017143</td>\n",
       "      <td>0.017143</td>\n",
       "    </tr>\n",
       "    <tr>\n",
       "      <th>5</th>\n",
       "      <td>0.017143</td>\n",
       "      <td>0.017143</td>\n",
       "    </tr>\n",
       "    <tr>\n",
       "      <th>6</th>\n",
       "      <td>0.017143</td>\n",
       "      <td>0.017143</td>\n",
       "    </tr>\n",
       "    <tr>\n",
       "      <th>7</th>\n",
       "      <td>0.019048</td>\n",
       "      <td>0.019048</td>\n",
       "    </tr>\n",
       "    <tr>\n",
       "      <th>8</th>\n",
       "      <td>0.017143</td>\n",
       "      <td>0.017143</td>\n",
       "    </tr>\n",
       "    <tr>\n",
       "      <th>9</th>\n",
       "      <td>0.017143</td>\n",
       "      <td>0.017143</td>\n",
       "    </tr>\n",
       "  </tbody>\n",
       "</table>\n",
       "</div>"
      ],
      "text/plain": [
       "   material  visiprog\n",
       "0  0.017143  0.017143\n",
       "1  0.019048  0.019048\n",
       "2  0.017143  0.017143\n",
       "3  0.017143  0.017143\n",
       "4  0.017143  0.017143\n",
       "5  0.017143  0.017143\n",
       "6  0.017143  0.017143\n",
       "7  0.019048  0.019048\n",
       "8  0.017143  0.017143\n",
       "9  0.017143  0.017143"
      ]
     },
     "metadata": {},
     "output_type": "display_data"
    }
   ],
   "source": [
    "df = pd.DataFrame({'visiprog':accuracy_vsp, 'material':accuracy})\n",
    "display(df)"
   ]
  },
  {
   "cell_type": "code",
   "execution_count": 6,
   "metadata": {
    "collapsed": false
   },
   "outputs": [
    {
     "data": {
      "text/plain": [
       "material    0.017524\n",
       "visiprog    0.017524\n",
       "dtype: float64"
      ]
     },
     "execution_count": 6,
     "metadata": {},
     "output_type": "execute_result"
    }
   ],
   "source": [
    "df.mean()"
   ]
  },
  {
   "cell_type": "code",
   "execution_count": 10,
   "metadata": {
    "collapsed": false
   },
   "outputs": [
    {
     "name": "stdout",
     "output_type": "stream",
     "text": [
      "[57 57 57 57 57 57 57 57 57 57 57 57 57 57 57 57 57 57 57 57 57 57 57 57 57\n",
      " 57 57 57 57 57 57 57 57 57 57 57 57 57 57 57 57 57 57 57 57 57 57 57 57 57\n",
      " 57 57 57 57 57 57 57 57 57 57 57 57 57 57 57 57 57 57 57 57 57 57 57 57 57\n",
      " 57 57 57 57 57 57 57 57 57 57 57 57 57 57 57 57 57 57 57 57 57 57 57 57 57\n",
      " 57 57 57 57 57 57 57 57 57 57 57 57 57 57 57 57 57 57 57 57 57 57 57 57 57\n",
      " 57 57 57 57 57 57 57 57 57 57 57 57 57 57 57 57 57 57 57 57 57 57 57 57 57\n",
      " 57 57 57 57 57 57 57 57 57 57 57 57 57 57 57 57 57 57 57 57 57 57 57 57 57\n",
      " 57 57 57 57 57 57 57 57 57 57 57 57 57 57 57 57 57 57 57 57 57 57 57 57 57\n",
      " 57 57 57 57 57 57 57 57 57 57 57 57 57 57 57 57 57 57 57 57 57 57 57 57 57\n",
      " 57 57 57 57 57 57 57 57 57 57 57 57 57 57 57 57 57 57 57 57 57 57 57 57 57\n",
      " 57 57 57 57 57 57 57 57 57 57 57 57 57 57 57 57 57 57 57 57 57 57 57 57 57\n",
      " 57 57 57 57 57 57 57 57 57 57 57 57 57 57 57 57 57 57 57 57 57 57 57 57 57\n",
      " 57 57 57 57 57 57 57 57 57 57 57 57 57 57 57 57 57 57 57 57 57 57 57 57 57\n",
      " 57 57 57 57 57 57 57 57 57 57 57 57 57 57 57 57 57 57 57 57 57 57 57 57 57\n",
      " 57 57 57 57 57 57 57 57 57 57 57 57 57 57 57 57 57 57 57 57 57 57 57 57 57\n",
      " 57 57 57 57 57 57 57 57 57 57 57 57 57 57 57 57 57 57 57 57 57 57 57 57 57\n",
      " 57 57 57 57 57 57 57 57 57 57 57 57 57 57 57 57 57 57 57 57 57 57 57 57 57\n",
      " 57 57 57 57 57 57 57 57 57 57 57 57 57 57 57 57 57 57 57 57 57 57 57 57 57\n",
      " 57 57 57 57 57 57 57 57 57 57 57 57 57 57 57 57 57 57 57 57 57 57 57 57 57\n",
      " 57 57 57 57 57 57 57 57 57 57 57 57 57 57 57 57 57 57 57 57 57 57 57 57 57\n",
      " 57 57 57 57 57 57 57 57 57 57 57 57 57 57 57 57 57 57 57 57 57 57 57 57 57]\n"
     ]
    }
   ],
   "source": [
    "print(res_vsp['prediction'])"
   ]
  },
  {
   "cell_type": "code",
   "execution_count": 8,
   "metadata": {
    "collapsed": false
   },
   "outputs": [
    {
     "name": "stdout",
     "output_type": "stream",
     "text": [
      "[49 18 27 59 36 36  4 17 13 18 48 41 49  1  1 34 25 44  6 46 33 32 30  1 44\n",
      " 31 11  7 10  7 29 35 36 21 24  1 16 20 27 18 30 12 13 31 17 40 41 43 14  2\n",
      "  9 48 23 34 13 48 30 29 47 48  5 41 32 35 41 17 16 21 20 10  7 59 39 35 17\n",
      " 31 52 47 21 46 34 60 15 43 12 42  4 53  3 38 58 30 42 55 42 47 14 25 34 20\n",
      " 33 49 47 36 10 44 28  1 33 11 60 52 19  6 44 16 27 20 47 38 45 15 52 49 38\n",
      "  9 43 28 29 42 30 12 44 50 37 57 10  5 14 15 34 58 16 58 43 36 40 23 36 27\n",
      "  7 37 29 58 50 11  2 43 59 35 35  5 10 55 40  7 21 31 18  8 23 29 30 51 34\n",
      " 32 33 38 30 21 43  8 50 24 59 33 23 15 26 37  5 46 44 60 24 42 24 16 34 18\n",
      "  1 33 55  4 40 51 44 46 28 52 34 19 28 15 55 11 19  3 59 51 44 17 25 15 59\n",
      " 60 46 12 38 37  0 11 33 35 59  6  1 47 60 18 11 23  9 32 16 57 19 32 51 53\n",
      " 34 24 13  4  2  7 49 26  6  8 40 20  5  3 44 37  8 13 48 25 36 29 26 53  2\n",
      " 48 14 50  9 19 49 39 53  9 24 21 26 51 51 25  6 58 55 40 27 19  3 33 17 32\n",
      " 20  0 31 50 39  7  2 37 12 39 28 41 15 14  4 38 20 26 10  8 38 48 19 36 48\n",
      " 37  6 42 21 30  3 39 11 41 53 28 55 14 32  5 39 45  3  3 52 50 39 32 28 60\n",
      " 58 17 60 11  4 49 32  5 52 43 13 53 23 45 42  8 46 40 45 49 58  4 58 28 12\n",
      " 24 29  6 38 52 23  1 11 37 57 12 37 49 42 43 31 21 13 14 45 25 16 52 27 45\n",
      " 23  0 52 57 41 51 46 26  7  8 25 55 10 24 60 13 18 19 40 41 46 10  3 50 10\n",
      " 11 57 31 20 26  0  0 12 27 18 47 57 13 43 32 53 35 52 24 48 25  0  6 41  7\n",
      " 14 31  8 40 48 42 51 50 27  8 14  1 28  8  5 55 27 36 55 20  9 59 58 17  9\n",
      " 53 46 15 17 50 31 45  2 39 47  2 59 53  6 60 18 47 26  9 12 39 51 38 25 45\n",
      "  9  2  2  3 30 53 21 19 35 23  5 15 26 39 57 33 38  2 45 57 35 57 29 29 36]\n"
     ]
    }
   ],
   "source": [
    "print(Y_mat_test)"
   ]
  },
  {
   "cell_type": "code",
   "execution_count": null,
   "metadata": {
    "collapsed": true
   },
   "outputs": [],
   "source": []
  }
 ],
 "metadata": {
  "kernelspec": {
   "display_name": "Python 3",
   "language": "python",
   "name": "python3"
  },
  "language_info": {
   "codemirror_mode": {
    "name": "ipython",
    "version": 3
   },
   "file_extension": ".py",
   "mimetype": "text/x-python",
   "name": "python",
   "nbconvert_exporter": "python",
   "pygments_lexer": "ipython3",
   "version": "3.4.5"
  }
 },
 "nbformat": 4,
 "nbformat_minor": 2
}
