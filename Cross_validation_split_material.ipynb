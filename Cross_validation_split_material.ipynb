{
 "cells": [
  {
   "cell_type": "code",
   "execution_count": 1,
   "metadata": {
    "collapsed": false
   },
   "outputs": [],
   "source": [
    "from visiprog.data import *\n",
    "from visiprog.metriclearning import *\n",
    "from visiprog.evaluate import *\n",
    "%matplotlib inline\n",
    "import numpy as np\n",
    "from visiprog.metric_learn.fda_visiprog import LFDA_VISIPROG\n",
    "from metric_learn import Covariance\n",
    "\n",
    "from IPython.display import Image, display\n",
    "from sklearn.model_selection import train_test_split\n",
    "import pandas as pd\n",
    "\n",
    "import logging\n",
    "import sys\n",
    "logging.basicConfig(stream=sys.stdout, level=logging.INFO)\n"
   ]
  },
  {
   "cell_type": "code",
   "execution_count": 2,
   "metadata": {
    "collapsed": false
   },
   "outputs": [
    {
     "name": "stdout",
     "output_type": "stream",
     "text": [
      "(5245, 82)\n",
      "(5245,)\n"
     ]
    }
   ],
   "source": [
    "raw_feature = np.genfromtxt('visiprog/data/curetaliasfree.csv',delimiter=\",\")\n",
    "label_material = read_material_label()\n",
    "groups_VSP, N = read_VSP_label()\n",
    "\n",
    "print(raw_feature.shape)\n",
    "print(label_material.shape)"
   ]
  },
  {
   "cell_type": "code",
   "execution_count": 3,
   "metadata": {
    "collapsed": false
   },
   "outputs": [],
   "source": [
    "label_visiprog = np.zeros((N,))\n",
    "\n",
    "count = 0\n",
    "for g in groups_VSP:\n",
    "    label = False\n",
    "    \n",
    "    # check whether any entry in the group has been labelled yet\n",
    "    # if yes, then merge with that existing label\n",
    "    for i in g:\n",
    "        if label_visiprog[i] != 0:\n",
    "            label = label_visiprog[i]\n",
    "            break\n",
    "    \n",
    "    # if no, then create a new label\n",
    "    if label == False:\n",
    "        count += 1\n",
    "        label = count\n",
    "        \n",
    "    for i in g:\n",
    "        label_visiprog[i] = label\n"
   ]
  },
  {
   "cell_type": "code",
   "execution_count": 4,
   "metadata": {
    "collapsed": false
   },
   "outputs": [],
   "source": [
    "model = Covariance()\n",
    "model.fit(raw_feature)\n",
    "X_STSIMM = model.transform(raw_feature)"
   ]
  },
  {
   "cell_type": "code",
   "execution_count": 7,
   "metadata": {
    "collapsed": false,
    "scrolled": true
   },
   "outputs": [
    {
     "name": "stdout",
     "output_type": "stream",
     "text": [
      "INFO:visiprog.evaluate:Nearest neighbor on separate test data\n",
      "INFO:visiprog.evaluate:Nearest neighbor on separate test data\n",
      "INFO:visiprog.evaluate:Nearest neighbor on separate test data\n",
      "INFO:visiprog.evaluate:Nearest neighbor on separate test data\n",
      "INFO:visiprog.evaluate:Nearest neighbor on separate test data\n",
      "INFO:visiprog.evaluate:Nearest neighbor on separate test data\n",
      "INFO:visiprog.evaluate:Nearest neighbor on separate test data\n",
      "INFO:visiprog.evaluate:Nearest neighbor on separate test data\n",
      "INFO:visiprog.evaluate:Nearest neighbor on separate test data\n",
      "INFO:visiprog.evaluate:Nearest neighbor on separate test data\n",
      "INFO:visiprog.evaluate:Nearest neighbor on separate test data\n",
      "INFO:visiprog.evaluate:Nearest neighbor on separate test data\n",
      "INFO:visiprog.evaluate:Nearest neighbor on separate test data\n",
      "INFO:visiprog.evaluate:Nearest neighbor on separate test data\n",
      "INFO:visiprog.evaluate:Nearest neighbor on separate test data\n",
      "INFO:visiprog.evaluate:Nearest neighbor on separate test data\n",
      "INFO:visiprog.evaluate:Nearest neighbor on separate test data\n",
      "INFO:visiprog.evaluate:Nearest neighbor on separate test data\n",
      "INFO:visiprog.evaluate:Nearest neighbor on separate test data\n",
      "INFO:visiprog.evaluate:Nearest neighbor on separate test data\n",
      "INFO:visiprog.evaluate:Nearest neighbor on separate test data\n",
      "INFO:visiprog.evaluate:Nearest neighbor on separate test data\n",
      "INFO:visiprog.evaluate:Nearest neighbor on separate test data\n",
      "INFO:visiprog.evaluate:Nearest neighbor on separate test data\n",
      "INFO:visiprog.evaluate:Nearest neighbor on separate test data\n",
      "INFO:visiprog.evaluate:Nearest neighbor on separate test data\n",
      "INFO:visiprog.evaluate:Nearest neighbor on separate test data\n",
      "INFO:visiprog.evaluate:Nearest neighbor on separate test data\n",
      "INFO:visiprog.evaluate:Nearest neighbor on separate test data\n",
      "INFO:visiprog.evaluate:Nearest neighbor on separate test data\n"
     ]
    }
   ],
   "source": [
    "accuracy_STSIMM = []\n",
    "accuracy_vsp = []\n",
    "accuracy_mat = []\n",
    "\n",
    "for i in range(10):\n",
    "    try:\n",
    "        X_train, X_test, X_STSIMM_train, X_STSIMM_test, Y_mat_train, Y_mat_test, Y_VSP_train, Y_VSP_test = \\\n",
    "        train_test_split(raw_feature, X_STSIMM, label_material, label_visiprog, \\\n",
    "                         test_size=0.5, stratify=label_material)\n",
    "\n",
    "        res = leave_one_sample_out(X_STSIMM_train, Y_mat_train, X_STSIMM_test, Y_mat_test)\n",
    "        accuracy_STSIMM.append(res['accuracy'])\n",
    "\n",
    "        model_mat = LFDA()\n",
    "        model_mat.fit(X_train, Y_mat_train)\n",
    "        X_mat_train = model_mat.transform(X_train)\n",
    "        X_mat_test = model_mat.transform(X_test)       \n",
    "        res = leave_one_sample_out(X_mat_train, Y_mat_train, X_mat_test, Y_mat_test)\n",
    "        accuracy_mat.append(res['accuracy'])\n",
    "\n",
    "        model_vsp = LFDA_VISIPROG()\n",
    "        model_vsp.fit(X_train, Y_VSP_train)\n",
    "        X_vsp_train = model_vsp.transform(X_train)\n",
    "        X_vsp_test = model_vsp.transform(X_test)\n",
    "        res_vsp = leave_one_sample_out(X_vsp_train, Y_mat_train, X_vsp_test, Y_mat_test)\n",
    "        accuracy_vsp.append(res_vsp['accuracy'])\n",
    "    except:\n",
    "        print(\"Skipping trial {}\".format(i))\n",
    "        pass\n"
   ]
  },
  {
   "cell_type": "code",
   "execution_count": 8,
   "metadata": {
    "collapsed": false
   },
   "outputs": [
    {
     "data": {
      "text/html": [
       "<div>\n",
       "<table border=\"1\" class=\"dataframe\">\n",
       "  <thead>\n",
       "    <tr style=\"text-align: right;\">\n",
       "      <th></th>\n",
       "      <th>STSTIMM</th>\n",
       "      <th>material</th>\n",
       "      <th>visiprog</th>\n",
       "    </tr>\n",
       "  </thead>\n",
       "  <tbody>\n",
       "    <tr>\n",
       "      <th>0</th>\n",
       "      <td>0.818147</td>\n",
       "      <td>0.982844</td>\n",
       "      <td>0.980938</td>\n",
       "    </tr>\n",
       "    <tr>\n",
       "      <th>1</th>\n",
       "      <td>0.818528</td>\n",
       "      <td>0.981700</td>\n",
       "      <td>0.977507</td>\n",
       "    </tr>\n",
       "    <tr>\n",
       "      <th>2</th>\n",
       "      <td>0.822341</td>\n",
       "      <td>0.978650</td>\n",
       "      <td>0.971407</td>\n",
       "    </tr>\n",
       "    <tr>\n",
       "      <th>3</th>\n",
       "      <td>0.811285</td>\n",
       "      <td>0.981700</td>\n",
       "      <td>0.974075</td>\n",
       "    </tr>\n",
       "    <tr>\n",
       "      <th>4</th>\n",
       "      <td>0.812047</td>\n",
       "      <td>0.980938</td>\n",
       "      <td>0.974075</td>\n",
       "    </tr>\n",
       "    <tr>\n",
       "      <th>5</th>\n",
       "      <td>0.811285</td>\n",
       "      <td>0.975982</td>\n",
       "      <td>0.974457</td>\n",
       "    </tr>\n",
       "    <tr>\n",
       "      <th>6</th>\n",
       "      <td>0.813191</td>\n",
       "      <td>0.973694</td>\n",
       "      <td>0.972551</td>\n",
       "    </tr>\n",
       "    <tr>\n",
       "      <th>7</th>\n",
       "      <td>0.806710</td>\n",
       "      <td>0.975600</td>\n",
       "      <td>0.972932</td>\n",
       "    </tr>\n",
       "    <tr>\n",
       "      <th>8</th>\n",
       "      <td>0.827297</td>\n",
       "      <td>0.984750</td>\n",
       "      <td>0.975600</td>\n",
       "    </tr>\n",
       "    <tr>\n",
       "      <th>9</th>\n",
       "      <td>0.821960</td>\n",
       "      <td>0.987038</td>\n",
       "      <td>0.979794</td>\n",
       "    </tr>\n",
       "  </tbody>\n",
       "</table>\n",
       "</div>"
      ],
      "text/plain": [
       "    STSTIMM  material  visiprog\n",
       "0  0.818147  0.982844  0.980938\n",
       "1  0.818528  0.981700  0.977507\n",
       "2  0.822341  0.978650  0.971407\n",
       "3  0.811285  0.981700  0.974075\n",
       "4  0.812047  0.980938  0.974075\n",
       "5  0.811285  0.975982  0.974457\n",
       "6  0.813191  0.973694  0.972551\n",
       "7  0.806710  0.975600  0.972932\n",
       "8  0.827297  0.984750  0.975600\n",
       "9  0.821960  0.987038  0.979794"
      ]
     },
     "metadata": {},
     "output_type": "display_data"
    },
    {
     "data": {
      "text/plain": [
       "STSTIMM     0.816279\n",
       "material    0.980290\n",
       "visiprog    0.975334\n",
       "dtype: float64"
      ]
     },
     "metadata": {},
     "output_type": "display_data"
    }
   ],
   "source": [
    "df = pd.DataFrame({'visiprog':accuracy_vsp, 'material':accuracy_mat, 'STSTIMM':accuracy_STSIMM})\n",
    "display(df)\n",
    "display(df.mean())"
   ]
  },
  {
   "cell_type": "code",
   "execution_count": null,
   "metadata": {
    "collapsed": false
   },
   "outputs": [],
   "source": [
    "print(Y_mat_test)"
   ]
  },
  {
   "cell_type": "code",
   "execution_count": null,
   "metadata": {
    "collapsed": true
   },
   "outputs": [],
   "source": []
  }
 ],
 "metadata": {
  "kernelspec": {
   "display_name": "Python 3",
   "language": "python",
   "name": "python3"
  },
  "language_info": {
   "codemirror_mode": {
    "name": "ipython",
    "version": 3
   },
   "file_extension": ".py",
   "mimetype": "text/x-python",
   "name": "python",
   "nbconvert_exporter": "python",
   "pygments_lexer": "ipython3",
   "version": "3.4.5"
  }
 },
 "nbformat": 4,
 "nbformat_minor": 2
}
