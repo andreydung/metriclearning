{
 "cells": [
  {
   "cell_type": "code",
   "execution_count": 1,
   "metadata": {
    "collapsed": false
   },
   "outputs": [],
   "source": [
    "from visiprog.data import *\n",
    "from visiprog.metriclearning import *\n",
    "from visiprog.evaluate import *\n",
    "%matplotlib inline\n",
    "import numpy as np\n",
    "from visiprog.metric_learn.fda_visiprog import LFDA_VISIPROG\n",
    "\n",
    "from IPython.display import Image, display\n",
    "from sklearn.model_selection import train_test_split\n",
    "import pandas as pd\n",
    "\n",
    "import logging\n",
    "import sys\n",
    "logging.basicConfig(stream=sys.stdout, level=logging.INFO)\n"
   ]
  },
  {
   "cell_type": "code",
   "execution_count": 2,
   "metadata": {
    "collapsed": false
   },
   "outputs": [
    {
     "name": "stdout",
     "output_type": "stream",
     "text": [
      "(5245, 82)\n",
      "(5245,)\n"
     ]
    }
   ],
   "source": [
    "raw_feature = np.genfromtxt('visiprog/data/curetaliasfree.csv',delimiter=\",\")\n",
    "label_material = read_material_label()\n",
    "groups_VSP, N = read_VSP_label()\n",
    "\n",
    "print(raw_feature.shape)\n",
    "print(label_material.shape)"
   ]
  },
  {
   "cell_type": "code",
   "execution_count": 3,
   "metadata": {
    "collapsed": false
   },
   "outputs": [],
   "source": [
    "label_visiprog = np.zeros((N,))\n",
    "\n",
    "count = 0\n",
    "for g in groups_VSP:\n",
    "    label = False\n",
    "    \n",
    "    # check whether any entry in the group has been labelled yet\n",
    "    # if yes, then merge with that existing label\n",
    "    for i in g:\n",
    "        if label_visiprog[i] != 0:\n",
    "            label = label_visiprog[i]\n",
    "            break\n",
    "    \n",
    "    # if no, then create a new label\n",
    "    if label == False:\n",
    "        count += 1\n",
    "        label = count\n",
    "        \n",
    "    for i in g:\n",
    "        label_visiprog[i] = label\n"
   ]
  },
  {
   "cell_type": "code",
   "execution_count": 4,
   "metadata": {
    "collapsed": false,
    "scrolled": false
   },
   "outputs": [
    {
     "name": "stdout",
     "output_type": "stream",
     "text": [
      "INFO:visiprog.evaluate:Nearest neighbor on separate test data\n",
      "INFO:visiprog.evaluate:Nearest neighbor on separate test data\n",
      "INFO:visiprog.evaluate:Nearest neighbor on separate test data\n",
      "INFO:visiprog.evaluate:Nearest neighbor on separate test data\n",
      "INFO:visiprog.evaluate:Nearest neighbor on separate test data\n",
      "INFO:visiprog.evaluate:Nearest neighbor on separate test data\n",
      "INFO:visiprog.evaluate:Nearest neighbor on separate test data\n",
      "INFO:visiprog.evaluate:Nearest neighbor on separate test data\n",
      "INFO:visiprog.evaluate:Nearest neighbor on separate test data\n",
      "INFO:visiprog.evaluate:Nearest neighbor on separate test data\n",
      "INFO:visiprog.evaluate:Nearest neighbor on separate test data\n",
      "INFO:visiprog.evaluate:Nearest neighbor on separate test data\n",
      "INFO:visiprog.evaluate:Nearest neighbor on separate test data\n",
      "INFO:visiprog.evaluate:Nearest neighbor on separate test data\n",
      "INFO:visiprog.evaluate:Nearest neighbor on separate test data\n",
      "INFO:visiprog.evaluate:Nearest neighbor on separate test data\n",
      "INFO:visiprog.evaluate:Nearest neighbor on separate test data\n",
      "INFO:visiprog.evaluate:Nearest neighbor on separate test data\n",
      "INFO:visiprog.evaluate:Nearest neighbor on separate test data\n",
      "INFO:visiprog.evaluate:Nearest neighbor on separate test data\n",
      "INFO:visiprog.evaluate:Nearest neighbor on separate test data\n",
      "INFO:visiprog.evaluate:Nearest neighbor on separate test data\n",
      "INFO:visiprog.evaluate:Nearest neighbor on separate test data\n",
      "INFO:visiprog.evaluate:Nearest neighbor on separate test data\n",
      "INFO:visiprog.evaluate:Nearest neighbor on separate test data\n",
      "INFO:visiprog.evaluate:Nearest neighbor on separate test data\n",
      "INFO:visiprog.evaluate:Nearest neighbor on separate test data\n",
      "INFO:visiprog.evaluate:Nearest neighbor on separate test data\n",
      "INFO:visiprog.evaluate:Nearest neighbor on separate test data\n",
      "INFO:visiprog.evaluate:Nearest neighbor on separate test data\n",
      "INFO:visiprog.evaluate:Nearest neighbor on separate test data\n",
      "INFO:visiprog.evaluate:Nearest neighbor on separate test data\n",
      "INFO:visiprog.evaluate:Nearest neighbor on separate test data\n",
      "INFO:visiprog.evaluate:Nearest neighbor on separate test data\n",
      "INFO:visiprog.evaluate:Nearest neighbor on separate test data\n",
      "INFO:visiprog.evaluate:Nearest neighbor on separate test data\n",
      "INFO:visiprog.evaluate:Nearest neighbor on separate test data\n",
      "INFO:visiprog.evaluate:Nearest neighbor on separate test data\n",
      "INFO:visiprog.evaluate:Nearest neighbor on separate test data\n",
      "INFO:visiprog.evaluate:Nearest neighbor on separate test data\n"
     ]
    }
   ],
   "source": [
    "accuracy_vsp = []\n",
    "accuracy = []\n",
    "\n",
    "for i in range(20):\n",
    "    X_train, X_test, Y_mat_train, Y_mat_test, Y_VSP_train, Y_VSP_test = \\\n",
    "    train_test_split(raw_feature, label_material, label_visiprog, \\\n",
    "                     test_size=0.7, stratify=label_material)\n",
    "\n",
    "    model = LFDA()\n",
    "    model.fit(X_train, Y_mat_train)\n",
    "    X_mat_train = model.transform(X_train)\n",
    "    X_mat_test = model.transform(X_test)\n",
    "        \n",
    "    res = leave_one_sample_out(X_mat_train, Y_mat_train, X_mat_test, Y_mat_test)\n",
    "    accuracy.append(res['accuracy'])\n",
    "\n",
    "    model_vsp = LFDA_VISIPROG()\n",
    "    model_vsp.fit(X_train, Y_VSP_train)\n",
    "    X_vsp_train = model_vsp.transform(X_train)\n",
    "    X_vsp_test = model_vsp.transform(X_test)\n",
    "    res_vsp = leave_one_sample_out(X_vsp_train, Y_mat_train, X_vsp_test, Y_mat_test)\n",
    "    accuracy_vsp.append(res_vsp['accuracy'])\n",
    "        \n"
   ]
  },
  {
   "cell_type": "code",
   "execution_count": 5,
   "metadata": {
    "collapsed": false
   },
   "outputs": [
    {
     "data": {
      "text/html": [
       "<div>\n",
       "<table border=\"1\" class=\"dataframe\">\n",
       "  <thead>\n",
       "    <tr style=\"text-align: right;\">\n",
       "      <th></th>\n",
       "      <th>material</th>\n",
       "      <th>visiprog</th>\n",
       "    </tr>\n",
       "  </thead>\n",
       "  <tbody>\n",
       "    <tr>\n",
       "      <th>0</th>\n",
       "      <td>0.960512</td>\n",
       "      <td>0.894063</td>\n",
       "    </tr>\n",
       "    <tr>\n",
       "      <th>1</th>\n",
       "      <td>0.960240</td>\n",
       "      <td>0.908497</td>\n",
       "    </tr>\n",
       "    <tr>\n",
       "      <th>2</th>\n",
       "      <td>0.949346</td>\n",
       "      <td>0.923203</td>\n",
       "    </tr>\n",
       "    <tr>\n",
       "      <th>3</th>\n",
       "      <td>0.964869</td>\n",
       "      <td>0.918845</td>\n",
       "    </tr>\n",
       "    <tr>\n",
       "      <th>4</th>\n",
       "      <td>0.962963</td>\n",
       "      <td>0.913943</td>\n",
       "    </tr>\n",
       "    <tr>\n",
       "      <th>5</th>\n",
       "      <td>0.964869</td>\n",
       "      <td>0.893519</td>\n",
       "    </tr>\n",
       "    <tr>\n",
       "      <th>6</th>\n",
       "      <td>0.963780</td>\n",
       "      <td>0.907680</td>\n",
       "    </tr>\n",
       "    <tr>\n",
       "      <th>7</th>\n",
       "      <td>0.967048</td>\n",
       "      <td>0.901961</td>\n",
       "    </tr>\n",
       "    <tr>\n",
       "      <th>8</th>\n",
       "      <td>0.961057</td>\n",
       "      <td>0.922113</td>\n",
       "    </tr>\n",
       "    <tr>\n",
       "      <th>9</th>\n",
       "      <td>0.960512</td>\n",
       "      <td>0.928105</td>\n",
       "    </tr>\n",
       "    <tr>\n",
       "      <th>10</th>\n",
       "      <td>0.964325</td>\n",
       "      <td>0.902233</td>\n",
       "    </tr>\n",
       "    <tr>\n",
       "      <th>11</th>\n",
       "      <td>0.959423</td>\n",
       "      <td>0.902778</td>\n",
       "    </tr>\n",
       "    <tr>\n",
       "      <th>12</th>\n",
       "      <td>0.960512</td>\n",
       "      <td>0.888344</td>\n",
       "    </tr>\n",
       "    <tr>\n",
       "      <th>13</th>\n",
       "      <td>0.964325</td>\n",
       "      <td>0.884532</td>\n",
       "    </tr>\n",
       "    <tr>\n",
       "      <th>14</th>\n",
       "      <td>0.962691</td>\n",
       "      <td>0.915033</td>\n",
       "    </tr>\n",
       "    <tr>\n",
       "      <th>15</th>\n",
       "      <td>0.949619</td>\n",
       "      <td>0.903867</td>\n",
       "    </tr>\n",
       "    <tr>\n",
       "      <th>16</th>\n",
       "      <td>0.968137</td>\n",
       "      <td>0.917756</td>\n",
       "    </tr>\n",
       "    <tr>\n",
       "      <th>17</th>\n",
       "      <td>0.962691</td>\n",
       "      <td>0.898693</td>\n",
       "    </tr>\n",
       "    <tr>\n",
       "      <th>18</th>\n",
       "      <td>0.965686</td>\n",
       "      <td>0.911220</td>\n",
       "    </tr>\n",
       "    <tr>\n",
       "      <th>19</th>\n",
       "      <td>0.964597</td>\n",
       "      <td>0.924020</td>\n",
       "    </tr>\n",
       "  </tbody>\n",
       "</table>\n",
       "</div>"
      ],
      "text/plain": [
       "    material  visiprog\n",
       "0   0.960512  0.894063\n",
       "1   0.960240  0.908497\n",
       "2   0.949346  0.923203\n",
       "3   0.964869  0.918845\n",
       "4   0.962963  0.913943\n",
       "5   0.964869  0.893519\n",
       "6   0.963780  0.907680\n",
       "7   0.967048  0.901961\n",
       "8   0.961057  0.922113\n",
       "9   0.960512  0.928105\n",
       "10  0.964325  0.902233\n",
       "11  0.959423  0.902778\n",
       "12  0.960512  0.888344\n",
       "13  0.964325  0.884532\n",
       "14  0.962691  0.915033\n",
       "15  0.949619  0.903867\n",
       "16  0.968137  0.917756\n",
       "17  0.962691  0.898693\n",
       "18  0.965686  0.911220\n",
       "19  0.964597  0.924020"
      ]
     },
     "metadata": {},
     "output_type": "display_data"
    },
    {
     "data": {
      "text/plain": [
       "material    0.96186\n",
       "visiprog    0.90802\n",
       "dtype: float64"
      ]
     },
     "metadata": {},
     "output_type": "display_data"
    }
   ],
   "source": [
    "df = pd.DataFrame({'visiprog':accuracy_vsp, 'material':accuracy})\n",
    "display(df)\n",
    "display(df.mean())"
   ]
  },
  {
   "cell_type": "code",
   "execution_count": 6,
   "metadata": {
    "collapsed": false
   },
   "outputs": [
    {
     "name": "stdout",
     "output_type": "stream",
     "text": [
      "[55 18  8 ...,  8 44 53]\n"
     ]
    }
   ],
   "source": [
    "print(Y_mat_test)"
   ]
  },
  {
   "cell_type": "code",
   "execution_count": null,
   "metadata": {
    "collapsed": true
   },
   "outputs": [],
   "source": []
  }
 ],
 "metadata": {
  "kernelspec": {
   "display_name": "Python 3",
   "language": "python",
   "name": "python3"
  },
  "language_info": {
   "codemirror_mode": {
    "name": "ipython",
    "version": 3
   },
   "file_extension": ".py",
   "mimetype": "text/x-python",
   "name": "python",
   "nbconvert_exporter": "python",
   "pygments_lexer": "ipython3",
   "version": "3.4.5"
  }
 },
 "nbformat": 4,
 "nbformat_minor": 2
}
