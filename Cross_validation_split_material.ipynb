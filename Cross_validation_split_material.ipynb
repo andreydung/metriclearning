{
 "cells": [
  {
   "cell_type": "code",
   "execution_count": 6,
   "metadata": {
    "collapsed": false
   },
   "outputs": [],
   "source": [
    "from visiprog.data import *\n",
    "from visiprog.metriclearning import *\n",
    "from visiprog.evaluate import *\n",
    "%matplotlib inline\n",
    "import numpy as np\n",
    "from visiprog.metric_learn.fda_visiprog import LFDA_VISIPROG\n",
    "from metric_learn import Covariance\n",
    "\n",
    "from IPython.display import Image, display\n",
    "from sklearn.model_selection import train_test_split\n",
    "import pandas as pd\n",
    "\n",
    "import logging\n",
    "import sys\n",
    "logging.basicConfig(stream=sys.stdout, level=logging.INFO)\n"
   ]
  },
  {
   "cell_type": "code",
   "execution_count": 7,
   "metadata": {
    "collapsed": false
   },
   "outputs": [
    {
     "name": "stdout",
     "output_type": "stream",
     "text": [
      "(5245, 82)\n",
      "(5245,)\n"
     ]
    }
   ],
   "source": [
    "raw_feature = np.genfromtxt('visiprog/data/curetaliasfree.csv',delimiter=\",\")\n",
    "label_material = read_material_label()\n",
    "groups_VSP, N = read_VSP_group(pappas_only=False)\n",
    "\n",
    "print(raw_feature.shape)\n",
    "print(label_material.shape)"
   ]
  },
  {
   "cell_type": "code",
   "execution_count": 8,
   "metadata": {
    "collapsed": false
   },
   "outputs": [],
   "source": [
    "label_visiprog = get_VSP_label(groups_VSP, raw_feature.shape[0])"
   ]
  },
  {
   "cell_type": "code",
   "execution_count": 9,
   "metadata": {
    "collapsed": false
   },
   "outputs": [],
   "source": [
    "model = Covariance()\n",
    "model.fit(raw_feature)\n",
    "X_STSIMM = model.transform(raw_feature)"
   ]
  },
  {
   "cell_type": "code",
   "execution_count": 18,
   "metadata": {
    "collapsed": false,
    "scrolled": false
   },
   "outputs": [
    {
     "name": "stdout",
     "output_type": "stream",
     "text": [
      "INFO:visiprog.evaluate:Nearest neighbor on separate test data\n",
      "INFO:visiprog.evaluate:Nearest neighbor on same data\n",
      "INFO:visiprog.evaluate:Nearest neighbor on same data\n",
      "INFO:visiprog.evaluate:Nearest neighbor on same data\n",
      "INFO:visiprog.evaluate:Nearest neighbor on separate test data\n",
      "INFO:visiprog.evaluate:Nearest neighbor on same data\n",
      "INFO:visiprog.evaluate:Nearest neighbor on same data\n",
      "INFO:visiprog.evaluate:Nearest neighbor on same data\n",
      "INFO:visiprog.evaluate:Nearest neighbor on separate test data\n",
      "INFO:visiprog.evaluate:Nearest neighbor on same data\n",
      "INFO:visiprog.evaluate:Nearest neighbor on same data\n",
      "INFO:visiprog.evaluate:Nearest neighbor on same data\n",
      "INFO:visiprog.evaluate:Nearest neighbor on separate test data\n",
      "INFO:visiprog.evaluate:Nearest neighbor on same data\n",
      "INFO:visiprog.evaluate:Nearest neighbor on same data\n",
      "INFO:visiprog.evaluate:Nearest neighbor on same data\n",
      "INFO:visiprog.evaluate:Nearest neighbor on separate test data\n",
      "INFO:visiprog.evaluate:Nearest neighbor on same data\n",
      "INFO:visiprog.evaluate:Nearest neighbor on same data\n",
      "INFO:visiprog.evaluate:Nearest neighbor on same data\n",
      "INFO:visiprog.evaluate:Nearest neighbor on separate test data\n",
      "INFO:visiprog.evaluate:Nearest neighbor on same data\n",
      "INFO:visiprog.evaluate:Nearest neighbor on same data\n",
      "INFO:visiprog.evaluate:Nearest neighbor on same data\n",
      "INFO:visiprog.evaluate:Nearest neighbor on separate test data\n",
      "INFO:visiprog.evaluate:Nearest neighbor on same data\n",
      "INFO:visiprog.evaluate:Nearest neighbor on same data\n",
      "INFO:visiprog.evaluate:Nearest neighbor on same data\n",
      "INFO:visiprog.evaluate:Nearest neighbor on separate test data\n",
      "INFO:visiprog.evaluate:Nearest neighbor on same data\n",
      "INFO:visiprog.evaluate:Nearest neighbor on same data\n",
      "INFO:visiprog.evaluate:Nearest neighbor on same data\n",
      "INFO:visiprog.evaluate:Nearest neighbor on separate test data\n",
      "INFO:visiprog.evaluate:Nearest neighbor on same data\n",
      "INFO:visiprog.evaluate:Nearest neighbor on same data\n",
      "INFO:visiprog.evaluate:Nearest neighbor on same data\n",
      "INFO:visiprog.evaluate:Nearest neighbor on separate test data\n",
      "INFO:visiprog.evaluate:Nearest neighbor on same data\n",
      "INFO:visiprog.evaluate:Nearest neighbor on same data\n",
      "INFO:visiprog.evaluate:Nearest neighbor on same data\n"
     ]
    }
   ],
   "source": [
    "accuracy_STSIMM = []\n",
    "accuracy_mat = []\n",
    "accuracy_vsp_original = []\n",
    "accuracy_vsp = []\n",
    "\n",
    "for i in range(10):\n",
    "    X_train, X_test, X_STSIMM_train, X_STSIMM_test, Y_mat_train, Y_mat_test, Y_VSP_train, Y_VSP_test = \\\n",
    "    train_test_split(raw_feature, X_STSIMM, label_material, label_visiprog, \\\n",
    "                     test_size=0.65, stratify=label_material)\n",
    "\n",
    "    res = leave_one_sample_out(X_STSIMM_train, Y_mat_train, X_STSIMM_test, Y_mat_test)\n",
    "    accuracy_STSIMM.append(res['accuracy'])\n",
    "\n",
    "    model = LFDA()\n",
    "    try:\n",
    "        model.fit(X_train, Y_mat_train)\n",
    "        X_mat_test = model.transform(X_test)\n",
    "        res = leave_one_sample_out(X_mat_test, Y_mat_test)\n",
    "        accuracy_mat.append(res['accuracy'])\n",
    "    except Exception as e:\n",
    "        acuracy_mat.append(np.nan)\n",
    "\n",
    "    model_vsp_original = LFDA()\n",
    "    try:\n",
    "        model_vsp_original.fit(X_train, Y_VSP_train)\n",
    "        X_vsp_original_test = model_vsp_original.transform(X_test)\n",
    "        res_vsp_original = leave_one_sample_out(X_vsp_original_test, Y_mat_test)\n",
    "        accuracy_vsp_original.append(res_vsp_original['accuracy'])\n",
    "    except Exception as e:\n",
    "        accuracy_vsp_original.append(np.nan)\n",
    "\n",
    "    model_vsp = LFDA_VISIPROG()\n",
    "    try:\n",
    "        model_vsp.fit(X_train, Y_VSP_train)\n",
    "        X_vsp_test = model_vsp.transform(X_test)\n",
    "        res_vsp = leave_one_sample_out(X_vsp_test, Y_mat_test)\n",
    "        accuracy_vsp.append(res_vsp['accuracy'])\n",
    "    except Exception as e:\n",
    "        accuracy_vsp.append(np.nan)"
   ]
  },
  {
   "cell_type": "code",
   "execution_count": 19,
   "metadata": {
    "collapsed": false
   },
   "outputs": [
    {
     "data": {
      "text/html": [
       "<div>\n",
       "<table border=\"1\" class=\"dataframe\">\n",
       "  <thead>\n",
       "    <tr style=\"text-align: right;\">\n",
       "      <th></th>\n",
       "      <th>STSIMM</th>\n",
       "      <th>material</th>\n",
       "      <th>visiprog_original</th>\n",
       "      <th>visiprog</th>\n",
       "    </tr>\n",
       "  </thead>\n",
       "  <tbody>\n",
       "    <tr>\n",
       "      <th>0</th>\n",
       "      <td>0.781232</td>\n",
       "      <td>0.985044</td>\n",
       "      <td>0.960997</td>\n",
       "      <td>0.978592</td>\n",
       "    </tr>\n",
       "    <tr>\n",
       "      <th>1</th>\n",
       "      <td>0.788856</td>\n",
       "      <td>0.985044</td>\n",
       "      <td>0.967742</td>\n",
       "      <td>0.982405</td>\n",
       "    </tr>\n",
       "    <tr>\n",
       "      <th>2</th>\n",
       "      <td>0.783578</td>\n",
       "      <td>0.980645</td>\n",
       "      <td>0.960997</td>\n",
       "      <td>0.977419</td>\n",
       "    </tr>\n",
       "    <tr>\n",
       "      <th>3</th>\n",
       "      <td>0.786217</td>\n",
       "      <td>0.987977</td>\n",
       "      <td>0.971261</td>\n",
       "      <td>0.981818</td>\n",
       "    </tr>\n",
       "    <tr>\n",
       "      <th>4</th>\n",
       "      <td>0.775953</td>\n",
       "      <td>0.983578</td>\n",
       "      <td>0.954252</td>\n",
       "      <td>0.979472</td>\n",
       "    </tr>\n",
       "    <tr>\n",
       "      <th>5</th>\n",
       "      <td>0.774487</td>\n",
       "      <td>0.986804</td>\n",
       "      <td>0.963636</td>\n",
       "      <td>0.982698</td>\n",
       "    </tr>\n",
       "    <tr>\n",
       "      <th>6</th>\n",
       "      <td>0.778299</td>\n",
       "      <td>0.987683</td>\n",
       "      <td>0.965982</td>\n",
       "      <td>0.979765</td>\n",
       "    </tr>\n",
       "    <tr>\n",
       "      <th>7</th>\n",
       "      <td>0.779472</td>\n",
       "      <td>0.982991</td>\n",
       "      <td>0.961877</td>\n",
       "      <td>0.979765</td>\n",
       "    </tr>\n",
       "    <tr>\n",
       "      <th>8</th>\n",
       "      <td>0.784164</td>\n",
       "      <td>0.983871</td>\n",
       "      <td>0.928446</td>\n",
       "      <td>0.971848</td>\n",
       "    </tr>\n",
       "    <tr>\n",
       "      <th>9</th>\n",
       "      <td>0.775953</td>\n",
       "      <td>0.982405</td>\n",
       "      <td>0.963636</td>\n",
       "      <td>0.974487</td>\n",
       "    </tr>\n",
       "    <tr>\n",
       "      <th>average</th>\n",
       "      <td>0.780821</td>\n",
       "      <td>0.984604</td>\n",
       "      <td>0.959883</td>\n",
       "      <td>0.978827</td>\n",
       "    </tr>\n",
       "  </tbody>\n",
       "</table>\n",
       "</div>"
      ],
      "text/plain": [
       "           STSIMM  material  visiprog_original  visiprog\n",
       "0        0.781232  0.985044           0.960997  0.978592\n",
       "1        0.788856  0.985044           0.967742  0.982405\n",
       "2        0.783578  0.980645           0.960997  0.977419\n",
       "3        0.786217  0.987977           0.971261  0.981818\n",
       "4        0.775953  0.983578           0.954252  0.979472\n",
       "5        0.774487  0.986804           0.963636  0.982698\n",
       "6        0.778299  0.987683           0.965982  0.979765\n",
       "7        0.779472  0.982991           0.961877  0.979765\n",
       "8        0.784164  0.983871           0.928446  0.971848\n",
       "9        0.775953  0.982405           0.963636  0.974487\n",
       "average  0.780821  0.984604           0.959883  0.978827"
      ]
     },
     "metadata": {},
     "output_type": "display_data"
    }
   ],
   "source": [
    "df = pd.DataFrame({'visiprog':accuracy_vsp, 'material':accuracy_mat, 'STSIMM':accuracy_STSIMM, \\\n",
    "       'visiprog_original':accuracy_vsp_original}, columns=['STSIMM','material','visiprog_original','visiprog'])\n",
    "df.loc['average'] = df.mean()\n",
    "display(df)"
   ]
  },
  {
   "cell_type": "code",
   "execution_count": null,
   "metadata": {
    "collapsed": false
   },
   "outputs": [],
   "source": [
    "print(Y_mat_test)"
   ]
  },
  {
   "cell_type": "code",
   "execution_count": null,
   "metadata": {
    "collapsed": true
   },
   "outputs": [],
   "source": []
  }
 ],
 "metadata": {
  "kernelspec": {
   "display_name": "Python 3",
   "language": "python",
   "name": "python3"
  },
  "language_info": {
   "codemirror_mode": {
    "name": "ipython",
    "version": 3
   },
   "file_extension": ".py",
   "mimetype": "text/x-python",
   "name": "python",
   "nbconvert_exporter": "python",
   "pygments_lexer": "ipython3",
   "version": "3.4.5"
  }
 },
 "nbformat": 4,
 "nbformat_minor": 2
}
