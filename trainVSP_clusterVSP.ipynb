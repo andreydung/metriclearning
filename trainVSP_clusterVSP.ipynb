{
 "cells": [
  {
   "cell_type": "code",
   "execution_count": 29,
   "metadata": {
    "collapsed": false
   },
   "outputs": [
    {
     "name": "stdout",
     "output_type": "stream",
     "text": [
      "The autoreload extension is already loaded. To reload it, use:\n",
      "  %reload_ext autoreload\n"
     ]
    }
   ],
   "source": [
    "%load_ext autoreload\n",
    "%autoreload 2\n",
    "from visiprog.data import *\n",
    "from visiprog.metriclearning import *\n",
    "from visiprog.evaluate import *\n",
    "from visiprog.metric_learn.lfda_visiprog import LFDA_VISIPROG\n",
    "\n",
    "%matplotlib inline\n",
    "import numpy as np\n",
    "from metric_learn import Covariance\n",
    "\n",
    "from IPython.display import Image, display\n",
    "from sklearn.model_selection import train_test_split\n",
    "import pandas as pd\n",
    "\n",
    "import logging\n",
    "import sys\n",
    "logging.basicConfig(stream=sys.stdout, level=logging.INFO)\n"
   ]
  },
  {
   "cell_type": "code",
   "execution_count": 22,
   "metadata": {
    "collapsed": false
   },
   "outputs": [
    {
     "name": "stdout",
     "output_type": "stream",
     "text": [
      "INFO:visiprog.data:After removing non zero entries, N is 3708\n",
      "INFO:visiprog.data:Number of disconnected elements is 161\n",
      "\n"
     ]
    }
   ],
   "source": [
    "raw_feature = np.genfromtxt('visiprog/data/curetaliasfree.csv',delimiter=\",\")\n",
    "label_material = read_material_label()\n",
    "groups_VSP, material = read_VSP_group(pappas_only=False)\n",
    "\n",
    "D = count_matrix(groups_VSP, raw_feature.shape[0])\n",
    "clusters_VSP = spectralClusteringDBSCAN(D, threshold=0,eps=0.001)\n"
   ]
  },
  {
   "cell_type": "code",
   "execution_count": 14,
   "metadata": {
    "collapsed": true
   },
   "outputs": [],
   "source": [
    "label_visiprog = get_VSP_label(groups_VSP, raw_feature.shape[0])\n",
    "label_VSP_clusters = get_VSP_label(clusters_VSP, raw_feature.shape[0])"
   ]
  },
  {
   "cell_type": "code",
   "execution_count": 15,
   "metadata": {
    "collapsed": true
   },
   "outputs": [],
   "source": [
    "model = Covariance()\n",
    "model.fit(raw_feature)\n",
    "X_STSIMM = model.transform(raw_feature)"
   ]
  },
  {
   "cell_type": "code",
   "execution_count": 31,
   "metadata": {
    "collapsed": false
   },
   "outputs": [
    {
     "name": "stdout",
     "output_type": "stream",
     "text": [
      "INFO:visiprog.evaluate:Nearest neighbor on separate test data\n",
      "INFO:visiprog.evaluate:Nearest neighbor on separate test data\n",
      "INFO:visiprog.evaluate:Nearest neighbor on separate test data\n",
      "0.835081029552\n",
      "INFO:visiprog.evaluate:Nearest neighbor on separate test data\n",
      "INFO:visiprog.evaluate:Nearest neighbor on separate test data\n",
      "INFO:visiprog.evaluate:Nearest neighbor on separate test data\n",
      "INFO:visiprog.evaluate:Nearest neighbor on separate test data\n",
      "0.831267874166\n",
      "INFO:visiprog.evaluate:Nearest neighbor on separate test data\n",
      "INFO:visiprog.evaluate:Nearest neighbor on separate test data\n",
      "INFO:visiprog.evaluate:Nearest neighbor on separate test data\n",
      "INFO:visiprog.evaluate:Nearest neighbor on separate test data\n",
      "0.862726406101\n",
      "INFO:visiprog.evaluate:Nearest neighbor on separate test data\n",
      "INFO:visiprog.evaluate:Nearest neighbor on separate test data\n",
      "INFO:visiprog.evaluate:Nearest neighbor on separate test data\n",
      "INFO:visiprog.evaluate:Nearest neighbor on separate test data\n",
      "0.84652049571\n",
      "INFO:visiprog.evaluate:Nearest neighbor on separate test data\n",
      "INFO:visiprog.evaluate:Nearest neighbor on separate test data\n",
      "INFO:visiprog.evaluate:Nearest neighbor on separate test data\n",
      "INFO:visiprog.evaluate:Nearest neighbor on separate test data\n",
      "0.823641563394\n",
      "INFO:visiprog.evaluate:Nearest neighbor on separate test data\n"
     ]
    },
    {
     "ename": "ValueError",
     "evalue": "n_samples=1 should be >= n_clusters=2",
     "output_type": "error",
     "traceback": [
      "\u001b[0;31m---------------------------------------------------------------------------\u001b[0m",
      "\u001b[0;31mValueError\u001b[0m                                Traceback (most recent call last)",
      "\u001b[0;32m<ipython-input-31-7d912fdf287d>\u001b[0m in \u001b[0;36m<module>\u001b[0;34m()\u001b[0m\n\u001b[1;32m     12\u001b[0m     \u001b[0mX_train\u001b[0m\u001b[0;34m,\u001b[0m \u001b[0mX_test\u001b[0m\u001b[0;34m,\u001b[0m \u001b[0mX_STSIMM_train\u001b[0m\u001b[0;34m,\u001b[0m \u001b[0mX_STSIMM_test\u001b[0m\u001b[0;34m,\u001b[0m \u001b[0mY_mat_train\u001b[0m\u001b[0;34m,\u001b[0m \u001b[0mY_mat_test\u001b[0m\u001b[0;34m,\u001b[0m \u001b[0mY_VSP_train\u001b[0m\u001b[0;34m,\u001b[0m \u001b[0mY_VSP_test\u001b[0m \u001b[0;34m=\u001b[0m     \u001b[0mtrain_test_split\u001b[0m\u001b[0;34m(\u001b[0m\u001b[0mraw_feature\u001b[0m\u001b[0;34m,\u001b[0m \u001b[0mX_STSIMM\u001b[0m\u001b[0;34m,\u001b[0m \u001b[0mlabel_material\u001b[0m\u001b[0;34m,\u001b[0m \u001b[0mlabel_visiprog\u001b[0m\u001b[0;34m,\u001b[0m                      \u001b[0mtest_size\u001b[0m\u001b[0;34m=\u001b[0m\u001b[0;36m0.2\u001b[0m\u001b[0;34m,\u001b[0m \u001b[0mstratify\u001b[0m\u001b[0;34m=\u001b[0m\u001b[0mlabel_material\u001b[0m\u001b[0;34m)\u001b[0m\u001b[0;34m\u001b[0m\u001b[0m\n\u001b[1;32m     13\u001b[0m \u001b[0;34m\u001b[0m\u001b[0m\n\u001b[0;32m---> 14\u001b[0;31m     \u001b[0mexemplar_index\u001b[0m \u001b[0;34m=\u001b[0m \u001b[0mfind_exemplars\u001b[0m\u001b[0;34m(\u001b[0m\u001b[0mX_STSIMM_train\u001b[0m\u001b[0;34m,\u001b[0m \u001b[0mY_VSP_train\u001b[0m\u001b[0;34m)\u001b[0m\u001b[0;34m\u001b[0m\u001b[0m\n\u001b[0m\u001b[1;32m     15\u001b[0m     \u001b[0mexemplar_X\u001b[0m \u001b[0;34m=\u001b[0m \u001b[0mX_STSIMM_train\u001b[0m\u001b[0;34m[\u001b[0m\u001b[0mexemplar_index\u001b[0m\u001b[0;34m]\u001b[0m\u001b[0;34m\u001b[0m\u001b[0m\n\u001b[1;32m     16\u001b[0m     \u001b[0mexemplar_Y\u001b[0m \u001b[0;34m=\u001b[0m \u001b[0mY_mat_train\u001b[0m\u001b[0;34m[\u001b[0m\u001b[0mexemplar_index\u001b[0m\u001b[0;34m]\u001b[0m\u001b[0;34m\u001b[0m\u001b[0m\n",
      "\u001b[0;32m/home/andrey/Dropbox/Hacking/Research/VisiProg2/analysis/thesis/visiprog/evaluate.py\u001b[0m in \u001b[0;36mfind_exemplars\u001b[0;34m(X, clusters_label)\u001b[0m\n\u001b[1;32m     72\u001b[0m \u001b[0;34m\u001b[0m\u001b[0m\n\u001b[1;32m     73\u001b[0m \u001b[0;34m\u001b[0m\u001b[0m\n\u001b[0;32m---> 74\u001b[0;31m                 \u001b[0mkm\u001b[0m \u001b[0;34m=\u001b[0m \u001b[0mKMeans\u001b[0m\u001b[0;34m(\u001b[0m\u001b[0mn_clusters\u001b[0m\u001b[0;34m)\u001b[0m\u001b[0;34m.\u001b[0m\u001b[0mfit\u001b[0m\u001b[0;34m(\u001b[0m\u001b[0mX_cluster\u001b[0m\u001b[0;34m)\u001b[0m\u001b[0;34m\u001b[0m\u001b[0m\n\u001b[0m\u001b[1;32m     75\u001b[0m                 \u001b[0mclosest\u001b[0m\u001b[0;34m,\u001b[0m \u001b[0m_\u001b[0m \u001b[0;34m=\u001b[0m \u001b[0mpairwise_distances_argmin_min\u001b[0m\u001b[0;34m(\u001b[0m\u001b[0mkm\u001b[0m\u001b[0;34m.\u001b[0m\u001b[0mcluster_centers_\u001b[0m\u001b[0;34m,\u001b[0m \u001b[0mX\u001b[0m\u001b[0;34m)\u001b[0m\u001b[0;34m\u001b[0m\u001b[0m\n\u001b[1;32m     76\u001b[0m                 \u001b[0mexemlpars_index\u001b[0m\u001b[0;34m.\u001b[0m\u001b[0mappend\u001b[0m\u001b[0;34m(\u001b[0m\u001b[0mclosest\u001b[0m\u001b[0;34m)\u001b[0m\u001b[0;34m\u001b[0m\u001b[0m\n",
      "\u001b[0;32m/home/andrey/anaconda2/envs/py34/lib/python3.4/site-packages/sklearn/cluster/k_means_.py\u001b[0m in \u001b[0;36mfit\u001b[0;34m(self, X, y)\u001b[0m\n\u001b[1;32m    878\u001b[0m         \"\"\"\n\u001b[1;32m    879\u001b[0m         \u001b[0mrandom_state\u001b[0m \u001b[0;34m=\u001b[0m \u001b[0mcheck_random_state\u001b[0m\u001b[0;34m(\u001b[0m\u001b[0mself\u001b[0m\u001b[0;34m.\u001b[0m\u001b[0mrandom_state\u001b[0m\u001b[0;34m)\u001b[0m\u001b[0;34m\u001b[0m\u001b[0m\n\u001b[0;32m--> 880\u001b[0;31m         \u001b[0mX\u001b[0m \u001b[0;34m=\u001b[0m \u001b[0mself\u001b[0m\u001b[0;34m.\u001b[0m\u001b[0m_check_fit_data\u001b[0m\u001b[0;34m(\u001b[0m\u001b[0mX\u001b[0m\u001b[0;34m)\u001b[0m\u001b[0;34m\u001b[0m\u001b[0m\n\u001b[0m\u001b[1;32m    881\u001b[0m \u001b[0;34m\u001b[0m\u001b[0m\n\u001b[1;32m    882\u001b[0m         \u001b[0mself\u001b[0m\u001b[0;34m.\u001b[0m\u001b[0mcluster_centers_\u001b[0m\u001b[0;34m,\u001b[0m \u001b[0mself\u001b[0m\u001b[0;34m.\u001b[0m\u001b[0mlabels_\u001b[0m\u001b[0;34m,\u001b[0m \u001b[0mself\u001b[0m\u001b[0;34m.\u001b[0m\u001b[0minertia_\u001b[0m\u001b[0;34m,\u001b[0m \u001b[0mself\u001b[0m\u001b[0;34m.\u001b[0m\u001b[0mn_iter_\u001b[0m \u001b[0;34m=\u001b[0m\u001b[0;31m \u001b[0m\u001b[0;31m\\\u001b[0m\u001b[0;34m\u001b[0m\u001b[0m\n",
      "\u001b[0;32m/home/andrey/anaconda2/envs/py34/lib/python3.4/site-packages/sklearn/cluster/k_means_.py\u001b[0m in \u001b[0;36m_check_fit_data\u001b[0;34m(self, X)\u001b[0m\n\u001b[1;32m    855\u001b[0m         \u001b[0;32mif\u001b[0m \u001b[0mX\u001b[0m\u001b[0;34m.\u001b[0m\u001b[0mshape\u001b[0m\u001b[0;34m[\u001b[0m\u001b[0;36m0\u001b[0m\u001b[0;34m]\u001b[0m \u001b[0;34m<\u001b[0m \u001b[0mself\u001b[0m\u001b[0;34m.\u001b[0m\u001b[0mn_clusters\u001b[0m\u001b[0;34m:\u001b[0m\u001b[0;34m\u001b[0m\u001b[0m\n\u001b[1;32m    856\u001b[0m             raise ValueError(\"n_samples=%d should be >= n_clusters=%d\" % (\n\u001b[0;32m--> 857\u001b[0;31m                 X.shape[0], self.n_clusters))\n\u001b[0m\u001b[1;32m    858\u001b[0m         \u001b[0;32mreturn\u001b[0m \u001b[0mX\u001b[0m\u001b[0;34m\u001b[0m\u001b[0m\n\u001b[1;32m    859\u001b[0m \u001b[0;34m\u001b[0m\u001b[0m\n",
      "\u001b[0;31mValueError\u001b[0m: n_samples=1 should be >= n_clusters=2"
     ]
    }
   ],
   "source": [
    "list_img = read_img_list()\n",
    "\n",
    "accuracy_STSIMM = []\n",
    "accuracy_mat = []\n",
    "accuracy_vsp_original = []\n",
    "accuracy_vsp = []\n",
    "\n",
    "num_exemplars_originalLFDA = []\n",
    "num_exemplars_modifiedLFDA = []\n",
    "\n",
    "for i in range(10):\n",
    "    X_train, X_test, X_STSIMM_train, X_STSIMM_test, Y_mat_train, Y_mat_test, Y_VSP_train, Y_VSP_test = \\\n",
    "    train_test_split(raw_feature, X_STSIMM, label_material, label_visiprog, \\\n",
    "                     test_size=0.2, stratify=label_material)\n",
    "\n",
    "    exemplar_index = find_exemplars(X_STSIMM_train, Y_VSP_train)\n",
    "    exemplar_X = X_STSIMM_train[exemplar_index]\n",
    "    exemplar_Y = Y_mat_train[exemplar_index]\n",
    "\n",
    "    res = leave_one_sample_out(exemplar_X, exemplar_Y, X_STSIMM_test, Y_mat_test)\n",
    "    accuracy_STSIMM.append(res['accuracy'])\n",
    "\n",
    "    model = LFDA()\n",
    "    try:\n",
    "        model.fit(X_train, Y_mat_train)\n",
    "        X_mat_train = model.transform(X_train)\n",
    "        X_mat_test = model.transform(X_test)\n",
    "\n",
    "        exemplar_index = find_exemplars(X_mat_train, Y_VSP_train)\n",
    "        exemplar_X = X_mat_train[exemplar_index]\n",
    "        exemplar_Y = Y_mat_train[exemplar_index]\n",
    "\n",
    "        res = leave_one_sample_out(exemplar_X, exemplar_Y, X_mat_test, Y_mat_test)\n",
    "\n",
    "        accuracy_mat.append(res['accuracy'])\n",
    "    except Exception as e:\n",
    "        accuracy_mat.append(np.nan)\n",
    "\n",
    "    model_vsp_original = LFDA()\n",
    "    try:\n",
    "        # remove unlabeled data\n",
    "        idx_outlier = np.where(Y_VSP_train == 0)[0]\n",
    "        X_train_without_outlier = X_train[~idx_outlier,:]\n",
    "        Y_VSP_train_without_outlier = Y_VSP_train[~idx_outlier]\n",
    "        model_vsp_original.fit(X_train_without_outlier, Y_VSP_train_without_outlier)\n",
    "\n",
    "        X_vsp_original_train = model_vsp_original.transform(X_train)\n",
    "        X_vsp_original_test = model_vsp_original.transform(X_test)\n",
    "\n",
    "        exemplar_index = find_exemplars(X_vsp_original_train, Y_VSP_train)\n",
    "        exemplar_X = X_vsp_original_train[exemplar_index]\n",
    "        exemplar_Y = Y_mat_train[exemplar_index]\n",
    "        \n",
    "        num_exemplars_originalLFDA.append(len(exemplar_index))\n",
    "\n",
    "        res_vsp_original = leave_one_sample_out(exemplar_X, exemplar_Y, X_vsp_original_test, Y_mat_test)\n",
    "\n",
    "        print(res_vsp_original['accuracy'])\n",
    "        accuracy_vsp_original.append(res_vsp_original['accuracy'])\n",
    "    except Exception as e:\n",
    "        print(e)\n",
    "        accuracy_vsp_original.append(np.nan)\n",
    "\n",
    "\n",
    "    model_vsp = LFDA_VISIPROG()\n",
    "    try:\n",
    "        model_vsp.fit(X_train, Y_VSP_train)\n",
    "        X_vsp_train = model_vsp.transform(X_train)\n",
    "        X_vsp_test = model_vsp.transform(X_test)\n",
    "\n",
    "        exemplar_index = find_exemplars(X_vsp_train, Y_VSP_train)      \n",
    "        exemplar_X = X_vsp_train[exemplar_index]\n",
    "        exemplar_Y = Y_mat_train[exemplar_index]\n",
    "        \n",
    "        num_exemplars_modifiedLFDA.append(len(exemplar_index))\n",
    "\n",
    "        res_vsp = leave_one_sample_out(exemplar_X, exemplar_Y, X_vsp_test, Y_mat_test)\n",
    "\n",
    "\n",
    "        # remove trained data which are not labeled by VSP\n",
    "#         indx = np.where(Y_VSP_train != 0)[0]\n",
    "#         X_vsp_train = model_vsp.transform(X_train[indx])\n",
    "#         res_vsp = kmean_subclass(X_vsp_train, Y_mat_train[indx], X_vsp_test, Y_mat_test, n_cluster)\n",
    "        accuracy_vsp.append(res_vsp['accuracy'])\n",
    "    except Exception as e:\n",
    "        accuracy_vsp.append(np.nan)\n",
    "\n",
    "\n",
    "df = pd.DataFrame({'STSIM-M':accuracy_STSIMM,'visiprog':accuracy_vsp, \\\n",
    "                   'visiprog_original': accuracy_vsp_original, 'material':accuracy_mat}, \\\n",
    "                  columns=['STSIM-M','visiprog_original','visiprog','material'])\n",
    "df.loc['average'] = df.mean()\n",
    "display(df)\n",
    "\n",
    "\n",
    "df.to_csv('thrasos/within_traincluster_exemplaradaptive_k{}.csv'.format(n_cluster))\n",
    "\n"
   ]
  },
  {
   "cell_type": "code",
   "execution_count": 26,
   "metadata": {
    "collapsed": false
   },
   "outputs": [
    {
     "name": "stdout",
     "output_type": "stream",
     "text": [
      "237.2\n",
      "237.2\n"
     ]
    }
   ],
   "source": [
    "print(np.mean(np.array(num_exemplars_originalLFDA)))\n",
    "print(np.mean(np.array(num_exemplars_modifiedLFDA)))"
   ]
  },
  {
   "cell_type": "code",
   "execution_count": 27,
   "metadata": {
    "collapsed": false
   },
   "outputs": [
    {
     "data": {
      "text/plain": [
       "3.888524590163934"
      ]
     },
     "execution_count": 27,
     "metadata": {},
     "output_type": "execute_result"
    }
   ],
   "source": [
    "237.2/61\n"
   ]
  },
  {
   "cell_type": "code",
   "execution_count": null,
   "metadata": {
    "collapsed": true
   },
   "outputs": [],
   "source": []
  }
 ],
 "metadata": {
  "kernelspec": {
   "display_name": "Python 3",
   "language": "python",
   "name": "python3"
  },
  "language_info": {
   "codemirror_mode": {
    "name": "ipython",
    "version": 3
   },
   "file_extension": ".py",
   "mimetype": "text/x-python",
   "name": "python",
   "nbconvert_exporter": "python",
   "pygments_lexer": "ipython3",
   "version": "3.4.5"
  }
 },
 "nbformat": 4,
 "nbformat_minor": 2
}
