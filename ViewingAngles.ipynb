{
 "cells": [
  {
   "cell_type": "markdown",
   "metadata": {},
   "source": [
    "# Viewing angles\n",
    "\n",
    "Visualizing the illumination and viewing angles. Explaining how ViSiProg groups are related?"
   ]
  },
  {
   "cell_type": "code",
   "execution_count": 1,
   "metadata": {
    "collapsed": true
   },
   "outputs": [],
   "source": [
    "import numpy as np\n",
    "import plotly.plotly as plty\n",
    "import plotly.graph_objs as go"
   ]
  },
  {
   "cell_type": "code",
   "execution_count": 2,
   "metadata": {
    "collapsed": true
   },
   "outputs": [],
   "source": [
    "def polar_to_euclidean(theta, phi):\n",
    "    '''\n",
    "    theta is polar angle (angle from z axis)\n",
    "    phi is azimuth angle (angle from x axis to projection)\n",
    "    \n",
    "    '''\n",
    "    X = np.sin(theta) * np.cos(phi)\n",
    "    Y = np.sin(theta) * np.sin(phi)\n",
    "    Z = np.cos(theta)\n",
    "    return (X, Y, Z)"
   ]
  },
  {
   "cell_type": "code",
   "execution_count": 3,
   "metadata": {
    "collapsed": false
   },
   "outputs": [
    {
     "name": "stdout",
     "output_type": "stream",
     "text": [
      "(205, 5)\n"
     ]
    }
   ],
   "source": [
    "viewing = np.genfromtxt('visiprog/data/viewing.csv',delimiter=',')\n",
    "print(viewing.shape)"
   ]
  },
  {
   "cell_type": "code",
   "execution_count": 4,
   "metadata": {
    "collapsed": true
   },
   "outputs": [],
   "source": [
    "trace_illum_x = []\n",
    "trace_illum_y = []\n",
    "trace_illum_z = []\n",
    "\n",
    "trace_viewing_x = []\n",
    "trace_viewing_y = []\n",
    "trace_viewing_z = []\n",
    "\n",
    "for i in range(viewing.shape[0]):\n",
    "    illum_x, illum_y, illum_z = polar_to_euclidean(viewing[i,3],viewing[i,4])\n",
    "    view_x, view_y, view_z = polar_to_euclidean(viewing[i,1],viewing[i,2])\n",
    "    \n",
    "    line_x = [illum_x, 0, view_x]\n",
    "    line_y = [illum_y, 0, view_y]\n",
    "    line_z = [illum_z, 0, view_z]\n",
    "    \n",
    "    trace_illum_x.append(illum_x)\n",
    "    trace_illum_y.append(illum_y)\n",
    "    trace_illum_z.append(illum_z)\n",
    "    \n",
    "    trace_viewing_x.append(view_x)\n",
    "    trace_viewing_y.append(view_y)\n",
    "    trace_viewing_z.append(view_z)\n",
    "\n",
    "    \n",
    "illum_scatter = go.Scatter3d(\n",
    "    x=trace_illum_x,\n",
    "    y=trace_illum_y,\n",
    "    z=trace_illum_z,\n",
    "    mode='markers',\n",
    "    marker=dict(\n",
    "        size=12,\n",
    "        line=dict(\n",
    "            color='rgba(217, 217, 217, 0.14)',\n",
    "            width=0.5\n",
    "        ),\n",
    "        opacity=0.8\n",
    "    )\n",
    ")"
   ]
  },
  {
   "cell_type": "code",
   "execution_count": 5,
   "metadata": {
    "collapsed": false
   },
   "outputs": [
    {
     "data": {
      "text/html": [
       "<iframe id=\"igraph\" scrolling=\"no\" style=\"border:none;\" seamless=\"seamless\" src=\"https://plot.ly/~andreydung/9.embed\" height=\"800px\" width=\"900px\"></iframe>"
      ],
      "text/plain": [
       "<plotly.tools.PlotlyDisplay object>"
      ]
     },
     "execution_count": 5,
     "metadata": {},
     "output_type": "execute_result"
    }
   ],
   "source": [
    "layout = go.Layout(\n",
    "    title='Illumination angles',\n",
    "    autosize=True,\n",
    "    width=900,\n",
    "    height=800,\n",
    "    margin=dict(\n",
    "        l=65,\n",
    "        r=50,\n",
    "        b=65,\n",
    "        t=90\n",
    "    )\n",
    ")\n",
    "fig = go.Figure(data=[illum_scatter], layout=layout)\n",
    "plty.iplot(fig, filename='illumination')"
   ]
  },
  {
   "cell_type": "code",
   "execution_count": 6,
   "metadata": {
    "collapsed": false
   },
   "outputs": [],
   "source": [
    "traces = []\n",
    "\n",
    "for i in range(150,155):\n",
    "    illum_x, illum_y, illum_z = polar_to_euclidean(viewing[i,3],viewing[i,4])\n",
    "    view_x, view_y, view_z = polar_to_euclidean(viewing[i,1],viewing[i,2])\n",
    "    \n",
    "    line_x = [illum_x, 0, view_x]\n",
    "    line_y = [illum_y, 0, view_y]\n",
    "    line_z = [illum_z, 0, view_z]\n",
    "    \n",
    "    # plotting line\n",
    "    line_scatter = go.Scatter3d(\n",
    "        x=line_x,\n",
    "        y=line_y,\n",
    "        z=line_z,\n",
    "        name=\"pair_{}\".format(i)\n",
    "    )\n",
    "    \n",
    "    traces.append(line_scatter)\n",
    "    \n",
    "\n",
    "    \n",
    "illum_scatter = go.Scatter3d(\n",
    "    x=trace_illum_x,\n",
    "    y=trace_illum_y,\n",
    "    z=trace_illum_z,\n",
    "    mode='markers',\n",
    "    marker=dict(\n",
    "        size=12,\n",
    "        line=dict(\n",
    "            color='rgba(217, 217, 217, 0.14)',\n",
    "            width=0.5\n",
    "        ),\n",
    "        opacity=0.8\n",
    "    )\n",
    ")"
   ]
  },
  {
   "cell_type": "markdown",
   "metadata": {},
   "source": [
    "Plotting the illumination x,y,z"
   ]
  },
  {
   "cell_type": "code",
   "execution_count": 7,
   "metadata": {
    "collapsed": false,
    "scrolled": false
   },
   "outputs": [
    {
     "data": {
      "text/html": [
       "<iframe id=\"igraph\" scrolling=\"no\" style=\"border:none;\" seamless=\"seamless\" src=\"https://plot.ly/~andreydung/7.embed\" height=\"800px\" width=\"900px\"></iframe>"
      ],
      "text/plain": [
       "<plotly.tools.PlotlyDisplay object>"
      ]
     },
     "execution_count": 7,
     "metadata": {},
     "output_type": "execute_result"
    }
   ],
   "source": [
    "layout = go.Layout(\n",
    "    title='Illumination angles',\n",
    "    autosize=True,\n",
    "    width=900,\n",
    "    height=800,\n",
    "    margin=dict(\n",
    "        l=65,\n",
    "        r=50,\n",
    "        b=65,\n",
    "        t=90\n",
    "    )\n",
    ")\n",
    "fig = go.Figure(data=traces, layout=layout)\n",
    "plty.iplot(fig, filename='elevations-3d-surface')"
   ]
  },
  {
   "cell_type": "code",
   "execution_count": null,
   "metadata": {
    "collapsed": true
   },
   "outputs": [],
   "source": []
  },
  {
   "cell_type": "code",
   "execution_count": null,
   "metadata": {
    "collapsed": true
   },
   "outputs": [],
   "source": []
  }
 ],
 "metadata": {
  "kernelspec": {
   "display_name": "Python 3",
   "language": "python",
   "name": "python3"
  },
  "language_info": {
   "codemirror_mode": {
    "name": "ipython",
    "version": 3
   },
   "file_extension": ".py",
   "mimetype": "text/x-python",
   "name": "python",
   "nbconvert_exporter": "python",
   "pygments_lexer": "ipython3",
   "version": "3.4.5"
  }
 },
 "nbformat": 4,
 "nbformat_minor": 2
}
