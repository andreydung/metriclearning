{
 "cells": [
  {
   "cell_type": "markdown",
   "metadata": {},
   "source": [
    "# Viewing angles\n",
    "\n",
    "Visualizing the illumination and viewing angles. Explaining how ViSiProg groups are related?"
   ]
  },
  {
   "cell_type": "code",
   "execution_count": 1,
   "metadata": {
    "collapsed": true
   },
   "outputs": [],
   "source": [
    "import numpy as np\n",
    "import plotly.plotly as plty\n",
    "import plotly.graph_objs as go"
   ]
  },
  {
   "cell_type": "code",
   "execution_count": 16,
   "metadata": {
    "collapsed": true
   },
   "outputs": [],
   "source": [
    "def polar_to_euclidean(theta, phi):\n",
    "    '''\n",
    "    theta is polar angle (angle from z axis)\n",
    "    phi is azimuth angle (angle from x axis to projection)\n",
    "    \n",
    "    '''\n",
    "    X = np.sin(theta) * np.cos(phi)\n",
    "    Y = np.sin(theta) * np.sin(phi)\n",
    "    Z = np.cos(theta)\n",
    "    return (X, Y, Z)"
   ]
  },
  {
   "cell_type": "code",
   "execution_count": 17,
   "metadata": {
    "collapsed": false
   },
   "outputs": [
    {
     "name": "stdout",
     "output_type": "stream",
     "text": [
      "(205, 5)\n"
     ]
    }
   ],
   "source": [
    "viewing = np.genfromtxt('visiprog/data/viewing.csv',delimiter=',')\n",
    "print(viewing.shape)"
   ]
  },
  {
   "cell_type": "code",
   "execution_count": 18,
   "metadata": {
    "collapsed": false
   },
   "outputs": [],
   "source": [
    "illum_x = []\n",
    "illum_y = []\n",
    "illum_z = []\n",
    "\n",
    "for i in range(viewing.shape[0]):\n",
    "    x, y, z = polar_to_euclidean(viewing[i,3],viewing[i,4])\n",
    "    illum_x.append(x)\n",
    "    illum_y.append(y)\n",
    "    illum_z.append(z)\n",
    "    \n",
    "scatter = go.Scatter3d(\n",
    "    x=illum_x,\n",
    "    y=illum_y,\n",
    "    z=illum_z,\n",
    "    mode='markers',\n",
    "    marker=dict(\n",
    "        size=12,\n",
    "        line=dict(\n",
    "            color='rgba(217, 217, 217, 0.14)',\n",
    "            width=0.5\n",
    "        ),\n",
    "        opacity=0.8\n",
    "    )\n",
    ")"
   ]
  },
  {
   "cell_type": "markdown",
   "metadata": {},
   "source": [
    "Plotting the illumination x,y,z"
   ]
  },
  {
   "cell_type": "code",
   "execution_count": 11,
   "metadata": {
    "collapsed": false
   },
   "outputs": [],
   "source": [
    "x = np.arange(-1.5, 1.5, 0.1)\n",
    "y = np.arange(-1.5, 1.5, 0.1)\n",
    "xx, yy = np.meshgrid(x, y, sparse=True)\n",
    "z = 1 - xx**2 - yy**2\n",
    "\n",
    "z[z<0] = 0\n",
    "\n",
    "sphere = [\n",
    "    go.Surface(\n",
    "        x=x,\n",
    "        y=y,\n",
    "        z=z\n",
    "    )\n",
    "]"
   ]
  },
  {
   "cell_type": "code",
   "execution_count": 19,
   "metadata": {
    "collapsed": false,
    "scrolled": false
   },
   "outputs": [
    {
     "data": {
      "text/html": [
       "<iframe id=\"igraph\" scrolling=\"no\" style=\"border:none;\" seamless=\"seamless\" src=\"https://plot.ly/~andreydung/7.embed\" height=\"800px\" width=\"900px\"></iframe>"
      ],
      "text/plain": [
       "<plotly.tools.PlotlyDisplay object>"
      ]
     },
     "execution_count": 19,
     "metadata": {},
     "output_type": "execute_result"
    }
   ],
   "source": [
    "layout = go.Layout(\n",
    "    title='Illumination angles',\n",
    "    autosize=True,\n",
    "    width=900,\n",
    "    height=800,\n",
    "    margin=dict(\n",
    "        l=65,\n",
    "        r=50,\n",
    "        b=65,\n",
    "        t=90\n",
    "    )\n",
    ")\n",
    "fig = go.Figure(data=[scatter], layout=layout)\n",
    "plty.iplot(fig, filename='elevations-3d-surface')"
   ]
  },
  {
   "cell_type": "code",
   "execution_count": null,
   "metadata": {
    "collapsed": true
   },
   "outputs": [],
   "source": []
  },
  {
   "cell_type": "code",
   "execution_count": null,
   "metadata": {
    "collapsed": true
   },
   "outputs": [],
   "source": []
  }
 ],
 "metadata": {
  "kernelspec": {
   "display_name": "Python 3",
   "language": "python",
   "name": "python3"
  },
  "language_info": {
   "codemirror_mode": {
    "name": "ipython",
    "version": 3
   },
   "file_extension": ".py",
   "mimetype": "text/x-python",
   "name": "python",
   "nbconvert_exporter": "python",
   "pygments_lexer": "ipython3",
   "version": "3.4.5"
  }
 },
 "nbformat": 4,
 "nbformat_minor": 2
}
