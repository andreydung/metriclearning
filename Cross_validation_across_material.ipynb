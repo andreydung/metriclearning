{
 "cells": [
  {
   "cell_type": "code",
   "execution_count": 11,
   "metadata": {
    "collapsed": false
   },
   "outputs": [],
   "source": [
    "from visiprog.data import *\n",
    "from visiprog.metriclearning import *\n",
    "from visiprog.evaluate import *\n",
    "%matplotlib inline\n",
    "import numpy as np\n",
    "from visiprog.metric_learn.fda_visiprog import LFDA_VISIPROG\n",
    "from metric_learn import Covariance\n",
    "\n",
    "from IPython.display import Image, display\n",
    "from sklearn.model_selection import train_test_split\n",
    "import pandas as pd\n",
    "\n",
    "from sklearn.cluster import KMeans"
   ]
  },
  {
   "cell_type": "code",
   "execution_count": 12,
   "metadata": {
    "collapsed": false
   },
   "outputs": [
    {
     "name": "stdout",
     "output_type": "stream",
     "text": [
      "(5245, 82)\n",
      "(5245,)\n"
     ]
    }
   ],
   "source": [
    "raw_feature = np.genfromtxt('visiprog/data/curetaliasfree.csv',delimiter=\",\")\n",
    "label_material = read_material_label()\n",
    "groups_VSP, material = read_VSP_group(pappas_only=False)\n",
    "\n",
    "D = count_matrix(groups_VSP, raw_feature.shape[0])\n",
    "clusters_VSP = spectralClusteringDBSCAN(D, threshold=0,eps=0.001)\n",
    "\n",
    "print(raw_feature.shape)\n",
    "print(label_material.shape)"
   ]
  },
  {
   "cell_type": "code",
   "execution_count": 13,
   "metadata": {
    "collapsed": false
   },
   "outputs": [],
   "source": [
    "label_visiprog = get_VSP_label(groups_VSP, raw_feature.shape[0])\n",
    "label_VSP_clusters = get_VSP_label(clusters_VSP, raw_feature.shape[0])"
   ]
  },
  {
   "cell_type": "code",
   "execution_count": 14,
   "metadata": {
    "collapsed": false
   },
   "outputs": [],
   "source": [
    "model = Covariance()\n",
    "model.fit(raw_feature)\n",
    "X_STSIMM = model.transform(raw_feature)\n",
    "# print(X_STSIMM)"
   ]
  },
  {
   "cell_type": "code",
   "execution_count": 16,
   "metadata": {
    "collapsed": false,
    "scrolled": false
   },
   "outputs": [
    {
     "name": "stdout",
     "output_type": "stream",
     "text": [
      "Trial 0\n",
      "Training shape 2546 and test shape 2699\n",
      "Trial 1\n",
      "Training shape 2730 and test shape 2515\n",
      "Trial 2\n",
      "Training shape 3046 and test shape 2199\n",
      "Trial 3\n",
      "Training shape 3101 and test shape 2144\n",
      "Trial 4\n",
      "Training shape 2886 and test shape 2359\n",
      "Trial 5\n",
      "Training shape 3174 and test shape 2071\n",
      "Trial 6\n",
      "Training shape 2966 and test shape 2279\n",
      "Trial 7\n",
      "Training shape 3067 and test shape 2178\n",
      "Trial 8\n",
      "Training shape 2691 and test shape 2554\n",
      "Trial 9\n",
      "Training shape 3063 and test shape 2182\n"
     ]
    }
   ],
   "source": [
    "accuracy_STSIMM = []\n",
    "accuracy_mat = []\n",
    "accuracy_vsp_original = []\n",
    "accuracy_vsp = []\n",
    "\n",
    "N_material = 61\n",
    "N_material_train = 50\n",
    "\n",
    "label_visiprog = label_VSP_clusters\n",
    "\n",
    "for fold in range(10):\n",
    "    print(\"Trial {}\".format(fold))\n",
    "\n",
    "    # randomly select N_material_train material for training the metric\n",
    "    # and test on the rest\n",
    "    train_select = np.zeros_like(label_material).astype(bool)\n",
    "\n",
    "    idx_train = np.array([])\n",
    "    for i in range(N_material_train):\n",
    "        train_class = np.random.randint(0, N_material)\n",
    "        train_select |= (label_material == train_class)\n",
    "\n",
    "    idx_train = np.where(train_select == True)[0]\n",
    "    idx_test = np.where(train_select == False)[0]\n",
    "\n",
    "    idx_train = idx_train.astype(int)\n",
    "    idx_test = idx_test.astype(int)\n",
    "\n",
    "    print(\"Training shape {} and test shape {}\".format(len(idx_train), len(idx_test)))\n",
    "\n",
    "    X_train = raw_feature[idx_train,:]\n",
    "    X_STSIMM_train = X_STSIMM[idx_train,:]\n",
    "    Y_VSP_train = label_visiprog[idx_train]\n",
    "    Y_mat_train = label_material[idx_train]\n",
    "\n",
    "    X_test = raw_feature[idx_test,:]\n",
    "    X_STSIMM_test = X_STSIMM[idx_test,:]\n",
    "    Y_VSP_test = label_visiprog[idx_test]\n",
    "    Y_mat_test = label_material[idx_test]\n",
    "\n",
    "    res_STSIMM = leave_one_sample_out(X_STSIMM_test, Y_mat_test)\n",
    "    accuracy_STSIMM.append(res_STSIMM['accuracy'])\n",
    "\n",
    "    model = LFDA()\n",
    "    try:\n",
    "        model.fit(X_train, Y_mat_train)\n",
    "        X_mat_test = model.transform(X_test)\n",
    "        res = leave_one_sample_out(X_mat_test, Y_mat_test)\n",
    "        accuracy_mat.append(res['accuracy'])\n",
    "    except Exception as e:\n",
    "        acuracy_mat.append(np.nan)\n",
    "\n",
    "    model_vsp_original = LFDA()\n",
    "    try:\n",
    "        # remove the unlabeled data\n",
    "        idx_outlier = np.where(Y_VSP_train == 0)[0]\n",
    "        X_train_without_outlier = X_train[~idx_outlier,:]\n",
    "        Y_VSP_train_without_outlier = Y_VSP_train[~idx_outlier]\n",
    "        \n",
    "        model_vsp_original.fit(X_train_without_outlier, Y_VSP_train_without_outlier)\n",
    "        X_vsp_original_test = model_vsp_original.transform(X_test)\n",
    "        res_vsp_original = leave_one_sample_out(X_vsp_original_test, Y_mat_test)\n",
    "        accuracy_vsp_original.append(res_vsp_original['accuracy'])\n",
    "    except Exception as e:\n",
    "        accuracy_vsp_original.append(np.nan)\n",
    "\n",
    "    model_vsp = LFDA_VISIPROG()\n",
    "    try:\n",
    "        model_vsp.fit(X_train, Y_VSP_train)\n",
    "        X_vsp_test = model_vsp.transform(X_test)\n",
    "        res_vsp = leave_one_sample_out(X_vsp_test, Y_mat_test)\n",
    "        accuracy_vsp.append(res_vsp['accuracy'])\n",
    "    except Exception as e:\n",
    "        accuracy_vsp.append(np.nan)"
   ]
  },
  {
   "cell_type": "code",
   "execution_count": 17,
   "metadata": {
    "collapsed": false,
    "scrolled": true
   },
   "outputs": [
    {
     "data": {
      "text/html": [
       "<div>\n",
       "<table border=\"1\" class=\"dataframe\">\n",
       "  <thead>\n",
       "    <tr style=\"text-align: right;\">\n",
       "      <th></th>\n",
       "      <th>STSIMM</th>\n",
       "      <th>material</th>\n",
       "      <th>visiprog_original</th>\n",
       "      <th>visiprog</th>\n",
       "    </tr>\n",
       "  </thead>\n",
       "  <tbody>\n",
       "    <tr>\n",
       "      <th>0</th>\n",
       "      <td>0.896258</td>\n",
       "      <td>0.990737</td>\n",
       "      <td>0.974435</td>\n",
       "      <td>0.986662</td>\n",
       "    </tr>\n",
       "    <tr>\n",
       "      <th>1</th>\n",
       "      <td>0.867197</td>\n",
       "      <td>0.993638</td>\n",
       "      <td>0.958250</td>\n",
       "      <td>0.990457</td>\n",
       "    </tr>\n",
       "    <tr>\n",
       "      <th>2</th>\n",
       "      <td>0.920418</td>\n",
       "      <td>0.989995</td>\n",
       "      <td>0.972715</td>\n",
       "      <td>0.989541</td>\n",
       "    </tr>\n",
       "    <tr>\n",
       "      <th>3</th>\n",
       "      <td>0.926306</td>\n",
       "      <td>0.989272</td>\n",
       "      <td>0.980877</td>\n",
       "      <td>0.990672</td>\n",
       "    </tr>\n",
       "    <tr>\n",
       "      <th>4</th>\n",
       "      <td>0.903773</td>\n",
       "      <td>0.992370</td>\n",
       "      <td>0.976261</td>\n",
       "      <td>0.992794</td>\n",
       "    </tr>\n",
       "    <tr>\n",
       "      <th>5</th>\n",
       "      <td>0.900531</td>\n",
       "      <td>0.993723</td>\n",
       "      <td>0.984066</td>\n",
       "      <td>0.994689</td>\n",
       "    </tr>\n",
       "    <tr>\n",
       "      <th>6</th>\n",
       "      <td>0.911803</td>\n",
       "      <td>0.989908</td>\n",
       "      <td>0.977622</td>\n",
       "      <td>0.992979</td>\n",
       "    </tr>\n",
       "    <tr>\n",
       "      <th>7</th>\n",
       "      <td>0.910927</td>\n",
       "      <td>0.991276</td>\n",
       "      <td>0.983930</td>\n",
       "      <td>0.990817</td>\n",
       "    </tr>\n",
       "    <tr>\n",
       "      <th>8</th>\n",
       "      <td>0.917776</td>\n",
       "      <td>0.994127</td>\n",
       "      <td>0.981597</td>\n",
       "      <td>0.994127</td>\n",
       "    </tr>\n",
       "    <tr>\n",
       "      <th>9</th>\n",
       "      <td>0.916590</td>\n",
       "      <td>0.993126</td>\n",
       "      <td>0.978460</td>\n",
       "      <td>0.994500</td>\n",
       "    </tr>\n",
       "    <tr>\n",
       "      <th>average</th>\n",
       "      <td>0.907158</td>\n",
       "      <td>0.991817</td>\n",
       "      <td>0.976821</td>\n",
       "      <td>0.991724</td>\n",
       "    </tr>\n",
       "  </tbody>\n",
       "</table>\n",
       "</div>"
      ],
      "text/plain": [
       "           STSIMM  material  visiprog_original  visiprog\n",
       "0        0.896258  0.990737           0.974435  0.986662\n",
       "1        0.867197  0.993638           0.958250  0.990457\n",
       "2        0.920418  0.989995           0.972715  0.989541\n",
       "3        0.926306  0.989272           0.980877  0.990672\n",
       "4        0.903773  0.992370           0.976261  0.992794\n",
       "5        0.900531  0.993723           0.984066  0.994689\n",
       "6        0.911803  0.989908           0.977622  0.992979\n",
       "7        0.910927  0.991276           0.983930  0.990817\n",
       "8        0.917776  0.994127           0.981597  0.994127\n",
       "9        0.916590  0.993126           0.978460  0.994500\n",
       "average  0.907158  0.991817           0.976821  0.991724"
      ]
     },
     "metadata": {},
     "output_type": "display_data"
    }
   ],
   "source": [
    "df = pd.DataFrame({'visiprog':accuracy_vsp, 'material':accuracy_mat, 'STSIMM':accuracy_STSIMM, \\\n",
    "       'visiprog_original':accuracy_vsp_original}, columns=['STSIMM','material','visiprog_original','visiprog'])\n",
    "\n",
    "df.loc['average'] = df.mean()\n",
    "\n",
    "df.to_csv('thrasos/across_50material_nearest_neighbor.csv')\n",
    "\n",
    "display(df)\n",
    "# df.to_csv('acr')\n",
    "# display(df.mean())"
   ]
  },
  {
   "cell_type": "code",
   "execution_count": 7,
   "metadata": {
    "collapsed": false
   },
   "outputs": [
    {
     "name": "stdout",
     "output_type": "stream",
     "text": [
      "[[  5.15406457e+16   1.77802384e+02  -2.35126850e+00 ...,   2.04218482e-01\n",
      "    7.12850006e-01  -2.78102062e+00]\n",
      " [ -1.46337803e+17  -3.05401739e+01   1.70971345e-01 ...,  -9.67410184e-01\n",
      "   -1.45023383e+00  -6.15406957e-01]\n",
      " [ -3.28236673e+16   3.44866491e+00   6.83016962e-01 ...,  -1.09290320e+00\n",
      "   -7.89008999e-01  -1.71855305e+00]\n",
      " ..., \n",
      " [ -5.49120769e+16   2.25034254e+01   7.46105478e-02 ...,   1.46315936e-01\n",
      "   -9.10106855e-01   1.89370358e-01]\n",
      " [  3.29349403e+16  -5.61026935e+00  -1.08319468e-01 ...,  -9.60830277e-02\n",
      "   -1.40494185e-01   2.18494058e-01]\n",
      " [ -1.26825085e+16   8.60702260e+00  -9.10717574e-02 ...,   3.94526462e-02\n",
      "   -1.20452139e-01   3.51024985e-01]]\n"
     ]
    }
   ],
   "source": [
    "print(model.transformer())"
   ]
  },
  {
   "cell_type": "code",
   "execution_count": null,
   "metadata": {
    "collapsed": true
   },
   "outputs": [],
   "source": []
  }
 ],
 "metadata": {
  "anaconda-cloud": {},
  "kernelspec": {
   "display_name": "Python 3",
   "language": "python",
   "name": "python3"
  },
  "language_info": {
   "codemirror_mode": {
    "name": "ipython",
    "version": 3
   },
   "file_extension": ".py",
   "mimetype": "text/x-python",
   "name": "python",
   "nbconvert_exporter": "python",
   "pygments_lexer": "ipython3",
   "version": "3.4.5"
  }
 },
 "nbformat": 4,
 "nbformat_minor": 2
}
