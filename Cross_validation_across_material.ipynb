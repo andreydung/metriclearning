{
 "cells": [
  {
   "cell_type": "code",
   "execution_count": 1,
   "metadata": {
    "collapsed": false
   },
   "outputs": [],
   "source": [
    "from visiprog.data import *\n",
    "from visiprog.metriclearning import *\n",
    "from visiprog.evaluate import *\n",
    "%matplotlib inline\n",
    "import numpy as np\n",
    "from visiprog.metric_learn.fda_visiprog import LFDA_VISIPROG\n",
    "\n",
    "from IPython.display import Image, display\n",
    "from sklearn.model_selection import train_test_split\n"
   ]
  },
  {
   "cell_type": "code",
   "execution_count": 2,
   "metadata": {
    "collapsed": false
   },
   "outputs": [
    {
     "name": "stdout",
     "output_type": "stream",
     "text": [
      "(5245, 82)\n",
      "(5245,)\n"
     ]
    }
   ],
   "source": [
    "raw_feature = np.genfromtxt('visiprog/data/curetaliasfree.csv',delimiter=\",\")\n",
    "label_material = read_material_label()\n",
    "groups_VSP, N = read_VSP_label()\n",
    "\n",
    "print(raw_feature.shape)\n",
    "print(label_material.shape)"
   ]
  },
  {
   "cell_type": "code",
   "execution_count": 3,
   "metadata": {
    "collapsed": false
   },
   "outputs": [],
   "source": [
    "label_visiprog = np.zeros((N,))\n",
    "\n",
    "count = 0\n",
    "for g in groups_VSP:\n",
    "    label = False\n",
    "    \n",
    "    # check whether any entry in the group has been labelled yet\n",
    "    # if yes, then merge with that existing label\n",
    "    for i in g:\n",
    "        if label_visiprog[i] != 0:\n",
    "            label = label_visiprog[i]\n",
    "            break\n",
    "    \n",
    "    # if no, then create a new label\n",
    "    if label == False:\n",
    "        count += 1\n",
    "        label = count\n",
    "        \n",
    "    for i in g:\n",
    "        label_visiprog[i] = label\n"
   ]
  },
  {
   "cell_type": "code",
   "execution_count": 8,
   "metadata": {
    "collapsed": false
   },
   "outputs": [
    {
     "name": "stdout",
     "output_type": "stream",
     "text": [
      "(3261,)\n",
      "(2719,)\n"
     ]
    }
   ],
   "source": [
    "accuracy = []\n",
    "\n",
    "N_material = 61\n",
    "N_material_train = 40\n",
    "\n",
    "for fold in range(10):\n",
    "    \n",
    "    idx_train = np.array([])\n",
    "    for i in range(N_material_train):\n",
    "        train_class = np.random.randint(0, N_material)\n",
    "        idx_train= np.concatenate((idx_train, np.where(label_material == train_class)[0]))\n",
    "    \n",
    "    # need to get better code later\n",
    "    idx_test = np.setdiff1d(np.arange(N), idx_train)\n",
    "    \n",
    "    idx_train = idx_train.astype(int)\n",
    "    idx_test = idx_test.astype(int)\n",
    "    \n",
    "    X_train = raw_feature[idx_train,:]\n",
    "    Y_VSP_train = label_visiprog[idx_train]\n",
    "    Y_mat_train = label_material[idx_train]\n",
    "\n",
    "    X_test = raw_feature[idx_test,:]\n",
    "    Y_VSP_test = label_visiprog[idx_test]\n",
    "    Y_mat_test = label_material[idx_test]\n",
    "\n",
    "    model = LFDA_VISIPROG()\n",
    "    model.fit(X_train, Y_VSP_train)\n",
    "\n",
    "    X_vsp_test = model.transform(X_test)\n",
    "\n",
    "    res = leave_one_sample_out(X_vsp_test, Y_mat_test)\n",
    "    accuracy.append(res['accuracy'])"
   ]
  },
  {
   "cell_type": "code",
   "execution_count": 9,
   "metadata": {
    "collapsed": false
   },
   "outputs": [
    {
     "data": {
      "text/plain": [
       "[0.99448326590658331]"
      ]
     },
     "metadata": {},
     "output_type": "display_data"
    }
   ],
   "source": [
    "display(accuracy)"
   ]
  },
  {
   "cell_type": "code",
   "execution_count": 10,
   "metadata": {
    "collapsed": false
   },
   "outputs": [
    {
     "data": {
      "text/plain": [
       "0.99448326590658331"
      ]
     },
     "execution_count": 10,
     "metadata": {},
     "output_type": "execute_result"
    }
   ],
   "source": [
    "np.array(accuracy).mean()"
   ]
  },
  {
   "cell_type": "code",
   "execution_count": null,
   "metadata": {
    "collapsed": true
   },
   "outputs": [],
   "source": []
  }
 ],
 "metadata": {
  "kernelspec": {
   "display_name": "Python 3",
   "language": "python",
   "name": "python3"
  },
  "language_info": {
   "codemirror_mode": {
    "name": "ipython",
    "version": 3
   },
   "file_extension": ".py",
   "mimetype": "text/x-python",
   "name": "python",
   "nbconvert_exporter": "python",
   "pygments_lexer": "ipython3",
   "version": "3.4.5"
  }
 },
 "nbformat": 4,
 "nbformat_minor": 2
}
