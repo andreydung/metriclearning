{
 "cells": [
  {
   "cell_type": "code",
   "execution_count": 1,
   "metadata": {
    "collapsed": false
   },
   "outputs": [],
   "source": [
    "from visiprog.data import *\n",
    "from visiprog.metriclearning import *\n",
    "from visiprog.evaluate import *\n",
    "%matplotlib inline\n",
    "import numpy as np\n",
    "from visiprog.metric_learn.fda_visiprog import LFDA_VISIPROG\n",
    "from metric_learn import Covariance\n",
    "\n",
    "\n",
    "from IPython.display import Image, display\n",
    "from sklearn.model_selection import train_test_split\n",
    "import pandas as pd"
   ]
  },
  {
   "cell_type": "code",
   "execution_count": 2,
   "metadata": {
    "collapsed": false
   },
   "outputs": [
    {
     "name": "stdout",
     "output_type": "stream",
     "text": [
      "(5245, 82)\n",
      "(5245,)\n"
     ]
    }
   ],
   "source": [
    "raw_feature = np.genfromtxt('visiprog/data/curetaliasfree.csv',delimiter=\",\")\n",
    "label_material = read_material_label()\n",
    "groups_VSP, N = read_VSP_label()\n",
    "\n",
    "print(raw_feature.shape)\n",
    "print(label_material.shape)"
   ]
  },
  {
   "cell_type": "code",
   "execution_count": 3,
   "metadata": {
    "collapsed": false
   },
   "outputs": [
    {
     "name": "stdout",
     "output_type": "stream",
     "text": [
      "202.0\n"
     ]
    }
   ],
   "source": [
    "label_visiprog = np.zeros((N,))\n",
    "\n",
    "count = 0\n",
    "for g in groups_VSP:\n",
    "    label = False\n",
    "    \n",
    "    # check whether any entry in the group has been labelled yet\n",
    "    # if yes, then merge with that existing label\n",
    "    for i in g:\n",
    "        if label_visiprog[i] != 0:\n",
    "            label = label_visiprog[i]\n",
    "            break\n",
    "    \n",
    "    # if no, then create a new label\n",
    "    if label == False:\n",
    "        count += 1\n",
    "        label = count\n",
    "        \n",
    "    for i in g:\n",
    "        label_visiprog[i] = label\n",
    "\n",
    "print(np.max(label_visiprog))"
   ]
  },
  {
   "cell_type": "code",
   "execution_count": 25,
   "metadata": {
    "collapsed": false
   },
   "outputs": [
    {
     "name": "stdout",
     "output_type": "stream",
     "text": [
      "[[  0.84626614  -0.0601734   -2.48037165 ...,  11.81214878   4.07557203\n",
      "   16.28311992]\n",
      " [  1.61187253  -0.13726814  -2.84377391 ...,  12.32477588   2.42529768\n",
      "   16.07555976]\n",
      " [  1.73860902  -0.15054939  -2.83881149 ...,  11.88581893   2.37714822\n",
      "   15.87037336]\n",
      " ..., \n",
      " [  1.29760807   0.64739122  -1.62276646 ...,  13.72418317   3.14230751\n",
      "   16.1829167 ]\n",
      " [  1.49290026   0.67626045  -1.12723529 ...,  12.12259606   2.67567087\n",
      "   16.51988945]\n",
      " [  1.67951279   0.64138849  -1.75318638 ...,  12.05057305   3.36389679\n",
      "   15.61697625]]\n"
     ]
    }
   ],
   "source": [
    "model = Covariance()\n",
    "model.fit(raw_feature)\n",
    "X_STSIMM = model.transform(raw_feature)\n",
    "# print(X_STSIMM)"
   ]
  },
  {
   "cell_type": "code",
   "execution_count": 27,
   "metadata": {
    "collapsed": false,
    "scrolled": false
   },
   "outputs": [
    {
     "name": "stdout",
     "output_type": "stream",
     "text": [
      "Trial 0\n",
      "Training shape 883 and test shape 4362\n",
      "[58 49 42 ..., 49 49 49]\n",
      "[ 2  2  2 ..., 60 60 60]\n",
      "Trial 1\n",
      "Training shape 824 and test shape 4421\n",
      "[40 40 40 ..., 40 40 60]\n",
      "[ 0  0  0 ..., 59 59 59]\n",
      "Trial 2\n",
      "Training shape 736 and test shape 4509\n",
      "[42 42 42 ..., 52 52 29]\n",
      "[ 0  0  0 ..., 60 60 60]\n",
      "Trial 3\n",
      "Training shape 824 and test shape 4421\n",
      "[21 21 21 ..., 58 58 58]\n",
      "[ 0  0  0 ..., 59 59 59]\n",
      "Trial 4\n",
      "Training shape 824 and test shape 4421\n",
      "[40 51 51 ..., 25 23 23]\n",
      "[ 0  0  0 ..., 60 60 60]\n",
      "Trial 5\n",
      "Training shape 828 and test shape 4417\n",
      "[21 21 21 ..., 48 19 21]\n",
      "[ 0  0  0 ..., 60 60 60]\n",
      "Trial 6\n",
      "Training shape 828 and test shape 4417\n",
      "[17  6  6 ...,  7 57 57]\n",
      "[ 0  0  0 ..., 60 60 60]\n",
      "Trial 7\n",
      "Training shape 863 and test shape 4382\n",
      "[33 33 33 ...,  2 23 23]\n",
      "[ 1  1  1 ..., 60 60 60]\n",
      "Trial 8\n",
      "Training shape 840 and test shape 4405\n",
      "[19 19 19 ..., 49 49 49]\n",
      "[ 1  1  1 ..., 60 60 60]\n",
      "Trial 9\n",
      "Training shape 827 and test shape 4418\n",
      "[33 33 38 ..., 33  7 33]\n",
      "[ 0  0  0 ..., 60 60 60]\n"
     ]
    }
   ],
   "source": [
    "accuracy_mat = []\n",
    "accuracy_vsp = []\n",
    "accuracy_STSIMM = []\n",
    "\n",
    "N_material = 61\n",
    "N_material_train = 10\n",
    "\n",
    "for fold in range(10):\n",
    "    try:\n",
    "        print(\"Trial {}\".format(fold))\n",
    "        \n",
    "        train_select = np.zeros_like(label_material).astype(bool)\n",
    "\n",
    "        idx_train = np.array([])\n",
    "        for i in range(N_material_train):\n",
    "            train_class = np.random.randint(0, N_material)\n",
    "            train_select |= (label_material == train_class)\n",
    "        \n",
    "        \n",
    "        idx_train = np.where(train_select == True)[0]\n",
    "        idx_test = np.where(train_select == False)[0]\n",
    "                \n",
    "        idx_train = idx_train.astype(int)\n",
    "        idx_test = idx_test.astype(int)\n",
    "        \n",
    "        print(\"Training shape {} and test shape {}\".format(len(idx_train), len(idx_test)))\n",
    "\n",
    "        X_train = raw_feature[idx_train,:]\n",
    "        X_STSIMM_train = X_STSIMM[idx_train,:]\n",
    "        Y_VSP_train = label_visiprog[idx_train]\n",
    "        Y_mat_train = label_material[idx_train]\n",
    "\n",
    "        X_test = raw_feature[idx_test,:]\n",
    "        X_STSIMM_test = X_STSIMM[idx_test,:]\n",
    "        Y_VSP_test = label_visiprog[idx_test]\n",
    "        Y_mat_test = label_material[idx_test]\n",
    "\n",
    "        res = leave_one_sample_out(X_STSIMM_train, Y_mat_train, X_STSIMM_test, Y_mat_test)\n",
    "        accuracy_STSIMM.append(res['accuracy'])\n",
    "        print(res['prediction'])\n",
    "        print(Y_mat_test)\n",
    "        \n",
    "        model = LFDA()\n",
    "        model.fit(X_train, Y_mat_train)\n",
    "        X_mat_test = model.transform(X_test)\n",
    "        res = leave_one_sample_out(X_mat_test, Y_mat_test)\n",
    "        accuracy_mat.append(res['accuracy'])\n",
    "        \n",
    "        model_vsp = LFDA_VISIPROG()\n",
    "        model_vsp.fit(X_train, Y_VSP_train)\n",
    "        X_vsp_test = model_vsp.transform(X_test)\n",
    "        res_vsp = leave_one_sample_out(X_vsp_test, Y_mat_test)\n",
    "        accuracy_vsp.append(res_vsp['accuracy'])\n",
    "\n",
    "    except Exception as e:\n",
    "        print(e)"
   ]
  },
  {
   "cell_type": "code",
   "execution_count": 28,
   "metadata": {
    "collapsed": false
   },
   "outputs": [
    {
     "data": {
      "text/html": [
       "<div>\n",
       "<table border=\"1\" class=\"dataframe\">\n",
       "  <thead>\n",
       "    <tr style=\"text-align: right;\">\n",
       "      <th></th>\n",
       "      <th>STSTIMM</th>\n",
       "      <th>material</th>\n",
       "      <th>visiprog</th>\n",
       "    </tr>\n",
       "  </thead>\n",
       "  <tbody>\n",
       "    <tr>\n",
       "      <th>0</th>\n",
       "      <td>0.0</td>\n",
       "      <td>0.958505</td>\n",
       "      <td>0.958735</td>\n",
       "    </tr>\n",
       "    <tr>\n",
       "      <th>1</th>\n",
       "      <td>0.0</td>\n",
       "      <td>0.975571</td>\n",
       "      <td>0.975571</td>\n",
       "    </tr>\n",
       "    <tr>\n",
       "      <th>2</th>\n",
       "      <td>0.0</td>\n",
       "      <td>0.952539</td>\n",
       "      <td>0.970282</td>\n",
       "    </tr>\n",
       "    <tr>\n",
       "      <th>3</th>\n",
       "      <td>0.0</td>\n",
       "      <td>0.967428</td>\n",
       "      <td>0.926261</td>\n",
       "    </tr>\n",
       "    <tr>\n",
       "      <th>4</th>\n",
       "      <td>0.0</td>\n",
       "      <td>0.972178</td>\n",
       "      <td>0.960869</td>\n",
       "    </tr>\n",
       "    <tr>\n",
       "      <th>5</th>\n",
       "      <td>0.0</td>\n",
       "      <td>0.978492</td>\n",
       "      <td>0.974643</td>\n",
       "    </tr>\n",
       "    <tr>\n",
       "      <th>6</th>\n",
       "      <td>0.0</td>\n",
       "      <td>0.978492</td>\n",
       "      <td>0.975096</td>\n",
       "    </tr>\n",
       "    <tr>\n",
       "      <th>7</th>\n",
       "      <td>0.0</td>\n",
       "      <td>0.968736</td>\n",
       "      <td>0.964856</td>\n",
       "    </tr>\n",
       "    <tr>\n",
       "      <th>8</th>\n",
       "      <td>0.0</td>\n",
       "      <td>0.955051</td>\n",
       "      <td>0.954824</td>\n",
       "    </tr>\n",
       "    <tr>\n",
       "      <th>9</th>\n",
       "      <td>0.0</td>\n",
       "      <td>0.964464</td>\n",
       "      <td>0.961068</td>\n",
       "    </tr>\n",
       "  </tbody>\n",
       "</table>\n",
       "</div>"
      ],
      "text/plain": [
       "   STSTIMM  material  visiprog\n",
       "0      0.0  0.958505  0.958735\n",
       "1      0.0  0.975571  0.975571\n",
       "2      0.0  0.952539  0.970282\n",
       "3      0.0  0.967428  0.926261\n",
       "4      0.0  0.972178  0.960869\n",
       "5      0.0  0.978492  0.974643\n",
       "6      0.0  0.978492  0.975096\n",
       "7      0.0  0.968736  0.964856\n",
       "8      0.0  0.955051  0.954824\n",
       "9      0.0  0.964464  0.961068"
      ]
     },
     "metadata": {},
     "output_type": "display_data"
    },
    {
     "data": {
      "text/plain": [
       "STSTIMM     0.000000\n",
       "material    0.967146\n",
       "visiprog    0.962221\n",
       "dtype: float64"
      ]
     },
     "metadata": {},
     "output_type": "display_data"
    }
   ],
   "source": [
    "df = pd.DataFrame({'visiprog':accuracy_vsp, 'material':accuracy_mat, 'STSTIMM':accuracy_STSIMM})\n",
    "display(df)\n",
    "display(df.mean())"
   ]
  },
  {
   "cell_type": "code",
   "execution_count": null,
   "metadata": {
    "collapsed": false
   },
   "outputs": [],
   "source": [
    "print(model.transformer())"
   ]
  },
  {
   "cell_type": "code",
   "execution_count": null,
   "metadata": {
    "collapsed": true
   },
   "outputs": [],
   "source": []
  }
 ],
 "metadata": {
  "kernelspec": {
   "display_name": "Python 3",
   "language": "python",
   "name": "python3"
  },
  "language_info": {
   "codemirror_mode": {
    "name": "ipython",
    "version": 3
   },
   "file_extension": ".py",
   "mimetype": "text/x-python",
   "name": "python",
   "nbconvert_exporter": "python",
   "pygments_lexer": "ipython3",
   "version": "3.4.5"
  }
 },
 "nbformat": 4,
 "nbformat_minor": 2
}
