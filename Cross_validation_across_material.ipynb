{
 "cells": [
  {
   "cell_type": "code",
   "execution_count": 1,
   "metadata": {
    "collapsed": false
   },
   "outputs": [],
   "source": [
    "from visiprog.data import *\n",
    "from visiprog.metriclearning import *\n",
    "from visiprog.evaluate import *\n",
    "%matplotlib inline\n",
    "import numpy as np\n",
    "from visiprog.metric_learn.fda_visiprog import LFDA_VISIPROG\n",
    "from metric_learn import Covariance\n",
    "\n",
    "\n",
    "from IPython.display import Image, display\n",
    "from sklearn.model_selection import train_test_split\n",
    "import pandas as pd"
   ]
  },
  {
   "cell_type": "code",
   "execution_count": 2,
   "metadata": {
    "collapsed": false
   },
   "outputs": [
    {
     "name": "stdout",
     "output_type": "stream",
     "text": [
      "(5245, 82)\n",
      "(5245,)\n"
     ]
    }
   ],
   "source": [
    "raw_feature = np.genfromtxt('visiprog/data/curetaliasfree.csv',delimiter=\",\")\n",
    "label_material = read_material_label()\n",
    "groups_VSP, N = read_VSP_label()\n",
    "\n",
    "print(raw_feature.shape)\n",
    "print(label_material.shape)"
   ]
  },
  {
   "cell_type": "code",
   "execution_count": 3,
   "metadata": {
    "collapsed": false
   },
   "outputs": [
    {
     "name": "stdout",
     "output_type": "stream",
     "text": [
      "202.0\n"
     ]
    }
   ],
   "source": [
    "label_visiprog = np.zeros((N,))\n",
    "\n",
    "count = 0\n",
    "for g in groups_VSP:\n",
    "    label = False\n",
    "    \n",
    "    # check whether any entry in the group has been labelled yet\n",
    "    # if yes, then merge with that existing label\n",
    "    for i in g:\n",
    "        if label_visiprog[i] != 0:\n",
    "            label = label_visiprog[i]\n",
    "            break\n",
    "    \n",
    "    # if no, then create a new label\n",
    "    if label == False:\n",
    "        count += 1\n",
    "        label = count\n",
    "        \n",
    "    for i in g:\n",
    "        label_visiprog[i] = label\n",
    "\n",
    "print(np.max(label_visiprog))"
   ]
  },
  {
   "cell_type": "code",
   "execution_count": 4,
   "metadata": {
    "collapsed": false
   },
   "outputs": [],
   "source": [
    "model = Covariance()\n",
    "model.fit(raw_feature)\n",
    "X_STSIMM = model.transform(raw_feature)\n",
    "# print(X_STSIMM)"
   ]
  },
  {
   "cell_type": "code",
   "execution_count": 22,
   "metadata": {
    "collapsed": false,
    "scrolled": false
   },
   "outputs": [
    {
     "name": "stdout",
     "output_type": "stream",
     "text": [
      "Trial 0\n",
      "Training shape 2034 and test shape 3211\n",
      "[15  1  1 ..., 53 53 13]\n",
      "[ 1  1  1 ..., 53 53 53]\n",
      "Trial 1\n",
      "Training shape 2116 and test shape 3129\n",
      "[17  0  0 ..., 60 60 60]\n",
      "[ 0  0  0 ..., 60 60 60]\n",
      "Trial 2\n",
      "Training shape 2051 and test shape 3194\n",
      "[ 1  1  1 ..., 52 57 57]\n",
      "[ 1  1  1 ..., 57 57 57]\n",
      "Trial 3\n",
      "Training shape 1904 and test shape 3341\n",
      "[21  0  0 ..., 60 60 60]\n",
      "[ 0  0  0 ..., 60 60 60]\n",
      "Trial 4\n",
      "Training shape 2087 and test shape 3158\n",
      "[18  0  0 ..., 55 55 55]\n",
      "[ 0  0  0 ..., 55 55 55]\n",
      "Trial 5\n",
      "Training shape 2419 and test shape 2826\n",
      "[48  3  3 ..., 59 59 58]\n",
      "[ 3  3  3 ..., 59 59 59]\n",
      "Trial 6\n",
      "Training shape 2049 and test shape 3196\n",
      "[15  1  1 ..., 60 60 60]\n",
      "[ 1  1  1 ..., 60 60 60]\n",
      "Trial 7\n",
      "Training shape 2367 and test shape 2878\n",
      "[21  0  0 ..., 60 60 60]\n",
      "[ 0  0  0 ..., 60 60 60]\n",
      "Trial 8\n",
      "Training shape 1784 and test shape 3461\n",
      "[51  2  2 ..., 60 60 60]\n",
      "[ 2  2  2 ..., 60 60 60]\n",
      "Trial 9\n",
      "Training shape 2252 and test shape 2993\n",
      "[21  0  0 ..., 60 60 60]\n",
      "[ 0  0  0 ..., 60 60 60]\n"
     ]
    }
   ],
   "source": [
    "accuracy_STSIMM = []\n",
    "accuracy_mat = []\n",
    "accuracy_vsp_original = []\n",
    "accuracy_vsp = []\n",
    "\n",
    "N_material = 61\n",
    "N_material_train = 30\n",
    "\n",
    "for fold in range(10):\n",
    "    try:\n",
    "        print(\"Trial {}\".format(fold))\n",
    "        \n",
    "        # randomly select N_material_train material for training the metric\n",
    "        # and test on the rest\n",
    "        train_select = np.zeros_like(label_material).astype(bool)\n",
    "\n",
    "        idx_train = np.array([])\n",
    "        for i in range(N_material_train):\n",
    "            train_class = np.random.randint(0, N_material)\n",
    "            train_select |= (label_material == train_class)\n",
    "        \n",
    "        idx_train = np.where(train_select == True)[0]\n",
    "        idx_test = np.where(train_select == False)[0]\n",
    "                \n",
    "        idx_train = idx_train.astype(int)\n",
    "        idx_test = idx_test.astype(int)\n",
    "        \n",
    "        print(\"Training shape {} and test shape {}\".format(len(idx_train), len(idx_test)))\n",
    "\n",
    "        X_train = raw_feature[idx_train,:]\n",
    "        X_STSIMM_train = X_STSIMM[idx_train,:]\n",
    "        Y_VSP_train = label_visiprog[idx_train]\n",
    "        Y_mat_train = label_material[idx_train]\n",
    "\n",
    "        X_test = raw_feature[idx_test,:]\n",
    "        X_STSIMM_test = X_STSIMM[idx_test,:]\n",
    "        Y_VSP_test = label_visiprog[idx_test]\n",
    "        Y_mat_test = label_material[idx_test]\n",
    "\n",
    "        res_STSIMM = leave_one_sample_out(X_STSIMM_test, Y_mat_test)\n",
    "        accuracy_STSIMM.append(res_STSIMM['accuracy'])\n",
    "        print(res_STSIMM['prediction'])\n",
    "        print(Y_mat_test)\n",
    "        \n",
    "        model = LFDA()\n",
    "        model.fit(X_train, Y_mat_train)\n",
    "        X_mat_test = model.transform(X_test)\n",
    "        res = leave_one_sample_out(X_mat_test, Y_mat_test)\n",
    "        accuracy_mat.append(res['accuracy'])\n",
    "\n",
    "        model_vsp_original = LFDA()\n",
    "        model_vsp_original.fit(X_train, Y_VSP_train)\n",
    "        X_vsp_original_test = model_vsp_original.transform(X_test)\n",
    "        res_vsp_original = leave_one_sample_out(X_vsp_original_test, Y_mat_test)\n",
    "        accuracy_vsp_original.append(res_vsp_original['accuracy'])\n",
    "        \n",
    "        model_vsp = LFDA_VISIPROG()\n",
    "        model_vsp.fit(X_train, Y_VSP_train)\n",
    "        X_vsp_test = model_vsp.transform(X_test)\n",
    "        res_vsp = leave_one_sample_out(X_vsp_test, Y_mat_test)\n",
    "        accuracy_vsp.append(res_vsp['accuracy'])\n",
    "\n",
    "    except Exception as e:\n",
    "        print(e)"
   ]
  },
  {
   "cell_type": "code",
   "execution_count": 25,
   "metadata": {
    "collapsed": false
   },
   "outputs": [
    {
     "name": "stdout",
     "output_type": "stream",
     "text": [
      "10\n",
      "10\n",
      "10\n",
      "10\n",
      "0.890410958904\n",
      "[0.90501401432575523, 0.8983700862895494, 0.87257357545397618, 0.92427416941035623, 0.89328689043698539, 0.92108987968860578, 0.88892365456821021, 0.89263377345378736, 0.89685062120774339, 0.8904109589041096]\n"
     ]
    }
   ],
   "source": [
    "print(len(accuracy_mat))\n",
    "print(len(accuracy_vsp))\n",
    "print(len(accuracy_STSIMM))\n",
    "print(len(accuracy_vsp_original))\n",
    "\n",
    "print(res_STSIMM['accuracy'])\n",
    "print(accuracy_STSIMM)"
   ]
  },
  {
   "cell_type": "code",
   "execution_count": 26,
   "metadata": {
    "collapsed": false
   },
   "outputs": [
    {
     "data": {
      "text/html": [
       "<div>\n",
       "<table border=\"1\" class=\"dataframe\">\n",
       "  <thead>\n",
       "    <tr style=\"text-align: right;\">\n",
       "      <th></th>\n",
       "      <th>STSIMM</th>\n",
       "      <th>material</th>\n",
       "      <th>visiprog_original</th>\n",
       "      <th>visiprog</th>\n",
       "    </tr>\n",
       "  </thead>\n",
       "  <tbody>\n",
       "    <tr>\n",
       "      <th>0</th>\n",
       "      <td>0.905014</td>\n",
       "      <td>0.987543</td>\n",
       "      <td>0.976954</td>\n",
       "      <td>0.988789</td>\n",
       "    </tr>\n",
       "    <tr>\n",
       "      <th>1</th>\n",
       "      <td>0.898370</td>\n",
       "      <td>0.989134</td>\n",
       "      <td>0.978268</td>\n",
       "      <td>0.989134</td>\n",
       "    </tr>\n",
       "    <tr>\n",
       "      <th>2</th>\n",
       "      <td>0.872574</td>\n",
       "      <td>0.989042</td>\n",
       "      <td>0.983719</td>\n",
       "      <td>0.990294</td>\n",
       "    </tr>\n",
       "    <tr>\n",
       "      <th>3</th>\n",
       "      <td>0.924274</td>\n",
       "      <td>0.985334</td>\n",
       "      <td>0.981143</td>\n",
       "      <td>0.988028</td>\n",
       "    </tr>\n",
       "    <tr>\n",
       "      <th>4</th>\n",
       "      <td>0.893287</td>\n",
       "      <td>0.989867</td>\n",
       "      <td>0.962951</td>\n",
       "      <td>0.985434</td>\n",
       "    </tr>\n",
       "    <tr>\n",
       "      <th>5</th>\n",
       "      <td>0.921090</td>\n",
       "      <td>0.992569</td>\n",
       "      <td>0.984430</td>\n",
       "      <td>0.991154</td>\n",
       "    </tr>\n",
       "    <tr>\n",
       "      <th>6</th>\n",
       "      <td>0.888924</td>\n",
       "      <td>0.992178</td>\n",
       "      <td>0.978723</td>\n",
       "      <td>0.992804</td>\n",
       "    </tr>\n",
       "    <tr>\n",
       "      <th>7</th>\n",
       "      <td>0.892634</td>\n",
       "      <td>0.987144</td>\n",
       "      <td>0.974635</td>\n",
       "      <td>0.987839</td>\n",
       "    </tr>\n",
       "    <tr>\n",
       "      <th>8</th>\n",
       "      <td>0.896851</td>\n",
       "      <td>0.989887</td>\n",
       "      <td>0.987865</td>\n",
       "      <td>0.989021</td>\n",
       "    </tr>\n",
       "    <tr>\n",
       "      <th>9</th>\n",
       "      <td>0.890411</td>\n",
       "      <td>0.989977</td>\n",
       "      <td>0.961243</td>\n",
       "      <td>0.989977</td>\n",
       "    </tr>\n",
       "  </tbody>\n",
       "</table>\n",
       "</div>"
      ],
      "text/plain": [
       "     STSIMM  material  visiprog_original  visiprog\n",
       "0  0.905014  0.987543           0.976954  0.988789\n",
       "1  0.898370  0.989134           0.978268  0.989134\n",
       "2  0.872574  0.989042           0.983719  0.990294\n",
       "3  0.924274  0.985334           0.981143  0.988028\n",
       "4  0.893287  0.989867           0.962951  0.985434\n",
       "5  0.921090  0.992569           0.984430  0.991154\n",
       "6  0.888924  0.992178           0.978723  0.992804\n",
       "7  0.892634  0.987144           0.974635  0.987839\n",
       "8  0.896851  0.989887           0.987865  0.989021\n",
       "9  0.890411  0.989977           0.961243  0.989977"
      ]
     },
     "metadata": {},
     "output_type": "display_data"
    },
    {
     "data": {
      "text/plain": [
       "STSIMM               0.898343\n",
       "material             0.989267\n",
       "visiprog_original    0.976993\n",
       "visiprog             0.989247\n",
       "dtype: float64"
      ]
     },
     "metadata": {},
     "output_type": "display_data"
    }
   ],
   "source": [
    "df = pd.DataFrame({'visiprog':accuracy_vsp, 'material':accuracy_mat, 'STSIMM':accuracy_STSIMM, \\\n",
    "       'visiprog_original':accuracy_vsp_original}, columns=['STSIMM','material','visiprog_original','visiprog'])\n",
    "display(df)\n",
    "display(df.mean())"
   ]
  },
  {
   "cell_type": "code",
   "execution_count": null,
   "metadata": {
    "collapsed": false
   },
   "outputs": [],
   "source": [
    "print(model.transformer())"
   ]
  },
  {
   "cell_type": "code",
   "execution_count": null,
   "metadata": {
    "collapsed": true
   },
   "outputs": [],
   "source": []
  }
 ],
 "metadata": {
  "kernelspec": {
   "display_name": "Python 3",
   "language": "python",
   "name": "python3"
  },
  "language_info": {
   "codemirror_mode": {
    "name": "ipython",
    "version": 3
   },
   "file_extension": ".py",
   "mimetype": "text/x-python",
   "name": "python",
   "nbconvert_exporter": "python",
   "pygments_lexer": "ipython3",
   "version": "3.4.5"
  }
 },
 "nbformat": 4,
 "nbformat_minor": 2
}
