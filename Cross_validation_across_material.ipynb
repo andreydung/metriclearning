{
 "cells": [
  {
   "cell_type": "code",
   "execution_count": 1,
   "metadata": {
    "collapsed": false
   },
   "outputs": [],
   "source": [
    "from visiprog.data import *\n",
    "from visiprog.metriclearning import *\n",
    "from visiprog.evaluate import *\n",
    "%matplotlib inline\n",
    "import numpy as np\n",
    "from visiprog.metric_learn.fda_visiprog import LFDA_VISIPROG\n",
    "from metric_learn import Covariance\n",
    "\n",
    "\n",
    "from IPython.display import Image, display\n",
    "from sklearn.model_selection import train_test_split\n",
    "import pandas as pd\n",
    "\n",
    "from sklearn.cluster import KMeans"
   ]
  },
  {
   "cell_type": "code",
   "execution_count": 6,
   "metadata": {
    "collapsed": false
   },
   "outputs": [
    {
     "name": "stdout",
     "output_type": "stream",
     "text": [
      "(5245, 82)\n",
      "(5245,)\n"
     ]
    }
   ],
   "source": [
    "raw_feature = np.genfromtxt('visiprog/data/curetaliasfree.csv',delimiter=\",\")\n",
    "label_material = read_material_label()\n",
    "groups_VSP, material = read_VSP_group(pappas_only=False)\n",
    "\n",
    "print(raw_feature.shape)\n",
    "print(label_material.shape)"
   ]
  },
  {
   "cell_type": "code",
   "execution_count": 7,
   "metadata": {
    "collapsed": false
   },
   "outputs": [
    {
     "name": "stdout",
     "output_type": "stream",
     "text": [
      "200.0\n"
     ]
    }
   ],
   "source": [
    "label_visiprog = get_VSP_label(groups_VSP, raw_feature.shape[0])\n",
    "\n",
    "print(np.max(label_visiprog))"
   ]
  },
  {
   "cell_type": "code",
   "execution_count": 8,
   "metadata": {
    "collapsed": false
   },
   "outputs": [],
   "source": [
    "model = Covariance()\n",
    "model.fit(raw_feature)\n",
    "X_STSIMM = model.transform(raw_feature)\n",
    "# print(X_STSIMM)"
   ]
  },
  {
   "cell_type": "code",
   "execution_count": 20,
   "metadata": {
    "collapsed": false,
    "scrolled": false
   },
   "outputs": [
    {
     "name": "stdout",
     "output_type": "stream",
     "text": [
      "Trial 0\n",
      "Training shape 803 and test shape 4442\n",
      "[18  0  0 ..., 60 60 60]\n",
      "[ 0  0  0 ..., 60 60 60]\n",
      "Trial 1\n",
      "Training shape 920 and test shape 4325\n",
      "[21  0  0 ..., 60 60 60]\n",
      "[ 0  0  0 ..., 60 60 60]\n",
      "Trial 2\n",
      "Training shape 860 and test shape 4385\n",
      "[15  1  1 ..., 60 60 60]\n",
      "[ 1  1  1 ..., 60 60 60]\n",
      "Trial 3\n",
      "Training shape 784 and test shape 4461\n",
      "[17  0  0 ..., 60 60 60]\n",
      "[ 0  0  0 ..., 60 60 60]\n",
      "Trial 4\n",
      "Training shape 883 and test shape 4362\n",
      "[24  1  1 ..., 60 60 60]\n",
      "[ 1  1  1 ..., 60 60 60]\n",
      "Trial 5\n",
      "Training shape 914 and test shape 4331\n",
      "[21  0  0 ..., 60 60 60]\n",
      "[ 0  0  0 ..., 60 60 60]\n",
      "Trial 6\n",
      "Training shape 864 and test shape 4381\n",
      "[15  1  1 ..., 59 59 58]\n",
      "[ 1  1  1 ..., 59 59 59]\n",
      "Trial 7\n",
      "Training shape 807 and test shape 4438\n",
      "[21  0  0 ..., 60 60 60]\n",
      "[ 0  0  0 ..., 60 60 60]\n",
      "Trial 8\n",
      "Training shape 731 and test shape 4514\n",
      "[21  0  0 ..., 60 60 60]\n",
      "[ 0  0  0 ..., 60 60 60]\n",
      "Trial 9\n",
      "Training shape 920 and test shape 4325\n",
      "[17  0  0 ..., 60 60 60]\n",
      "[ 0  0  0 ..., 60 60 60]\n"
     ]
    }
   ],
   "source": [
    "accuracy_STSIMM = []\n",
    "accuracy_mat = []\n",
    "accuracy_vsp_original = []\n",
    "accuracy_vsp = []\n",
    "\n",
    "N_material = 61\n",
    "N_material_train = 10\n",
    "\n",
    "for fold in range(10):\n",
    "    print(\"Trial {}\".format(fold))\n",
    "\n",
    "    # randomly select N_material_train material for training the metric\n",
    "    # and test on the rest\n",
    "    train_select = np.zeros_like(label_material).astype(bool)\n",
    "\n",
    "    idx_train = np.array([])\n",
    "    for i in range(N_material_train):\n",
    "        train_class = np.random.randint(0, N_material)\n",
    "        train_select |= (label_material == train_class)\n",
    "\n",
    "    idx_train = np.where(train_select == True)[0]\n",
    "    idx_test = np.where(train_select == False)[0]\n",
    "\n",
    "    idx_train = idx_train.astype(int)\n",
    "    idx_test = idx_test.astype(int)\n",
    "\n",
    "    print(\"Training shape {} and test shape {}\".format(len(idx_train), len(idx_test)))\n",
    "\n",
    "    X_train = raw_feature[idx_train,:]\n",
    "    X_STSIMM_train = X_STSIMM[idx_train,:]\n",
    "    Y_VSP_train = label_visiprog[idx_train]\n",
    "    Y_mat_train = label_material[idx_train]\n",
    "\n",
    "    X_test = raw_feature[idx_test,:]\n",
    "    X_STSIMM_test = X_STSIMM[idx_test,:]\n",
    "    Y_VSP_test = label_visiprog[idx_test]\n",
    "    Y_mat_test = label_material[idx_test]\n",
    "\n",
    "    res_STSIMM = leave_one_sample_out(X_STSIMM_test, Y_mat_test)\n",
    "    accuracy_STSIMM.append(res_STSIMM['accuracy'])\n",
    "    print(res_STSIMM['prediction'])\n",
    "    print(Y_mat_test)\n",
    "\n",
    "    model = LFDA()\n",
    "    try:\n",
    "        model.fit(X_train, Y_mat_train)\n",
    "        X_mat_test = model.transform(X_test)\n",
    "        res = leave_one_sample_out(X_mat_test, Y_mat_test)\n",
    "        accuracy_mat.append(res['accuracy'])\n",
    "    except Exception as e:\n",
    "        acuracy_mat.append(NaN)\n",
    "\n",
    "    model_vsp_original = LFDA()\n",
    "    try:\n",
    "        model_vsp_original.fit(X_train, Y_VSP_train)\n",
    "        X_vsp_original_test = model_vsp_original.transform(X_test)\n",
    "        res_vsp_original = leave_one_sample_out(X_vsp_original_test, Y_mat_test)\n",
    "        accuracy_vsp_original.append(res_vsp_original['accuracy'])\n",
    "    except Exception as e:\n",
    "        accuracy_vsp_original.append(NaN)\n",
    "\n",
    "    model_vsp = LFDA_VISIPROG()\n",
    "    try:\n",
    "        model_vsp.fit(X_train, Y_VSP_train)\n",
    "        X_vsp_test = model_vsp.transform(X_test)\n",
    "        res_vsp = leave_one_sample_out(X_vsp_test, Y_mat_test)\n",
    "        accuracy_vsp.append(res_vsp['accuracy'])\n",
    "    except Exception as e:\n",
    "        accuracy_vsp.append(NaN)"
   ]
  },
  {
   "cell_type": "code",
   "execution_count": 30,
   "metadata": {
    "collapsed": false
   },
   "outputs": [
    {
     "name": "stdout",
     "output_type": "stream",
     "text": [
      "10\n",
      "10\n",
      "10\n",
      "10\n",
      "0.880043033889\n",
      "[0.88701110574601638, 0.87974345269909138, 0.91476323119777159, 0.88532707844670311, 0.87946777980693969, 0.88285184203551548, 0.8778484366719661, 0.88400323711896411, 0.89361118727721411, 0.8800430338891877]\n"
     ]
    }
   ],
   "source": [
    "print(len(accuracy_mat))\n",
    "print(len(accuracy_vsp))\n",
    "print(len(accuracy_STSIMM))\n",
    "print(len(accuracy_vsp_original))\n",
    "\n",
    "print(res_STSIMM['accuracy'])\n",
    "print(accuracy_STSIMM)"
   ]
  },
  {
   "cell_type": "code",
   "execution_count": 21,
   "metadata": {
    "collapsed": false,
    "scrolled": true
   },
   "outputs": [
    {
     "data": {
      "text/html": [
       "<div>\n",
       "<table border=\"1\" class=\"dataframe\">\n",
       "  <thead>\n",
       "    <tr style=\"text-align: right;\">\n",
       "      <th></th>\n",
       "      <th>STSIMM</th>\n",
       "      <th>material</th>\n",
       "      <th>visiprog_original</th>\n",
       "      <th>visiprog</th>\n",
       "    </tr>\n",
       "  </thead>\n",
       "  <tbody>\n",
       "    <tr>\n",
       "      <th>0</th>\n",
       "      <td>0.874381</td>\n",
       "      <td>0.970959</td>\n",
       "      <td>0.972310</td>\n",
       "      <td>0.975462</td>\n",
       "    </tr>\n",
       "    <tr>\n",
       "      <th>1</th>\n",
       "      <td>0.879306</td>\n",
       "      <td>0.976879</td>\n",
       "      <td>0.980578</td>\n",
       "      <td>0.965549</td>\n",
       "    </tr>\n",
       "    <tr>\n",
       "      <th>2</th>\n",
       "      <td>0.872064</td>\n",
       "      <td>0.978107</td>\n",
       "      <td>0.978563</td>\n",
       "      <td>0.972406</td>\n",
       "    </tr>\n",
       "    <tr>\n",
       "      <th>3</th>\n",
       "      <td>0.888142</td>\n",
       "      <td>0.973997</td>\n",
       "      <td>0.975342</td>\n",
       "      <td>0.977584</td>\n",
       "    </tr>\n",
       "    <tr>\n",
       "      <th>4</th>\n",
       "      <td>0.874140</td>\n",
       "      <td>0.970197</td>\n",
       "      <td>0.965383</td>\n",
       "      <td>0.966758</td>\n",
       "    </tr>\n",
       "    <tr>\n",
       "      <th>5</th>\n",
       "      <td>0.888940</td>\n",
       "      <td>0.979681</td>\n",
       "      <td>0.969060</td>\n",
       "      <td>0.971600</td>\n",
       "    </tr>\n",
       "    <tr>\n",
       "      <th>6</th>\n",
       "      <td>0.882903</td>\n",
       "      <td>0.955718</td>\n",
       "      <td>0.981739</td>\n",
       "      <td>0.958229</td>\n",
       "    </tr>\n",
       "    <tr>\n",
       "      <th>7</th>\n",
       "      <td>0.863227</td>\n",
       "      <td>0.957639</td>\n",
       "      <td>0.933979</td>\n",
       "      <td>0.946823</td>\n",
       "    </tr>\n",
       "    <tr>\n",
       "      <th>8</th>\n",
       "      <td>0.871954</td>\n",
       "      <td>0.959681</td>\n",
       "      <td>0.959238</td>\n",
       "      <td>0.951706</td>\n",
       "    </tr>\n",
       "    <tr>\n",
       "      <th>9</th>\n",
       "      <td>0.881850</td>\n",
       "      <td>0.971561</td>\n",
       "      <td>0.972254</td>\n",
       "      <td>0.968092</td>\n",
       "    </tr>\n",
       "    <tr>\n",
       "      <th>average</th>\n",
       "      <td>0.877691</td>\n",
       "      <td>0.969442</td>\n",
       "      <td>0.968845</td>\n",
       "      <td>0.965421</td>\n",
       "    </tr>\n",
       "  </tbody>\n",
       "</table>\n",
       "</div>"
      ],
      "text/plain": [
       "           STSIMM  material  visiprog_original  visiprog\n",
       "0        0.874381  0.970959           0.972310  0.975462\n",
       "1        0.879306  0.976879           0.980578  0.965549\n",
       "2        0.872064  0.978107           0.978563  0.972406\n",
       "3        0.888142  0.973997           0.975342  0.977584\n",
       "4        0.874140  0.970197           0.965383  0.966758\n",
       "5        0.888940  0.979681           0.969060  0.971600\n",
       "6        0.882903  0.955718           0.981739  0.958229\n",
       "7        0.863227  0.957639           0.933979  0.946823\n",
       "8        0.871954  0.959681           0.959238  0.951706\n",
       "9        0.881850  0.971561           0.972254  0.968092\n",
       "average  0.877691  0.969442           0.968845  0.965421"
      ]
     },
     "metadata": {},
     "output_type": "display_data"
    }
   ],
   "source": [
    "df = pd.DataFrame({'visiprog':accuracy_vsp, 'material':accuracy_mat, 'STSIMM':accuracy_STSIMM, \\\n",
    "       'visiprog_original':accuracy_vsp_original}, columns=['STSIMM','material','visiprog_original','visiprog'])\n",
    "\n",
    "df.loc['average'] = df.mean()\n",
    "\n",
    "display(df)\n",
    "# display(df.mean())"
   ]
  },
  {
   "cell_type": "code",
   "execution_count": null,
   "metadata": {
    "collapsed": false
   },
   "outputs": [],
   "source": [
    "print(model.transformer())"
   ]
  },
  {
   "cell_type": "code",
   "execution_count": null,
   "metadata": {
    "collapsed": true
   },
   "outputs": [],
   "source": []
  }
 ],
 "metadata": {
  "kernelspec": {
   "display_name": "Python 3",
   "language": "python",
   "name": "python3"
  },
  "language_info": {
   "codemirror_mode": {
    "name": "ipython",
    "version": 3
   },
   "file_extension": ".py",
   "mimetype": "text/x-python",
   "name": "python",
   "nbconvert_exporter": "python",
   "pygments_lexer": "ipython3",
   "version": "3.4.5"
  }
 },
 "nbformat": 4,
 "nbformat_minor": 2
}
