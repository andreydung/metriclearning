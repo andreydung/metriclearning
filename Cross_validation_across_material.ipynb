{
 "cells": [
  {
   "cell_type": "code",
   "execution_count": 1,
   "metadata": {
    "collapsed": false
   },
   "outputs": [],
   "source": [
    "from visiprog.data import *\n",
    "from visiprog.metriclearning import *\n",
    "from visiprog.evaluate import *\n",
    "%matplotlib inline\n",
    "import numpy as np\n",
    "from visiprog.metric_learn.fda_visiprog import LFDA_VISIPROG\n",
    "from metric_learn import Covariance\n",
    "\n",
    "\n",
    "from IPython.display import Image, display\n",
    "from sklearn.model_selection import train_test_split\n",
    "import pandas as pd\n",
    "\n",
    "from sklearn.cluster import KMeans"
   ]
  },
  {
   "cell_type": "code",
   "execution_count": 2,
   "metadata": {
    "collapsed": false
   },
   "outputs": [
    {
     "name": "stdout",
     "output_type": "stream",
     "text": [
      "(5245, 82)\n",
      "(5245,)\n"
     ]
    }
   ],
   "source": [
    "raw_feature = np.genfromtxt('visiprog/data/curetaliasfree.csv',delimiter=\",\")\n",
    "label_material = read_material_label()\n",
    "groups_VSP, N = read_VSP_label()\n",
    "\n",
    "print(raw_feature.shape)\n",
    "print(label_material.shape)"
   ]
  },
  {
   "cell_type": "code",
   "execution_count": 3,
   "metadata": {
    "collapsed": false
   },
   "outputs": [
    {
     "name": "stdout",
     "output_type": "stream",
     "text": [
      "202.0\n"
     ]
    }
   ],
   "source": [
    "label_visiprog = np.zeros((N,))\n",
    "\n",
    "count = 0\n",
    "for g in groups_VSP:\n",
    "    label = False\n",
    "    \n",
    "    # check whether any entry in the group has been labelled yet\n",
    "    # if yes, then merge with that existing label\n",
    "    for i in g:\n",
    "        if label_visiprog[i] != 0:\n",
    "            label = label_visiprog[i]\n",
    "            break\n",
    "    \n",
    "    # if no, then create a new label\n",
    "    if label == False:\n",
    "        count += 1\n",
    "        label = count\n",
    "        \n",
    "    for i in g:\n",
    "        label_visiprog[i] = label\n",
    "\n",
    "print(np.max(label_visiprog))"
   ]
  },
  {
   "cell_type": "code",
   "execution_count": 4,
   "metadata": {
    "collapsed": false
   },
   "outputs": [],
   "source": [
    "model = Covariance()\n",
    "model.fit(raw_feature)\n",
    "X_STSIMM = model.transform(raw_feature)\n",
    "# print(X_STSIMM)"
   ]
  },
  {
   "cell_type": "code",
   "execution_count": 29,
   "metadata": {
    "collapsed": false,
    "scrolled": false
   },
   "outputs": [
    {
     "name": "stdout",
     "output_type": "stream",
     "text": [
      "Trial 0\n",
      "Training shape 1103 and test shape 4142\n",
      "[21  0  0 ..., 60 60 60]\n",
      "[ 0  0  0 ..., 60 60 60]\n",
      "Trial 1\n",
      "Training shape 1503 and test shape 3742\n",
      "[ 5  5  5 ..., 59 59 58]\n",
      "[ 5  5  5 ..., 59 59 59]\n",
      "Trial 2\n",
      "Training shape 1655 and test shape 3590\n",
      "[21  0  0 ..., 60 60 60]\n",
      "[ 0  0  0 ..., 60 60 60]\n",
      "Trial 3\n",
      "Training shape 1408 and test shape 3837\n",
      "[15  1  1 ..., 60 60 60]\n",
      "[ 1  1  1 ..., 60 60 60]\n",
      "Trial 4\n",
      "Training shape 1412 and test shape 3833\n",
      "[15  1  1 ..., 60 60 60]\n",
      "[ 1  1  1 ..., 60 60 60]\n",
      "Trial 5\n",
      "Training shape 1472 and test shape 3773\n",
      "[21  0  0 ..., 60 60 60]\n",
      "[ 0  0  0 ..., 60 60 60]\n",
      "Trial 6\n",
      "Training shape 1471 and test shape 3774\n",
      "[21  0  0 ..., 60 60 60]\n",
      "[ 0  0  0 ..., 60 60 60]\n",
      "Trial 7\n",
      "Training shape 1538 and test shape 3707\n",
      "[21  0  0 ..., 58 58 58]\n",
      "[ 0  0  0 ..., 58 58 58]\n",
      "Trial 8\n",
      "Training shape 1598 and test shape 3647\n",
      "[15  1  1 ..., 60 60 60]\n",
      "[ 1  1  1 ..., 60 60 60]\n",
      "Trial 9\n",
      "Training shape 1527 and test shape 3718\n",
      "[51  2  2 ..., 60 60 60]\n",
      "[ 2  2  2 ..., 60 60 60]\n"
     ]
    }
   ],
   "source": [
    "accuracy_STSIMM = []\n",
    "accuracy_mat = []\n",
    "accuracy_vsp_original = []\n",
    "accuracy_vsp = []\n",
    "\n",
    "N_material = 61\n",
    "N_material_train = 20\n",
    "\n",
    "for fold in range(10):\n",
    "    print(\"Trial {}\".format(fold))\n",
    "\n",
    "    # randomly select N_material_train material for training the metric\n",
    "    # and test on the rest\n",
    "    train_select = np.zeros_like(label_material).astype(bool)\n",
    "\n",
    "    idx_train = np.array([])\n",
    "    for i in range(N_material_train):\n",
    "        train_class = np.random.randint(0, N_material)\n",
    "        train_select |= (label_material == train_class)\n",
    "\n",
    "    idx_train = np.where(train_select == True)[0]\n",
    "    idx_test = np.where(train_select == False)[0]\n",
    "\n",
    "    idx_train = idx_train.astype(int)\n",
    "    idx_test = idx_test.astype(int)\n",
    "\n",
    "    print(\"Training shape {} and test shape {}\".format(len(idx_train), len(idx_test)))\n",
    "\n",
    "    X_train = raw_feature[idx_train,:]\n",
    "    X_STSIMM_train = X_STSIMM[idx_train,:]\n",
    "    Y_VSP_train = label_visiprog[idx_train]\n",
    "    Y_mat_train = label_material[idx_train]\n",
    "\n",
    "    X_test = raw_feature[idx_test,:]\n",
    "    X_STSIMM_test = X_STSIMM[idx_test,:]\n",
    "    Y_VSP_test = label_visiprog[idx_test]\n",
    "    Y_mat_test = label_material[idx_test]\n",
    "\n",
    "    res_STSIMM = leave_one_sample_out(X_STSIMM_test, Y_mat_test)\n",
    "    accuracy_STSIMM.append(res_STSIMM['accuracy'])\n",
    "    print(res_STSIMM['prediction'])\n",
    "    print(Y_mat_test)\n",
    "\n",
    "    model = LFDA()\n",
    "    try:\n",
    "        model.fit(X_train, Y_mat_train)\n",
    "        X_mat_test = model.transform(X_test)\n",
    "        res = leave_one_sample_out(X_mat_test, Y_mat_test)\n",
    "        accuracy_mat.append(res['accuracy'])\n",
    "    except Exception as e:\n",
    "        acuracy_mat.append(NaN)\n",
    "\n",
    "    model_vsp_original = LFDA()\n",
    "    try:\n",
    "        model_vsp_original.fit(X_train, Y_VSP_train)\n",
    "        X_vsp_original_test = model_vsp_original.transform(X_test)\n",
    "        res_vsp_original = leave_one_sample_out(X_vsp_original_test, Y_mat_test)\n",
    "        accuracy_vsp_original.append(res_vsp_original['accuracy'])\n",
    "    except Exception as e:\n",
    "        accuracy_vsp_original.append(NaN)\n",
    "\n",
    "    model_vsp = LFDA_VISIPROG()\n",
    "    try:\n",
    "        model_vsp.fit(X_train, Y_VSP_train)\n",
    "        X_vsp_test = model_vsp.transform(X_test)\n",
    "        res_vsp = leave_one_sample_out(X_vsp_test, Y_mat_test)\n",
    "        accuracy_vsp.append(res_vsp['accuracy'])\n",
    "    except Exception as e:\n",
    "        accuracy_vsp.append(NaN)"
   ]
  },
  {
   "cell_type": "code",
   "execution_count": 30,
   "metadata": {
    "collapsed": false
   },
   "outputs": [
    {
     "name": "stdout",
     "output_type": "stream",
     "text": [
      "10\n",
      "10\n",
      "10\n",
      "10\n",
      "0.880043033889\n",
      "[0.88701110574601638, 0.87974345269909138, 0.91476323119777159, 0.88532707844670311, 0.87946777980693969, 0.88285184203551548, 0.8778484366719661, 0.88400323711896411, 0.89361118727721411, 0.8800430338891877]\n"
     ]
    }
   ],
   "source": [
    "print(len(accuracy_mat))\n",
    "print(len(accuracy_vsp))\n",
    "print(len(accuracy_STSIMM))\n",
    "print(len(accuracy_vsp_original))\n",
    "\n",
    "print(res_STSIMM['accuracy'])\n",
    "print(accuracy_STSIMM)"
   ]
  },
  {
   "cell_type": "code",
   "execution_count": 35,
   "metadata": {
    "collapsed": false
   },
   "outputs": [
    {
     "data": {
      "text/html": [
       "<div>\n",
       "<table border=\"1\" class=\"dataframe\">\n",
       "  <thead>\n",
       "    <tr style=\"text-align: right;\">\n",
       "      <th></th>\n",
       "      <th>STSIMM</th>\n",
       "      <th>material</th>\n",
       "      <th>visiprog_original</th>\n",
       "      <th>visiprog</th>\n",
       "    </tr>\n",
       "  </thead>\n",
       "  <tbody>\n",
       "    <tr>\n",
       "      <th>0</th>\n",
       "      <td>0.887011</td>\n",
       "      <td>0.979720</td>\n",
       "      <td>0.975374</td>\n",
       "      <td>0.970546</td>\n",
       "    </tr>\n",
       "    <tr>\n",
       "      <th>1</th>\n",
       "      <td>0.879743</td>\n",
       "      <td>0.986104</td>\n",
       "      <td>0.977819</td>\n",
       "      <td>0.984768</td>\n",
       "    </tr>\n",
       "    <tr>\n",
       "      <th>2</th>\n",
       "      <td>0.914763</td>\n",
       "      <td>0.983565</td>\n",
       "      <td>0.982173</td>\n",
       "      <td>0.985794</td>\n",
       "    </tr>\n",
       "    <tr>\n",
       "      <th>3</th>\n",
       "      <td>0.885327</td>\n",
       "      <td>0.984363</td>\n",
       "      <td>0.972635</td>\n",
       "      <td>0.983842</td>\n",
       "    </tr>\n",
       "    <tr>\n",
       "      <th>4</th>\n",
       "      <td>0.879468</td>\n",
       "      <td>0.988521</td>\n",
       "      <td>0.980694</td>\n",
       "      <td>0.983564</td>\n",
       "    </tr>\n",
       "    <tr>\n",
       "      <th>5</th>\n",
       "      <td>0.882852</td>\n",
       "      <td>0.984893</td>\n",
       "      <td>0.973496</td>\n",
       "      <td>0.983037</td>\n",
       "    </tr>\n",
       "    <tr>\n",
       "      <th>6</th>\n",
       "      <td>0.877848</td>\n",
       "      <td>0.976153</td>\n",
       "      <td>0.960784</td>\n",
       "      <td>0.981982</td>\n",
       "    </tr>\n",
       "    <tr>\n",
       "      <th>7</th>\n",
       "      <td>0.884003</td>\n",
       "      <td>0.990558</td>\n",
       "      <td>0.947936</td>\n",
       "      <td>0.987861</td>\n",
       "    </tr>\n",
       "    <tr>\n",
       "      <th>8</th>\n",
       "      <td>0.893611</td>\n",
       "      <td>0.986016</td>\n",
       "      <td>0.976145</td>\n",
       "      <td>0.980806</td>\n",
       "    </tr>\n",
       "    <tr>\n",
       "      <th>9</th>\n",
       "      <td>0.880043</td>\n",
       "      <td>0.973642</td>\n",
       "      <td>0.981442</td>\n",
       "      <td>0.975524</td>\n",
       "    </tr>\n",
       "    <tr>\n",
       "      <th>average</th>\n",
       "      <td>0.886467</td>\n",
       "      <td>0.983353</td>\n",
       "      <td>0.972850</td>\n",
       "      <td>0.981772</td>\n",
       "    </tr>\n",
       "  </tbody>\n",
       "</table>\n",
       "</div>"
      ],
      "text/plain": [
       "           STSIMM  material  visiprog_original  visiprog\n",
       "0        0.887011  0.979720           0.975374  0.970546\n",
       "1        0.879743  0.986104           0.977819  0.984768\n",
       "2        0.914763  0.983565           0.982173  0.985794\n",
       "3        0.885327  0.984363           0.972635  0.983842\n",
       "4        0.879468  0.988521           0.980694  0.983564\n",
       "5        0.882852  0.984893           0.973496  0.983037\n",
       "6        0.877848  0.976153           0.960784  0.981982\n",
       "7        0.884003  0.990558           0.947936  0.987861\n",
       "8        0.893611  0.986016           0.976145  0.980806\n",
       "9        0.880043  0.973642           0.981442  0.975524\n",
       "average  0.886467  0.983353           0.972850  0.981772"
      ]
     },
     "metadata": {},
     "output_type": "display_data"
    }
   ],
   "source": [
    "df = pd.DataFrame({'visiprog':accuracy_vsp, 'material':accuracy_mat, 'STSIMM':accuracy_STSIMM, \\\n",
    "       'visiprog_original':accuracy_vsp_original}, columns=['STSIMM','material','visiprog_original','visiprog'])\n",
    "\n",
    "df.loc['average'] = df.mean()\n",
    "\n",
    "display(df)\n",
    "# display(df.mean())"
   ]
  },
  {
   "cell_type": "code",
   "execution_count": null,
   "metadata": {
    "collapsed": false
   },
   "outputs": [],
   "source": [
    "print(model.transformer())"
   ]
  },
  {
   "cell_type": "code",
   "execution_count": null,
   "metadata": {
    "collapsed": true
   },
   "outputs": [],
   "source": []
  }
 ],
 "metadata": {
  "kernelspec": {
   "display_name": "Python 3",
   "language": "python",
   "name": "python3"
  },
  "language_info": {
   "codemirror_mode": {
    "name": "ipython",
    "version": 3
   },
   "file_extension": ".py",
   "mimetype": "text/x-python",
   "name": "python",
   "nbconvert_exporter": "python",
   "pygments_lexer": "ipython3",
   "version": "3.4.5"
  }
 },
 "nbformat": 4,
 "nbformat_minor": 2
}
