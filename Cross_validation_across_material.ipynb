{
 "cells": [
  {
   "cell_type": "code",
   "execution_count": 1,
   "metadata": {
    "collapsed": false
   },
   "outputs": [],
   "source": [
    "from visiprog.data import *\n",
    "from visiprog.metriclearning import *\n",
    "from visiprog.evaluate import *\n",
    "%matplotlib inline\n",
    "import numpy as np\n",
    "from visiprog.metric_learn.fda_visiprog import LFDA_VISIPROG\n",
    "from metric_learn import Covariance\n",
    "\n",
    "\n",
    "from IPython.display import Image, display\n",
    "from sklearn.model_selection import train_test_split\n",
    "import pandas as pd"
   ]
  },
  {
   "cell_type": "code",
   "execution_count": 2,
   "metadata": {
    "collapsed": false
   },
   "outputs": [
    {
     "name": "stdout",
     "output_type": "stream",
     "text": [
      "(5245, 82)\n",
      "(5245,)\n"
     ]
    }
   ],
   "source": [
    "raw_feature = np.genfromtxt('visiprog/data/curetaliasfree.csv',delimiter=\",\")\n",
    "label_material = read_material_label()\n",
    "groups_VSP, N = read_VSP_label()\n",
    "\n",
    "print(raw_feature.shape)\n",
    "print(label_material.shape)"
   ]
  },
  {
   "cell_type": "code",
   "execution_count": 3,
   "metadata": {
    "collapsed": false
   },
   "outputs": [
    {
     "name": "stdout",
     "output_type": "stream",
     "text": [
      "202.0\n"
     ]
    }
   ],
   "source": [
    "label_visiprog = np.zeros((N,))\n",
    "\n",
    "count = 0\n",
    "for g in groups_VSP:\n",
    "    label = False\n",
    "    \n",
    "    # check whether any entry in the group has been labelled yet\n",
    "    # if yes, then merge with that existing label\n",
    "    for i in g:\n",
    "        if label_visiprog[i] != 0:\n",
    "            label = label_visiprog[i]\n",
    "            break\n",
    "    \n",
    "    # if no, then create a new label\n",
    "    if label == False:\n",
    "        count += 1\n",
    "        label = count\n",
    "        \n",
    "    for i in g:\n",
    "        label_visiprog[i] = label\n",
    "\n",
    "print(np.max(label_visiprog))"
   ]
  },
  {
   "cell_type": "code",
   "execution_count": 25,
   "metadata": {
    "collapsed": false
   },
   "outputs": [
    {
     "name": "stdout",
     "output_type": "stream",
     "text": [
      "[[  0.84626614  -0.0601734   -2.48037165 ...,  11.81214878   4.07557203\n",
      "   16.28311992]\n",
      " [  1.61187253  -0.13726814  -2.84377391 ...,  12.32477588   2.42529768\n",
      "   16.07555976]\n",
      " [  1.73860902  -0.15054939  -2.83881149 ...,  11.88581893   2.37714822\n",
      "   15.87037336]\n",
      " ..., \n",
      " [  1.29760807   0.64739122  -1.62276646 ...,  13.72418317   3.14230751\n",
      "   16.1829167 ]\n",
      " [  1.49290026   0.67626045  -1.12723529 ...,  12.12259606   2.67567087\n",
      "   16.51988945]\n",
      " [  1.67951279   0.64138849  -1.75318638 ...,  12.05057305   3.36389679\n",
      "   15.61697625]]\n"
     ]
    }
   ],
   "source": [
    "model = Covariance()\n",
    "model.fit(raw_feature)\n",
    "X_STSIMM = model.transform(raw_feature)\n",
    "# print(X_STSIMM)"
   ]
  },
  {
   "cell_type": "code",
   "execution_count": 29,
   "metadata": {
    "collapsed": false,
    "scrolled": false
   },
   "outputs": [
    {
     "name": "stdout",
     "output_type": "stream",
     "text": [
      "Trial 0\n",
      "Training shape 694 and test shape 4551\n",
      "Trial 1\n",
      "Training shape 791 and test shape 4454\n",
      "Trial 2\n",
      "Training shape 640 and test shape 4605\n",
      "Trial 3\n",
      "Training shape 916 and test shape 4329\n",
      "Trial 4\n",
      "Training shape 828 and test shape 4417\n",
      "Trial 5\n",
      "Training shape 824 and test shape 4421\n",
      "Trial 6\n",
      "Training shape 640 and test shape 4605\n",
      "Trial 7\n",
      "Training shape 736 and test shape 4509\n",
      "Trial 8\n",
      "Training shape 736 and test shape 4509\n",
      "Trial 9\n",
      "Training shape 883 and test shape 4362\n"
     ]
    }
   ],
   "source": [
    "accuracy_mat = []\n",
    "accuracy_vsp = []\n",
    "accuracy_STSIMM = []\n",
    "\n",
    "N_material = 61\n",
    "N_material_train = 10\n",
    "\n",
    "for fold in range(10):\n",
    "    try:\n",
    "        print(\"Trial {}\".format(fold))\n",
    "        \n",
    "        train_select = np.zeros_like(label_material).astype(bool)\n",
    "\n",
    "        idx_train = np.array([])\n",
    "        for i in range(N_material_train):\n",
    "            train_class = np.random.randint(0, N_material)\n",
    "            train_select |= (label_material == train_class)\n",
    "        \n",
    "        \n",
    "        idx_train = np.where(train_select == True)[0]\n",
    "        idx_test = np.where(train_select == False)[0]\n",
    "                \n",
    "        idx_train = idx_train.astype(int)\n",
    "        idx_test = idx_test.astype(int)\n",
    "        \n",
    "        print(\"Training shape {} and test shape {}\".format(len(idx_train), len(idx_test)))\n",
    "\n",
    "        X_train = raw_feature[idx_train,:]\n",
    "        X_STSIMM_train = X_STSIMM[idx_train,:]\n",
    "        Y_VSP_train = label_visiprog[idx_train]\n",
    "        Y_mat_train = label_material[idx_train]\n",
    "\n",
    "        X_test = raw_feature[idx_test,:]\n",
    "        X_STSIMM_test = X_STSIMM[idx_test,:]\n",
    "        Y_VSP_test = label_visiprog[idx_test]\n",
    "        Y_mat_test = label_material[idx_test]\n",
    "\n",
    "        res = leave_one_sample_out(X_STSIMM_test, Y_mat_test)\n",
    "        accuracy_STSIMM.append(res['accuracy'])\n",
    "#         print(res['prediction'])\n",
    "#         print(Y_mat_test)\n",
    "        \n",
    "        model = LFDA()\n",
    "        model.fit(X_train, Y_mat_train)\n",
    "        X_mat_test = model.transform(X_test)\n",
    "        res = leave_one_sample_out(X_mat_test, Y_mat_test)\n",
    "        accuracy_mat.append(res['accuracy'])\n",
    "        \n",
    "        model_vsp = LFDA_VISIPROG()\n",
    "        model_vsp.fit(X_train, Y_VSP_train)\n",
    "        X_vsp_test = model_vsp.transform(X_test)\n",
    "        res_vsp = leave_one_sample_out(X_vsp_test, Y_mat_test)\n",
    "        accuracy_vsp.append(res_vsp['accuracy'])\n",
    "\n",
    "    except Exception as e:\n",
    "        print(e)"
   ]
  },
  {
   "cell_type": "code",
   "execution_count": 30,
   "metadata": {
    "collapsed": false
   },
   "outputs": [
    {
     "data": {
      "text/html": [
       "<div>\n",
       "<table border=\"1\" class=\"dataframe\">\n",
       "  <thead>\n",
       "    <tr style=\"text-align: right;\">\n",
       "      <th></th>\n",
       "      <th>STSTIMM</th>\n",
       "      <th>material</th>\n",
       "      <th>visiprog</th>\n",
       "    </tr>\n",
       "  </thead>\n",
       "  <tbody>\n",
       "    <tr>\n",
       "      <th>0</th>\n",
       "      <td>0.884201</td>\n",
       "      <td>0.969677</td>\n",
       "      <td>0.954735</td>\n",
       "    </tr>\n",
       "    <tr>\n",
       "      <th>1</th>\n",
       "      <td>0.859901</td>\n",
       "      <td>0.962955</td>\n",
       "      <td>0.929951</td>\n",
       "    </tr>\n",
       "    <tr>\n",
       "      <th>2</th>\n",
       "      <td>0.881650</td>\n",
       "      <td>0.952443</td>\n",
       "      <td>0.934853</td>\n",
       "    </tr>\n",
       "    <tr>\n",
       "      <th>3</th>\n",
       "      <td>0.893971</td>\n",
       "      <td>0.976669</td>\n",
       "      <td>0.965581</td>\n",
       "    </tr>\n",
       "    <tr>\n",
       "      <th>4</th>\n",
       "      <td>0.887027</td>\n",
       "      <td>0.977360</td>\n",
       "      <td>0.971021</td>\n",
       "    </tr>\n",
       "    <tr>\n",
       "      <th>5</th>\n",
       "      <td>0.886225</td>\n",
       "      <td>0.978059</td>\n",
       "      <td>0.971500</td>\n",
       "    </tr>\n",
       "    <tr>\n",
       "      <th>6</th>\n",
       "      <td>0.869055</td>\n",
       "      <td>0.973290</td>\n",
       "      <td>0.963735</td>\n",
       "    </tr>\n",
       "    <tr>\n",
       "      <th>7</th>\n",
       "      <td>0.876469</td>\n",
       "      <td>0.963850</td>\n",
       "      <td>0.973608</td>\n",
       "    </tr>\n",
       "    <tr>\n",
       "      <th>8</th>\n",
       "      <td>0.880018</td>\n",
       "      <td>0.977157</td>\n",
       "      <td>0.970725</td>\n",
       "    </tr>\n",
       "    <tr>\n",
       "      <th>9</th>\n",
       "      <td>0.872306</td>\n",
       "      <td>0.949564</td>\n",
       "      <td>0.961256</td>\n",
       "    </tr>\n",
       "  </tbody>\n",
       "</table>\n",
       "</div>"
      ],
      "text/plain": [
       "    STSTIMM  material  visiprog\n",
       "0  0.884201  0.969677  0.954735\n",
       "1  0.859901  0.962955  0.929951\n",
       "2  0.881650  0.952443  0.934853\n",
       "3  0.893971  0.976669  0.965581\n",
       "4  0.887027  0.977360  0.971021\n",
       "5  0.886225  0.978059  0.971500\n",
       "6  0.869055  0.973290  0.963735\n",
       "7  0.876469  0.963850  0.973608\n",
       "8  0.880018  0.977157  0.970725\n",
       "9  0.872306  0.949564  0.961256"
      ]
     },
     "metadata": {},
     "output_type": "display_data"
    },
    {
     "data": {
      "text/plain": [
       "STSTIMM     0.879082\n",
       "material    0.968102\n",
       "visiprog    0.959697\n",
       "dtype: float64"
      ]
     },
     "metadata": {},
     "output_type": "display_data"
    }
   ],
   "source": [
    "df = pd.DataFrame({'visiprog':accuracy_vsp, 'material':accuracy_mat, 'STSTIMM':accuracy_STSIMM})\n",
    "display(df)\n",
    "display(df.mean())"
   ]
  },
  {
   "cell_type": "code",
   "execution_count": null,
   "metadata": {
    "collapsed": false
   },
   "outputs": [],
   "source": [
    "print(model.transformer())"
   ]
  },
  {
   "cell_type": "code",
   "execution_count": null,
   "metadata": {
    "collapsed": true
   },
   "outputs": [],
   "source": []
  }
 ],
 "metadata": {
  "kernelspec": {
   "display_name": "Python 3",
   "language": "python",
   "name": "python3"
  },
  "language_info": {
   "codemirror_mode": {
    "name": "ipython",
    "version": 3
   },
   "file_extension": ".py",
   "mimetype": "text/x-python",
   "name": "python",
   "nbconvert_exporter": "python",
   "pygments_lexer": "ipython3",
   "version": "3.4.5"
  }
 },
 "nbformat": 4,
 "nbformat_minor": 2
}
