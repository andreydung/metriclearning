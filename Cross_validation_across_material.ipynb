{
 "cells": [
  {
   "cell_type": "code",
   "execution_count": 1,
   "metadata": {
    "collapsed": false
   },
   "outputs": [],
   "source": [
    "from visiprog.data import *\n",
    "from visiprog.metriclearning import *\n",
    "from visiprog.evaluate import *\n",
    "%matplotlib inline\n",
    "import numpy as np\n",
    "from visiprog.metric_learn.fda_visiprog import LFDA_VISIPROG\n",
    "\n",
    "from IPython.display import Image, display\n",
    "from sklearn.model_selection import train_test_split\n",
    "import pandas as pd"
   ]
  },
  {
   "cell_type": "code",
   "execution_count": 2,
   "metadata": {
    "collapsed": false
   },
   "outputs": [
    {
     "name": "stdout",
     "output_type": "stream",
     "text": [
      "(5245, 82)\n",
      "(5245,)\n"
     ]
    }
   ],
   "source": [
    "raw_feature = np.genfromtxt('visiprog/data/curetaliasfree.csv',delimiter=\",\")\n",
    "label_material = read_material_label()\n",
    "groups_VSP, N = read_VSP_label()\n",
    "\n",
    "print(raw_feature.shape)\n",
    "print(label_material.shape)"
   ]
  },
  {
   "cell_type": "code",
   "execution_count": 3,
   "metadata": {
    "collapsed": false
   },
   "outputs": [
    {
     "name": "stdout",
     "output_type": "stream",
     "text": [
      "202.0\n"
     ]
    }
   ],
   "source": [
    "label_visiprog = np.zeros((N,))\n",
    "\n",
    "count = 0\n",
    "for g in groups_VSP:\n",
    "    label = False\n",
    "    \n",
    "    # check whether any entry in the group has been labelled yet\n",
    "    # if yes, then merge with that existing label\n",
    "    for i in g:\n",
    "        if label_visiprog[i] != 0:\n",
    "            label = label_visiprog[i]\n",
    "            break\n",
    "    \n",
    "    # if no, then create a new label\n",
    "    if label == False:\n",
    "        count += 1\n",
    "        label = count\n",
    "        \n",
    "    for i in g:\n",
    "        label_visiprog[i] = label\n",
    "\n",
    "print(np.max(label_visiprog))"
   ]
  },
  {
   "cell_type": "code",
   "execution_count": 7,
   "metadata": {
    "collapsed": false,
    "scrolled": true
   },
   "outputs": [
    {
     "name": "stdout",
     "output_type": "stream",
     "text": [
      "Trial 0\n",
      "Trial 1\n",
      "Trial 2\n",
      "Trial 3\n",
      "Trial 4\n",
      "Trial 5\n",
      "Trial 6\n",
      "Trial 7\n",
      "Trial 8\n",
      "Trial 9\n"
     ]
    }
   ],
   "source": [
    "accuracy = []\n",
    "accuracy_vsp = []\n",
    "\n",
    "N_material = 61\n",
    "N_material_train = 30\n",
    "\n",
    "for fold in range(10):\n",
    "    try:\n",
    "        print(\"Trial {}\".format(fold))\n",
    "\n",
    "        idx_train = np.array([])\n",
    "        for i in range(N_material_train):\n",
    "            train_class = np.random.randint(0, N_material)\n",
    "            idx_train= np.concatenate((idx_train, np.where(label_material == train_class)[0]))\n",
    "\n",
    "        # need to get better code later\n",
    "        idx_test = np.setdiff1d(np.arange(N), idx_train)\n",
    "\n",
    "        idx_train = idx_train.astype(int)\n",
    "        idx_test = idx_test.astype(int)\n",
    "\n",
    "        X_train = raw_feature[idx_train,:]\n",
    "        Y_VSP_train = label_visiprog[idx_train]\n",
    "        Y_mat_train = label_material[idx_train]\n",
    "\n",
    "        X_test = raw_feature[idx_test,:]\n",
    "        Y_VSP_test = label_visiprog[idx_test]\n",
    "        Y_mat_test = label_material[idx_test]\n",
    "\n",
    "        model = LFDA()\n",
    "        model.fit(X_train, Y_mat_train)\n",
    "        X_mat_test = model.transform(X_test)\n",
    "        res = leave_one_sample_out(X_mat_test, Y_mat_test)\n",
    "        accuracy.append(res['accuracy'])\n",
    "        \n",
    "        model_vsp = LFDA_VISIPROG()\n",
    "        model_vsp.fit(X_train, Y_VSP_train)\n",
    "        X_vsp_test = model_vsp.transform(X_test)\n",
    "        res_vsp = leave_one_sample_out(X_vsp_test, Y_mat_test)\n",
    "        accuracy_vsp.append(res_vsp['accuracy'])\n",
    "\n",
    "    except:\n",
    "        print(\"Skipping trial {}\".format(fold))"
   ]
  },
  {
   "cell_type": "code",
   "execution_count": 8,
   "metadata": {
    "collapsed": false
   },
   "outputs": [
    {
     "data": {
      "text/html": [
       "<div>\n",
       "<table border=\"1\" class=\"dataframe\">\n",
       "  <thead>\n",
       "    <tr style=\"text-align: right;\">\n",
       "      <th></th>\n",
       "      <th>material</th>\n",
       "      <th>visiprog</th>\n",
       "    </tr>\n",
       "  </thead>\n",
       "  <tbody>\n",
       "    <tr>\n",
       "      <th>0</th>\n",
       "      <td>0.988611</td>\n",
       "      <td>0.985448</td>\n",
       "    </tr>\n",
       "    <tr>\n",
       "      <th>1</th>\n",
       "      <td>0.986486</td>\n",
       "      <td>0.988686</td>\n",
       "    </tr>\n",
       "    <tr>\n",
       "      <th>2</th>\n",
       "      <td>0.987529</td>\n",
       "      <td>0.986544</td>\n",
       "    </tr>\n",
       "    <tr>\n",
       "      <th>3</th>\n",
       "      <td>0.989297</td>\n",
       "      <td>0.991743</td>\n",
       "    </tr>\n",
       "    <tr>\n",
       "      <th>4</th>\n",
       "      <td>0.981203</td>\n",
       "      <td>0.975251</td>\n",
       "    </tr>\n",
       "    <tr>\n",
       "      <th>5</th>\n",
       "      <td>0.989205</td>\n",
       "      <td>0.992504</td>\n",
       "    </tr>\n",
       "    <tr>\n",
       "      <th>6</th>\n",
       "      <td>0.979933</td>\n",
       "      <td>0.980268</td>\n",
       "    </tr>\n",
       "    <tr>\n",
       "      <th>7</th>\n",
       "      <td>0.991850</td>\n",
       "      <td>0.991141</td>\n",
       "    </tr>\n",
       "    <tr>\n",
       "      <th>8</th>\n",
       "      <td>0.985547</td>\n",
       "      <td>0.986579</td>\n",
       "    </tr>\n",
       "    <tr>\n",
       "      <th>9</th>\n",
       "      <td>0.988874</td>\n",
       "      <td>0.988874</td>\n",
       "    </tr>\n",
       "  </tbody>\n",
       "</table>\n",
       "</div>"
      ],
      "text/plain": [
       "   material  visiprog\n",
       "0  0.988611  0.985448\n",
       "1  0.986486  0.988686\n",
       "2  0.987529  0.986544\n",
       "3  0.989297  0.991743\n",
       "4  0.981203  0.975251\n",
       "5  0.989205  0.992504\n",
       "6  0.979933  0.980268\n",
       "7  0.991850  0.991141\n",
       "8  0.985547  0.986579\n",
       "9  0.988874  0.988874"
      ]
     },
     "metadata": {},
     "output_type": "display_data"
    },
    {
     "data": {
      "text/plain": [
       "material    0.986854\n",
       "visiprog    0.986704\n",
       "dtype: float64"
      ]
     },
     "metadata": {},
     "output_type": "display_data"
    }
   ],
   "source": [
    "df = pd.DataFrame({'visiprog':accuracy_vsp, 'material':accuracy})\n",
    "display(df)\n",
    "display(df.mean())"
   ]
  },
  {
   "cell_type": "code",
   "execution_count": null,
   "metadata": {
    "collapsed": false
   },
   "outputs": [],
   "source": [
    "print(model.transformer())"
   ]
  },
  {
   "cell_type": "code",
   "execution_count": null,
   "metadata": {
    "collapsed": true
   },
   "outputs": [],
   "source": []
  }
 ],
 "metadata": {
  "kernelspec": {
   "display_name": "Python 3",
   "language": "python",
   "name": "python3"
  },
  "language_info": {
   "codemirror_mode": {
    "name": "ipython",
    "version": 3
   },
   "file_extension": ".py",
   "mimetype": "text/x-python",
   "name": "python",
   "nbconvert_exporter": "python",
   "pygments_lexer": "ipython3",
   "version": "3.4.5"
  }
 },
 "nbformat": 4,
 "nbformat_minor": 2
}
